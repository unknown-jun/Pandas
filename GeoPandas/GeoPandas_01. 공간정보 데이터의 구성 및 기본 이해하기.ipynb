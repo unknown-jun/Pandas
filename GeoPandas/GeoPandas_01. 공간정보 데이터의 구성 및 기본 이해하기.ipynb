{
 "cells": [
  {
   "cell_type": "markdown",
   "id": "039f1936",
   "metadata": {},
   "source": [
    "# 1. GIS\n",
    "- GIS(Geospatial Information System)란, 우리가 흔히 하는 데이터가 위치에 대한 정보를 갖고 있는 것이라고 할수 있다.\n",
    "- 이는 도시의 건축물 좌표(Point), 도로(Line), 시군구 법정동에 해당하는 영역(Polygon)이 될수 있다.\n",
    "    - 도시 공간이라는 것은 단순히 수치적으로 파악하는 것 외에도, 지리적 위치에 따라 다른 시각으로 접근할 수 있기 때문에 공간데이터를 이해하는 것이 상당히 중요하다.\n",
    "    \n",
    "# 2. GIS data\n",
    "- 이렇게 위치정보를 포함하고 있는 데이터는 크게 Vector와 Raster가 있다.\n",
    "- Raster는 우리가 흔히 아는 이미지 형태의 데이터이고, \n",
    "- Vector는 대표적인 세가지 유형의 데이터가 있다.\n",
    "    1. Point(점): 주로 어떤 도시기반시설, 건물, 교차로(node) 등을 나타낼 때 사용한다.\n",
    "    2. Line(선): 주로 도로, 경로, 네트워크, 어떤 면의 중심선, 철도 등을 나타낼 때 사용한다.\n",
    "    3. Polygon(다각형): 주로 어떤 지역, 군 영역 등을 나타낼 때 사용한다.\n",
    "    \n",
    "# 3. GeoPandas\n",
    "- GeoPandas는 Pandas와 유사한 라이브러리로, 공간정보를 가진 데이터프레임을 다루는데 유용한 패키지로 가장 많이 활용된다.\n",
    "- Pandas와 마찬가지로 `GeoSeries`, `GeoDataFrame`의 타입으로 다루며 function이나 attribute들도 큰 차이가 없다.\n",
    "\n",
    "## 3_1 공간데이터 생성\n",
    "- GeoPandas는 내부적으로 `shapely`라는 패키지를 사용하여 공간 정보를 처리한다.\n",
    "- 이 패키지에는 위에서 말했던 세가지 Vector 타입이 있으며, 추가적으로 MultiPolygon, MultiLinestring등의 타입들이 있다."
   ]
  },
  {
   "cell_type": "code",
   "execution_count": 1,
   "id": "32ad558f",
   "metadata": {},
   "outputs": [],
   "source": [
    "import geopandas as gpd\n",
    "from shapely.geometry import Polygon, LineString, Point"
   ]
  },
  {
   "cell_type": "markdown",
   "id": "ce6f54c2",
   "metadata": {},
   "source": [
    "다음과 같이 xy평면에 4개의 좌표를 정의해보자"
   ]
  },
  {
   "cell_type": "code",
   "execution_count": 2,
   "id": "835e812a",
   "metadata": {},
   "outputs": [],
   "source": [
    "x1, y1 = 1, 2\n",
    "x2, y2 = 2, 2\n",
    "x3, y3 = 2, 3\n",
    "x4, y4 = 1, 3"
   ]
  },
  {
   "cell_type": "markdown",
   "id": "296e758c",
   "metadata": {},
   "source": [
    "점은 1개의 좌표, 선은 2개, 다각형은 3개 이상의 좌표가 필요하며 다음과 같이 생성할 수 있다."
   ]
  },
  {
   "cell_type": "code",
   "execution_count": 3,
   "id": "c5870ba5",
   "metadata": {},
   "outputs": [
    {
     "data": {
      "image/svg+xml": [
       "<svg xmlns=\"http://www.w3.org/2000/svg\" xmlns:xlink=\"http://www.w3.org/1999/xlink\" width=\"100.0\" height=\"100.0\" viewBox=\"0.0 1.0 2.0 2.0\" preserveAspectRatio=\"xMinYMin meet\"><g transform=\"matrix(1,0,0,-1,0,4.0)\"><circle cx=\"1.0\" cy=\"2.0\" r=\"0.06\" stroke=\"#555555\" stroke-width=\"0.02\" fill=\"#66cc99\" opacity=\"0.6\" /></g></svg>"
      ],
      "text/plain": [
       "<shapely.geometry.point.Point at 0x2267d61bbb0>"
      ]
     },
     "execution_count": 3,
     "metadata": {},
     "output_type": "execute_result"
    }
   ],
   "source": [
    "Point([x1, y1])"
   ]
  },
  {
   "cell_type": "code",
   "execution_count": 4,
   "id": "c57a696f",
   "metadata": {},
   "outputs": [
    {
     "data": {
      "image/svg+xml": [
       "<svg xmlns=\"http://www.w3.org/2000/svg\" xmlns:xlink=\"http://www.w3.org/1999/xlink\" width=\"100.0\" height=\"100.0\" viewBox=\"0.96 1.96 1.08 1.08\" preserveAspectRatio=\"xMinYMin meet\"><g transform=\"matrix(1,0,0,-1,0,5.0)\"><polyline fill=\"none\" stroke=\"#66cc99\" stroke-width=\"0.0216\" points=\"1.0,2.0 2.0,3.0\" opacity=\"0.8\" /></g></svg>"
      ],
      "text/plain": [
       "<shapely.geometry.linestring.LineString at 0x2267d61bb80>"
      ]
     },
     "execution_count": 4,
     "metadata": {},
     "output_type": "execute_result"
    }
   ],
   "source": [
    "LineString([(x1, y1), (x3, y3)])"
   ]
  },
  {
   "cell_type": "code",
   "execution_count": 5,
   "id": "b004d393",
   "metadata": {},
   "outputs": [
    {
     "data": {
      "image/svg+xml": [
       "<svg xmlns=\"http://www.w3.org/2000/svg\" xmlns:xlink=\"http://www.w3.org/1999/xlink\" width=\"100.0\" height=\"100.0\" viewBox=\"0.96 1.96 1.08 1.08\" preserveAspectRatio=\"xMinYMin meet\"><g transform=\"matrix(1,0,0,-1,0,5.0)\"><path fill-rule=\"evenodd\" fill=\"#66cc99\" stroke=\"#555555\" stroke-width=\"0.0216\" opacity=\"0.6\" d=\"M 1.0,2.0 L 2.0,2.0 L 2.0,3.0 L 1.0,3.0 L 1.0,2.0 z\" /></g></svg>"
      ],
      "text/plain": [
       "<shapely.geometry.polygon.Polygon at 0x2267d63f280>"
      ]
     },
     "execution_count": 5,
     "metadata": {},
     "output_type": "execute_result"
    }
   ],
   "source": [
    "Polygon([(x1, y1), (x2, y2), (x3, y3), (x4, y4)])"
   ]
  },
  {
   "cell_type": "markdown",
   "id": "d2205318",
   "metadata": {},
   "source": [
    "여기서 주의할 점은 Polygon의 좌표들에는 순서가 존재한다는 것이다."
   ]
  },
  {
   "cell_type": "code",
   "execution_count": 6,
   "id": "c644c8ac",
   "metadata": {},
   "outputs": [
    {
     "data": {
      "image/svg+xml": [
       "<svg xmlns=\"http://www.w3.org/2000/svg\" xmlns:xlink=\"http://www.w3.org/1999/xlink\" width=\"100.0\" height=\"100.0\" viewBox=\"0.96 1.96 1.08 1.08\" preserveAspectRatio=\"xMinYMin meet\"><g transform=\"matrix(1,0,0,-1,0,5.0)\"><path fill-rule=\"evenodd\" fill=\"#ff3333\" stroke=\"#555555\" stroke-width=\"0.0216\" opacity=\"0.6\" d=\"M 1.0,2.0 L 1.0,3.0 L 2.0,2.0 L 2.0,3.0 L 1.0,2.0 z\" /></g></svg>"
      ],
      "text/plain": [
       "<shapely.geometry.polygon.Polygon at 0x2267d63f7f0>"
      ]
     },
     "execution_count": 6,
     "metadata": {},
     "output_type": "execute_result"
    }
   ],
   "source": [
    "Polygon(sorted([(x1, y1), (x2, y2), (x3, y3), (x4, y4)]))"
   ]
  },
  {
   "cell_type": "markdown",
   "id": "e476a1a7",
   "metadata": {},
   "source": [
    "이렇게 `shapely`를 활용하여 생성한 공간 데이터를 시각화할 때는 `GeoPandas`를 사용하면 쉽게 그릴 수 있다."
   ]
  },
  {
   "cell_type": "code",
   "execution_count": 7,
   "id": "1fd0b830",
   "metadata": {
    "scrolled": true
   },
   "outputs": [
    {
     "data": {
      "image/png": "[encoded data removed]",
      "text/plain": [
       "<Figure size 432x288 with 1 Axes>"
      ]
     },
     "metadata": {
      "needs_background": "light"
     },
     "output_type": "display_data"
    },
    {
     "name": "stdout",
     "output_type": "stream",
     "text": [
      "Point\n",
      "LineString\n",
      "Polygon\n"
     ]
    }
   ],
   "source": [
    "import matplotlib.pyplot as plt\n",
    "\n",
    "point = Point([x1,y1])\n",
    "line = LineString([(x1, y1), (x3, y3)])\n",
    "polygon = Polygon([(x1, y1), (x2, y2), (x3, y3), (x4, y4)])\n",
    "\n",
    "ax = gpd.GeoSeries(polygon).plot( color = 'black', alpha=0.5)\n",
    "gpd.GeoSeries(line).plot(ax=ax, linewidth=3, color='white')\n",
    "gpd.GeoSeries(point).plot(ax=ax, color='red', markersize=100)\n",
    "plt.axis('off')\n",
    "plt.show();\n",
    "print(point.geom_type)\n",
    "print(line.geom_type)\n",
    "print(polygon.geom_type)"
   ]
  },
  {
   "cell_type": "markdown",
   "id": "6b985a05",
   "metadata": {},
   "source": [
    "# 4 외부데이터 활용\n",
    "## 4_1 공간데이터의 형태\n",
    "- Point 좌표 데이터의 경우 csv 파일로 서울시 소방안전센터의 경도와 위도 좌표를 가지고 있다.\n",
    "- Polygon의 경우 GIS 데이터는 shapefile이라고 하는데 이는 하나의 파일이 아니라 3개 이상의 확장포맷을 통틀어 부른다.\n",
    "    - `dbf`, `prj`, `shp`, `shx`의 확장자를 가지고 있다.\n",
    "    - 이 4개의 파일은 각자의 공간정보를 담고 있어, 개별파일이 아니라 한 경로에 같이 보관되어야 한다.\n",
    "    - **dbf**: dBase 데이터베이서 파일로, 데이터프레임 형태의 정보를 갖고 있다.\n",
    "    - **prj**: 공간 데이터의 좌표정보(좌표계)를 갖고 있으며, 좌표정의가 되어 있지 않을 경우 이 파일이 없을 수도 있다.\n",
    "    - **shp**: vector 타입의 도형 및 정보를 담고 있다.\n",
    "    - **shx**: shp와 마찬자기이며, Auto CAD에서 주로 활용한다.\n",
    "\n",
    "## 4_2 공간데이터 시각화"
   ]
  },
  {
   "cell_type": "code",
   "execution_count": 8,
   "id": "346b5594",
   "metadata": {},
   "outputs": [],
   "source": [
    "import pandas as pd\n",
    "\n",
    "seoul_area = gpd.GeoDataFrame.from_file('./data/LARD_ADM_SECT_SGG_11.shp', \n",
    "                                        encoding='cp949')\n",
    "pt_119 = pd.read_csv('./data/서울시 안전센터관할 위치정보 (좌표계_ WGS1984).csv', \n",
    "                     encoding='cp949',\n",
    "                     dtype=str)"
   ]
  },
  {
   "cell_type": "code",
   "execution_count": 9,
   "id": "2b49e476",
   "metadata": {},
   "outputs": [
    {
     "data": {
      "text/html": [
       "<div>\n",
       "<style scoped>\n",
       "    .dataframe tbody tr th:only-of-type {\n",
       "        vertical-align: middle;\n",
       "    }\n",
       "\n",
       "    .dataframe tbody tr th {\n",
       "        vertical-align: top;\n",
       "    }\n",
       "\n",
       "    .dataframe thead th {\n",
       "        text-align: right;\n",
       "    }\n",
       "</style>\n",
       "<table border=\"1\" class=\"dataframe\">\n",
       "  <thead>\n",
       "    <tr style=\"text-align: right;\">\n",
       "      <th></th>\n",
       "      <th>ADM_SECT_C</th>\n",
       "      <th>SGG_NM</th>\n",
       "      <th>SGG_OID</th>\n",
       "      <th>COL_ADM_SE</th>\n",
       "      <th>GID</th>\n",
       "      <th>geometry</th>\n",
       "    </tr>\n",
       "  </thead>\n",
       "  <tbody>\n",
       "    <tr>\n",
       "      <th>0</th>\n",
       "      <td>11740</td>\n",
       "      <td>강동구</td>\n",
       "      <td>337</td>\n",
       "      <td>11740</td>\n",
       "      <td>127</td>\n",
       "      <td>POLYGON ((969713.132 1948846.288, 969692.451 1...</td>\n",
       "    </tr>\n",
       "    <tr>\n",
       "      <th>1</th>\n",
       "      <td>11710</td>\n",
       "      <td>송파구</td>\n",
       "      <td>1969</td>\n",
       "      <td>11710</td>\n",
       "      <td>128</td>\n",
       "      <td>POLYGON ((968640.372 1944982.492, 968640.957 1...</td>\n",
       "    </tr>\n",
       "    <tr>\n",
       "      <th>2</th>\n",
       "      <td>11680</td>\n",
       "      <td>강남구</td>\n",
       "      <td>33</td>\n",
       "      <td>11680</td>\n",
       "      <td>129</td>\n",
       "      <td>POLYGON ((958696.114 1948605.678, 959195.920 1...</td>\n",
       "    </tr>\n",
       "  </tbody>\n",
       "</table>\n",
       "</div>"
      ],
      "text/plain": [
       "  ADM_SECT_C SGG_NM  SGG_OID COL_ADM_SE  GID  \\\n",
       "0      11740    강동구      337      11740  127   \n",
       "1      11710    송파구     1969      11710  128   \n",
       "2      11680    강남구       33      11680  129   \n",
       "\n",
       "                                            geometry  \n",
       "0  POLYGON ((969713.132 1948846.288, 969692.451 1...  \n",
       "1  POLYGON ((968640.372 1944982.492, 968640.957 1...  \n",
       "2  POLYGON ((958696.114 1948605.678, 959195.920 1...  "
      ]
     },
     "execution_count": 9,
     "metadata": {},
     "output_type": "execute_result"
    }
   ],
   "source": [
    "seoul_area.head(3)"
   ]
  },
  {
   "cell_type": "code",
   "execution_count": 10,
   "id": "acc78425",
   "metadata": {},
   "outputs": [
    {
     "data": {
      "text/html": [
       "<div>\n",
       "<style scoped>\n",
       "    .dataframe tbody tr th:only-of-type {\n",
       "        vertical-align: middle;\n",
       "    }\n",
       "\n",
       "    .dataframe tbody tr th {\n",
       "        vertical-align: top;\n",
       "    }\n",
       "\n",
       "    .dataframe thead th {\n",
       "        text-align: right;\n",
       "    }\n",
       "</style>\n",
       "<table border=\"1\" class=\"dataframe\">\n",
       "  <thead>\n",
       "    <tr style=\"text-align: right;\">\n",
       "      <th></th>\n",
       "      <th>고유번호</th>\n",
       "      <th>센터ID</th>\n",
       "      <th>센터명</th>\n",
       "      <th>위도</th>\n",
       "      <th>경도</th>\n",
       "    </tr>\n",
       "  </thead>\n",
       "  <tbody>\n",
       "    <tr>\n",
       "      <th>0</th>\n",
       "      <td>21</td>\n",
       "      <td>1121101</td>\n",
       "      <td>양천119안전센터</td>\n",
       "      <td>37.527161</td>\n",
       "      <td>126.8694519</td>\n",
       "    </tr>\n",
       "    <tr>\n",
       "      <th>1</th>\n",
       "      <td>22</td>\n",
       "      <td>1122101</td>\n",
       "      <td>신내119안전센터</td>\n",
       "      <td>37.6102463</td>\n",
       "      <td>127.0964731</td>\n",
       "    </tr>\n",
       "    <tr>\n",
       "      <th>2</th>\n",
       "      <td>42</td>\n",
       "      <td>1115104</td>\n",
       "      <td>서초119안전센터</td>\n",
       "      <td>37.4877727</td>\n",
       "      <td>127.0171447</td>\n",
       "    </tr>\n",
       "  </tbody>\n",
       "</table>\n",
       "</div>"
      ],
      "text/plain": [
       "  고유번호     센터ID        센터명          위도           경도\n",
       "0   21  1121101  양천119안전센터   37.527161  126.8694519\n",
       "1   22  1122101  신내119안전센터  37.6102463  127.0964731\n",
       "2   42  1115104  서초119안전센터  37.4877727  127.0171447"
      ]
     },
     "execution_count": 10,
     "metadata": {},
     "output_type": "execute_result"
    }
   ],
   "source": [
    "pt_119.head(3)"
   ]
  },
  {
   "cell_type": "markdown",
   "id": "3072ff3f",
   "metadata": {},
   "source": [
    "- shp 파일을 GeoPandas를 이용해서 바로 읽었을때, Geometry 컬럼에 각 구에 해당하는 Polygon 정보가 들어있는 것을 확인할 수 있다.\n",
    "- 하지만 소방안전센터의 경우 단순 데이터프레임이므로 위도와 경도 좌표를 이용해서 공간데이터로 만들어 주어야 한다."
   ]
  },
  {
   "cell_type": "code",
   "execution_count": 11,
   "id": "f811e53a",
   "metadata": {},
   "outputs": [
    {
     "data": {
      "text/html": [
       "<div>\n",
       "<style scoped>\n",
       "    .dataframe tbody tr th:only-of-type {\n",
       "        vertical-align: middle;\n",
       "    }\n",
       "\n",
       "    .dataframe tbody tr th {\n",
       "        vertical-align: top;\n",
       "    }\n",
       "\n",
       "    .dataframe thead th {\n",
       "        text-align: right;\n",
       "    }\n",
       "</style>\n",
       "<table border=\"1\" class=\"dataframe\">\n",
       "  <thead>\n",
       "    <tr style=\"text-align: right;\">\n",
       "      <th></th>\n",
       "      <th>고유번호</th>\n",
       "      <th>센터ID</th>\n",
       "      <th>센터명</th>\n",
       "      <th>위도</th>\n",
       "      <th>경도</th>\n",
       "      <th>geometry</th>\n",
       "    </tr>\n",
       "  </thead>\n",
       "  <tbody>\n",
       "    <tr>\n",
       "      <th>0</th>\n",
       "      <td>21</td>\n",
       "      <td>1121101</td>\n",
       "      <td>양천119안전센터</td>\n",
       "      <td>37.527161</td>\n",
       "      <td>126.869452</td>\n",
       "      <td>POINT (126.86945 37.52716)</td>\n",
       "    </tr>\n",
       "    <tr>\n",
       "      <th>1</th>\n",
       "      <td>22</td>\n",
       "      <td>1122101</td>\n",
       "      <td>신내119안전센터</td>\n",
       "      <td>37.610246</td>\n",
       "      <td>127.096473</td>\n",
       "      <td>POINT (127.09647 37.61025)</td>\n",
       "    </tr>\n",
       "    <tr>\n",
       "      <th>2</th>\n",
       "      <td>42</td>\n",
       "      <td>1115104</td>\n",
       "      <td>서초119안전센터</td>\n",
       "      <td>37.487773</td>\n",
       "      <td>127.017145</td>\n",
       "      <td>POINT (127.01714 37.48777)</td>\n",
       "    </tr>\n",
       "  </tbody>\n",
       "</table>\n",
       "</div>"
      ],
      "text/plain": [
       "  고유번호     센터ID        센터명         위도          경도                    geometry\n",
       "0   21  1121101  양천119안전센터  37.527161  126.869452  POINT (126.86945 37.52716)\n",
       "1   22  1122101  신내119안전센터  37.610246  127.096473  POINT (127.09647 37.61025)\n",
       "2   42  1115104  서초119안전센터  37.487773  127.017145  POINT (127.01714 37.48777)"
      ]
     },
     "execution_count": 11,
     "metadata": {},
     "output_type": "execute_result"
    }
   ],
   "source": [
    "pt_119['경도'] = pt_119['경도'].astype(float)\n",
    "pt_119['위도'] = pt_119['위도'].astype(float)\n",
    "pt_119['geometry'] = pt_119.apply(lambda row: Point([row['경도'], row['위도']]), axis=1)\n",
    "pt_119 = gpd.GeoDataFrame(pt_119, geometry='geometry')\n",
    "\n",
    "pt_119.head(3)"
   ]
  },
  {
   "cell_type": "code",
   "execution_count": 12,
   "id": "88634ac3",
   "metadata": {},
   "outputs": [
    {
     "name": "stdout",
     "output_type": "stream",
     "text": [
      "<class 'geopandas.geodataframe.GeoDataFrame'>\n",
      "RangeIndex: 117 entries, 0 to 116\n",
      "Data columns (total 6 columns):\n",
      " #   Column    Non-Null Count  Dtype   \n",
      "---  ------    --------------  -----   \n",
      " 0   고유번호      117 non-null    object  \n",
      " 1   센터ID      117 non-null    object  \n",
      " 2   센터명       117 non-null    object  \n",
      " 3   위도        117 non-null    float64 \n",
      " 4   경도        117 non-null    float64 \n",
      " 5   geometry  117 non-null    geometry\n",
      "dtypes: float64(2), geometry(1), object(3)\n",
      "memory usage: 5.6+ KB\n"
     ]
    }
   ],
   "source": [
    "pt_119.info()"
   ]
  },
  {
   "cell_type": "markdown",
   "id": "64eb25c6",
   "metadata": {},
   "source": [
    "## 4_3 좌표 정의 및 변환\n",
    "- 공간데이터를 다룰 때는 좌표계를 이해하는 것이 상당히 중요하다.\n",
    "- 서로 다른 데이터의 좌표계를 통일시키거나 변환할때는, 먼저 해당 데이터가 정의된 좌표계가 어떤 것인지 알아야 한다.\n",
    "- 대표적으로 위경도, 미터좌표계가 있는데 국내에서는 주로 아래 좌표계를 사용한다.\n",
    "    1. EPSG4326(WGS84): 위경도, 기본 좌표계\n",
    "    2. EPSG5179(TM): 미터 좌표계\n",
    "    3. EPSG5174(TM): 미터 좌표계\n",
    "    4. EPSG5181(TM): 미터 좌표계\n",
    "    \n",
    "<br>\n",
    "\n",
    "- 데이터를 받아올때 꼭 어떤 좌표계로 만들어진 데이터 인지를 확인해야 그 데이터를 활용할 수 있다.(좌표계를 모르면 못쓰는 데이터라고 해도 무방하다)\n",
    "- 기본적으로 Python이나 QGIS에 내장된 각 좌표계를 사용해도 큰 문제는 없지만 보정좌표 등을 정확하게 정의해주기 위해서는 직접 해당 좌표계를 정의해주는 게 좋다.\n",
    "\n",
    "<br>\n",
    "\n",
    "- 좌표계 확인 및 정의는 `.crs`인자로, 변환은 `.to_crs`인자로 가능하다."
   ]
  },
  {
   "cell_type": "code",
   "execution_count": 13,
   "id": "7fc112e6",
   "metadata": {},
   "outputs": [
    {
     "name": "stdout",
     "output_type": "stream",
     "text": [
      "epsg:5179\n",
      "None\n"
     ]
    }
   ],
   "source": [
    "print(seoul_area.crs)\n",
    "print(pt_119.crs)"
   ]
  },
  {
   "cell_type": "markdown",
   "id": "60e01dae",
   "metadata": {},
   "source": [
    "보다시피 새로 생성한 pt_119는 아직 좌표정의가 되어 있지 않다.  \n",
    "파일명처럼 좌표계는 기본 위경도 좌표인 EPSG4326 좌표계라고 명시되어 있으므로 다음과 같이 정의해주자"
   ]
  },
  {
   "cell_type": "code",
   "execution_count": 14,
   "id": "073264c1",
   "metadata": {},
   "outputs": [
    {
     "name": "stdout",
     "output_type": "stream",
     "text": [
      "+init=epsg:4326 +type=crs\n"
     ]
    },
    {
     "name": "stderr",
     "output_type": "stream",
     "text": [
      "C:\\Users\\Jun\\anaconda3\\lib\\site-packages\\pyproj\\crs\\crs.py:131: FutureWarning: '+init=<authority>:<code>' syntax is deprecated. '<authority>:<code>' is the preferred initialization method. When making the change, be mindful of axis order changes: https://pyproj4.github.io/pyproj/stable/gotchas.html#axis-order-changes-in-proj-6\n",
      "  in_crs_string = _prepare_from_proj_string(in_crs_string)\n"
     ]
    }
   ],
   "source": [
    "pt_119.crs = {'init':'epsg:4326'}\n",
    "print(pt_119.crs)"
   ]
  },
  {
   "cell_type": "markdown",
   "id": "b5df498b",
   "metadata": {},
   "source": [
    "두 데이터 모두 좌표가 정의 되었으므로, 이제 하나의 좌표로 통일시켜보자  \n",
    "일반적으로 미터 단위를 분석을 진행해야 하기 때문에 `epsg5179`로 변환해주자"
   ]
  },
  {
   "cell_type": "code",
   "execution_count": 15,
   "id": "a405a2cc",
   "metadata": {},
   "outputs": [
    {
     "name": "stdout",
     "output_type": "stream",
     "text": [
      "+init=epsg:5179 +type=crs\n"
     ]
    },
    {
     "data": {
      "text/html": [
       "<div>\n",
       "<style scoped>\n",
       "    .dataframe tbody tr th:only-of-type {\n",
       "        vertical-align: middle;\n",
       "    }\n",
       "\n",
       "    .dataframe tbody tr th {\n",
       "        vertical-align: top;\n",
       "    }\n",
       "\n",
       "    .dataframe thead th {\n",
       "        text-align: right;\n",
       "    }\n",
       "</style>\n",
       "<table border=\"1\" class=\"dataframe\">\n",
       "  <thead>\n",
       "    <tr style=\"text-align: right;\">\n",
       "      <th></th>\n",
       "      <th>고유번호</th>\n",
       "      <th>센터ID</th>\n",
       "      <th>센터명</th>\n",
       "      <th>위도</th>\n",
       "      <th>경도</th>\n",
       "      <th>geometry</th>\n",
       "    </tr>\n",
       "  </thead>\n",
       "  <tbody>\n",
       "    <tr>\n",
       "      <th>0</th>\n",
       "      <td>21</td>\n",
       "      <td>1121101</td>\n",
       "      <td>양천119안전센터</td>\n",
       "      <td>37.527161</td>\n",
       "      <td>126.869452</td>\n",
       "      <td>POINT (944285.708 1947726.391)</td>\n",
       "    </tr>\n",
       "    <tr>\n",
       "      <th>1</th>\n",
       "      <td>22</td>\n",
       "      <td>1122101</td>\n",
       "      <td>신내119안전센터</td>\n",
       "      <td>37.610246</td>\n",
       "      <td>127.096473</td>\n",
       "      <td>POINT (964384.657 1956833.993)</td>\n",
       "    </tr>\n",
       "    <tr>\n",
       "      <th>2</th>\n",
       "      <td>42</td>\n",
       "      <td>1115104</td>\n",
       "      <td>서초119안전센터</td>\n",
       "      <td>37.487773</td>\n",
       "      <td>127.017145</td>\n",
       "      <td>POINT (957313.294 1943279.263)</td>\n",
       "    </tr>\n",
       "  </tbody>\n",
       "</table>\n",
       "</div>"
      ],
      "text/plain": [
       "  고유번호     센터ID        센터명         위도          경도  \\\n",
       "0   21  1121101  양천119안전센터  37.527161  126.869452   \n",
       "1   22  1122101  신내119안전센터  37.610246  127.096473   \n",
       "2   42  1115104  서초119안전센터  37.487773  127.017145   \n",
       "\n",
       "                         geometry  \n",
       "0  POINT (944285.708 1947726.391)  \n",
       "1  POINT (964384.657 1956833.993)  \n",
       "2  POINT (957313.294 1943279.263)  "
      ]
     },
     "execution_count": 15,
     "metadata": {},
     "output_type": "execute_result"
    }
   ],
   "source": [
    "pt_119 = pt_119.to_crs({'init':'epsg:5179'})\n",
    "print(pt_119.crs)\n",
    "pt_119.head(3)"
   ]
  },
  {
   "cell_type": "code",
   "execution_count": 16,
   "id": "f02cd446",
   "metadata": {},
   "outputs": [
    {
     "data": {
      "text/html": [
       "<div>\n",
       "<style scoped>\n",
       "    .dataframe tbody tr th:only-of-type {\n",
       "        vertical-align: middle;\n",
       "    }\n",
       "\n",
       "    .dataframe tbody tr th {\n",
       "        vertical-align: top;\n",
       "    }\n",
       "\n",
       "    .dataframe thead th {\n",
       "        text-align: right;\n",
       "    }\n",
       "</style>\n",
       "<table border=\"1\" class=\"dataframe\">\n",
       "  <thead>\n",
       "    <tr style=\"text-align: right;\">\n",
       "      <th></th>\n",
       "      <th>고유번호</th>\n",
       "      <th>센터ID</th>\n",
       "      <th>센터명</th>\n",
       "      <th>위도</th>\n",
       "      <th>경도</th>\n",
       "      <th>geometry</th>\n",
       "    </tr>\n",
       "  </thead>\n",
       "  <tbody>\n",
       "    <tr>\n",
       "      <th>112</th>\n",
       "      <td>117</td>\n",
       "      <td>1105105</td>\n",
       "      <td>금호119안전센터</td>\n",
       "      <td>37.545841</td>\n",
       "      <td>127.024530</td>\n",
       "      <td>POINT (957998.796 1949718.266)</td>\n",
       "    </tr>\n",
       "    <tr>\n",
       "      <th>113</th>\n",
       "      <td>106</td>\n",
       "      <td>1114401</td>\n",
       "      <td>삼성119안전센터</td>\n",
       "      <td>37.510765</td>\n",
       "      <td>127.056252</td>\n",
       "      <td>POINT (960782.611 1945813.139)</td>\n",
       "    </tr>\n",
       "    <tr>\n",
       "      <th>114</th>\n",
       "      <td>107</td>\n",
       "      <td>1114103</td>\n",
       "      <td>영동119안전센터</td>\n",
       "      <td>37.520161</td>\n",
       "      <td>127.027564</td>\n",
       "      <td>POINT (958252.454 1946867.912)</td>\n",
       "    </tr>\n",
       "    <tr>\n",
       "      <th>115</th>\n",
       "      <td>108</td>\n",
       "      <td>1111105</td>\n",
       "      <td>수락119안전센터</td>\n",
       "      <td>37.675376</td>\n",
       "      <td>127.066846</td>\n",
       "      <td>POINT (961803.081 1964071.479)</td>\n",
       "    </tr>\n",
       "    <tr>\n",
       "      <th>116</th>\n",
       "      <td>109</td>\n",
       "      <td>1119104</td>\n",
       "      <td>구로119안전센터</td>\n",
       "      <td>37.496988</td>\n",
       "      <td>126.887320</td>\n",
       "      <td>POINT (945842.715 1944368.416)</td>\n",
       "    </tr>\n",
       "  </tbody>\n",
       "</table>\n",
       "</div>"
      ],
      "text/plain": [
       "    고유번호     센터ID        센터명         위도          경도  \\\n",
       "112  117  1105105  금호119안전센터  37.545841  127.024530   \n",
       "113  106  1114401  삼성119안전센터  37.510765  127.056252   \n",
       "114  107  1114103  영동119안전센터  37.520161  127.027564   \n",
       "115  108  1111105  수락119안전센터  37.675376  127.066846   \n",
       "116  109  1119104  구로119안전센터  37.496988  126.887320   \n",
       "\n",
       "                           geometry  \n",
       "112  POINT (957998.796 1949718.266)  \n",
       "113  POINT (960782.611 1945813.139)  \n",
       "114  POINT (958252.454 1946867.912)  \n",
       "115  POINT (961803.081 1964071.479)  \n",
       "116  POINT (945842.715 1944368.416)  "
      ]
     },
     "execution_count": 16,
     "metadata": {},
     "output_type": "execute_result"
    }
   ],
   "source": [
    "pt_119.tail()"
   ]
  },
  {
   "cell_type": "code",
   "execution_count": 17,
   "id": "94ec9004",
   "metadata": {},
   "outputs": [
    {
     "data": {
      "text/html": [
       "<div>\n",
       "<style scoped>\n",
       "    .dataframe tbody tr th:only-of-type {\n",
       "        vertical-align: middle;\n",
       "    }\n",
       "\n",
       "    .dataframe tbody tr th {\n",
       "        vertical-align: top;\n",
       "    }\n",
       "\n",
       "    .dataframe thead th {\n",
       "        text-align: right;\n",
       "    }\n",
       "</style>\n",
       "<table border=\"1\" class=\"dataframe\">\n",
       "  <thead>\n",
       "    <tr style=\"text-align: right;\">\n",
       "      <th></th>\n",
       "      <th>ADM_SECT_C</th>\n",
       "      <th>SGG_NM</th>\n",
       "      <th>SGG_OID</th>\n",
       "      <th>COL_ADM_SE</th>\n",
       "      <th>GID</th>\n",
       "      <th>geometry</th>\n",
       "    </tr>\n",
       "  </thead>\n",
       "  <tbody>\n",
       "    <tr>\n",
       "      <th>0</th>\n",
       "      <td>11740</td>\n",
       "      <td>강동구</td>\n",
       "      <td>337</td>\n",
       "      <td>11740</td>\n",
       "      <td>127</td>\n",
       "      <td>POLYGON ((969713.132 1948846.288, 969692.451 1...</td>\n",
       "    </tr>\n",
       "    <tr>\n",
       "      <th>1</th>\n",
       "      <td>11710</td>\n",
       "      <td>송파구</td>\n",
       "      <td>1969</td>\n",
       "      <td>11710</td>\n",
       "      <td>128</td>\n",
       "      <td>POLYGON ((968640.372 1944982.492, 968640.957 1...</td>\n",
       "    </tr>\n",
       "    <tr>\n",
       "      <th>2</th>\n",
       "      <td>11680</td>\n",
       "      <td>강남구</td>\n",
       "      <td>33</td>\n",
       "      <td>11680</td>\n",
       "      <td>129</td>\n",
       "      <td>POLYGON ((958696.114 1948605.678, 959195.920 1...</td>\n",
       "    </tr>\n",
       "  </tbody>\n",
       "</table>\n",
       "</div>"
      ],
      "text/plain": [
       "  ADM_SECT_C SGG_NM  SGG_OID COL_ADM_SE  GID  \\\n",
       "0      11740    강동구      337      11740  127   \n",
       "1      11710    송파구     1969      11710  128   \n",
       "2      11680    강남구       33      11680  129   \n",
       "\n",
       "                                            geometry  \n",
       "0  POLYGON ((969713.132 1948846.288, 969692.451 1...  \n",
       "1  POLYGON ((968640.372 1944982.492, 968640.957 1...  \n",
       "2  POLYGON ((958696.114 1948605.678, 959195.920 1...  "
      ]
     },
     "execution_count": 17,
     "metadata": {},
     "output_type": "execute_result"
    }
   ],
   "source": [
    "seoul_area.head(3)"
   ]
  },
  {
   "cell_type": "code",
   "execution_count": 18,
   "id": "813cc751",
   "metadata": {},
   "outputs": [
    {
     "data": {
      "image/png": "[encoded data removed]",
      "text/plain": [
       "<Figure size 576x576 with 1 Axes>"
      ]
     },
     "metadata": {
      "needs_background": "light"
     },
     "output_type": "display_data"
    }
   ],
   "source": [
    "ax = seoul_area.plot(column=\"SGG_NM\", figsize=(8,8), alpha=0.8)\n",
    "pt_119.plot(ax=ax, marker='v', color='black', label='Firestation')\n",
    "ax.set_title(\"Seoul\", fontsize=20)\n",
    "ax.set_axis_off()\n",
    "# plt.legend()\n",
    "plt.show()"
   ]
  },
  {
   "cell_type": "markdown",
   "id": "af1d4468",
   "metadata": {},
   "source": [
    "출처: [yg's blog](https://yganalyst.github.io/spatial_analysis/spatial_analysis_1/)"
   ]
  }
 ],
 "metadata": {
  "kernelspec": {
   "display_name": "Python 3",
   "language": "python",
   "name": "python3"
  },
  "language_info": {
   "codemirror_mode": {
    "name": "ipython",
    "version": 3
   },
   "file_extension": ".py",
   "mimetype": "text/x-python",
   "name": "python",
   "nbconvert_exporter": "python",
   "pygments_lexer": "ipython3",
   "version": "3.8.8"
  },
  "toc": {
   "base_numbering": 1,
   "nav_menu": {},
   "number_sections": true,
   "sideBar": true,
   "skip_h1_title": false,
   "title_cell": "Table of Contents",
   "title_sidebar": "Contents",
   "toc_cell": false,
   "toc_position": {
    "height": "calc(100% - 180px)",
    "left": "10px",
    "top": "150px",
    "width": "384px"
   },
   "toc_section_display": true,
   "toc_window_display": true
  },
  "varInspector": {
   "cols": {
    "lenName": 16,
    "lenType": 16,
    "lenVar": 40
   },
   "kernels_config": {
    "python": {
     "delete_cmd_postfix": "",
     "delete_cmd_prefix": "del ",
     "library": "var_list.py",
     "varRefreshCmd": "print(var_dic_list())"
    },
    "r": {
     "delete_cmd_postfix": ") ",
     "delete_cmd_prefix": "rm(",
     "library": "var_list.r",
     "varRefreshCmd": "cat(var_dic_list()) "
    }
   },
   "types_to_exclude": [
    "module",
    "function",
    "builtin_function_or_method",
    "instance",
    "_Feature"
   ],
   "window_display": false
  }
 },
 "nbformat": 4,
 "nbformat_minor": 5
}
