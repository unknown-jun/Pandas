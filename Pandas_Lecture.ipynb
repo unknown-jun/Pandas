{
 "cells": [
  {
   "cell_type": "markdown",
   "id": "5082136a",
   "metadata": {},
   "source": [
    "# Pandas 한 번에 제대로 배우기 - feat. 이수안컴퓨터연구소"
   ]
  },
  {
   "cell_type": "markdown",
   "id": "70997384",
   "metadata": {},
   "source": [
    "## Pandas 객체"
   ]
  },
  {
   "cell_type": "code",
   "execution_count": 1,
   "id": "339b6a60",
   "metadata": {},
   "outputs": [
    {
     "data": {
      "text/plain": [
       "'1.2.4'"
      ]
     },
     "execution_count": 1,
     "metadata": {},
     "output_type": "execute_result"
    }
   ],
   "source": [
    "import numpy as np\n",
    "import pandas as pd\n",
    "\n",
    "pd.__version__"
   ]
  },
  {
   "cell_type": "markdown",
   "id": "b2e88e69",
   "metadata": {},
   "source": [
    "### Series 객체"
   ]
  },
  {
   "cell_type": "code",
   "execution_count": 2,
   "id": "13dcfc83",
   "metadata": {
    "scrolled": true
   },
   "outputs": [
    {
     "data": {
      "text/plain": [
       "0    0.00\n",
       "1    0.25\n",
       "2    0.50\n",
       "3    0.75\n",
       "4    1.00\n",
       "dtype: float64"
      ]
     },
     "execution_count": 2,
     "metadata": {},
     "output_type": "execute_result"
    }
   ],
   "source": [
    "s = pd.Series([0, 0.25, 0.5, 0.75, 1.0])\n",
    "# 인덱스를 따로 지정하지 않을 경우 자동으로 정수형 인덱스가 지정된다.\n",
    "s"
   ]
  },
  {
   "cell_type": "code",
   "execution_count": 3,
   "id": "2445be05",
   "metadata": {},
   "outputs": [
    {
     "data": {
      "text/plain": [
       "array([0.  , 0.25, 0.5 , 0.75, 1.  ])"
      ]
     },
     "execution_count": 3,
     "metadata": {},
     "output_type": "execute_result"
    }
   ],
   "source": [
    "s.values # Series형태에서도 value값만 따로 추출 가능"
   ]
  },
  {
   "cell_type": "code",
   "execution_count": 4,
   "id": "ccf8093c",
   "metadata": {},
   "outputs": [
    {
     "data": {
      "text/plain": [
       "[0.0, 0.25, 0.5, 0.75, 1.0]"
      ]
     },
     "execution_count": 4,
     "metadata": {},
     "output_type": "execute_result"
    }
   ],
   "source": [
    "list(s.values)  # list 형태로도 추출이 가능"
   ]
  },
  {
   "cell_type": "code",
   "execution_count": 5,
   "id": "73a1eabc",
   "metadata": {},
   "outputs": [
    {
     "data": {
      "text/plain": [
       "RangeIndex(start=0, stop=5, step=1)"
      ]
     },
     "execution_count": 5,
     "metadata": {},
     "output_type": "execute_result"
    }
   ],
   "source": [
    "s.index # Series형태에서도 index값만 따로 추출 가능"
   ]
  },
  {
   "cell_type": "code",
   "execution_count": 6,
   "id": "4e60fa47",
   "metadata": {},
   "outputs": [
    {
     "data": {
      "text/plain": [
       "0.25"
      ]
     },
     "execution_count": 6,
     "metadata": {},
     "output_type": "execute_result"
    }
   ],
   "source": [
    "s[1] # Slicing 가능"
   ]
  },
  {
   "cell_type": "code",
   "execution_count": 7,
   "id": "47ef9601",
   "metadata": {},
   "outputs": [
    {
     "data": {
      "text/plain": [
       "1    0.25\n",
       "2    0.50\n",
       "3    0.75\n",
       "dtype: float64"
      ]
     },
     "execution_count": 7,
     "metadata": {},
     "output_type": "execute_result"
    }
   ],
   "source": [
    "s[1:4]"
   ]
  },
  {
   "cell_type": "code",
   "execution_count": 8,
   "id": "3de63284",
   "metadata": {},
   "outputs": [
    {
     "data": {
      "text/plain": [
       "a    0.00\n",
       "b    0.25\n",
       "c    0.50\n",
       "d    0.75\n",
       "e    1.00\n",
       "dtype: float64"
      ]
     },
     "execution_count": 8,
     "metadata": {},
     "output_type": "execute_result"
    }
   ],
   "source": [
    "s = pd.Series([0, 0.25, 0.5, 0.75, 1.0],\n",
    "              index = ['a', 'b', 'c', 'd', 'e'])\n",
    "# pd.Serires함수에서 index를 지정하면 정수형 index가 아닌 사용자 지정 인덱스 생성이 가능하다.\n",
    "s"
   ]
  },
  {
   "cell_type": "code",
   "execution_count": 9,
   "id": "c03ca26f",
   "metadata": {},
   "outputs": [
    {
     "data": {
      "text/plain": [
       "0.5"
      ]
     },
     "execution_count": 9,
     "metadata": {},
     "output_type": "execute_result"
    }
   ],
   "source": [
    "s['c']"
   ]
  },
  {
   "cell_type": "code",
   "execution_count": 10,
   "id": "a87dd35e",
   "metadata": {},
   "outputs": [
    {
     "data": {
      "text/plain": [
       "c    0.50\n",
       "d    0.75\n",
       "e    1.00\n",
       "dtype: float64"
      ]
     },
     "execution_count": 10,
     "metadata": {},
     "output_type": "execute_result"
    }
   ],
   "source": [
    "s[['c', 'd','e']]"
   ]
  },
  {
   "cell_type": "code",
   "execution_count": 11,
   "id": "820239ef",
   "metadata": {},
   "outputs": [
    {
     "data": {
      "text/plain": [
       "True"
      ]
     },
     "execution_count": 11,
     "metadata": {},
     "output_type": "execute_result"
    }
   ],
   "source": [
    "'b' in s"
   ]
  },
  {
   "cell_type": "code",
   "execution_count": 12,
   "id": "f2e51d61",
   "metadata": {},
   "outputs": [
    {
     "data": {
      "text/plain": [
       "2     0.00\n",
       "4     0.25\n",
       "6     0.50\n",
       "8     0.75\n",
       "10    1.00\n",
       "dtype: float64"
      ]
     },
     "execution_count": 12,
     "metadata": {},
     "output_type": "execute_result"
    }
   ],
   "source": [
    "s = pd.Series([0, 0.25, 0.5, 0.75, 1.0],\n",
    "              index = [2, 4, 6, 8, 10])\n",
    "s"
   ]
  },
  {
   "cell_type": "code",
   "execution_count": 13,
   "id": "f505db60",
   "metadata": {},
   "outputs": [
    {
     "data": {
      "text/plain": [
       "0.25"
      ]
     },
     "execution_count": 13,
     "metadata": {},
     "output_type": "execute_result"
    }
   ],
   "source": [
    "s[4]"
   ]
  },
  {
   "cell_type": "code",
   "execution_count": 14,
   "id": "9e13bfc4",
   "metadata": {},
   "outputs": [
    {
     "data": {
      "text/plain": [
       "6     0.50\n",
       "8     0.75\n",
       "10    1.00\n",
       "dtype: float64"
      ]
     },
     "execution_count": 14,
     "metadata": {},
     "output_type": "execute_result"
    }
   ],
   "source": [
    "s[2:]"
   ]
  },
  {
   "cell_type": "code",
   "execution_count": 15,
   "id": "03e8f95f",
   "metadata": {
    "scrolled": true
   },
   "outputs": [
    {
     "data": {
      "text/plain": [
       "array([0.  , 0.25, 0.5 , 0.75, 1.  ])"
      ]
     },
     "execution_count": 15,
     "metadata": {},
     "output_type": "execute_result"
    }
   ],
   "source": [
    "s.unique()"
   ]
  },
  {
   "cell_type": "code",
   "execution_count": 16,
   "id": "72ca99ed",
   "metadata": {},
   "outputs": [
    {
     "data": {
      "text/plain": [
       "0.00    1\n",
       "1.00    1\n",
       "0.50    1\n",
       "0.75    1\n",
       "0.25    1\n",
       "dtype: int64"
      ]
     },
     "execution_count": 16,
     "metadata": {},
     "output_type": "execute_result"
    }
   ],
   "source": [
    "s.value_counts()"
   ]
  },
  {
   "cell_type": "code",
   "execution_count": 17,
   "id": "e0edf3a7",
   "metadata": {},
   "outputs": [
    {
     "data": {
      "text/plain": [
       "2     False\n",
       "4      True\n",
       "6     False\n",
       "8      True\n",
       "10    False\n",
       "dtype: bool"
      ]
     },
     "execution_count": 17,
     "metadata": {},
     "output_type": "execute_result"
    }
   ],
   "source": [
    "s.isin([0.25, 0.75]) # 0.25, 0.75가 어디에 존재하는지 boolean으로 출력"
   ]
  },
  {
   "cell_type": "code",
   "execution_count": 18,
   "id": "a44362bd",
   "metadata": {},
   "outputs": [
    {
     "data": {
      "text/plain": [
       "4    0.25\n",
       "8    0.75\n",
       "dtype: float64"
      ]
     },
     "execution_count": 18,
     "metadata": {},
     "output_type": "execute_result"
    }
   ],
   "source": [
    "s[s.isin([0.25, 0.75])]"
   ]
  },
  {
   "cell_type": "code",
   "execution_count": 19,
   "id": "4f333de3",
   "metadata": {},
   "outputs": [
    {
     "data": {
      "text/plain": [
       "서울특별시    9720846\n",
       "부산광역시    3404423\n",
       "인천광역시    2947217\n",
       "대구광역시    2427954\n",
       "대전광역시    1471040\n",
       "광주광역시    1455048\n",
       "dtype: int64"
      ]
     },
     "execution_count": 19,
     "metadata": {},
     "output_type": "execute_result"
    }
   ],
   "source": [
    "pop_tuple = {'서울특별시': 9720846, \n",
    "             '부산광역시': 3404423,\n",
    "             '인천광역시': 2947217,\n",
    "             '대구광역시': 2427954,\n",
    "             '대전광역시': 1471040,\n",
    "             '광주광역시': 1455048}\n",
    "population = pd.Series(pop_tuple)\n",
    "population"
   ]
  },
  {
   "cell_type": "code",
   "execution_count": 20,
   "id": "7cad8ddc",
   "metadata": {},
   "outputs": [
    {
     "data": {
      "text/plain": [
       "9720846"
      ]
     },
     "execution_count": 20,
     "metadata": {},
     "output_type": "execute_result"
    }
   ],
   "source": [
    "population['서울특별시']"
   ]
  },
  {
   "cell_type": "code",
   "execution_count": 21,
   "id": "871d96e7",
   "metadata": {},
   "outputs": [
    {
     "data": {
      "text/plain": [
       "서울특별시    9720846\n",
       "부산광역시    3404423\n",
       "인천광역시    2947217\n",
       "dtype: int64"
      ]
     },
     "execution_count": 21,
     "metadata": {},
     "output_type": "execute_result"
    }
   ],
   "source": [
    "population['서울특별시':'인천광역시'] # 한글 슬라이싱도 가능"
   ]
  },
  {
   "cell_type": "markdown",
   "id": "78a1097f",
   "metadata": {},
   "source": [
    "### DataFrame 객체"
   ]
  },
  {
   "cell_type": "code",
   "execution_count": 22,
   "id": "42da4229",
   "metadata": {},
   "outputs": [
    {
     "data": {
      "text/html": [
       "<div>\n",
       "<style scoped>\n",
       "    .dataframe tbody tr th:only-of-type {\n",
       "        vertical-align: middle;\n",
       "    }\n",
       "\n",
       "    .dataframe tbody tr th {\n",
       "        vertical-align: top;\n",
       "    }\n",
       "\n",
       "    .dataframe thead th {\n",
       "        text-align: right;\n",
       "    }\n",
       "</style>\n",
       "<table border=\"1\" class=\"dataframe\">\n",
       "  <thead>\n",
       "    <tr style=\"text-align: right;\">\n",
       "      <th></th>\n",
       "      <th>A</th>\n",
       "      <th>B</th>\n",
       "      <th>D</th>\n",
       "      <th>C</th>\n",
       "    </tr>\n",
       "  </thead>\n",
       "  <tbody>\n",
       "    <tr>\n",
       "      <th>0</th>\n",
       "      <td>2</td>\n",
       "      <td>4</td>\n",
       "      <td>3.0</td>\n",
       "      <td>NaN</td>\n",
       "    </tr>\n",
       "    <tr>\n",
       "      <th>1</th>\n",
       "      <td>4</td>\n",
       "      <td>5</td>\n",
       "      <td>NaN</td>\n",
       "      <td>7.0</td>\n",
       "    </tr>\n",
       "  </tbody>\n",
       "</table>\n",
       "</div>"
      ],
      "text/plain": [
       "   A  B    D    C\n",
       "0  2  4  3.0  NaN\n",
       "1  4  5  NaN  7.0"
      ]
     },
     "execution_count": 22,
     "metadata": {},
     "output_type": "execute_result"
    }
   ],
   "source": [
    "pd.DataFrame([{'A':2, 'B':4, 'D':3},{'A':4, 'B':5, 'C':7}]) # 여러 columns을 가진 2차원 특성을 가짐"
   ]
  },
  {
   "cell_type": "code",
   "execution_count": 23,
   "id": "f5df803e",
   "metadata": {},
   "outputs": [
    {
     "data": {
      "text/html": [
       "<div>\n",
       "<style scoped>\n",
       "    .dataframe tbody tr th:only-of-type {\n",
       "        vertical-align: middle;\n",
       "    }\n",
       "\n",
       "    .dataframe tbody tr th {\n",
       "        vertical-align: top;\n",
       "    }\n",
       "\n",
       "    .dataframe thead th {\n",
       "        text-align: right;\n",
       "    }\n",
       "</style>\n",
       "<table border=\"1\" class=\"dataframe\">\n",
       "  <thead>\n",
       "    <tr style=\"text-align: right;\">\n",
       "      <th></th>\n",
       "      <th>A</th>\n",
       "      <th>B</th>\n",
       "      <th>C</th>\n",
       "      <th>D</th>\n",
       "      <th>E</th>\n",
       "    </tr>\n",
       "  </thead>\n",
       "  <tbody>\n",
       "    <tr>\n",
       "      <th>1</th>\n",
       "      <td>0.888206</td>\n",
       "      <td>0.239591</td>\n",
       "      <td>0.787153</td>\n",
       "      <td>0.560442</td>\n",
       "      <td>0.242778</td>\n",
       "    </tr>\n",
       "    <tr>\n",
       "      <th>2</th>\n",
       "      <td>0.924752</td>\n",
       "      <td>0.147235</td>\n",
       "      <td>0.428426</td>\n",
       "      <td>0.871727</td>\n",
       "      <td>0.242758</td>\n",
       "    </tr>\n",
       "    <tr>\n",
       "      <th>3</th>\n",
       "      <td>0.133230</td>\n",
       "      <td>0.880968</td>\n",
       "      <td>0.656988</td>\n",
       "      <td>0.343679</td>\n",
       "      <td>0.379325</td>\n",
       "    </tr>\n",
       "    <tr>\n",
       "      <th>4</th>\n",
       "      <td>0.415850</td>\n",
       "      <td>0.965760</td>\n",
       "      <td>0.471264</td>\n",
       "      <td>0.171483</td>\n",
       "      <td>0.108523</td>\n",
       "    </tr>\n",
       "    <tr>\n",
       "      <th>5</th>\n",
       "      <td>0.734531</td>\n",
       "      <td>0.257402</td>\n",
       "      <td>0.658866</td>\n",
       "      <td>0.838421</td>\n",
       "      <td>0.828797</td>\n",
       "    </tr>\n",
       "  </tbody>\n",
       "</table>\n",
       "</div>"
      ],
      "text/plain": [
       "          A         B         C         D         E\n",
       "1  0.888206  0.239591  0.787153  0.560442  0.242778\n",
       "2  0.924752  0.147235  0.428426  0.871727  0.242758\n",
       "3  0.133230  0.880968  0.656988  0.343679  0.379325\n",
       "4  0.415850  0.965760  0.471264  0.171483  0.108523\n",
       "5  0.734531  0.257402  0.658866  0.838421  0.828797"
      ]
     },
     "execution_count": 23,
     "metadata": {},
     "output_type": "execute_result"
    }
   ],
   "source": [
    "pd.DataFrame(np.random.rand(5, 5),\n",
    "             columns = ['A', 'B', 'C', 'D', 'E'], \n",
    "             index = [1, 2, 3, 4, 5])"
   ]
  },
  {
   "cell_type": "code",
   "execution_count": 24,
   "id": "5fbb93a4",
   "metadata": {},
   "outputs": [
    {
     "data": {
      "text/plain": [
       "서울특별시    4732275\n",
       "부산광역시    1668618\n",
       "인천광역시    1476813\n",
       "대구광역시    1198815\n",
       "대전광역시     734441\n",
       "광주광역시     720060\n",
       "dtype: int64"
      ]
     },
     "execution_count": 24,
     "metadata": {},
     "output_type": "execute_result"
    }
   ],
   "source": [
    "male_tuple = {'서울특별시': 4732275, \n",
    "              '부산광역시': 1668618,\n",
    "              '인천광역시': 1476813,\n",
    "              '대구광역시': 1198815,\n",
    "              '대전광역시': 734441,\n",
    "              '광주광역시': 720060}\n",
    "male = pd.Series(male_tuple)\n",
    "male"
   ]
  },
  {
   "cell_type": "code",
   "execution_count": 25,
   "id": "31eb7c3f",
   "metadata": {},
   "outputs": [
    {
     "data": {
      "text/plain": [
       "서울특별시    4988571\n",
       "부산광역시    1735805\n",
       "인천광역시    1470404\n",
       "대구광역시    1229139\n",
       "대전광역시     736599\n",
       "광주광역시     734988\n",
       "dtype: int64"
      ]
     },
     "execution_count": 25,
     "metadata": {},
     "output_type": "execute_result"
    }
   ],
   "source": [
    "female_tuple = {'서울특별시': 4988571, \n",
    "                '부산광역시': 1735805,\n",
    "                '인천광역시': 1470404,\n",
    "                '대구광역시': 1229139,\n",
    "                '대전광역시': 736599,\n",
    "                '광주광역시': 734988}\n",
    "female = pd.Series(female_tuple)\n",
    "# 딕셔너리 형태로도 시리즈를 생성가능\n",
    "female"
   ]
  },
  {
   "cell_type": "code",
   "execution_count": 26,
   "id": "60870987",
   "metadata": {},
   "outputs": [
    {
     "data": {
      "text/html": [
       "<div>\n",
       "<style scoped>\n",
       "    .dataframe tbody tr th:only-of-type {\n",
       "        vertical-align: middle;\n",
       "    }\n",
       "\n",
       "    .dataframe tbody tr th {\n",
       "        vertical-align: top;\n",
       "    }\n",
       "\n",
       "    .dataframe thead th {\n",
       "        text-align: right;\n",
       "    }\n",
       "</style>\n",
       "<table border=\"1\" class=\"dataframe\">\n",
       "  <thead>\n",
       "    <tr style=\"text-align: right;\">\n",
       "      <th></th>\n",
       "      <th>인구수</th>\n",
       "      <th>남자인구수</th>\n",
       "      <th>여자인구수</th>\n",
       "    </tr>\n",
       "  </thead>\n",
       "  <tbody>\n",
       "    <tr>\n",
       "      <th>서울특별시</th>\n",
       "      <td>9720846</td>\n",
       "      <td>4732275</td>\n",
       "      <td>4988571</td>\n",
       "    </tr>\n",
       "    <tr>\n",
       "      <th>부산광역시</th>\n",
       "      <td>3404423</td>\n",
       "      <td>1668618</td>\n",
       "      <td>1735805</td>\n",
       "    </tr>\n",
       "    <tr>\n",
       "      <th>인천광역시</th>\n",
       "      <td>2947217</td>\n",
       "      <td>1476813</td>\n",
       "      <td>1470404</td>\n",
       "    </tr>\n",
       "    <tr>\n",
       "      <th>대구광역시</th>\n",
       "      <td>2427954</td>\n",
       "      <td>1198815</td>\n",
       "      <td>1229139</td>\n",
       "    </tr>\n",
       "    <tr>\n",
       "      <th>대전광역시</th>\n",
       "      <td>1471040</td>\n",
       "      <td>734441</td>\n",
       "      <td>736599</td>\n",
       "    </tr>\n",
       "    <tr>\n",
       "      <th>광주광역시</th>\n",
       "      <td>1455048</td>\n",
       "      <td>720060</td>\n",
       "      <td>734988</td>\n",
       "    </tr>\n",
       "  </tbody>\n",
       "</table>\n",
       "</div>"
      ],
      "text/plain": [
       "           인구수    남자인구수    여자인구수\n",
       "서울특별시  9720846  4732275  4988571\n",
       "부산광역시  3404423  1668618  1735805\n",
       "인천광역시  2947217  1476813  1470404\n",
       "대구광역시  2427954  1198815  1229139\n",
       "대전광역시  1471040   734441   736599\n",
       "광주광역시  1455048   720060   734988"
      ]
     },
     "execution_count": 26,
     "metadata": {},
     "output_type": "execute_result"
    }
   ],
   "source": [
    "korea_df = pd.DataFrame({'인구수':population, \n",
    "                         '남자인구수':male,\n",
    "                         '여자인구수':female})\n",
    "# 컬럼명과 시리즈를 딕셔너리 형태로 묶어서 데이터 프레임을 만들수 있다.\n",
    "korea_df"
   ]
  },
  {
   "cell_type": "code",
   "execution_count": 27,
   "id": "7b38cc40",
   "metadata": {},
   "outputs": [
    {
     "data": {
      "text/plain": [
       "Index(['서울특별시', '부산광역시', '인천광역시', '대구광역시', '대전광역시', '광주광역시'], dtype='object')"
      ]
     },
     "execution_count": 27,
     "metadata": {},
     "output_type": "execute_result"
    }
   ],
   "source": [
    "korea_df.index"
   ]
  },
  {
   "cell_type": "code",
   "execution_count": 28,
   "id": "0db9bcc5",
   "metadata": {},
   "outputs": [
    {
     "data": {
      "text/plain": [
       "Index(['인구수', '남자인구수', '여자인구수'], dtype='object')"
      ]
     },
     "execution_count": 28,
     "metadata": {},
     "output_type": "execute_result"
    }
   ],
   "source": [
    "korea_df.columns"
   ]
  },
  {
   "cell_type": "code",
   "execution_count": 29,
   "id": "24bb2a9d",
   "metadata": {},
   "outputs": [
    {
     "data": {
      "text/plain": [
       "서울특별시    4988571\n",
       "부산광역시    1735805\n",
       "인천광역시    1470404\n",
       "대구광역시    1229139\n",
       "대전광역시     736599\n",
       "광주광역시     734988\n",
       "Name: 여자인구수, dtype: int64"
      ]
     },
     "execution_count": 29,
     "metadata": {},
     "output_type": "execute_result"
    }
   ],
   "source": [
    "korea_df['여자인구수']"
   ]
  },
  {
   "cell_type": "code",
   "execution_count": 30,
   "id": "28daee51",
   "metadata": {},
   "outputs": [
    {
     "data": {
      "text/html": [
       "<div>\n",
       "<style scoped>\n",
       "    .dataframe tbody tr th:only-of-type {\n",
       "        vertical-align: middle;\n",
       "    }\n",
       "\n",
       "    .dataframe tbody tr th {\n",
       "        vertical-align: top;\n",
       "    }\n",
       "\n",
       "    .dataframe thead th {\n",
       "        text-align: right;\n",
       "    }\n",
       "</style>\n",
       "<table border=\"1\" class=\"dataframe\">\n",
       "  <thead>\n",
       "    <tr style=\"text-align: right;\">\n",
       "      <th></th>\n",
       "      <th>인구수</th>\n",
       "      <th>남자인구수</th>\n",
       "      <th>여자인구수</th>\n",
       "    </tr>\n",
       "  </thead>\n",
       "  <tbody>\n",
       "    <tr>\n",
       "      <th>서울특별시</th>\n",
       "      <td>9720846</td>\n",
       "      <td>4732275</td>\n",
       "      <td>4988571</td>\n",
       "    </tr>\n",
       "    <tr>\n",
       "      <th>부산광역시</th>\n",
       "      <td>3404423</td>\n",
       "      <td>1668618</td>\n",
       "      <td>1735805</td>\n",
       "    </tr>\n",
       "    <tr>\n",
       "      <th>인천광역시</th>\n",
       "      <td>2947217</td>\n",
       "      <td>1476813</td>\n",
       "      <td>1470404</td>\n",
       "    </tr>\n",
       "  </tbody>\n",
       "</table>\n",
       "</div>"
      ],
      "text/plain": [
       "           인구수    남자인구수    여자인구수\n",
       "서울특별시  9720846  4732275  4988571\n",
       "부산광역시  3404423  1668618  1735805\n",
       "인천광역시  2947217  1476813  1470404"
      ]
     },
     "execution_count": 30,
     "metadata": {},
     "output_type": "execute_result"
    }
   ],
   "source": [
    "korea_df['서울특별시':'인천광역시']\n",
    "# 인덱스명으로도 슬라이싱이 가능"
   ]
  },
  {
   "cell_type": "code",
   "execution_count": 31,
   "id": "117ebaa9",
   "metadata": {},
   "outputs": [
    {
     "data": {
      "text/plain": [
       "서울특별시    9720846\n",
       "부산광역시    3404423\n",
       "인천광역시    2947217\n",
       "대구광역시    2427954\n",
       "대전광역시    1471040\n",
       "광주광역시    1455048\n",
       "Name: 인구수, dtype: int64"
      ]
     },
     "execution_count": 31,
     "metadata": {},
     "output_type": "execute_result"
    }
   ],
   "source": [
    "korea_df['인구수']"
   ]
  },
  {
   "cell_type": "markdown",
   "id": "1c5ed3ac",
   "metadata": {},
   "source": [
    "### Index 객체\n",
    " \n",
    "  \n",
    "\n",
    "|클래스|설명|\n",
    "|:--|:--|\n",
    "|Index|일반적은 Index 객체이며, Numpy 배열 형식으로 축의 이름 표현|\n",
    "|Int64Index|정수 값을 위한 Index|\n",
    "|MultiIndex|단일 축에 여러 단계 색인을 표현하는 계층적 Index객체(튜플의 배열과 유사)|\n",
    "|DatetimeIndex|Numpy의 datatime64 타입으로 타임스탬프 저장|\n",
    "|PeriodIndex|기간 데이터를 위한 Index|"
   ]
  },
  {
   "cell_type": "code",
   "execution_count": 32,
   "id": "2009a118",
   "metadata": {},
   "outputs": [
    {
     "data": {
      "text/plain": [
       "Int64Index([2, 4, 6, 8, 10], dtype='int64')"
      ]
     },
     "execution_count": 32,
     "metadata": {},
     "output_type": "execute_result"
    }
   ],
   "source": [
    "idx = pd.Index([2, 4, 6, 8, 10])\n",
    "idx"
   ]
  },
  {
   "cell_type": "code",
   "execution_count": 33,
   "id": "2a3c80de",
   "metadata": {},
   "outputs": [
    {
     "data": {
      "text/plain": [
       "4"
      ]
     },
     "execution_count": 33,
     "metadata": {},
     "output_type": "execute_result"
    }
   ],
   "source": [
    "idx[1]"
   ]
  },
  {
   "cell_type": "code",
   "execution_count": 34,
   "id": "74276856",
   "metadata": {},
   "outputs": [
    {
     "data": {
      "text/plain": [
       "Int64Index([4], dtype='int64')"
      ]
     },
     "execution_count": 34,
     "metadata": {},
     "output_type": "execute_result"
    }
   ],
   "source": [
    "idx[1:2:2]"
   ]
  },
  {
   "cell_type": "code",
   "execution_count": 35,
   "id": "a39c2393",
   "metadata": {},
   "outputs": [
    {
     "data": {
      "text/plain": [
       "Int64Index([10], dtype='int64')"
      ]
     },
     "execution_count": 35,
     "metadata": {},
     "output_type": "execute_result"
    }
   ],
   "source": [
    "idx[-1:]"
   ]
  },
  {
   "cell_type": "code",
   "execution_count": 36,
   "id": "9a086592",
   "metadata": {},
   "outputs": [
    {
     "data": {
      "text/plain": [
       "Int64Index([10, 6, 2], dtype='int64')"
      ]
     },
     "execution_count": 36,
     "metadata": {},
     "output_type": "execute_result"
    }
   ],
   "source": [
    "idx[::-2]"
   ]
  },
  {
   "cell_type": "code",
   "execution_count": 37,
   "id": "91de4eec",
   "metadata": {},
   "outputs": [
    {
     "name": "stdout",
     "output_type": "stream",
     "text": [
      "Int64Index([2, 4, 6, 8, 10], dtype='int64')\n",
      "5\n",
      "(5,)\n",
      "1\n",
      "int64\n"
     ]
    }
   ],
   "source": [
    "print(idx)\n",
    "print(idx.size)   # 5개의 값이 들어가 있다.\n",
    "print(idx.shape)  # 1차원 shape\n",
    "print(idx.ndim)   # 차원 수\n",
    "print(idx.dtype)  # 데이터 타입"
   ]
  },
  {
   "cell_type": "markdown",
   "id": "5a53b26a",
   "metadata": {},
   "source": [
    "#### index 연산\n",
    "|연산자|메소드|설명|\n",
    "|:-|:-|:-|\n",
    "||```append```|색인 객체를 추가한 새로운 색인 반환|\n",
    "||```difference```|색인의 차집합 반환|\n",
    "|```&```|```intersection```|색인의 교집합 반환|\n",
    "|```\\|```|```union```|색인의 합집합 반환|\n",
    "||```isin```|색인이 존재하는지 여부를 불리언 배열로 반환|\n",
    "||```delete```|색인이 삭제된 새로운 색인 반환\n",
    "||```drop```|값이 삭제된 새로운 색인 반환|\n",
    "||```insert```|색인이 추가된 새로운 색인 반환|\n",
    "||```is_monotonic```|색인이 단조성을 가지면 True|\n",
    "||```is_unique```|중복되는 색인이 없다면 True|\n",
    "||```unique```|색인에서 중복되는 요소를 제거하고 유일한 값만 반환|"
   ]
  },
  {
   "cell_type": "code",
   "execution_count": 38,
   "id": "5dd8c99d",
   "metadata": {},
   "outputs": [
    {
     "name": "stdout",
     "output_type": "stream",
     "text": [
      "Int64Index([1, 2, 4, 6, 8, 2, 4, 5, 6, 7], dtype='int64')\n",
      "Int64Index([1, 8], dtype='int64')\n",
      "Int64Index([-1, -2, -1, 0, 1], dtype='int64')\n",
      "Int64Index([2, 4, 6], dtype='int64')\n",
      "Int64Index([2, 4, 6], dtype='int64')\n",
      "Int64Index([1, 2, 4, 5, 6, 7, 8], dtype='int64')\n",
      "Int64Index([1, 2, 4, 5, 6, 7, 8], dtype='int64')\n",
      "Int64Index([2, 4, 6, 8], dtype='int64')\n",
      "Int64Index([2, 4, 6, 8], dtype='int64')\n",
      "Int64Index([1, 5, 7, 8], dtype='int64')\n"
     ]
    },
    {
     "name": "stderr",
     "output_type": "stream",
     "text": [
      "<ipython-input-38-4abd78589c9d>:7: FutureWarning: Index.__and__ operating as a set operation is deprecated, in the future this will be a logical operation matching Series.__and__.  Use index.intersection(other) instead\n",
      "  print(idx1 & idx2 )\n",
      "<ipython-input-38-4abd78589c9d>:9: FutureWarning: Index.__or__ operating as a set operation is deprecated, in the future this will be a logical operation matching Series.__or__.  Use index.union(other) instead\n",
      "  print(idx1|idx2)\n",
      "<ipython-input-38-4abd78589c9d>:12: FutureWarning: Index.__xor__ operating as a set operation is deprecated, in the future this will be a logical operation matching Series.__xor__.  Use index.symmetric_difference(other) instead\n",
      "  print(idx1^idx2)        # 공통된 것을 뺀 나머지 (차집합)\n"
     ]
    }
   ],
   "source": [
    "idx1 = pd.Index([1, 2, 4, 6, 8])\n",
    "idx2 = pd.Index([2, 4, 5, 6, 7])\n",
    "print(idx1.append(idx2))\n",
    "print(idx1.difference(idx2))\n",
    "print(idx1 - idx2)\n",
    "print(idx1.intersection(idx2))\n",
    "print(idx1 & idx2 )\n",
    "print(idx1.union(idx2)) # 중복을 제외함\n",
    "print(idx1|idx2)\n",
    "print(idx1.delete(0))   # 인덱스 번호를 지정하여 그 해당하는 번호의 값을 제거\n",
    "print(idx1.drop(1))     # idx1에 있는 값을 지정하여 그 값을 제거\n",
    "print(idx1^idx2)        # 공통된 것을 뺀 나머지 (차집합)"
   ]
  },
  {
   "cell_type": "markdown",
   "id": "20edfb62",
   "metadata": {},
   "source": [
    "## 인덱싱 ( Indexing )"
   ]
  },
  {
   "cell_type": "code",
   "execution_count": 39,
   "id": "5dab12aa",
   "metadata": {},
   "outputs": [
    {
     "data": {
      "text/plain": [
       "a    0.00\n",
       "b    0.25\n",
       "c    0.50\n",
       "d    0.75\n",
       "e    1.00\n",
       "dtype: float64"
      ]
     },
     "execution_count": 39,
     "metadata": {},
     "output_type": "execute_result"
    }
   ],
   "source": [
    "s = pd.Series([0, 0.25, 0.5, 0.75, 1.0],\n",
    "              index = ['a','b','c','d','e'])\n",
    "s"
   ]
  },
  {
   "cell_type": "code",
   "execution_count": 40,
   "id": "5aa09492",
   "metadata": {},
   "outputs": [
    {
     "data": {
      "text/plain": [
       "0.25"
      ]
     },
     "execution_count": 40,
     "metadata": {},
     "output_type": "execute_result"
    }
   ],
   "source": [
    "s['b']"
   ]
  },
  {
   "cell_type": "code",
   "execution_count": 41,
   "id": "ba69edc6",
   "metadata": {},
   "outputs": [
    {
     "data": {
      "text/plain": [
       "True"
      ]
     },
     "execution_count": 41,
     "metadata": {},
     "output_type": "execute_result"
    }
   ],
   "source": [
    "'b' in s"
   ]
  },
  {
   "cell_type": "code",
   "execution_count": 42,
   "id": "25a08bda",
   "metadata": {},
   "outputs": [
    {
     "data": {
      "text/plain": [
       "Index(['a', 'b', 'c', 'd', 'e'], dtype='object')"
      ]
     },
     "execution_count": 42,
     "metadata": {},
     "output_type": "execute_result"
    }
   ],
   "source": [
    "s.keys() # 해당하는 인덱스값들을 반환"
   ]
  },
  {
   "cell_type": "code",
   "execution_count": 43,
   "id": "068dea60",
   "metadata": {},
   "outputs": [
    {
     "data": {
      "text/plain": [
       "[('a', 0.0), ('b', 0.25), ('c', 0.5), ('d', 0.75), ('e', 1.0)]"
      ]
     },
     "execution_count": 43,
     "metadata": {},
     "output_type": "execute_result"
    }
   ],
   "source": [
    "list(s.items()) # 시리즈의 값들이 tuple 값으로 묶여서 나온다."
   ]
  },
  {
   "cell_type": "code",
   "execution_count": 44,
   "id": "d5b180f7",
   "metadata": {},
   "outputs": [
    {
     "data": {
      "text/plain": [
       "a    0.00\n",
       "b    0.25\n",
       "c    0.50\n",
       "d    0.75\n",
       "e    1.00\n",
       "f    1.25\n",
       "dtype: float64"
      ]
     },
     "execution_count": 44,
     "metadata": {},
     "output_type": "execute_result"
    }
   ],
   "source": [
    "s['f'] = 1.25\n",
    "s"
   ]
  },
  {
   "cell_type": "code",
   "execution_count": 45,
   "id": "cc7a7d65",
   "metadata": {},
   "outputs": [
    {
     "data": {
      "text/plain": [
       "a    0.00\n",
       "b    0.25\n",
       "c    0.50\n",
       "d    0.75\n",
       "dtype: float64"
      ]
     },
     "execution_count": 45,
     "metadata": {},
     "output_type": "execute_result"
    }
   ],
   "source": [
    "s['a':'d']"
   ]
  },
  {
   "cell_type": "code",
   "execution_count": 46,
   "id": "740feaa0",
   "metadata": {},
   "outputs": [
    {
     "data": {
      "text/plain": [
       "a    0.00\n",
       "b    0.25\n",
       "c    0.50\n",
       "dtype: float64"
      ]
     },
     "execution_count": 46,
     "metadata": {},
     "output_type": "execute_result"
    }
   ],
   "source": [
    "s[0:3]"
   ]
  },
  {
   "cell_type": "code",
   "execution_count": 47,
   "id": "077e8f8a",
   "metadata": {},
   "outputs": [
    {
     "data": {
      "text/plain": [
       "c    0.50\n",
       "d    0.75\n",
       "dtype: float64"
      ]
     },
     "execution_count": 47,
     "metadata": {},
     "output_type": "execute_result"
    }
   ],
   "source": [
    "s[ (s > 0.4) & (s < 0.8) ] # filtering을 조건으로 주어 인덱싱을 반환이 가능함"
   ]
  },
  {
   "cell_type": "code",
   "execution_count": 48,
   "id": "a9ed9336",
   "metadata": {},
   "outputs": [
    {
     "data": {
      "text/plain": [
       "a    0.0\n",
       "c    0.5\n",
       "e    1.0\n",
       "dtype: float64"
      ]
     },
     "execution_count": 48,
     "metadata": {},
     "output_type": "execute_result"
    }
   ],
   "source": [
    "s[['a','c','e']]"
   ]
  },
  {
   "cell_type": "markdown",
   "id": "ea95ae9b",
   "metadata": {},
   "source": [
    "### Series 인덱싱"
   ]
  },
  {
   "cell_type": "code",
   "execution_count": 49,
   "id": "18cdb37a",
   "metadata": {},
   "outputs": [
    {
     "data": {
      "text/plain": [
       "1    a\n",
       "3    b\n",
       "5    c\n",
       "7    d\n",
       "9    e\n",
       "dtype: object"
      ]
     },
     "execution_count": 49,
     "metadata": {},
     "output_type": "execute_result"
    }
   ],
   "source": [
    "s = pd.Series(['a', 'b', 'c', 'd', 'e'],\n",
    "              index=[1, 3, 5, 7, 9])\n",
    "s"
   ]
  },
  {
   "cell_type": "code",
   "execution_count": 50,
   "id": "41d424d2",
   "metadata": {},
   "outputs": [
    {
     "data": {
      "text/plain": [
       "'a'"
      ]
     },
     "execution_count": 50,
     "metadata": {},
     "output_type": "execute_result"
    }
   ],
   "source": [
    "s[1]"
   ]
  },
  {
   "cell_type": "code",
   "execution_count": 51,
   "id": "61156f90",
   "metadata": {},
   "outputs": [
    {
     "data": {
      "text/plain": [
       "5    c\n",
       "7    d\n",
       "dtype: object"
      ]
     },
     "execution_count": 51,
     "metadata": {},
     "output_type": "execute_result"
    }
   ],
   "source": [
    "s[2:4]"
   ]
  },
  {
   "cell_type": "code",
   "execution_count": 52,
   "id": "1f55ee29",
   "metadata": {},
   "outputs": [
    {
     "data": {
      "text/plain": [
       "'b'"
      ]
     },
     "execution_count": 52,
     "metadata": {},
     "output_type": "execute_result"
    }
   ],
   "source": [
    "s.iloc[1]"
   ]
  },
  {
   "cell_type": "code",
   "execution_count": 53,
   "id": "698dac76",
   "metadata": {},
   "outputs": [
    {
     "data": {
      "text/plain": [
       "5    c\n",
       "7    d\n",
       "dtype: object"
      ]
     },
     "execution_count": 53,
     "metadata": {},
     "output_type": "execute_result"
    }
   ],
   "source": [
    "s.iloc[2:4]"
   ]
  },
  {
   "cell_type": "code",
   "execution_count": 54,
   "id": "54182b56",
   "metadata": {},
   "outputs": [
    {
     "data": {
      "text/plain": [
       "0    NaN\n",
       "1      a\n",
       "2    NaN\n",
       "3      b\n",
       "4    NaN\n",
       "5      c\n",
       "6    NaN\n",
       "7      d\n",
       "8    NaN\n",
       "9      e\n",
       "dtype: object"
      ]
     },
     "execution_count": 54,
     "metadata": {},
     "output_type": "execute_result"
    }
   ],
   "source": [
    "s.reindex(range(10))\n",
    "# reindex를 하면 index를 생성시키며 없는 값은 NaN값으로 반환함"
   ]
  },
  {
   "cell_type": "code",
   "execution_count": 55,
   "id": "7af25498",
   "metadata": {},
   "outputs": [
    {
     "data": {
      "text/plain": [
       "0    a\n",
       "1    a\n",
       "2    b\n",
       "3    b\n",
       "4    c\n",
       "5    c\n",
       "6    d\n",
       "7    d\n",
       "8    e\n",
       "9    e\n",
       "dtype: object"
      ]
     },
     "execution_count": 55,
     "metadata": {},
     "output_type": "execute_result"
    }
   ],
   "source": [
    "s.reindex(range(10), method='bfill') # '그 전값으로 NaN 값을 채워줘'라는 메소드"
   ]
  },
  {
   "cell_type": "markdown",
   "id": "8fa10b37",
   "metadata": {},
   "source": [
    "### DataFrame 인덱싱\n",
    "\n",
    "|사용방법|설명|\n",
    "|:-|:-|\n",
    "|```df[val]```|하나의 컬럼 또는 여러 컬럼을 선택|\n",
    "|```df.loc[val]```|레이블 값으로 로우의 부분집합 선택|\n",
    "|```df.loc[:,val]```|레이블 값으로 컬럼의 부분집합 선택|\n",
    "|```df.loc[val1, val2]```|레이블 값으로 로우와 컬럼의 부분집합 선택|\n",
    "|```df.iloc[where]```|정수 색인으로 로우의 부분집합 선택|\n",
    "|```df.iloc[:,where]```|정수 색인으로 컬럼의 부분집합 선택|\n",
    "|```df.iloc[where_i,where_j]```|정수 색인으로 로우와 컬럼의 부분집합 선택|\n",
    "|```df.at[label_i,label_j]```|로우와 컬럼의 라벨로 단일 값 선택|\n",
    "|```df.iat[i, j]```|로우와 컬럼의 정수 색인으로 단일 값 선택|\n",
    "|```reindex```|하나 이상의 축을 새로운 색인으로 재색인|\n",
    "|```get_value, set_value```|로우와 컬럼의 이름으로 값 선택|"
   ]
  },
  {
   "cell_type": "code",
   "execution_count": 56,
   "id": "b9e78b58",
   "metadata": {
    "scrolled": true
   },
   "outputs": [
    {
     "data": {
      "text/html": [
       "<div>\n",
       "<style scoped>\n",
       "    .dataframe tbody tr th:only-of-type {\n",
       "        vertical-align: middle;\n",
       "    }\n",
       "\n",
       "    .dataframe tbody tr th {\n",
       "        vertical-align: top;\n",
       "    }\n",
       "\n",
       "    .dataframe thead th {\n",
       "        text-align: right;\n",
       "    }\n",
       "</style>\n",
       "<table border=\"1\" class=\"dataframe\">\n",
       "  <thead>\n",
       "    <tr style=\"text-align: right;\">\n",
       "      <th></th>\n",
       "      <th>인구수</th>\n",
       "      <th>남자인구수</th>\n",
       "      <th>여자인구수</th>\n",
       "    </tr>\n",
       "  </thead>\n",
       "  <tbody>\n",
       "    <tr>\n",
       "      <th>서울특별시</th>\n",
       "      <td>9720846</td>\n",
       "      <td>4732275</td>\n",
       "      <td>4988571</td>\n",
       "    </tr>\n",
       "    <tr>\n",
       "      <th>부산광역시</th>\n",
       "      <td>3404423</td>\n",
       "      <td>1668618</td>\n",
       "      <td>1735805</td>\n",
       "    </tr>\n",
       "    <tr>\n",
       "      <th>인천광역시</th>\n",
       "      <td>2947217</td>\n",
       "      <td>1476813</td>\n",
       "      <td>1470404</td>\n",
       "    </tr>\n",
       "    <tr>\n",
       "      <th>대구광역시</th>\n",
       "      <td>2427954</td>\n",
       "      <td>1198815</td>\n",
       "      <td>1229139</td>\n",
       "    </tr>\n",
       "    <tr>\n",
       "      <th>대전광역시</th>\n",
       "      <td>1471040</td>\n",
       "      <td>734441</td>\n",
       "      <td>736599</td>\n",
       "    </tr>\n",
       "    <tr>\n",
       "      <th>광주광역시</th>\n",
       "      <td>1455048</td>\n",
       "      <td>720060</td>\n",
       "      <td>734988</td>\n",
       "    </tr>\n",
       "  </tbody>\n",
       "</table>\n",
       "</div>"
      ],
      "text/plain": [
       "           인구수    남자인구수    여자인구수\n",
       "서울특별시  9720846  4732275  4988571\n",
       "부산광역시  3404423  1668618  1735805\n",
       "인천광역시  2947217  1476813  1470404\n",
       "대구광역시  2427954  1198815  1229139\n",
       "대전광역시  1471040   734441   736599\n",
       "광주광역시  1455048   720060   734988"
      ]
     },
     "execution_count": 56,
     "metadata": {},
     "output_type": "execute_result"
    }
   ],
   "source": [
    "korea_df"
   ]
  },
  {
   "cell_type": "code",
   "execution_count": 57,
   "id": "acd85eeb",
   "metadata": {
    "scrolled": true
   },
   "outputs": [
    {
     "data": {
      "text/plain": [
       "3404423"
      ]
     },
     "execution_count": 57,
     "metadata": {},
     "output_type": "execute_result"
    }
   ],
   "source": [
    "korea_df.at['부산광역시','인구수']\n",
    "# at은 어떠한 특정한 조건에 맞는 단일 값을 가져오는데 사용함\n",
    "# 첫번째 인자값으로 index를, 두번째 인자값으로 column을 가져온다."
   ]
  },
  {
   "cell_type": "code",
   "execution_count": 58,
   "id": "b468e2ec",
   "metadata": {},
   "outputs": [
    {
     "data": {
      "text/plain": [
       "서울특별시    4732275\n",
       "부산광역시    1668618\n",
       "인천광역시    1476813\n",
       "대구광역시    1198815\n",
       "대전광역시     734441\n",
       "광주광역시     720060\n",
       "Name: 남자인구수, dtype: int64"
      ]
     },
     "execution_count": 58,
     "metadata": {},
     "output_type": "execute_result"
    }
   ],
   "source": [
    "korea_df['남자인구수']"
   ]
  },
  {
   "cell_type": "code",
   "execution_count": 59,
   "id": "c67b34e7",
   "metadata": {},
   "outputs": [
    {
     "data": {
      "text/plain": [
       "서울특별시    4732275\n",
       "부산광역시    1668618\n",
       "인천광역시    1476813\n",
       "대구광역시    1198815\n",
       "대전광역시     734441\n",
       "광주광역시     720060\n",
       "Name: 남자인구수, dtype: int64"
      ]
     },
     "execution_count": 59,
     "metadata": {},
     "output_type": "execute_result"
    }
   ],
   "source": [
    "korea_df.남자인구수"
   ]
  },
  {
   "cell_type": "code",
   "execution_count": 60,
   "id": "6dd8ebbb",
   "metadata": {},
   "outputs": [
    {
     "data": {
      "text/plain": [
       "서울특별시    4988571\n",
       "부산광역시    1735805\n",
       "인천광역시    1470404\n",
       "대구광역시    1229139\n",
       "대전광역시     736599\n",
       "광주광역시     734988\n",
       "Name: 여자인구수, dtype: int64"
      ]
     },
     "execution_count": 60,
     "metadata": {},
     "output_type": "execute_result"
    }
   ],
   "source": [
    "korea_df.여자인구수"
   ]
  },
  {
   "cell_type": "code",
   "execution_count": 61,
   "id": "bf2d9499",
   "metadata": {},
   "outputs": [
    {
     "data": {
      "text/html": [
       "<div>\n",
       "<style scoped>\n",
       "    .dataframe tbody tr th:only-of-type {\n",
       "        vertical-align: middle;\n",
       "    }\n",
       "\n",
       "    .dataframe tbody tr th {\n",
       "        vertical-align: top;\n",
       "    }\n",
       "\n",
       "    .dataframe thead th {\n",
       "        text-align: right;\n",
       "    }\n",
       "</style>\n",
       "<table border=\"1\" class=\"dataframe\">\n",
       "  <thead>\n",
       "    <tr style=\"text-align: right;\">\n",
       "      <th></th>\n",
       "      <th>인구수</th>\n",
       "      <th>남자인구수</th>\n",
       "      <th>여자인구수</th>\n",
       "      <th>남여비율</th>\n",
       "    </tr>\n",
       "  </thead>\n",
       "  <tbody>\n",
       "    <tr>\n",
       "      <th>서울특별시</th>\n",
       "      <td>9720846</td>\n",
       "      <td>4732275</td>\n",
       "      <td>4988571</td>\n",
       "      <td>94.862336</td>\n",
       "    </tr>\n",
       "    <tr>\n",
       "      <th>부산광역시</th>\n",
       "      <td>3404423</td>\n",
       "      <td>1668618</td>\n",
       "      <td>1735805</td>\n",
       "      <td>96.129346</td>\n",
       "    </tr>\n",
       "    <tr>\n",
       "      <th>인천광역시</th>\n",
       "      <td>2947217</td>\n",
       "      <td>1476813</td>\n",
       "      <td>1470404</td>\n",
       "      <td>100.435867</td>\n",
       "    </tr>\n",
       "    <tr>\n",
       "      <th>대구광역시</th>\n",
       "      <td>2427954</td>\n",
       "      <td>1198815</td>\n",
       "      <td>1229139</td>\n",
       "      <td>97.532907</td>\n",
       "    </tr>\n",
       "    <tr>\n",
       "      <th>대전광역시</th>\n",
       "      <td>1471040</td>\n",
       "      <td>734441</td>\n",
       "      <td>736599</td>\n",
       "      <td>99.707032</td>\n",
       "    </tr>\n",
       "    <tr>\n",
       "      <th>광주광역시</th>\n",
       "      <td>1455048</td>\n",
       "      <td>720060</td>\n",
       "      <td>734988</td>\n",
       "      <td>97.968946</td>\n",
       "    </tr>\n",
       "  </tbody>\n",
       "</table>\n",
       "</div>"
      ],
      "text/plain": [
       "           인구수    남자인구수    여자인구수        남여비율\n",
       "서울특별시  9720846  4732275  4988571   94.862336\n",
       "부산광역시  3404423  1668618  1735805   96.129346\n",
       "인천광역시  2947217  1476813  1470404  100.435867\n",
       "대구광역시  2427954  1198815  1229139   97.532907\n",
       "대전광역시  1471040   734441   736599   99.707032\n",
       "광주광역시  1455048   720060   734988   97.968946"
      ]
     },
     "execution_count": 61,
     "metadata": {},
     "output_type": "execute_result"
    }
   ],
   "source": [
    "korea_df['남여비율'] = (korea_df.남자인구수 * 100 / korea_df.여자인구수 ) \n",
    "korea_df"
   ]
  },
  {
   "cell_type": "code",
   "execution_count": 62,
   "id": "6ecee61f",
   "metadata": {},
   "outputs": [
    {
     "data": {
      "text/plain": [
       "array([[9.72084600e+06, 4.73227500e+06, 4.98857100e+06, 9.48623363e+01],\n",
       "       [3.40442300e+06, 1.66861800e+06, 1.73580500e+06, 9.61293463e+01],\n",
       "       [2.94721700e+06, 1.47681300e+06, 1.47040400e+06, 1.00435867e+02],\n",
       "       [2.42795400e+06, 1.19881500e+06, 1.22913900e+06, 9.75329072e+01],\n",
       "       [1.47104000e+06, 7.34441000e+05, 7.36599000e+05, 9.97070319e+01],\n",
       "       [1.45504800e+06, 7.20060000e+05, 7.34988000e+05, 9.79689464e+01]])"
      ]
     },
     "execution_count": 62,
     "metadata": {},
     "output_type": "execute_result"
    }
   ],
   "source": [
    "korea_df.values # korea_df의 모든 값들을 반환함"
   ]
  },
  {
   "cell_type": "code",
   "execution_count": 63,
   "id": "220bea46",
   "metadata": {},
   "outputs": [
    {
     "data": {
      "text/plain": [
       "array([9.72084600e+06, 4.73227500e+06, 4.98857100e+06, 9.48623363e+01])"
      ]
     },
     "execution_count": 63,
     "metadata": {},
     "output_type": "execute_result"
    }
   ],
   "source": [
    "korea_df.values[0]  # values의 첫번째 값 (서울특별시)만 가져옴"
   ]
  },
  {
   "cell_type": "code",
   "execution_count": 64,
   "id": "ff1bdd3a",
   "metadata": {},
   "outputs": [
    {
     "data": {
      "text/html": [
       "<div>\n",
       "<style scoped>\n",
       "    .dataframe tbody tr th:only-of-type {\n",
       "        vertical-align: middle;\n",
       "    }\n",
       "\n",
       "    .dataframe tbody tr th {\n",
       "        vertical-align: top;\n",
       "    }\n",
       "\n",
       "    .dataframe thead th {\n",
       "        text-align: right;\n",
       "    }\n",
       "</style>\n",
       "<table border=\"1\" class=\"dataframe\">\n",
       "  <thead>\n",
       "    <tr style=\"text-align: right;\">\n",
       "      <th></th>\n",
       "      <th>서울특별시</th>\n",
       "      <th>부산광역시</th>\n",
       "      <th>인천광역시</th>\n",
       "      <th>대구광역시</th>\n",
       "      <th>대전광역시</th>\n",
       "      <th>광주광역시</th>\n",
       "    </tr>\n",
       "  </thead>\n",
       "  <tbody>\n",
       "    <tr>\n",
       "      <th>인구수</th>\n",
       "      <td>9.720846e+06</td>\n",
       "      <td>3.404423e+06</td>\n",
       "      <td>2.947217e+06</td>\n",
       "      <td>2.427954e+06</td>\n",
       "      <td>1.471040e+06</td>\n",
       "      <td>1.455048e+06</td>\n",
       "    </tr>\n",
       "    <tr>\n",
       "      <th>남자인구수</th>\n",
       "      <td>4.732275e+06</td>\n",
       "      <td>1.668618e+06</td>\n",
       "      <td>1.476813e+06</td>\n",
       "      <td>1.198815e+06</td>\n",
       "      <td>7.344410e+05</td>\n",
       "      <td>7.200600e+05</td>\n",
       "    </tr>\n",
       "    <tr>\n",
       "      <th>여자인구수</th>\n",
       "      <td>4.988571e+06</td>\n",
       "      <td>1.735805e+06</td>\n",
       "      <td>1.470404e+06</td>\n",
       "      <td>1.229139e+06</td>\n",
       "      <td>7.365990e+05</td>\n",
       "      <td>7.349880e+05</td>\n",
       "    </tr>\n",
       "    <tr>\n",
       "      <th>남여비율</th>\n",
       "      <td>9.486234e+01</td>\n",
       "      <td>9.612935e+01</td>\n",
       "      <td>1.004359e+02</td>\n",
       "      <td>9.753291e+01</td>\n",
       "      <td>9.970703e+01</td>\n",
       "      <td>9.796895e+01</td>\n",
       "    </tr>\n",
       "  </tbody>\n",
       "</table>\n",
       "</div>"
      ],
      "text/plain": [
       "              서울특별시         부산광역시         인천광역시         대구광역시         대전광역시  \\\n",
       "인구수    9.720846e+06  3.404423e+06  2.947217e+06  2.427954e+06  1.471040e+06   \n",
       "남자인구수  4.732275e+06  1.668618e+06  1.476813e+06  1.198815e+06  7.344410e+05   \n",
       "여자인구수  4.988571e+06  1.735805e+06  1.470404e+06  1.229139e+06  7.365990e+05   \n",
       "남여비율   9.486234e+01  9.612935e+01  1.004359e+02  9.753291e+01  9.970703e+01   \n",
       "\n",
       "              광주광역시  \n",
       "인구수    1.455048e+06  \n",
       "남자인구수  7.200600e+05  \n",
       "여자인구수  7.349880e+05  \n",
       "남여비율   9.796895e+01  "
      ]
     },
     "execution_count": 64,
     "metadata": {},
     "output_type": "execute_result"
    }
   ],
   "source": [
    "korea_df.T  # 기존의 행과 열의 순서를 바꿈"
   ]
  },
  {
   "cell_type": "code",
   "execution_count": 65,
   "id": "27bdb831",
   "metadata": {},
   "outputs": [
    {
     "data": {
      "text/html": [
       "<div>\n",
       "<style scoped>\n",
       "    .dataframe tbody tr th:only-of-type {\n",
       "        vertical-align: middle;\n",
       "    }\n",
       "\n",
       "    .dataframe tbody tr th {\n",
       "        vertical-align: top;\n",
       "    }\n",
       "\n",
       "    .dataframe thead th {\n",
       "        text-align: right;\n",
       "    }\n",
       "</style>\n",
       "<table border=\"1\" class=\"dataframe\">\n",
       "  <thead>\n",
       "    <tr style=\"text-align: right;\">\n",
       "      <th></th>\n",
       "      <th>인구수</th>\n",
       "      <th>남자인구수</th>\n",
       "    </tr>\n",
       "  </thead>\n",
       "  <tbody>\n",
       "    <tr>\n",
       "      <th>서울특별시</th>\n",
       "      <td>9720846</td>\n",
       "      <td>4732275</td>\n",
       "    </tr>\n",
       "    <tr>\n",
       "      <th>부산광역시</th>\n",
       "      <td>3404423</td>\n",
       "      <td>1668618</td>\n",
       "    </tr>\n",
       "    <tr>\n",
       "      <th>인천광역시</th>\n",
       "      <td>2947217</td>\n",
       "      <td>1476813</td>\n",
       "    </tr>\n",
       "  </tbody>\n",
       "</table>\n",
       "</div>"
      ],
      "text/plain": [
       "           인구수    남자인구수\n",
       "서울특별시  9720846  4732275\n",
       "부산광역시  3404423  1668618\n",
       "인천광역시  2947217  1476813"
      ]
     },
     "execution_count": 65,
     "metadata": {},
     "output_type": "execute_result"
    }
   ],
   "source": [
    "korea_df.loc[:'인천광역시', :'남자인구수']"
   ]
  },
  {
   "cell_type": "code",
   "execution_count": 66,
   "id": "f40aad3c",
   "metadata": {},
   "outputs": [
    {
     "data": {
      "text/html": [
       "<div>\n",
       "<style scoped>\n",
       "    .dataframe tbody tr th:only-of-type {\n",
       "        vertical-align: middle;\n",
       "    }\n",
       "\n",
       "    .dataframe tbody tr th {\n",
       "        vertical-align: top;\n",
       "    }\n",
       "\n",
       "    .dataframe thead th {\n",
       "        text-align: right;\n",
       "    }\n",
       "</style>\n",
       "<table border=\"1\" class=\"dataframe\">\n",
       "  <thead>\n",
       "    <tr style=\"text-align: right;\">\n",
       "      <th></th>\n",
       "      <th>인구수</th>\n",
       "      <th>남자인구수</th>\n",
       "      <th>여자인구수</th>\n",
       "      <th>남여비율</th>\n",
       "    </tr>\n",
       "  </thead>\n",
       "  <tbody>\n",
       "    <tr>\n",
       "      <th>서울특별시</th>\n",
       "      <td>9720846</td>\n",
       "      <td>4732275</td>\n",
       "      <td>4988571</td>\n",
       "      <td>94.862336</td>\n",
       "    </tr>\n",
       "    <tr>\n",
       "      <th>부산광역시</th>\n",
       "      <td>3404423</td>\n",
       "      <td>1668618</td>\n",
       "      <td>1735805</td>\n",
       "      <td>96.129346</td>\n",
       "    </tr>\n",
       "    <tr>\n",
       "      <th>인천광역시</th>\n",
       "      <td>2947217</td>\n",
       "      <td>1476813</td>\n",
       "      <td>1470404</td>\n",
       "      <td>100.435867</td>\n",
       "    </tr>\n",
       "    <tr>\n",
       "      <th>대구광역시</th>\n",
       "      <td>2427954</td>\n",
       "      <td>1198815</td>\n",
       "      <td>1229139</td>\n",
       "      <td>97.532907</td>\n",
       "    </tr>\n",
       "  </tbody>\n",
       "</table>\n",
       "</div>"
      ],
      "text/plain": [
       "           인구수    남자인구수    여자인구수        남여비율\n",
       "서울특별시  9720846  4732275  4988571   94.862336\n",
       "부산광역시  3404423  1668618  1735805   96.129346\n",
       "인천광역시  2947217  1476813  1470404  100.435867\n",
       "대구광역시  2427954  1198815  1229139   97.532907"
      ]
     },
     "execution_count": 66,
     "metadata": {},
     "output_type": "execute_result"
    }
   ],
   "source": [
    "korea_df.loc[ (korea_df.여자인구수 > 1000000) ]\n",
    "# loc안에 조건으로 filter를 넣으면 그에 맞는 row값으로 반환이 됌"
   ]
  },
  {
   "cell_type": "code",
   "execution_count": 67,
   "id": "7c6c639b",
   "metadata": {},
   "outputs": [
    {
     "data": {
      "text/html": [
       "<div>\n",
       "<style scoped>\n",
       "    .dataframe tbody tr th:only-of-type {\n",
       "        vertical-align: middle;\n",
       "    }\n",
       "\n",
       "    .dataframe tbody tr th {\n",
       "        vertical-align: top;\n",
       "    }\n",
       "\n",
       "    .dataframe thead th {\n",
       "        text-align: right;\n",
       "    }\n",
       "</style>\n",
       "<table border=\"1\" class=\"dataframe\">\n",
       "  <thead>\n",
       "    <tr style=\"text-align: right;\">\n",
       "      <th></th>\n",
       "      <th>인구수</th>\n",
       "      <th>남자인구수</th>\n",
       "      <th>여자인구수</th>\n",
       "      <th>남여비율</th>\n",
       "    </tr>\n",
       "  </thead>\n",
       "  <tbody>\n",
       "    <tr>\n",
       "      <th>대전광역시</th>\n",
       "      <td>1471040</td>\n",
       "      <td>734441</td>\n",
       "      <td>736599</td>\n",
       "      <td>99.707032</td>\n",
       "    </tr>\n",
       "    <tr>\n",
       "      <th>광주광역시</th>\n",
       "      <td>1455048</td>\n",
       "      <td>720060</td>\n",
       "      <td>734988</td>\n",
       "      <td>97.968946</td>\n",
       "    </tr>\n",
       "  </tbody>\n",
       "</table>\n",
       "</div>"
      ],
      "text/plain": [
       "           인구수   남자인구수   여자인구수       남여비율\n",
       "대전광역시  1471040  734441  736599  99.707032\n",
       "광주광역시  1455048  720060  734988  97.968946"
      ]
     },
     "execution_count": 67,
     "metadata": {},
     "output_type": "execute_result"
    }
   ],
   "source": [
    "korea_df.loc[ (korea_df.인구수 < 2000000) ]"
   ]
  },
  {
   "cell_type": "code",
   "execution_count": 68,
   "id": "95a28301",
   "metadata": {},
   "outputs": [
    {
     "data": {
      "text/html": [
       "<div>\n",
       "<style scoped>\n",
       "    .dataframe tbody tr th:only-of-type {\n",
       "        vertical-align: middle;\n",
       "    }\n",
       "\n",
       "    .dataframe tbody tr th {\n",
       "        vertical-align: top;\n",
       "    }\n",
       "\n",
       "    .dataframe thead th {\n",
       "        text-align: right;\n",
       "    }\n",
       "</style>\n",
       "<table border=\"1\" class=\"dataframe\">\n",
       "  <thead>\n",
       "    <tr style=\"text-align: right;\">\n",
       "      <th></th>\n",
       "      <th>인구수</th>\n",
       "      <th>남자인구수</th>\n",
       "      <th>여자인구수</th>\n",
       "      <th>남여비율</th>\n",
       "    </tr>\n",
       "  </thead>\n",
       "  <tbody>\n",
       "    <tr>\n",
       "      <th>서울특별시</th>\n",
       "      <td>9720846</td>\n",
       "      <td>4732275</td>\n",
       "      <td>4988571</td>\n",
       "      <td>94.862336</td>\n",
       "    </tr>\n",
       "    <tr>\n",
       "      <th>부산광역시</th>\n",
       "      <td>3404423</td>\n",
       "      <td>1668618</td>\n",
       "      <td>1735805</td>\n",
       "      <td>96.129346</td>\n",
       "    </tr>\n",
       "    <tr>\n",
       "      <th>인천광역시</th>\n",
       "      <td>2947217</td>\n",
       "      <td>1476813</td>\n",
       "      <td>1470404</td>\n",
       "      <td>100.435867</td>\n",
       "    </tr>\n",
       "  </tbody>\n",
       "</table>\n",
       "</div>"
      ],
      "text/plain": [
       "           인구수    남자인구수    여자인구수        남여비율\n",
       "서울특별시  9720846  4732275  4988571   94.862336\n",
       "부산광역시  3404423  1668618  1735805   96.129346\n",
       "인천광역시  2947217  1476813  1470404  100.435867"
      ]
     },
     "execution_count": 68,
     "metadata": {},
     "output_type": "execute_result"
    }
   ],
   "source": [
    "korea_df.loc[ (korea_df.인구수 > 2500000) ]"
   ]
  },
  {
   "cell_type": "code",
   "execution_count": 69,
   "id": "236bb8ac",
   "metadata": {},
   "outputs": [
    {
     "data": {
      "text/html": [
       "<div>\n",
       "<style scoped>\n",
       "    .dataframe tbody tr th:only-of-type {\n",
       "        vertical-align: middle;\n",
       "    }\n",
       "\n",
       "    .dataframe tbody tr th {\n",
       "        vertical-align: top;\n",
       "    }\n",
       "\n",
       "    .dataframe thead th {\n",
       "        text-align: right;\n",
       "    }\n",
       "</style>\n",
       "<table border=\"1\" class=\"dataframe\">\n",
       "  <thead>\n",
       "    <tr style=\"text-align: right;\">\n",
       "      <th></th>\n",
       "      <th>인구수</th>\n",
       "      <th>남자인구수</th>\n",
       "      <th>여자인구수</th>\n",
       "      <th>남여비율</th>\n",
       "    </tr>\n",
       "  </thead>\n",
       "  <tbody>\n",
       "    <tr>\n",
       "      <th>인천광역시</th>\n",
       "      <td>2947217</td>\n",
       "      <td>1476813</td>\n",
       "      <td>1470404</td>\n",
       "      <td>100.435867</td>\n",
       "    </tr>\n",
       "  </tbody>\n",
       "</table>\n",
       "</div>"
      ],
      "text/plain": [
       "           인구수    남자인구수    여자인구수        남여비율\n",
       "인천광역시  2947217  1476813  1470404  100.435867"
      ]
     },
     "execution_count": 69,
     "metadata": {},
     "output_type": "execute_result"
    }
   ],
   "source": [
    "korea_df.loc[ korea_df.남여비율 > 100 ]"
   ]
  },
  {
   "cell_type": "code",
   "execution_count": 70,
   "id": "e81d61ce",
   "metadata": {},
   "outputs": [
    {
     "data": {
      "text/html": [
       "<div>\n",
       "<style scoped>\n",
       "    .dataframe tbody tr th:only-of-type {\n",
       "        vertical-align: middle;\n",
       "    }\n",
       "\n",
       "    .dataframe tbody tr th {\n",
       "        vertical-align: top;\n",
       "    }\n",
       "\n",
       "    .dataframe thead th {\n",
       "        text-align: right;\n",
       "    }\n",
       "</style>\n",
       "<table border=\"1\" class=\"dataframe\">\n",
       "  <thead>\n",
       "    <tr style=\"text-align: right;\">\n",
       "      <th></th>\n",
       "      <th>인구수</th>\n",
       "      <th>남자인구수</th>\n",
       "      <th>여자인구수</th>\n",
       "      <th>남여비율</th>\n",
       "    </tr>\n",
       "  </thead>\n",
       "  <tbody>\n",
       "    <tr>\n",
       "      <th>인천광역시</th>\n",
       "      <td>2947217</td>\n",
       "      <td>1476813</td>\n",
       "      <td>1470404</td>\n",
       "      <td>100.435867</td>\n",
       "    </tr>\n",
       "  </tbody>\n",
       "</table>\n",
       "</div>"
      ],
      "text/plain": [
       "           인구수    남자인구수    여자인구수        남여비율\n",
       "인천광역시  2947217  1476813  1470404  100.435867"
      ]
     },
     "execution_count": 70,
     "metadata": {},
     "output_type": "execute_result"
    }
   ],
   "source": [
    "korea_df.loc[ ( korea_df.인구수 > 2500000 ) & ( korea_df.남여비율 > 100 )]"
   ]
  },
  {
   "cell_type": "code",
   "execution_count": 71,
   "id": "3b1dadbc",
   "metadata": {},
   "outputs": [
    {
     "data": {
      "text/html": [
       "<div>\n",
       "<style scoped>\n",
       "    .dataframe tbody tr th:only-of-type {\n",
       "        vertical-align: middle;\n",
       "    }\n",
       "\n",
       "    .dataframe tbody tr th {\n",
       "        vertical-align: top;\n",
       "    }\n",
       "\n",
       "    .dataframe thead th {\n",
       "        text-align: right;\n",
       "    }\n",
       "</style>\n",
       "<table border=\"1\" class=\"dataframe\">\n",
       "  <thead>\n",
       "    <tr style=\"text-align: right;\">\n",
       "      <th></th>\n",
       "      <th>인구수</th>\n",
       "      <th>남자인구수</th>\n",
       "    </tr>\n",
       "  </thead>\n",
       "  <tbody>\n",
       "    <tr>\n",
       "      <th>서울특별시</th>\n",
       "      <td>9720846</td>\n",
       "      <td>4732275</td>\n",
       "    </tr>\n",
       "    <tr>\n",
       "      <th>부산광역시</th>\n",
       "      <td>3404423</td>\n",
       "      <td>1668618</td>\n",
       "    </tr>\n",
       "    <tr>\n",
       "      <th>인천광역시</th>\n",
       "      <td>2947217</td>\n",
       "      <td>1476813</td>\n",
       "    </tr>\n",
       "  </tbody>\n",
       "</table>\n",
       "</div>"
      ],
      "text/plain": [
       "           인구수    남자인구수\n",
       "서울특별시  9720846  4732275\n",
       "부산광역시  3404423  1668618\n",
       "인천광역시  2947217  1476813"
      ]
     },
     "execution_count": 71,
     "metadata": {},
     "output_type": "execute_result"
    }
   ],
   "source": [
    "korea_df.iloc[:3, :2]"
   ]
  },
  {
   "cell_type": "markdown",
   "id": "82cf972b",
   "metadata": {},
   "source": [
    "### 다중 인덱스( Multi Indexing )\n",
    "- 1차원의 Series와 2차원의 DataFrame 객체를 넘어 3차원, 4차원 이상의 고차원 데이터 처리\n",
    "- 단일 인덱스 내에 여러 인덱스를 포함하는 다중 인덱싱"
   ]
  },
  {
   "cell_type": "markdown",
   "id": "20885b41",
   "metadata": {},
   "source": [
    "#### 다중 인덱스 Series"
   ]
  },
  {
   "cell_type": "code",
   "execution_count": 72,
   "id": "8b53ea70",
   "metadata": {},
   "outputs": [
    {
     "data": {
      "text/html": [
       "<div>\n",
       "<style scoped>\n",
       "    .dataframe tbody tr th:only-of-type {\n",
       "        vertical-align: middle;\n",
       "    }\n",
       "\n",
       "    .dataframe tbody tr th {\n",
       "        vertical-align: top;\n",
       "    }\n",
       "\n",
       "    .dataframe thead th {\n",
       "        text-align: right;\n",
       "    }\n",
       "</style>\n",
       "<table border=\"1\" class=\"dataframe\">\n",
       "  <thead>\n",
       "    <tr style=\"text-align: right;\">\n",
       "      <th></th>\n",
       "      <th>인구수</th>\n",
       "      <th>남자인구수</th>\n",
       "      <th>여자인구수</th>\n",
       "      <th>남여비율</th>\n",
       "    </tr>\n",
       "  </thead>\n",
       "  <tbody>\n",
       "    <tr>\n",
       "      <th>서울특별시</th>\n",
       "      <td>9720846</td>\n",
       "      <td>4732275</td>\n",
       "      <td>4988571</td>\n",
       "      <td>94.862336</td>\n",
       "    </tr>\n",
       "    <tr>\n",
       "      <th>부산광역시</th>\n",
       "      <td>3404423</td>\n",
       "      <td>1668618</td>\n",
       "      <td>1735805</td>\n",
       "      <td>96.129346</td>\n",
       "    </tr>\n",
       "    <tr>\n",
       "      <th>인천광역시</th>\n",
       "      <td>2947217</td>\n",
       "      <td>1476813</td>\n",
       "      <td>1470404</td>\n",
       "      <td>100.435867</td>\n",
       "    </tr>\n",
       "    <tr>\n",
       "      <th>대구광역시</th>\n",
       "      <td>2427954</td>\n",
       "      <td>1198815</td>\n",
       "      <td>1229139</td>\n",
       "      <td>97.532907</td>\n",
       "    </tr>\n",
       "    <tr>\n",
       "      <th>대전광역시</th>\n",
       "      <td>1471040</td>\n",
       "      <td>734441</td>\n",
       "      <td>736599</td>\n",
       "      <td>99.707032</td>\n",
       "    </tr>\n",
       "    <tr>\n",
       "      <th>광주광역시</th>\n",
       "      <td>1455048</td>\n",
       "      <td>720060</td>\n",
       "      <td>734988</td>\n",
       "      <td>97.968946</td>\n",
       "    </tr>\n",
       "  </tbody>\n",
       "</table>\n",
       "</div>"
      ],
      "text/plain": [
       "           인구수    남자인구수    여자인구수        남여비율\n",
       "서울특별시  9720846  4732275  4988571   94.862336\n",
       "부산광역시  3404423  1668618  1735805   96.129346\n",
       "인천광역시  2947217  1476813  1470404  100.435867\n",
       "대구광역시  2427954  1198815  1229139   97.532907\n",
       "대전광역시  1471040   734441   736599   99.707032\n",
       "광주광역시  1455048   720060   734988   97.968946"
      ]
     },
     "execution_count": 72,
     "metadata": {},
     "output_type": "execute_result"
    }
   ],
   "source": [
    "korea_df"
   ]
  },
  {
   "cell_type": "code",
   "execution_count": 73,
   "id": "1696e257",
   "metadata": {},
   "outputs": [
    {
     "data": {
      "text/plain": [
       "[('서울특별시', 2010),\n",
       " ('서울특별시', 2020),\n",
       " ('부산광역시', 2010),\n",
       " ('부산광역시', 2020),\n",
       " ('인천광역시', 2010),\n",
       " ('인천광역시', 2020),\n",
       " ('대구광역시', 2010),\n",
       " ('대구광역시', 2020),\n",
       " ('대전광역시', 2010),\n",
       " ('대전광역시', 2020),\n",
       " ('광주광역시', 2010),\n",
       " ('광주광역시', 2020)]"
      ]
     },
     "execution_count": 73,
     "metadata": {},
     "output_type": "execute_result"
    }
   ],
   "source": [
    "idx_tuples = [('서울특별시', 2010), ('서울특별시',2020),\n",
    "              ('부산광역시', 2010), ('부산광역시',2020),\n",
    "              ('인천광역시', 2010), ('인천광역시',2020),\n",
    "              ('대구광역시', 2010), ('대구광역시',2020),\n",
    "              ('대전광역시', 2010), ('대전광역시',2020),\n",
    "              ('광주광역시', 2010), ('광주광역시',2020),\n",
    "             ]\n",
    "idx_tuples"
   ]
  },
  {
   "cell_type": "code",
   "execution_count": 74,
   "id": "2ac812cc",
   "metadata": {},
   "outputs": [
    {
     "data": {
      "text/plain": [
       "(서울특별시, 2010)    10312545\n",
       "(서울특별시, 2020)     9720846\n",
       "(부산광역시, 2010)     2567910\n",
       "(부산광역시, 2020)     3404423\n",
       "(인천광역시, 2010)     2758296\n",
       "(인천광역시, 2020)     2847217\n",
       "(대구광역시, 2010)     2511676\n",
       "(대구광역시, 2020)     2427954\n",
       "(대전광역시, 2010)     1503664\n",
       "(대전광역시, 2020)     1471040\n",
       "(광주광역시, 2010)     1454636\n",
       "(광주광역시, 2020)     1455048\n",
       "dtype: int64"
      ]
     },
     "execution_count": 74,
     "metadata": {},
     "output_type": "execute_result"
    }
   ],
   "source": [
    "pop_tuples = [10312545, 9720846,\n",
    "              2567910, 3404423,\n",
    "              2758296, 2847217,\n",
    "              2511676, 2427954,\n",
    "              1503664, 1471040,\n",
    "              1454636, 1455048]\n",
    "population = pd.Series(pop_tuples, index = idx_tuples)\n",
    "population"
   ]
  },
  {
   "cell_type": "code",
   "execution_count": 75,
   "id": "e079090c",
   "metadata": {},
   "outputs": [
    {
     "data": {
      "text/plain": [
       "MultiIndex([('서울특별시', 2010),\n",
       "            ('서울특별시', 2020),\n",
       "            ('부산광역시', 2010),\n",
       "            ('부산광역시', 2020),\n",
       "            ('인천광역시', 2010),\n",
       "            ('인천광역시', 2020),\n",
       "            ('대구광역시', 2010),\n",
       "            ('대구광역시', 2020),\n",
       "            ('대전광역시', 2010),\n",
       "            ('대전광역시', 2020),\n",
       "            ('광주광역시', 2010),\n",
       "            ('광주광역시', 2020)],\n",
       "           )"
      ]
     },
     "execution_count": 75,
     "metadata": {},
     "output_type": "execute_result"
    }
   ],
   "source": [
    "midx = pd.MultiIndex.from_tuples(idx_tuples)\n",
    "midx"
   ]
  },
  {
   "cell_type": "code",
   "execution_count": 76,
   "id": "44c3a37c",
   "metadata": {},
   "outputs": [
    {
     "data": {
      "text/plain": [
       "서울특별시  2010    10312545\n",
       "       2020     9720846\n",
       "부산광역시  2010     2567910\n",
       "       2020     3404423\n",
       "인천광역시  2010     2758296\n",
       "       2020     2847217\n",
       "대구광역시  2010     2511676\n",
       "       2020     2427954\n",
       "대전광역시  2010     1503664\n",
       "       2020     1471040\n",
       "광주광역시  2010     1454636\n",
       "       2020     1455048\n",
       "dtype: int64"
      ]
     },
     "execution_count": 76,
     "metadata": {},
     "output_type": "execute_result"
    }
   ],
   "source": [
    "population = population.reindex(midx)\n",
    "population"
   ]
  },
  {
   "cell_type": "code",
   "execution_count": 77,
   "id": "f7bbcd4e",
   "metadata": {},
   "outputs": [
    {
     "data": {
      "text/plain": [
       "서울특별시    10312545\n",
       "부산광역시     2567910\n",
       "인천광역시     2758296\n",
       "대구광역시     2511676\n",
       "대전광역시     1503664\n",
       "광주광역시     1454636\n",
       "dtype: int64"
      ]
     },
     "execution_count": 77,
     "metadata": {},
     "output_type": "execute_result"
    }
   ],
   "source": [
    "population[:, 2010]"
   ]
  },
  {
   "cell_type": "code",
   "execution_count": 78,
   "id": "9208d07c",
   "metadata": {},
   "outputs": [
    {
     "data": {
      "text/plain": [
       "2010    1503664\n",
       "2020    1471040\n",
       "dtype: int64"
      ]
     },
     "execution_count": 78,
     "metadata": {},
     "output_type": "execute_result"
    }
   ],
   "source": [
    "population['대전광역시',:]"
   ]
  },
  {
   "cell_type": "code",
   "execution_count": 79,
   "id": "9efe0fa7",
   "metadata": {},
   "outputs": [
    {
     "data": {
      "text/html": [
       "<div>\n",
       "<style scoped>\n",
       "    .dataframe tbody tr th:only-of-type {\n",
       "        vertical-align: middle;\n",
       "    }\n",
       "\n",
       "    .dataframe tbody tr th {\n",
       "        vertical-align: top;\n",
       "    }\n",
       "\n",
       "    .dataframe thead th {\n",
       "        text-align: right;\n",
       "    }\n",
       "</style>\n",
       "<table border=\"1\" class=\"dataframe\">\n",
       "  <thead>\n",
       "    <tr style=\"text-align: right;\">\n",
       "      <th></th>\n",
       "      <th>2010</th>\n",
       "      <th>2020</th>\n",
       "    </tr>\n",
       "  </thead>\n",
       "  <tbody>\n",
       "    <tr>\n",
       "      <th>광주광역시</th>\n",
       "      <td>1454636</td>\n",
       "      <td>1455048</td>\n",
       "    </tr>\n",
       "    <tr>\n",
       "      <th>대구광역시</th>\n",
       "      <td>2511676</td>\n",
       "      <td>2427954</td>\n",
       "    </tr>\n",
       "    <tr>\n",
       "      <th>대전광역시</th>\n",
       "      <td>1503664</td>\n",
       "      <td>1471040</td>\n",
       "    </tr>\n",
       "    <tr>\n",
       "      <th>부산광역시</th>\n",
       "      <td>2567910</td>\n",
       "      <td>3404423</td>\n",
       "    </tr>\n",
       "    <tr>\n",
       "      <th>서울특별시</th>\n",
       "      <td>10312545</td>\n",
       "      <td>9720846</td>\n",
       "    </tr>\n",
       "    <tr>\n",
       "      <th>인천광역시</th>\n",
       "      <td>2758296</td>\n",
       "      <td>2847217</td>\n",
       "    </tr>\n",
       "  </tbody>\n",
       "</table>\n",
       "</div>"
      ],
      "text/plain": [
       "           2010     2020\n",
       "광주광역시   1454636  1455048\n",
       "대구광역시   2511676  2427954\n",
       "대전광역시   1503664  1471040\n",
       "부산광역시   2567910  3404423\n",
       "서울특별시  10312545  9720846\n",
       "인천광역시   2758296  2847217"
      ]
     },
     "execution_count": 79,
     "metadata": {},
     "output_type": "execute_result"
    }
   ],
   "source": [
    "korea_mdf = population.unstack()  # MutiIndex를 DataFrame 형태로 변환함\n",
    "korea_mdf"
   ]
  },
  {
   "cell_type": "code",
   "execution_count": 80,
   "id": "7fb1f114",
   "metadata": {},
   "outputs": [
    {
     "data": {
      "text/plain": [
       "광주광역시  2010     1454636\n",
       "       2020     1455048\n",
       "대구광역시  2010     2511676\n",
       "       2020     2427954\n",
       "대전광역시  2010     1503664\n",
       "       2020     1471040\n",
       "부산광역시  2010     2567910\n",
       "       2020     3404423\n",
       "서울특별시  2010    10312545\n",
       "       2020     9720846\n",
       "인천광역시  2010     2758296\n",
       "       2020     2847217\n",
       "dtype: int64"
      ]
     },
     "execution_count": 80,
     "metadata": {},
     "output_type": "execute_result"
    }
   ],
   "source": [
    "korea_mdf.stack()"
   ]
  },
  {
   "cell_type": "code",
   "execution_count": 81,
   "id": "db789624",
   "metadata": {},
   "outputs": [
    {
     "data": {
      "text/plain": [
       "[5111259,\n",
       " 4732275,\n",
       " 1773170,\n",
       " 1668618,\n",
       " 1390356,\n",
       " 1476813,\n",
       " 1255245,\n",
       " 1198815,\n",
       " 753648,\n",
       " 734441,\n",
       " 721780,\n",
       " 720060]"
      ]
     },
     "execution_count": 81,
     "metadata": {},
     "output_type": "execute_result"
    }
   ],
   "source": [
    "male_tuple = [5111259, 4732275,\n",
    "              1773170, 1668618, \n",
    "              1390356, 1476813, \n",
    "              1255245, 1198815, \n",
    "              753648, 734441, \n",
    "              721780, 720060]\n",
    "\n",
    "male_tuple"
   ]
  },
  {
   "cell_type": "code",
   "execution_count": 82,
   "id": "733f3085",
   "metadata": {},
   "outputs": [
    {
     "data": {
      "text/html": [
       "<div>\n",
       "<style scoped>\n",
       "    .dataframe tbody tr th:only-of-type {\n",
       "        vertical-align: middle;\n",
       "    }\n",
       "\n",
       "    .dataframe tbody tr th {\n",
       "        vertical-align: top;\n",
       "    }\n",
       "\n",
       "    .dataframe thead th {\n",
       "        text-align: right;\n",
       "    }\n",
       "</style>\n",
       "<table border=\"1\" class=\"dataframe\">\n",
       "  <thead>\n",
       "    <tr style=\"text-align: right;\">\n",
       "      <th></th>\n",
       "      <th></th>\n",
       "      <th>총인구수</th>\n",
       "      <th>남자인구수</th>\n",
       "    </tr>\n",
       "    <tr>\n",
       "      <th>행정구역</th>\n",
       "      <th>년도</th>\n",
       "      <th></th>\n",
       "      <th></th>\n",
       "    </tr>\n",
       "  </thead>\n",
       "  <tbody>\n",
       "    <tr>\n",
       "      <th rowspan=\"2\" valign=\"top\">서울특별시</th>\n",
       "      <th>2010</th>\n",
       "      <td>10312545</td>\n",
       "      <td>5111259</td>\n",
       "    </tr>\n",
       "    <tr>\n",
       "      <th>2020</th>\n",
       "      <td>9720846</td>\n",
       "      <td>4732275</td>\n",
       "    </tr>\n",
       "    <tr>\n",
       "      <th rowspan=\"2\" valign=\"top\">부산광역시</th>\n",
       "      <th>2010</th>\n",
       "      <td>2567910</td>\n",
       "      <td>1773170</td>\n",
       "    </tr>\n",
       "    <tr>\n",
       "      <th>2020</th>\n",
       "      <td>3404423</td>\n",
       "      <td>1668618</td>\n",
       "    </tr>\n",
       "    <tr>\n",
       "      <th rowspan=\"2\" valign=\"top\">인천광역시</th>\n",
       "      <th>2010</th>\n",
       "      <td>2758296</td>\n",
       "      <td>1390356</td>\n",
       "    </tr>\n",
       "    <tr>\n",
       "      <th>2020</th>\n",
       "      <td>2847217</td>\n",
       "      <td>1476813</td>\n",
       "    </tr>\n",
       "    <tr>\n",
       "      <th rowspan=\"2\" valign=\"top\">대구광역시</th>\n",
       "      <th>2010</th>\n",
       "      <td>2511676</td>\n",
       "      <td>1255245</td>\n",
       "    </tr>\n",
       "    <tr>\n",
       "      <th>2020</th>\n",
       "      <td>2427954</td>\n",
       "      <td>1198815</td>\n",
       "    </tr>\n",
       "    <tr>\n",
       "      <th rowspan=\"2\" valign=\"top\">대전광역시</th>\n",
       "      <th>2010</th>\n",
       "      <td>1503664</td>\n",
       "      <td>753648</td>\n",
       "    </tr>\n",
       "    <tr>\n",
       "      <th>2020</th>\n",
       "      <td>1471040</td>\n",
       "      <td>734441</td>\n",
       "    </tr>\n",
       "    <tr>\n",
       "      <th rowspan=\"2\" valign=\"top\">광주광역시</th>\n",
       "      <th>2010</th>\n",
       "      <td>1454636</td>\n",
       "      <td>721780</td>\n",
       "    </tr>\n",
       "    <tr>\n",
       "      <th>2020</th>\n",
       "      <td>1455048</td>\n",
       "      <td>720060</td>\n",
       "    </tr>\n",
       "  </tbody>\n",
       "</table>\n",
       "</div>"
      ],
      "text/plain": [
       "                총인구수    남자인구수\n",
       "행정구역  년도                     \n",
       "서울특별시 2010  10312545  5111259\n",
       "      2020   9720846  4732275\n",
       "부산광역시 2010   2567910  1773170\n",
       "      2020   3404423  1668618\n",
       "인천광역시 2010   2758296  1390356\n",
       "      2020   2847217  1476813\n",
       "대구광역시 2010   2511676  1255245\n",
       "      2020   2427954  1198815\n",
       "대전광역시 2010   1503664   753648\n",
       "      2020   1471040   734441\n",
       "광주광역시 2010   1454636   721780\n",
       "      2020   1455048   720060"
      ]
     },
     "execution_count": 82,
     "metadata": {},
     "output_type": "execute_result"
    }
   ],
   "source": [
    "population.index.names = ['행정구역','년도']\n",
    "korea_mdf = pd.DataFrame({'총인구수':population,\n",
    "                          '남자인구수':male_tuple})\n",
    "\n",
    "korea_mdf"
   ]
  },
  {
   "cell_type": "code",
   "execution_count": 83,
   "id": "f9ede00a",
   "metadata": {},
   "outputs": [],
   "source": [
    "female_tuples = [5201286, 4988571,\n",
    "                1794740, 1735805,\n",
    "                1367940, 1470404,\n",
    "                1256431, 1229139,\n",
    "                750016, 736599,\n",
    "                732956, 734988]"
   ]
  },
  {
   "cell_type": "code",
   "execution_count": 84,
   "id": "538105e0",
   "metadata": {},
   "outputs": [
    {
     "data": {
      "text/html": [
       "<div>\n",
       "<style scoped>\n",
       "    .dataframe tbody tr th:only-of-type {\n",
       "        vertical-align: middle;\n",
       "    }\n",
       "\n",
       "    .dataframe tbody tr th {\n",
       "        vertical-align: top;\n",
       "    }\n",
       "\n",
       "    .dataframe thead th {\n",
       "        text-align: right;\n",
       "    }\n",
       "</style>\n",
       "<table border=\"1\" class=\"dataframe\">\n",
       "  <thead>\n",
       "    <tr style=\"text-align: right;\">\n",
       "      <th></th>\n",
       "      <th></th>\n",
       "      <th>총인구수</th>\n",
       "      <th>남자인구수</th>\n",
       "      <th>여자인구수</th>\n",
       "    </tr>\n",
       "    <tr>\n",
       "      <th>행정구역</th>\n",
       "      <th>년도</th>\n",
       "      <th></th>\n",
       "      <th></th>\n",
       "      <th></th>\n",
       "    </tr>\n",
       "  </thead>\n",
       "  <tbody>\n",
       "    <tr>\n",
       "      <th rowspan=\"2\" valign=\"top\">서울특별시</th>\n",
       "      <th>2010</th>\n",
       "      <td>10312545</td>\n",
       "      <td>5111259</td>\n",
       "      <td>5201286</td>\n",
       "    </tr>\n",
       "    <tr>\n",
       "      <th>2020</th>\n",
       "      <td>9720846</td>\n",
       "      <td>4732275</td>\n",
       "      <td>4988571</td>\n",
       "    </tr>\n",
       "    <tr>\n",
       "      <th rowspan=\"2\" valign=\"top\">부산광역시</th>\n",
       "      <th>2010</th>\n",
       "      <td>2567910</td>\n",
       "      <td>1773170</td>\n",
       "      <td>1794740</td>\n",
       "    </tr>\n",
       "    <tr>\n",
       "      <th>2020</th>\n",
       "      <td>3404423</td>\n",
       "      <td>1668618</td>\n",
       "      <td>1735805</td>\n",
       "    </tr>\n",
       "    <tr>\n",
       "      <th rowspan=\"2\" valign=\"top\">인천광역시</th>\n",
       "      <th>2010</th>\n",
       "      <td>2758296</td>\n",
       "      <td>1390356</td>\n",
       "      <td>1367940</td>\n",
       "    </tr>\n",
       "    <tr>\n",
       "      <th>2020</th>\n",
       "      <td>2847217</td>\n",
       "      <td>1476813</td>\n",
       "      <td>1470404</td>\n",
       "    </tr>\n",
       "    <tr>\n",
       "      <th rowspan=\"2\" valign=\"top\">대구광역시</th>\n",
       "      <th>2010</th>\n",
       "      <td>2511676</td>\n",
       "      <td>1255245</td>\n",
       "      <td>1256431</td>\n",
       "    </tr>\n",
       "    <tr>\n",
       "      <th>2020</th>\n",
       "      <td>2427954</td>\n",
       "      <td>1198815</td>\n",
       "      <td>1229139</td>\n",
       "    </tr>\n",
       "    <tr>\n",
       "      <th rowspan=\"2\" valign=\"top\">대전광역시</th>\n",
       "      <th>2010</th>\n",
       "      <td>1503664</td>\n",
       "      <td>753648</td>\n",
       "      <td>750016</td>\n",
       "    </tr>\n",
       "    <tr>\n",
       "      <th>2020</th>\n",
       "      <td>1471040</td>\n",
       "      <td>734441</td>\n",
       "      <td>736599</td>\n",
       "    </tr>\n",
       "    <tr>\n",
       "      <th rowspan=\"2\" valign=\"top\">광주광역시</th>\n",
       "      <th>2010</th>\n",
       "      <td>1454636</td>\n",
       "      <td>721780</td>\n",
       "      <td>732956</td>\n",
       "    </tr>\n",
       "    <tr>\n",
       "      <th>2020</th>\n",
       "      <td>1455048</td>\n",
       "      <td>720060</td>\n",
       "      <td>734988</td>\n",
       "    </tr>\n",
       "  </tbody>\n",
       "</table>\n",
       "</div>"
      ],
      "text/plain": [
       "                총인구수    남자인구수    여자인구수\n",
       "행정구역  년도                              \n",
       "서울특별시 2010  10312545  5111259  5201286\n",
       "      2020   9720846  4732275  4988571\n",
       "부산광역시 2010   2567910  1773170  1794740\n",
       "      2020   3404423  1668618  1735805\n",
       "인천광역시 2010   2758296  1390356  1367940\n",
       "      2020   2847217  1476813  1470404\n",
       "대구광역시 2010   2511676  1255245  1256431\n",
       "      2020   2427954  1198815  1229139\n",
       "대전광역시 2010   1503664   753648   750016\n",
       "      2020   1471040   734441   736599\n",
       "광주광역시 2010   1454636   721780   732956\n",
       "      2020   1455048   720060   734988"
      ]
     },
     "execution_count": 84,
     "metadata": {},
     "output_type": "execute_result"
    }
   ],
   "source": [
    "korea_mdf = pd.DataFrame({'총인구수':population,\n",
    "                          '남자인구수':male_tuple,\n",
    "                          '여자인구수':female_tuples})\n",
    "korea_mdf"
   ]
  },
  {
   "cell_type": "code",
   "execution_count": 85,
   "id": "fd64a619",
   "metadata": {},
   "outputs": [
    {
     "data": {
      "text/plain": [
       "행정구역   년도  \n",
       "서울특별시  2010     98.269140\n",
       "       2020     94.862336\n",
       "부산광역시  2010     98.798155\n",
       "       2020     96.129346\n",
       "인천광역시  2010    101.638668\n",
       "       2020    100.435867\n",
       "대구광역시  2010     99.905606\n",
       "       2020     97.532907\n",
       "대전광역시  2010    100.484256\n",
       "       2020     99.707032\n",
       "광주광역시  2010     98.475215\n",
       "       2020     97.968946\n",
       "dtype: float64"
      ]
     },
     "execution_count": 85,
     "metadata": {},
     "output_type": "execute_result"
    }
   ],
   "source": [
    "ratio = korea_mdf['남자인구수'] * 100 / korea_mdf['여자인구수']\n",
    "ratio"
   ]
  },
  {
   "cell_type": "code",
   "execution_count": 86,
   "id": "4c560607",
   "metadata": {},
   "outputs": [
    {
     "data": {
      "text/html": [
       "<div>\n",
       "<style scoped>\n",
       "    .dataframe tbody tr th:only-of-type {\n",
       "        vertical-align: middle;\n",
       "    }\n",
       "\n",
       "    .dataframe tbody tr th {\n",
       "        vertical-align: top;\n",
       "    }\n",
       "\n",
       "    .dataframe thead th {\n",
       "        text-align: right;\n",
       "    }\n",
       "</style>\n",
       "<table border=\"1\" class=\"dataframe\">\n",
       "  <thead>\n",
       "    <tr style=\"text-align: right;\">\n",
       "      <th>년도</th>\n",
       "      <th>2010</th>\n",
       "      <th>2020</th>\n",
       "    </tr>\n",
       "    <tr>\n",
       "      <th>행정구역</th>\n",
       "      <th></th>\n",
       "      <th></th>\n",
       "    </tr>\n",
       "  </thead>\n",
       "  <tbody>\n",
       "    <tr>\n",
       "      <th>광주광역시</th>\n",
       "      <td>98.475215</td>\n",
       "      <td>97.968946</td>\n",
       "    </tr>\n",
       "    <tr>\n",
       "      <th>대구광역시</th>\n",
       "      <td>99.905606</td>\n",
       "      <td>97.532907</td>\n",
       "    </tr>\n",
       "    <tr>\n",
       "      <th>대전광역시</th>\n",
       "      <td>100.484256</td>\n",
       "      <td>99.707032</td>\n",
       "    </tr>\n",
       "    <tr>\n",
       "      <th>부산광역시</th>\n",
       "      <td>98.798155</td>\n",
       "      <td>96.129346</td>\n",
       "    </tr>\n",
       "    <tr>\n",
       "      <th>서울특별시</th>\n",
       "      <td>98.269140</td>\n",
       "      <td>94.862336</td>\n",
       "    </tr>\n",
       "    <tr>\n",
       "      <th>인천광역시</th>\n",
       "      <td>101.638668</td>\n",
       "      <td>100.435867</td>\n",
       "    </tr>\n",
       "  </tbody>\n",
       "</table>\n",
       "</div>"
      ],
      "text/plain": [
       "년도           2010        2020\n",
       "행정구역                         \n",
       "광주광역시   98.475215   97.968946\n",
       "대구광역시   99.905606   97.532907\n",
       "대전광역시  100.484256   99.707032\n",
       "부산광역시   98.798155   96.129346\n",
       "서울특별시   98.269140   94.862336\n",
       "인천광역시  101.638668  100.435867"
      ]
     },
     "execution_count": 86,
     "metadata": {},
     "output_type": "execute_result"
    }
   ],
   "source": [
    "ratio.unstack()"
   ]
  },
  {
   "cell_type": "code",
   "execution_count": 87,
   "id": "c2e84adc",
   "metadata": {},
   "outputs": [
    {
     "data": {
      "text/html": [
       "<div>\n",
       "<style scoped>\n",
       "    .dataframe tbody tr th:only-of-type {\n",
       "        vertical-align: middle;\n",
       "    }\n",
       "\n",
       "    .dataframe tbody tr th {\n",
       "        vertical-align: top;\n",
       "    }\n",
       "\n",
       "    .dataframe thead th {\n",
       "        text-align: right;\n",
       "    }\n",
       "</style>\n",
       "<table border=\"1\" class=\"dataframe\">\n",
       "  <thead>\n",
       "    <tr style=\"text-align: right;\">\n",
       "      <th></th>\n",
       "      <th></th>\n",
       "      <th>총인구수</th>\n",
       "      <th>남자인구수</th>\n",
       "      <th>여자인구수</th>\n",
       "      <th>남녀비율</th>\n",
       "    </tr>\n",
       "    <tr>\n",
       "      <th>행정구역</th>\n",
       "      <th>년도</th>\n",
       "      <th></th>\n",
       "      <th></th>\n",
       "      <th></th>\n",
       "      <th></th>\n",
       "    </tr>\n",
       "  </thead>\n",
       "  <tbody>\n",
       "    <tr>\n",
       "      <th rowspan=\"2\" valign=\"top\">서울특별시</th>\n",
       "      <th>2010</th>\n",
       "      <td>10312545</td>\n",
       "      <td>5111259</td>\n",
       "      <td>5201286</td>\n",
       "      <td>98.269140</td>\n",
       "    </tr>\n",
       "    <tr>\n",
       "      <th>2020</th>\n",
       "      <td>9720846</td>\n",
       "      <td>4732275</td>\n",
       "      <td>4988571</td>\n",
       "      <td>94.862336</td>\n",
       "    </tr>\n",
       "    <tr>\n",
       "      <th rowspan=\"2\" valign=\"top\">부산광역시</th>\n",
       "      <th>2010</th>\n",
       "      <td>2567910</td>\n",
       "      <td>1773170</td>\n",
       "      <td>1794740</td>\n",
       "      <td>98.798155</td>\n",
       "    </tr>\n",
       "    <tr>\n",
       "      <th>2020</th>\n",
       "      <td>3404423</td>\n",
       "      <td>1668618</td>\n",
       "      <td>1735805</td>\n",
       "      <td>96.129346</td>\n",
       "    </tr>\n",
       "    <tr>\n",
       "      <th rowspan=\"2\" valign=\"top\">인천광역시</th>\n",
       "      <th>2010</th>\n",
       "      <td>2758296</td>\n",
       "      <td>1390356</td>\n",
       "      <td>1367940</td>\n",
       "      <td>101.638668</td>\n",
       "    </tr>\n",
       "    <tr>\n",
       "      <th>2020</th>\n",
       "      <td>2847217</td>\n",
       "      <td>1476813</td>\n",
       "      <td>1470404</td>\n",
       "      <td>100.435867</td>\n",
       "    </tr>\n",
       "    <tr>\n",
       "      <th rowspan=\"2\" valign=\"top\">대구광역시</th>\n",
       "      <th>2010</th>\n",
       "      <td>2511676</td>\n",
       "      <td>1255245</td>\n",
       "      <td>1256431</td>\n",
       "      <td>99.905606</td>\n",
       "    </tr>\n",
       "    <tr>\n",
       "      <th>2020</th>\n",
       "      <td>2427954</td>\n",
       "      <td>1198815</td>\n",
       "      <td>1229139</td>\n",
       "      <td>97.532907</td>\n",
       "    </tr>\n",
       "    <tr>\n",
       "      <th rowspan=\"2\" valign=\"top\">대전광역시</th>\n",
       "      <th>2010</th>\n",
       "      <td>1503664</td>\n",
       "      <td>753648</td>\n",
       "      <td>750016</td>\n",
       "      <td>100.484256</td>\n",
       "    </tr>\n",
       "    <tr>\n",
       "      <th>2020</th>\n",
       "      <td>1471040</td>\n",
       "      <td>734441</td>\n",
       "      <td>736599</td>\n",
       "      <td>99.707032</td>\n",
       "    </tr>\n",
       "    <tr>\n",
       "      <th rowspan=\"2\" valign=\"top\">광주광역시</th>\n",
       "      <th>2010</th>\n",
       "      <td>1454636</td>\n",
       "      <td>721780</td>\n",
       "      <td>732956</td>\n",
       "      <td>98.475215</td>\n",
       "    </tr>\n",
       "    <tr>\n",
       "      <th>2020</th>\n",
       "      <td>1455048</td>\n",
       "      <td>720060</td>\n",
       "      <td>734988</td>\n",
       "      <td>97.968946</td>\n",
       "    </tr>\n",
       "  </tbody>\n",
       "</table>\n",
       "</div>"
      ],
      "text/plain": [
       "                총인구수    남자인구수    여자인구수        남녀비율\n",
       "행정구역  년도                                          \n",
       "서울특별시 2010  10312545  5111259  5201286   98.269140\n",
       "      2020   9720846  4732275  4988571   94.862336\n",
       "부산광역시 2010   2567910  1773170  1794740   98.798155\n",
       "      2020   3404423  1668618  1735805   96.129346\n",
       "인천광역시 2010   2758296  1390356  1367940  101.638668\n",
       "      2020   2847217  1476813  1470404  100.435867\n",
       "대구광역시 2010   2511676  1255245  1256431   99.905606\n",
       "      2020   2427954  1198815  1229139   97.532907\n",
       "대전광역시 2010   1503664   753648   750016  100.484256\n",
       "      2020   1471040   734441   736599   99.707032\n",
       "광주광역시 2010   1454636   721780   732956   98.475215\n",
       "      2020   1455048   720060   734988   97.968946"
      ]
     },
     "execution_count": 87,
     "metadata": {},
     "output_type": "execute_result"
    }
   ],
   "source": [
    "korea_mdf = pd.DataFrame({'총인구수':population,\n",
    "                          '남자인구수':male_tuple,\n",
    "                          '여자인구수':female_tuples,\n",
    "                          '남녀비율':ratio})\n",
    "korea_mdf"
   ]
  },
  {
   "cell_type": "markdown",
   "id": "f434ebee",
   "metadata": {},
   "source": [
    "#### 다중 인덱스 생성"
   ]
  },
  {
   "cell_type": "code",
   "execution_count": 88,
   "id": "2c3ea71a",
   "metadata": {},
   "outputs": [
    {
     "data": {
      "text/html": [
       "<div>\n",
       "<style scoped>\n",
       "    .dataframe tbody tr th:only-of-type {\n",
       "        vertical-align: middle;\n",
       "    }\n",
       "\n",
       "    .dataframe tbody tr th {\n",
       "        vertical-align: top;\n",
       "    }\n",
       "\n",
       "    .dataframe thead th {\n",
       "        text-align: right;\n",
       "    }\n",
       "</style>\n",
       "<table border=\"1\" class=\"dataframe\">\n",
       "  <thead>\n",
       "    <tr style=\"text-align: right;\">\n",
       "      <th></th>\n",
       "      <th></th>\n",
       "      <th>c1</th>\n",
       "      <th>c2</th>\n",
       "      <th>c3</th>\n",
       "    </tr>\n",
       "  </thead>\n",
       "  <tbody>\n",
       "    <tr>\n",
       "      <th rowspan=\"2\" valign=\"top\">a</th>\n",
       "      <th>1</th>\n",
       "      <td>0.937940</td>\n",
       "      <td>0.009331</td>\n",
       "      <td>0.847368</td>\n",
       "    </tr>\n",
       "    <tr>\n",
       "      <th>2</th>\n",
       "      <td>0.701394</td>\n",
       "      <td>0.489752</td>\n",
       "      <td>0.934303</td>\n",
       "    </tr>\n",
       "    <tr>\n",
       "      <th rowspan=\"2\" valign=\"top\">b</th>\n",
       "      <th>1</th>\n",
       "      <td>0.007820</td>\n",
       "      <td>0.359596</td>\n",
       "      <td>0.027317</td>\n",
       "    </tr>\n",
       "    <tr>\n",
       "      <th>2</th>\n",
       "      <td>0.256881</td>\n",
       "      <td>0.748929</td>\n",
       "      <td>0.251000</td>\n",
       "    </tr>\n",
       "    <tr>\n",
       "      <th rowspan=\"2\" valign=\"top\">c</th>\n",
       "      <th>1</th>\n",
       "      <td>0.817263</td>\n",
       "      <td>0.691887</td>\n",
       "      <td>0.310754</td>\n",
       "    </tr>\n",
       "    <tr>\n",
       "      <th>2</th>\n",
       "      <td>0.259906</td>\n",
       "      <td>0.744821</td>\n",
       "      <td>0.339703</td>\n",
       "    </tr>\n",
       "  </tbody>\n",
       "</table>\n",
       "</div>"
      ],
      "text/plain": [
       "           c1        c2        c3\n",
       "a 1  0.937940  0.009331  0.847368\n",
       "  2  0.701394  0.489752  0.934303\n",
       "b 1  0.007820  0.359596  0.027317\n",
       "  2  0.256881  0.748929  0.251000\n",
       "c 1  0.817263  0.691887  0.310754\n",
       "  2  0.259906  0.744821  0.339703"
      ]
     },
     "execution_count": 88,
     "metadata": {},
     "output_type": "execute_result"
    }
   ],
   "source": [
    "df = pd.DataFrame(np.random.rand(6, 3),\n",
    "                  index=[['a','a','b','b','c','c'], [1, 2, 1, 2, 1, 2]],\n",
    "                  columns = ['c1', 'c2','c3'])\n",
    "df"
   ]
  },
  {
   "cell_type": "code",
   "execution_count": 89,
   "id": "d25e8a54",
   "metadata": {},
   "outputs": [
    {
     "data": {
      "text/plain": [
       "MultiIndex([('a', 1),\n",
       "            ('a', 2),\n",
       "            ('b', 1),\n",
       "            ('b', 2),\n",
       "            ('c', 1),\n",
       "            ('c', 2)],\n",
       "           )"
      ]
     },
     "execution_count": 89,
     "metadata": {},
     "output_type": "execute_result"
    }
   ],
   "source": [
    "pd.MultiIndex.from_arrays([['a','a','b','b','c','c'], [1, 2, 1, 2, 1, 2]])"
   ]
  },
  {
   "cell_type": "code",
   "execution_count": 90,
   "id": "9409bef0",
   "metadata": {},
   "outputs": [
    {
     "data": {
      "text/plain": [
       "MultiIndex([('a', 1),\n",
       "            ('a', 2),\n",
       "            ('b', 1),\n",
       "            ('b', 2),\n",
       "            ('c', 1),\n",
       "            ('c', 2)],\n",
       "           )"
      ]
     },
     "execution_count": 90,
     "metadata": {},
     "output_type": "execute_result"
    }
   ],
   "source": [
    "pd.MultiIndex.from_tuples([('a',1),('a',2),('b',1),('b',2),('c',1),('c',2)])"
   ]
  },
  {
   "cell_type": "code",
   "execution_count": 91,
   "id": "4a70fdd2",
   "metadata": {},
   "outputs": [
    {
     "data": {
      "text/plain": [
       "MultiIndex([('a', 1),\n",
       "            ('a', 2),\n",
       "            ('b', 1),\n",
       "            ('b', 2),\n",
       "            ('c', 1),\n",
       "            ('c', 2)],\n",
       "           )"
      ]
     },
     "execution_count": 91,
     "metadata": {},
     "output_type": "execute_result"
    }
   ],
   "source": [
    "pd.MultiIndex.from_product([['a','b','c'], [1, 2]])  # 처음 []값과 다음 []값을 곱해라\n",
    "                                                     # ex) ['a'] [1] , ['a'] [2] / ['b'] [1], ['b'] [2] / ..."
   ]
  },
  {
   "cell_type": "code",
   "execution_count": 92,
   "id": "e701dd38",
   "metadata": {},
   "outputs": [
    {
     "data": {
      "text/plain": [
       "MultiIndex([('a', 1),\n",
       "            ('a', 2),\n",
       "            ('b', 1),\n",
       "            ('b', 2),\n",
       "            ('c', 1),\n",
       "            ('c', 2)],\n",
       "           )"
      ]
     },
     "execution_count": 92,
     "metadata": {},
     "output_type": "execute_result"
    }
   ],
   "source": [
    "pd.MultiIndex(levels=[['a','b','c'],[1,2]],                  \n",
    "              codes=[[0, 0, 1, 1, 2, 2],[0, 1, 0, 1, 0, 1]]) # 인덱스의 번호를 나열하여 멀티인덱스를 생성"
   ]
  },
  {
   "cell_type": "code",
   "execution_count": 93,
   "id": "224fbf03",
   "metadata": {},
   "outputs": [
    {
     "data": {
      "text/plain": [
       "행정구역   년도  \n",
       "서울특별시  2010    10312545\n",
       "       2020     9720846\n",
       "부산광역시  2010     2567910\n",
       "       2020     3404423\n",
       "인천광역시  2010     2758296\n",
       "       2020     2847217\n",
       "대구광역시  2010     2511676\n",
       "       2020     2427954\n",
       "대전광역시  2010     1503664\n",
       "       2020     1471040\n",
       "광주광역시  2010     1454636\n",
       "       2020     1455048\n",
       "dtype: int64"
      ]
     },
     "execution_count": 93,
     "metadata": {},
     "output_type": "execute_result"
    }
   ],
   "source": [
    "population.index.names = ['행정구역','년도']\n",
    "population"
   ]
  },
  {
   "cell_type": "code",
   "execution_count": 94,
   "id": "8997e2b4",
   "metadata": {},
   "outputs": [
    {
     "data": {
      "text/html": [
       "<div>\n",
       "<style scoped>\n",
       "    .dataframe tbody tr th:only-of-type {\n",
       "        vertical-align: middle;\n",
       "    }\n",
       "\n",
       "    .dataframe tbody tr th {\n",
       "        vertical-align: top;\n",
       "    }\n",
       "\n",
       "    .dataframe thead tr th {\n",
       "        text-align: left;\n",
       "    }\n",
       "\n",
       "    .dataframe thead tr:last-of-type th {\n",
       "        text-align: right;\n",
       "    }\n",
       "</style>\n",
       "<table border=\"1\" class=\"dataframe\">\n",
       "  <thead>\n",
       "    <tr>\n",
       "      <th></th>\n",
       "      <th>col_name1</th>\n",
       "      <th colspan=\"2\" halign=\"left\">c1</th>\n",
       "      <th colspan=\"2\" halign=\"left\">c2</th>\n",
       "      <th colspan=\"2\" halign=\"left\">c3</th>\n",
       "    </tr>\n",
       "    <tr>\n",
       "      <th></th>\n",
       "      <th>col_name2</th>\n",
       "      <th>1</th>\n",
       "      <th>2</th>\n",
       "      <th>1</th>\n",
       "      <th>2</th>\n",
       "      <th>1</th>\n",
       "      <th>2</th>\n",
       "    </tr>\n",
       "    <tr>\n",
       "      <th>name1</th>\n",
       "      <th>name2</th>\n",
       "      <th></th>\n",
       "      <th></th>\n",
       "      <th></th>\n",
       "      <th></th>\n",
       "      <th></th>\n",
       "      <th></th>\n",
       "    </tr>\n",
       "  </thead>\n",
       "  <tbody>\n",
       "    <tr>\n",
       "      <th rowspan=\"2\" valign=\"top\">a</th>\n",
       "      <th>1</th>\n",
       "      <td>0.78</td>\n",
       "      <td>1.07</td>\n",
       "      <td>0.48</td>\n",
       "      <td>0.31</td>\n",
       "      <td>0.23</td>\n",
       "      <td>-0.63</td>\n",
       "    </tr>\n",
       "    <tr>\n",
       "      <th>2</th>\n",
       "      <td>-0.30</td>\n",
       "      <td>0.37</td>\n",
       "      <td>0.12</td>\n",
       "      <td>1.52</td>\n",
       "      <td>2.27</td>\n",
       "      <td>1.12</td>\n",
       "    </tr>\n",
       "    <tr>\n",
       "      <th rowspan=\"2\" valign=\"top\">b</th>\n",
       "      <th>1</th>\n",
       "      <td>0.77</td>\n",
       "      <td>0.02</td>\n",
       "      <td>0.03</td>\n",
       "      <td>-0.39</td>\n",
       "      <td>-0.94</td>\n",
       "      <td>0.37</td>\n",
       "    </tr>\n",
       "    <tr>\n",
       "      <th>2</th>\n",
       "      <td>0.48</td>\n",
       "      <td>-0.09</td>\n",
       "      <td>0.88</td>\n",
       "      <td>-2.42</td>\n",
       "      <td>-1.31</td>\n",
       "      <td>-0.62</td>\n",
       "    </tr>\n",
       "    <tr>\n",
       "      <th rowspan=\"2\" valign=\"top\">c</th>\n",
       "      <th>1</th>\n",
       "      <td>-2.39</td>\n",
       "      <td>0.66</td>\n",
       "      <td>0.76</td>\n",
       "      <td>0.89</td>\n",
       "      <td>0.33</td>\n",
       "      <td>-1.36</td>\n",
       "    </tr>\n",
       "    <tr>\n",
       "      <th>2</th>\n",
       "      <td>0.80</td>\n",
       "      <td>-0.20</td>\n",
       "      <td>2.64</td>\n",
       "      <td>0.99</td>\n",
       "      <td>0.09</td>\n",
       "      <td>-0.12</td>\n",
       "    </tr>\n",
       "  </tbody>\n",
       "</table>\n",
       "</div>"
      ],
      "text/plain": [
       "col_name1      c1          c2          c3      \n",
       "col_name2       1     2     1     2     1     2\n",
       "name1 name2                                    \n",
       "a     1      0.78  1.07  0.48  0.31  0.23 -0.63\n",
       "      2     -0.30  0.37  0.12  1.52  2.27  1.12\n",
       "b     1      0.77  0.02  0.03 -0.39 -0.94  0.37\n",
       "      2      0.48 -0.09  0.88 -2.42 -1.31 -0.62\n",
       "c     1     -2.39  0.66  0.76  0.89  0.33 -1.36\n",
       "      2      0.80 -0.20  2.64  0.99  0.09 -0.12"
      ]
     },
     "execution_count": 94,
     "metadata": {},
     "output_type": "execute_result"
    }
   ],
   "source": [
    "idx = pd.MultiIndex.from_product([['a', 'b','c'],[1,2]],\n",
    "                                 names = ['name1','name2'])\n",
    "cols = pd.MultiIndex.from_product([['c1','c2','c3'], [1, 2]],\n",
    "                                  names = ['col_name1','col_name2'])\n",
    "data = np.round(np.random.randn(6, 6),2)\n",
    "mdf = pd.DataFrame(data, index=idx, columns=cols)\n",
    "mdf"
   ]
  },
  {
   "cell_type": "code",
   "execution_count": 95,
   "id": "6e01c2a2",
   "metadata": {},
   "outputs": [
    {
     "data": {
      "text/html": [
       "<div>\n",
       "<style scoped>\n",
       "    .dataframe tbody tr th:only-of-type {\n",
       "        vertical-align: middle;\n",
       "    }\n",
       "\n",
       "    .dataframe tbody tr th {\n",
       "        vertical-align: top;\n",
       "    }\n",
       "\n",
       "    .dataframe thead th {\n",
       "        text-align: right;\n",
       "    }\n",
       "</style>\n",
       "<table border=\"1\" class=\"dataframe\">\n",
       "  <thead>\n",
       "    <tr style=\"text-align: right;\">\n",
       "      <th></th>\n",
       "      <th>col_name2</th>\n",
       "      <th>1</th>\n",
       "      <th>2</th>\n",
       "    </tr>\n",
       "    <tr>\n",
       "      <th>name1</th>\n",
       "      <th>name2</th>\n",
       "      <th></th>\n",
       "      <th></th>\n",
       "    </tr>\n",
       "  </thead>\n",
       "  <tbody>\n",
       "    <tr>\n",
       "      <th rowspan=\"2\" valign=\"top\">a</th>\n",
       "      <th>1</th>\n",
       "      <td>0.48</td>\n",
       "      <td>0.31</td>\n",
       "    </tr>\n",
       "    <tr>\n",
       "      <th>2</th>\n",
       "      <td>0.12</td>\n",
       "      <td>1.52</td>\n",
       "    </tr>\n",
       "    <tr>\n",
       "      <th rowspan=\"2\" valign=\"top\">b</th>\n",
       "      <th>1</th>\n",
       "      <td>0.03</td>\n",
       "      <td>-0.39</td>\n",
       "    </tr>\n",
       "    <tr>\n",
       "      <th>2</th>\n",
       "      <td>0.88</td>\n",
       "      <td>-2.42</td>\n",
       "    </tr>\n",
       "    <tr>\n",
       "      <th rowspan=\"2\" valign=\"top\">c</th>\n",
       "      <th>1</th>\n",
       "      <td>0.76</td>\n",
       "      <td>0.89</td>\n",
       "    </tr>\n",
       "    <tr>\n",
       "      <th>2</th>\n",
       "      <td>2.64</td>\n",
       "      <td>0.99</td>\n",
       "    </tr>\n",
       "  </tbody>\n",
       "</table>\n",
       "</div>"
      ],
      "text/plain": [
       "col_name2       1     2\n",
       "name1 name2            \n",
       "a     1      0.48  0.31\n",
       "      2      0.12  1.52\n",
       "b     1      0.03 -0.39\n",
       "      2      0.88 -2.42\n",
       "c     1      0.76  0.89\n",
       "      2      2.64  0.99"
      ]
     },
     "execution_count": 95,
     "metadata": {},
     "output_type": "execute_result"
    }
   ],
   "source": [
    "mdf['c2']"
   ]
  },
  {
   "cell_type": "markdown",
   "id": "d50b5eb8",
   "metadata": {},
   "source": [
    "#### 인덱싱 및 슬라이싱"
   ]
  },
  {
   "cell_type": "code",
   "execution_count": 96,
   "id": "aeb9eb1d",
   "metadata": {},
   "outputs": [
    {
     "data": {
      "text/plain": [
       "2758296"
      ]
     },
     "execution_count": 96,
     "metadata": {},
     "output_type": "execute_result"
    }
   ],
   "source": [
    "population['인천광역시', 2010]"
   ]
  },
  {
   "cell_type": "code",
   "execution_count": 97,
   "id": "772ff6c5",
   "metadata": {},
   "outputs": [
    {
     "data": {
      "text/plain": [
       "행정구역\n",
       "서울특별시    10312545\n",
       "부산광역시     2567910\n",
       "인천광역시     2758296\n",
       "대구광역시     2511676\n",
       "대전광역시     1503664\n",
       "광주광역시     1454636\n",
       "dtype: int64"
      ]
     },
     "execution_count": 97,
     "metadata": {},
     "output_type": "execute_result"
    }
   ],
   "source": [
    "population[:,2010]"
   ]
  },
  {
   "cell_type": "code",
   "execution_count": 98,
   "id": "70663839",
   "metadata": {},
   "outputs": [
    {
     "data": {
      "text/plain": [
       "행정구역   년도  \n",
       "서울특별시  2010    10312545\n",
       "       2020     9720846\n",
       "부산광역시  2020     3404423\n",
       "dtype: int64"
      ]
     },
     "execution_count": 98,
     "metadata": {},
     "output_type": "execute_result"
    }
   ],
   "source": [
    "population[ population > 3000000 ]"
   ]
  },
  {
   "cell_type": "code",
   "execution_count": 99,
   "id": "916d6d0c",
   "metadata": {},
   "outputs": [
    {
     "data": {
      "text/plain": [
       "행정구역   년도  \n",
       "대구광역시  2010    2511676\n",
       "       2020    2427954\n",
       "대전광역시  2010    1503664\n",
       "       2020    1471040\n",
       "dtype: int64"
      ]
     },
     "execution_count": 99,
     "metadata": {},
     "output_type": "execute_result"
    }
   ],
   "source": [
    "population[['대구광역시','대전광역시']]"
   ]
  },
  {
   "cell_type": "code",
   "execution_count": 100,
   "id": "8835ccf2",
   "metadata": {},
   "outputs": [
    {
     "data": {
      "text/html": [
       "<div>\n",
       "<style scoped>\n",
       "    .dataframe tbody tr th:only-of-type {\n",
       "        vertical-align: middle;\n",
       "    }\n",
       "\n",
       "    .dataframe tbody tr th {\n",
       "        vertical-align: top;\n",
       "    }\n",
       "\n",
       "    .dataframe thead tr th {\n",
       "        text-align: left;\n",
       "    }\n",
       "\n",
       "    .dataframe thead tr:last-of-type th {\n",
       "        text-align: right;\n",
       "    }\n",
       "</style>\n",
       "<table border=\"1\" class=\"dataframe\">\n",
       "  <thead>\n",
       "    <tr>\n",
       "      <th></th>\n",
       "      <th>col_name1</th>\n",
       "      <th colspan=\"2\" halign=\"left\">c1</th>\n",
       "      <th colspan=\"2\" halign=\"left\">c2</th>\n",
       "      <th colspan=\"2\" halign=\"left\">c3</th>\n",
       "    </tr>\n",
       "    <tr>\n",
       "      <th></th>\n",
       "      <th>col_name2</th>\n",
       "      <th>1</th>\n",
       "      <th>2</th>\n",
       "      <th>1</th>\n",
       "      <th>2</th>\n",
       "      <th>1</th>\n",
       "      <th>2</th>\n",
       "    </tr>\n",
       "    <tr>\n",
       "      <th>name1</th>\n",
       "      <th>name2</th>\n",
       "      <th></th>\n",
       "      <th></th>\n",
       "      <th></th>\n",
       "      <th></th>\n",
       "      <th></th>\n",
       "      <th></th>\n",
       "    </tr>\n",
       "  </thead>\n",
       "  <tbody>\n",
       "    <tr>\n",
       "      <th rowspan=\"2\" valign=\"top\">a</th>\n",
       "      <th>1</th>\n",
       "      <td>0.78</td>\n",
       "      <td>1.07</td>\n",
       "      <td>0.48</td>\n",
       "      <td>0.31</td>\n",
       "      <td>0.23</td>\n",
       "      <td>-0.63</td>\n",
       "    </tr>\n",
       "    <tr>\n",
       "      <th>2</th>\n",
       "      <td>-0.30</td>\n",
       "      <td>0.37</td>\n",
       "      <td>0.12</td>\n",
       "      <td>1.52</td>\n",
       "      <td>2.27</td>\n",
       "      <td>1.12</td>\n",
       "    </tr>\n",
       "    <tr>\n",
       "      <th rowspan=\"2\" valign=\"top\">b</th>\n",
       "      <th>1</th>\n",
       "      <td>0.77</td>\n",
       "      <td>0.02</td>\n",
       "      <td>0.03</td>\n",
       "      <td>-0.39</td>\n",
       "      <td>-0.94</td>\n",
       "      <td>0.37</td>\n",
       "    </tr>\n",
       "    <tr>\n",
       "      <th>2</th>\n",
       "      <td>0.48</td>\n",
       "      <td>-0.09</td>\n",
       "      <td>0.88</td>\n",
       "      <td>-2.42</td>\n",
       "      <td>-1.31</td>\n",
       "      <td>-0.62</td>\n",
       "    </tr>\n",
       "    <tr>\n",
       "      <th rowspan=\"2\" valign=\"top\">c</th>\n",
       "      <th>1</th>\n",
       "      <td>-2.39</td>\n",
       "      <td>0.66</td>\n",
       "      <td>0.76</td>\n",
       "      <td>0.89</td>\n",
       "      <td>0.33</td>\n",
       "      <td>-1.36</td>\n",
       "    </tr>\n",
       "    <tr>\n",
       "      <th>2</th>\n",
       "      <td>0.80</td>\n",
       "      <td>-0.20</td>\n",
       "      <td>2.64</td>\n",
       "      <td>0.99</td>\n",
       "      <td>0.09</td>\n",
       "      <td>-0.12</td>\n",
       "    </tr>\n",
       "  </tbody>\n",
       "</table>\n",
       "</div>"
      ],
      "text/plain": [
       "col_name1      c1          c2          c3      \n",
       "col_name2       1     2     1     2     1     2\n",
       "name1 name2                                    \n",
       "a     1      0.78  1.07  0.48  0.31  0.23 -0.63\n",
       "      2     -0.30  0.37  0.12  1.52  2.27  1.12\n",
       "b     1      0.77  0.02  0.03 -0.39 -0.94  0.37\n",
       "      2      0.48 -0.09  0.88 -2.42 -1.31 -0.62\n",
       "c     1     -2.39  0.66  0.76  0.89  0.33 -1.36\n",
       "      2      0.80 -0.20  2.64  0.99  0.09 -0.12"
      ]
     },
     "execution_count": 100,
     "metadata": {},
     "output_type": "execute_result"
    }
   ],
   "source": [
    "mdf"
   ]
  },
  {
   "cell_type": "code",
   "execution_count": 101,
   "id": "c7e142df",
   "metadata": {},
   "outputs": [
    {
     "data": {
      "text/plain": [
       "name1  name2\n",
       "a      1        0.48\n",
       "       2        0.12\n",
       "b      1        0.03\n",
       "       2        0.88\n",
       "c      1        0.76\n",
       "       2        2.64\n",
       "Name: (c2, 1), dtype: float64"
      ]
     },
     "execution_count": 101,
     "metadata": {},
     "output_type": "execute_result"
    }
   ],
   "source": [
    "mdf['c2',1]"
   ]
  },
  {
   "cell_type": "code",
   "execution_count": 102,
   "id": "f2fa81a1",
   "metadata": {},
   "outputs": [
    {
     "data": {
      "text/html": [
       "<div>\n",
       "<style scoped>\n",
       "    .dataframe tbody tr th:only-of-type {\n",
       "        vertical-align: middle;\n",
       "    }\n",
       "\n",
       "    .dataframe tbody tr th {\n",
       "        vertical-align: top;\n",
       "    }\n",
       "\n",
       "    .dataframe thead tr th {\n",
       "        text-align: left;\n",
       "    }\n",
       "\n",
       "    .dataframe thead tr:last-of-type th {\n",
       "        text-align: right;\n",
       "    }\n",
       "</style>\n",
       "<table border=\"1\" class=\"dataframe\">\n",
       "  <thead>\n",
       "    <tr>\n",
       "      <th></th>\n",
       "      <th>col_name1</th>\n",
       "      <th colspan=\"2\" halign=\"left\">c1</th>\n",
       "      <th colspan=\"2\" halign=\"left\">c2</th>\n",
       "    </tr>\n",
       "    <tr>\n",
       "      <th></th>\n",
       "      <th>col_name2</th>\n",
       "      <th>1</th>\n",
       "      <th>2</th>\n",
       "      <th>1</th>\n",
       "      <th>2</th>\n",
       "    </tr>\n",
       "    <tr>\n",
       "      <th>name1</th>\n",
       "      <th>name2</th>\n",
       "      <th></th>\n",
       "      <th></th>\n",
       "      <th></th>\n",
       "      <th></th>\n",
       "    </tr>\n",
       "  </thead>\n",
       "  <tbody>\n",
       "    <tr>\n",
       "      <th rowspan=\"2\" valign=\"top\">a</th>\n",
       "      <th>1</th>\n",
       "      <td>0.78</td>\n",
       "      <td>1.07</td>\n",
       "      <td>0.48</td>\n",
       "      <td>0.31</td>\n",
       "    </tr>\n",
       "    <tr>\n",
       "      <th>2</th>\n",
       "      <td>-0.30</td>\n",
       "      <td>0.37</td>\n",
       "      <td>0.12</td>\n",
       "      <td>1.52</td>\n",
       "    </tr>\n",
       "    <tr>\n",
       "      <th>b</th>\n",
       "      <th>1</th>\n",
       "      <td>0.77</td>\n",
       "      <td>0.02</td>\n",
       "      <td>0.03</td>\n",
       "      <td>-0.39</td>\n",
       "    </tr>\n",
       "  </tbody>\n",
       "</table>\n",
       "</div>"
      ],
      "text/plain": [
       "col_name1      c1          c2      \n",
       "col_name2       1     2     1     2\n",
       "name1 name2                        \n",
       "a     1      0.78  1.07  0.48  0.31\n",
       "      2     -0.30  0.37  0.12  1.52\n",
       "b     1      0.77  0.02  0.03 -0.39"
      ]
     },
     "execution_count": 102,
     "metadata": {},
     "output_type": "execute_result"
    }
   ],
   "source": [
    "mdf.iloc[:3, :4]"
   ]
  },
  {
   "cell_type": "code",
   "execution_count": 103,
   "id": "1f82a2de",
   "metadata": {},
   "outputs": [
    {
     "data": {
      "text/plain": [
       "name1  name2\n",
       "a      1        0.48\n",
       "       2        0.12\n",
       "b      1        0.03\n",
       "       2        0.88\n",
       "c      1        0.76\n",
       "       2        2.64\n",
       "Name: (c2, 1), dtype: float64"
      ]
     },
     "execution_count": 103,
     "metadata": {},
     "output_type": "execute_result"
    }
   ],
   "source": [
    "mdf.loc[:,('c2',1)]"
   ]
  },
  {
   "cell_type": "code",
   "execution_count": 104,
   "id": "8b22d15f",
   "metadata": {},
   "outputs": [
    {
     "data": {
      "text/html": [
       "<div>\n",
       "<style scoped>\n",
       "    .dataframe tbody tr th:only-of-type {\n",
       "        vertical-align: middle;\n",
       "    }\n",
       "\n",
       "    .dataframe tbody tr th {\n",
       "        vertical-align: top;\n",
       "    }\n",
       "\n",
       "    .dataframe thead tr th {\n",
       "        text-align: left;\n",
       "    }\n",
       "\n",
       "    .dataframe thead tr:last-of-type th {\n",
       "        text-align: right;\n",
       "    }\n",
       "</style>\n",
       "<table border=\"1\" class=\"dataframe\">\n",
       "  <thead>\n",
       "    <tr>\n",
       "      <th></th>\n",
       "      <th>col_name1</th>\n",
       "      <th>c1</th>\n",
       "      <th>c2</th>\n",
       "      <th>c3</th>\n",
       "    </tr>\n",
       "    <tr>\n",
       "      <th></th>\n",
       "      <th>col_name2</th>\n",
       "      <th>2</th>\n",
       "      <th>2</th>\n",
       "      <th>2</th>\n",
       "    </tr>\n",
       "    <tr>\n",
       "      <th>name1</th>\n",
       "      <th>name2</th>\n",
       "      <th></th>\n",
       "      <th></th>\n",
       "      <th></th>\n",
       "    </tr>\n",
       "  </thead>\n",
       "  <tbody>\n",
       "    <tr>\n",
       "      <th>a</th>\n",
       "      <th>2</th>\n",
       "      <td>0.37</td>\n",
       "      <td>1.52</td>\n",
       "      <td>1.12</td>\n",
       "    </tr>\n",
       "    <tr>\n",
       "      <th>b</th>\n",
       "      <th>2</th>\n",
       "      <td>-0.09</td>\n",
       "      <td>-2.42</td>\n",
       "      <td>-0.62</td>\n",
       "    </tr>\n",
       "    <tr>\n",
       "      <th>c</th>\n",
       "      <th>2</th>\n",
       "      <td>-0.20</td>\n",
       "      <td>0.99</td>\n",
       "      <td>-0.12</td>\n",
       "    </tr>\n",
       "  </tbody>\n",
       "</table>\n",
       "</div>"
      ],
      "text/plain": [
       "col_name1      c1    c2    c3\n",
       "col_name2       2     2     2\n",
       "name1 name2                  \n",
       "a     2      0.37  1.52  1.12\n",
       "b     2     -0.09 -2.42 -0.62\n",
       "c     2     -0.20  0.99 -0.12"
      ]
     },
     "execution_count": 104,
     "metadata": {},
     "output_type": "execute_result"
    }
   ],
   "source": [
    "idx_slice = pd.IndexSlice\n",
    "mdf.loc[idx_slice[:,2], idx_slice[:,2]]"
   ]
  },
  {
   "cell_type": "markdown",
   "id": "3b6838e1",
   "metadata": {},
   "source": [
    "#### 다중 인덱스 재정렬"
   ]
  },
  {
   "cell_type": "code",
   "execution_count": 105,
   "id": "fb61045a",
   "metadata": {},
   "outputs": [
    {
     "data": {
      "text/plain": [
       "MultiIndex([('a', 1),\n",
       "            ('a', 2),\n",
       "            ('b', 1),\n",
       "            ('b', 2),\n",
       "            ('c', 1),\n",
       "            ('c', 2)],\n",
       "           names=['name1', 'name2'])"
      ]
     },
     "execution_count": 105,
     "metadata": {},
     "output_type": "execute_result"
    }
   ],
   "source": [
    "idx"
   ]
  },
  {
   "cell_type": "code",
   "execution_count": 106,
   "id": "938c9559",
   "metadata": {},
   "outputs": [
    {
     "data": {
      "text/html": [
       "<div>\n",
       "<style scoped>\n",
       "    .dataframe tbody tr th:only-of-type {\n",
       "        vertical-align: middle;\n",
       "    }\n",
       "\n",
       "    .dataframe tbody tr th {\n",
       "        vertical-align: top;\n",
       "    }\n",
       "\n",
       "    .dataframe thead th {\n",
       "        text-align: right;\n",
       "    }\n",
       "</style>\n",
       "<table border=\"1\" class=\"dataframe\">\n",
       "  <thead>\n",
       "    <tr style=\"text-align: right;\">\n",
       "      <th></th>\n",
       "      <th></th>\n",
       "      <th>총인구수</th>\n",
       "      <th>남자인구수</th>\n",
       "      <th>여자인구수</th>\n",
       "      <th>남녀비율</th>\n",
       "    </tr>\n",
       "    <tr>\n",
       "      <th>행정구역</th>\n",
       "      <th>년도</th>\n",
       "      <th></th>\n",
       "      <th></th>\n",
       "      <th></th>\n",
       "      <th></th>\n",
       "    </tr>\n",
       "  </thead>\n",
       "  <tbody>\n",
       "    <tr>\n",
       "      <th rowspan=\"2\" valign=\"top\">서울특별시</th>\n",
       "      <th>2010</th>\n",
       "      <td>10312545</td>\n",
       "      <td>5111259</td>\n",
       "      <td>5201286</td>\n",
       "      <td>98.269140</td>\n",
       "    </tr>\n",
       "    <tr>\n",
       "      <th>2020</th>\n",
       "      <td>9720846</td>\n",
       "      <td>4732275</td>\n",
       "      <td>4988571</td>\n",
       "      <td>94.862336</td>\n",
       "    </tr>\n",
       "    <tr>\n",
       "      <th rowspan=\"2\" valign=\"top\">부산광역시</th>\n",
       "      <th>2010</th>\n",
       "      <td>2567910</td>\n",
       "      <td>1773170</td>\n",
       "      <td>1794740</td>\n",
       "      <td>98.798155</td>\n",
       "    </tr>\n",
       "    <tr>\n",
       "      <th>2020</th>\n",
       "      <td>3404423</td>\n",
       "      <td>1668618</td>\n",
       "      <td>1735805</td>\n",
       "      <td>96.129346</td>\n",
       "    </tr>\n",
       "    <tr>\n",
       "      <th rowspan=\"2\" valign=\"top\">인천광역시</th>\n",
       "      <th>2010</th>\n",
       "      <td>2758296</td>\n",
       "      <td>1390356</td>\n",
       "      <td>1367940</td>\n",
       "      <td>101.638668</td>\n",
       "    </tr>\n",
       "    <tr>\n",
       "      <th>2020</th>\n",
       "      <td>2847217</td>\n",
       "      <td>1476813</td>\n",
       "      <td>1470404</td>\n",
       "      <td>100.435867</td>\n",
       "    </tr>\n",
       "    <tr>\n",
       "      <th rowspan=\"2\" valign=\"top\">대구광역시</th>\n",
       "      <th>2010</th>\n",
       "      <td>2511676</td>\n",
       "      <td>1255245</td>\n",
       "      <td>1256431</td>\n",
       "      <td>99.905606</td>\n",
       "    </tr>\n",
       "    <tr>\n",
       "      <th>2020</th>\n",
       "      <td>2427954</td>\n",
       "      <td>1198815</td>\n",
       "      <td>1229139</td>\n",
       "      <td>97.532907</td>\n",
       "    </tr>\n",
       "    <tr>\n",
       "      <th rowspan=\"2\" valign=\"top\">대전광역시</th>\n",
       "      <th>2010</th>\n",
       "      <td>1503664</td>\n",
       "      <td>753648</td>\n",
       "      <td>750016</td>\n",
       "      <td>100.484256</td>\n",
       "    </tr>\n",
       "    <tr>\n",
       "      <th>2020</th>\n",
       "      <td>1471040</td>\n",
       "      <td>734441</td>\n",
       "      <td>736599</td>\n",
       "      <td>99.707032</td>\n",
       "    </tr>\n",
       "    <tr>\n",
       "      <th rowspan=\"2\" valign=\"top\">광주광역시</th>\n",
       "      <th>2010</th>\n",
       "      <td>1454636</td>\n",
       "      <td>721780</td>\n",
       "      <td>732956</td>\n",
       "      <td>98.475215</td>\n",
       "    </tr>\n",
       "    <tr>\n",
       "      <th>2020</th>\n",
       "      <td>1455048</td>\n",
       "      <td>720060</td>\n",
       "      <td>734988</td>\n",
       "      <td>97.968946</td>\n",
       "    </tr>\n",
       "  </tbody>\n",
       "</table>\n",
       "</div>"
      ],
      "text/plain": [
       "                총인구수    남자인구수    여자인구수        남녀비율\n",
       "행정구역  년도                                          \n",
       "서울특별시 2010  10312545  5111259  5201286   98.269140\n",
       "      2020   9720846  4732275  4988571   94.862336\n",
       "부산광역시 2010   2567910  1773170  1794740   98.798155\n",
       "      2020   3404423  1668618  1735805   96.129346\n",
       "인천광역시 2010   2758296  1390356  1367940  101.638668\n",
       "      2020   2847217  1476813  1470404  100.435867\n",
       "대구광역시 2010   2511676  1255245  1256431   99.905606\n",
       "      2020   2427954  1198815  1229139   97.532907\n",
       "대전광역시 2010   1503664   753648   750016  100.484256\n",
       "      2020   1471040   734441   736599   99.707032\n",
       "광주광역시 2010   1454636   721780   732956   98.475215\n",
       "      2020   1455048   720060   734988   97.968946"
      ]
     },
     "execution_count": 106,
     "metadata": {},
     "output_type": "execute_result"
    }
   ],
   "source": [
    "korea_mdf"
   ]
  },
  {
   "cell_type": "code",
   "execution_count": 107,
   "id": "8d9c8f37",
   "metadata": {},
   "outputs": [
    {
     "data": {
      "text/html": [
       "<div>\n",
       "<style scoped>\n",
       "    .dataframe tbody tr th:only-of-type {\n",
       "        vertical-align: middle;\n",
       "    }\n",
       "\n",
       "    .dataframe tbody tr th {\n",
       "        vertical-align: top;\n",
       "    }\n",
       "\n",
       "    .dataframe thead th {\n",
       "        text-align: right;\n",
       "    }\n",
       "</style>\n",
       "<table border=\"1\" class=\"dataframe\">\n",
       "  <thead>\n",
       "    <tr style=\"text-align: right;\">\n",
       "      <th></th>\n",
       "      <th></th>\n",
       "      <th>총인구수</th>\n",
       "      <th>남자인구수</th>\n",
       "      <th>여자인구수</th>\n",
       "      <th>남녀비율</th>\n",
       "    </tr>\n",
       "    <tr>\n",
       "      <th>행정구역</th>\n",
       "      <th>년도</th>\n",
       "      <th></th>\n",
       "      <th></th>\n",
       "      <th></th>\n",
       "      <th></th>\n",
       "    </tr>\n",
       "  </thead>\n",
       "  <tbody>\n",
       "    <tr>\n",
       "      <th rowspan=\"2\" valign=\"top\">광주광역시</th>\n",
       "      <th>2010</th>\n",
       "      <td>1454636</td>\n",
       "      <td>721780</td>\n",
       "      <td>732956</td>\n",
       "      <td>98.475215</td>\n",
       "    </tr>\n",
       "    <tr>\n",
       "      <th>2020</th>\n",
       "      <td>1455048</td>\n",
       "      <td>720060</td>\n",
       "      <td>734988</td>\n",
       "      <td>97.968946</td>\n",
       "    </tr>\n",
       "    <tr>\n",
       "      <th rowspan=\"2\" valign=\"top\">대구광역시</th>\n",
       "      <th>2010</th>\n",
       "      <td>2511676</td>\n",
       "      <td>1255245</td>\n",
       "      <td>1256431</td>\n",
       "      <td>99.905606</td>\n",
       "    </tr>\n",
       "    <tr>\n",
       "      <th>2020</th>\n",
       "      <td>2427954</td>\n",
       "      <td>1198815</td>\n",
       "      <td>1229139</td>\n",
       "      <td>97.532907</td>\n",
       "    </tr>\n",
       "    <tr>\n",
       "      <th rowspan=\"2\" valign=\"top\">대전광역시</th>\n",
       "      <th>2010</th>\n",
       "      <td>1503664</td>\n",
       "      <td>753648</td>\n",
       "      <td>750016</td>\n",
       "      <td>100.484256</td>\n",
       "    </tr>\n",
       "    <tr>\n",
       "      <th>2020</th>\n",
       "      <td>1471040</td>\n",
       "      <td>734441</td>\n",
       "      <td>736599</td>\n",
       "      <td>99.707032</td>\n",
       "    </tr>\n",
       "    <tr>\n",
       "      <th rowspan=\"2\" valign=\"top\">부산광역시</th>\n",
       "      <th>2010</th>\n",
       "      <td>2567910</td>\n",
       "      <td>1773170</td>\n",
       "      <td>1794740</td>\n",
       "      <td>98.798155</td>\n",
       "    </tr>\n",
       "    <tr>\n",
       "      <th>2020</th>\n",
       "      <td>3404423</td>\n",
       "      <td>1668618</td>\n",
       "      <td>1735805</td>\n",
       "      <td>96.129346</td>\n",
       "    </tr>\n",
       "    <tr>\n",
       "      <th rowspan=\"2\" valign=\"top\">서울특별시</th>\n",
       "      <th>2010</th>\n",
       "      <td>10312545</td>\n",
       "      <td>5111259</td>\n",
       "      <td>5201286</td>\n",
       "      <td>98.269140</td>\n",
       "    </tr>\n",
       "    <tr>\n",
       "      <th>2020</th>\n",
       "      <td>9720846</td>\n",
       "      <td>4732275</td>\n",
       "      <td>4988571</td>\n",
       "      <td>94.862336</td>\n",
       "    </tr>\n",
       "    <tr>\n",
       "      <th rowspan=\"2\" valign=\"top\">인천광역시</th>\n",
       "      <th>2010</th>\n",
       "      <td>2758296</td>\n",
       "      <td>1390356</td>\n",
       "      <td>1367940</td>\n",
       "      <td>101.638668</td>\n",
       "    </tr>\n",
       "    <tr>\n",
       "      <th>2020</th>\n",
       "      <td>2847217</td>\n",
       "      <td>1476813</td>\n",
       "      <td>1470404</td>\n",
       "      <td>100.435867</td>\n",
       "    </tr>\n",
       "  </tbody>\n",
       "</table>\n",
       "</div>"
      ],
      "text/plain": [
       "                총인구수    남자인구수    여자인구수        남녀비율\n",
       "행정구역  년도                                          \n",
       "광주광역시 2010   1454636   721780   732956   98.475215\n",
       "      2020   1455048   720060   734988   97.968946\n",
       "대구광역시 2010   2511676  1255245  1256431   99.905606\n",
       "      2020   2427954  1198815  1229139   97.532907\n",
       "대전광역시 2010   1503664   753648   750016  100.484256\n",
       "      2020   1471040   734441   736599   99.707032\n",
       "부산광역시 2010   2567910  1773170  1794740   98.798155\n",
       "      2020   3404423  1668618  1735805   96.129346\n",
       "서울특별시 2010  10312545  5111259  5201286   98.269140\n",
       "      2020   9720846  4732275  4988571   94.862336\n",
       "인천광역시 2010   2758296  1390356  1367940  101.638668\n",
       "      2020   2847217  1476813  1470404  100.435867"
      ]
     },
     "execution_count": 107,
     "metadata": {},
     "output_type": "execute_result"
    }
   ],
   "source": [
    "# korea_mdf['서울특별시':'인천광역시'] 멀티인덱스는 초기 인덱스가 정렬이 되어 있지 않기 때문에 단순히 슬라이싱을 하면 에러가 나타난다\n",
    "\n",
    "korea_mdf = korea_mdf.sort_index()\n",
    "korea_mdf"
   ]
  },
  {
   "cell_type": "code",
   "execution_count": 108,
   "id": "5599d87e",
   "metadata": {},
   "outputs": [
    {
     "data": {
      "text/html": [
       "<div>\n",
       "<style scoped>\n",
       "    .dataframe tbody tr th:only-of-type {\n",
       "        vertical-align: middle;\n",
       "    }\n",
       "\n",
       "    .dataframe tbody tr th {\n",
       "        vertical-align: top;\n",
       "    }\n",
       "\n",
       "    .dataframe thead th {\n",
       "        text-align: right;\n",
       "    }\n",
       "</style>\n",
       "<table border=\"1\" class=\"dataframe\">\n",
       "  <thead>\n",
       "    <tr style=\"text-align: right;\">\n",
       "      <th></th>\n",
       "      <th></th>\n",
       "      <th>총인구수</th>\n",
       "      <th>남자인구수</th>\n",
       "      <th>여자인구수</th>\n",
       "      <th>남녀비율</th>\n",
       "    </tr>\n",
       "    <tr>\n",
       "      <th>행정구역</th>\n",
       "      <th>년도</th>\n",
       "      <th></th>\n",
       "      <th></th>\n",
       "      <th></th>\n",
       "      <th></th>\n",
       "    </tr>\n",
       "  </thead>\n",
       "  <tbody>\n",
       "    <tr>\n",
       "      <th rowspan=\"2\" valign=\"top\">서울특별시</th>\n",
       "      <th>2010</th>\n",
       "      <td>10312545</td>\n",
       "      <td>5111259</td>\n",
       "      <td>5201286</td>\n",
       "      <td>98.269140</td>\n",
       "    </tr>\n",
       "    <tr>\n",
       "      <th>2020</th>\n",
       "      <td>9720846</td>\n",
       "      <td>4732275</td>\n",
       "      <td>4988571</td>\n",
       "      <td>94.862336</td>\n",
       "    </tr>\n",
       "    <tr>\n",
       "      <th rowspan=\"2\" valign=\"top\">인천광역시</th>\n",
       "      <th>2010</th>\n",
       "      <td>2758296</td>\n",
       "      <td>1390356</td>\n",
       "      <td>1367940</td>\n",
       "      <td>101.638668</td>\n",
       "    </tr>\n",
       "    <tr>\n",
       "      <th>2020</th>\n",
       "      <td>2847217</td>\n",
       "      <td>1476813</td>\n",
       "      <td>1470404</td>\n",
       "      <td>100.435867</td>\n",
       "    </tr>\n",
       "  </tbody>\n",
       "</table>\n",
       "</div>"
      ],
      "text/plain": [
       "                총인구수    남자인구수    여자인구수        남녀비율\n",
       "행정구역  년도                                          \n",
       "서울특별시 2010  10312545  5111259  5201286   98.269140\n",
       "      2020   9720846  4732275  4988571   94.862336\n",
       "인천광역시 2010   2758296  1390356  1367940  101.638668\n",
       "      2020   2847217  1476813  1470404  100.435867"
      ]
     },
     "execution_count": 108,
     "metadata": {},
     "output_type": "execute_result"
    }
   ],
   "source": [
    "korea_mdf['서울특별시':'인천광역시']"
   ]
  },
  {
   "cell_type": "code",
   "execution_count": 109,
   "id": "e190bb54",
   "metadata": {},
   "outputs": [
    {
     "data": {
      "text/html": [
       "<div>\n",
       "<style scoped>\n",
       "    .dataframe tbody tr th:only-of-type {\n",
       "        vertical-align: middle;\n",
       "    }\n",
       "\n",
       "    .dataframe tbody tr th {\n",
       "        vertical-align: top;\n",
       "    }\n",
       "\n",
       "    .dataframe thead tr th {\n",
       "        text-align: left;\n",
       "    }\n",
       "\n",
       "    .dataframe thead tr:last-of-type th {\n",
       "        text-align: right;\n",
       "    }\n",
       "</style>\n",
       "<table border=\"1\" class=\"dataframe\">\n",
       "  <thead>\n",
       "    <tr>\n",
       "      <th></th>\n",
       "      <th colspan=\"6\" halign=\"left\">총인구수</th>\n",
       "      <th colspan=\"4\" halign=\"left\">남자인구수</th>\n",
       "      <th>...</th>\n",
       "      <th colspan=\"4\" halign=\"left\">여자인구수</th>\n",
       "      <th colspan=\"6\" halign=\"left\">남녀비율</th>\n",
       "    </tr>\n",
       "    <tr>\n",
       "      <th>행정구역</th>\n",
       "      <th>광주광역시</th>\n",
       "      <th>대구광역시</th>\n",
       "      <th>대전광역시</th>\n",
       "      <th>부산광역시</th>\n",
       "      <th>서울특별시</th>\n",
       "      <th>인천광역시</th>\n",
       "      <th>광주광역시</th>\n",
       "      <th>대구광역시</th>\n",
       "      <th>대전광역시</th>\n",
       "      <th>부산광역시</th>\n",
       "      <th>...</th>\n",
       "      <th>대전광역시</th>\n",
       "      <th>부산광역시</th>\n",
       "      <th>서울특별시</th>\n",
       "      <th>인천광역시</th>\n",
       "      <th>광주광역시</th>\n",
       "      <th>대구광역시</th>\n",
       "      <th>대전광역시</th>\n",
       "      <th>부산광역시</th>\n",
       "      <th>서울특별시</th>\n",
       "      <th>인천광역시</th>\n",
       "    </tr>\n",
       "    <tr>\n",
       "      <th>년도</th>\n",
       "      <th></th>\n",
       "      <th></th>\n",
       "      <th></th>\n",
       "      <th></th>\n",
       "      <th></th>\n",
       "      <th></th>\n",
       "      <th></th>\n",
       "      <th></th>\n",
       "      <th></th>\n",
       "      <th></th>\n",
       "      <th></th>\n",
       "      <th></th>\n",
       "      <th></th>\n",
       "      <th></th>\n",
       "      <th></th>\n",
       "      <th></th>\n",
       "      <th></th>\n",
       "      <th></th>\n",
       "      <th></th>\n",
       "      <th></th>\n",
       "      <th></th>\n",
       "    </tr>\n",
       "  </thead>\n",
       "  <tbody>\n",
       "    <tr>\n",
       "      <th>2010</th>\n",
       "      <td>1454636</td>\n",
       "      <td>2511676</td>\n",
       "      <td>1503664</td>\n",
       "      <td>2567910</td>\n",
       "      <td>10312545</td>\n",
       "      <td>2758296</td>\n",
       "      <td>721780</td>\n",
       "      <td>1255245</td>\n",
       "      <td>753648</td>\n",
       "      <td>1773170</td>\n",
       "      <td>...</td>\n",
       "      <td>750016</td>\n",
       "      <td>1794740</td>\n",
       "      <td>5201286</td>\n",
       "      <td>1367940</td>\n",
       "      <td>98.475215</td>\n",
       "      <td>99.905606</td>\n",
       "      <td>100.484256</td>\n",
       "      <td>98.798155</td>\n",
       "      <td>98.269140</td>\n",
       "      <td>101.638668</td>\n",
       "    </tr>\n",
       "    <tr>\n",
       "      <th>2020</th>\n",
       "      <td>1455048</td>\n",
       "      <td>2427954</td>\n",
       "      <td>1471040</td>\n",
       "      <td>3404423</td>\n",
       "      <td>9720846</td>\n",
       "      <td>2847217</td>\n",
       "      <td>720060</td>\n",
       "      <td>1198815</td>\n",
       "      <td>734441</td>\n",
       "      <td>1668618</td>\n",
       "      <td>...</td>\n",
       "      <td>736599</td>\n",
       "      <td>1735805</td>\n",
       "      <td>4988571</td>\n",
       "      <td>1470404</td>\n",
       "      <td>97.968946</td>\n",
       "      <td>97.532907</td>\n",
       "      <td>99.707032</td>\n",
       "      <td>96.129346</td>\n",
       "      <td>94.862336</td>\n",
       "      <td>100.435867</td>\n",
       "    </tr>\n",
       "  </tbody>\n",
       "</table>\n",
       "<p>2 rows × 24 columns</p>\n",
       "</div>"
      ],
      "text/plain": [
       "         총인구수                                                 남자인구수           \\\n",
       "행정구역    광주광역시    대구광역시    대전광역시    부산광역시     서울특별시    인천광역시   광주광역시    대구광역시   \n",
       "년도                                                                             \n",
       "2010  1454636  2511676  1503664  2567910  10312545  2758296  721780  1255245   \n",
       "2020  1455048  2427954  1471040  3404423   9720846  2847217  720060  1198815   \n",
       "\n",
       "                       ...   여자인구수                                  남녀비율  \\\n",
       "행정구역   대전광역시    부산광역시  ...   대전광역시    부산광역시    서울특별시    인천광역시      광주광역시   \n",
       "년도                     ...                                                 \n",
       "2010  753648  1773170  ...  750016  1794740  5201286  1367940  98.475215   \n",
       "2020  734441  1668618  ...  736599  1735805  4988571  1470404  97.968946   \n",
       "\n",
       "                                                               \n",
       "행정구역      대구광역시       대전광역시      부산광역시      서울특별시       인천광역시  \n",
       "년도                                                             \n",
       "2010  99.905606  100.484256  98.798155  98.269140  101.638668  \n",
       "2020  97.532907   99.707032  96.129346  94.862336  100.435867  \n",
       "\n",
       "[2 rows x 24 columns]"
      ]
     },
     "execution_count": 109,
     "metadata": {},
     "output_type": "execute_result"
    }
   ],
   "source": [
    "korea_mdf.unstack(level=0)\n",
    "# level 조정을 통해 연도와 시군구를 switch할 수 있다."
   ]
  },
  {
   "cell_type": "code",
   "execution_count": 110,
   "id": "a7963eef",
   "metadata": {},
   "outputs": [
    {
     "data": {
      "text/html": [
       "<div>\n",
       "<style scoped>\n",
       "    .dataframe tbody tr th:only-of-type {\n",
       "        vertical-align: middle;\n",
       "    }\n",
       "\n",
       "    .dataframe tbody tr th {\n",
       "        vertical-align: top;\n",
       "    }\n",
       "\n",
       "    .dataframe thead tr th {\n",
       "        text-align: left;\n",
       "    }\n",
       "\n",
       "    .dataframe thead tr:last-of-type th {\n",
       "        text-align: right;\n",
       "    }\n",
       "</style>\n",
       "<table border=\"1\" class=\"dataframe\">\n",
       "  <thead>\n",
       "    <tr>\n",
       "      <th></th>\n",
       "      <th colspan=\"2\" halign=\"left\">총인구수</th>\n",
       "      <th colspan=\"2\" halign=\"left\">남자인구수</th>\n",
       "      <th colspan=\"2\" halign=\"left\">여자인구수</th>\n",
       "      <th colspan=\"2\" halign=\"left\">남녀비율</th>\n",
       "    </tr>\n",
       "    <tr>\n",
       "      <th>년도</th>\n",
       "      <th>2010</th>\n",
       "      <th>2020</th>\n",
       "      <th>2010</th>\n",
       "      <th>2020</th>\n",
       "      <th>2010</th>\n",
       "      <th>2020</th>\n",
       "      <th>2010</th>\n",
       "      <th>2020</th>\n",
       "    </tr>\n",
       "    <tr>\n",
       "      <th>행정구역</th>\n",
       "      <th></th>\n",
       "      <th></th>\n",
       "      <th></th>\n",
       "      <th></th>\n",
       "      <th></th>\n",
       "      <th></th>\n",
       "      <th></th>\n",
       "      <th></th>\n",
       "    </tr>\n",
       "  </thead>\n",
       "  <tbody>\n",
       "    <tr>\n",
       "      <th>광주광역시</th>\n",
       "      <td>1454636</td>\n",
       "      <td>1455048</td>\n",
       "      <td>721780</td>\n",
       "      <td>720060</td>\n",
       "      <td>732956</td>\n",
       "      <td>734988</td>\n",
       "      <td>98.475215</td>\n",
       "      <td>97.968946</td>\n",
       "    </tr>\n",
       "    <tr>\n",
       "      <th>대구광역시</th>\n",
       "      <td>2511676</td>\n",
       "      <td>2427954</td>\n",
       "      <td>1255245</td>\n",
       "      <td>1198815</td>\n",
       "      <td>1256431</td>\n",
       "      <td>1229139</td>\n",
       "      <td>99.905606</td>\n",
       "      <td>97.532907</td>\n",
       "    </tr>\n",
       "    <tr>\n",
       "      <th>대전광역시</th>\n",
       "      <td>1503664</td>\n",
       "      <td>1471040</td>\n",
       "      <td>753648</td>\n",
       "      <td>734441</td>\n",
       "      <td>750016</td>\n",
       "      <td>736599</td>\n",
       "      <td>100.484256</td>\n",
       "      <td>99.707032</td>\n",
       "    </tr>\n",
       "    <tr>\n",
       "      <th>부산광역시</th>\n",
       "      <td>2567910</td>\n",
       "      <td>3404423</td>\n",
       "      <td>1773170</td>\n",
       "      <td>1668618</td>\n",
       "      <td>1794740</td>\n",
       "      <td>1735805</td>\n",
       "      <td>98.798155</td>\n",
       "      <td>96.129346</td>\n",
       "    </tr>\n",
       "    <tr>\n",
       "      <th>서울특별시</th>\n",
       "      <td>10312545</td>\n",
       "      <td>9720846</td>\n",
       "      <td>5111259</td>\n",
       "      <td>4732275</td>\n",
       "      <td>5201286</td>\n",
       "      <td>4988571</td>\n",
       "      <td>98.269140</td>\n",
       "      <td>94.862336</td>\n",
       "    </tr>\n",
       "    <tr>\n",
       "      <th>인천광역시</th>\n",
       "      <td>2758296</td>\n",
       "      <td>2847217</td>\n",
       "      <td>1390356</td>\n",
       "      <td>1476813</td>\n",
       "      <td>1367940</td>\n",
       "      <td>1470404</td>\n",
       "      <td>101.638668</td>\n",
       "      <td>100.435867</td>\n",
       "    </tr>\n",
       "  </tbody>\n",
       "</table>\n",
       "</div>"
      ],
      "text/plain": [
       "           총인구수             남자인구수             여자인구수                 남녀비율  \\\n",
       "년도         2010     2020     2010     2020     2010     2020        2010   \n",
       "행정구역                                                                       \n",
       "광주광역시   1454636  1455048   721780   720060   732956   734988   98.475215   \n",
       "대구광역시   2511676  2427954  1255245  1198815  1256431  1229139   99.905606   \n",
       "대전광역시   1503664  1471040   753648   734441   750016   736599  100.484256   \n",
       "부산광역시   2567910  3404423  1773170  1668618  1794740  1735805   98.798155   \n",
       "서울특별시  10312545  9720846  5111259  4732275  5201286  4988571   98.269140   \n",
       "인천광역시   2758296  2847217  1390356  1476813  1367940  1470404  101.638668   \n",
       "\n",
       "                   \n",
       "년도           2020  \n",
       "행정구역               \n",
       "광주광역시   97.968946  \n",
       "대구광역시   97.532907  \n",
       "대전광역시   99.707032  \n",
       "부산광역시   96.129346  \n",
       "서울특별시   94.862336  \n",
       "인천광역시  100.435867  "
      ]
     },
     "execution_count": 110,
     "metadata": {},
     "output_type": "execute_result"
    }
   ],
   "source": [
    "korea_mdf.unstack(level=1)"
   ]
  },
  {
   "cell_type": "code",
   "execution_count": 111,
   "id": "5a8bcf73",
   "metadata": {},
   "outputs": [
    {
     "data": {
      "text/plain": [
       "행정구역   년도         \n",
       "광주광역시  2010  총인구수     1.454636e+06\n",
       "             남자인구수    7.217800e+05\n",
       "             여자인구수    7.329560e+05\n",
       "             남녀비율     9.847522e+01\n",
       "       2020  총인구수     1.455048e+06\n",
       "             남자인구수    7.200600e+05\n",
       "             여자인구수    7.349880e+05\n",
       "             남녀비율     9.796895e+01\n",
       "대구광역시  2010  총인구수     2.511676e+06\n",
       "             남자인구수    1.255245e+06\n",
       "             여자인구수    1.256431e+06\n",
       "             남녀비율     9.990561e+01\n",
       "       2020  총인구수     2.427954e+06\n",
       "             남자인구수    1.198815e+06\n",
       "             여자인구수    1.229139e+06\n",
       "             남녀비율     9.753291e+01\n",
       "대전광역시  2010  총인구수     1.503664e+06\n",
       "             남자인구수    7.536480e+05\n",
       "             여자인구수    7.500160e+05\n",
       "             남녀비율     1.004843e+02\n",
       "       2020  총인구수     1.471040e+06\n",
       "             남자인구수    7.344410e+05\n",
       "             여자인구수    7.365990e+05\n",
       "             남녀비율     9.970703e+01\n",
       "부산광역시  2010  총인구수     2.567910e+06\n",
       "             남자인구수    1.773170e+06\n",
       "             여자인구수    1.794740e+06\n",
       "             남녀비율     9.879815e+01\n",
       "       2020  총인구수     3.404423e+06\n",
       "             남자인구수    1.668618e+06\n",
       "             여자인구수    1.735805e+06\n",
       "             남녀비율     9.612935e+01\n",
       "서울특별시  2010  총인구수     1.031254e+07\n",
       "             남자인구수    5.111259e+06\n",
       "             여자인구수    5.201286e+06\n",
       "             남녀비율     9.826914e+01\n",
       "       2020  총인구수     9.720846e+06\n",
       "             남자인구수    4.732275e+06\n",
       "             여자인구수    4.988571e+06\n",
       "             남녀비율     9.486234e+01\n",
       "인천광역시  2010  총인구수     2.758296e+06\n",
       "             남자인구수    1.390356e+06\n",
       "             여자인구수    1.367940e+06\n",
       "             남녀비율     1.016387e+02\n",
       "       2020  총인구수     2.847217e+06\n",
       "             남자인구수    1.476813e+06\n",
       "             여자인구수    1.470404e+06\n",
       "             남녀비율     1.004359e+02\n",
       "dtype: float64"
      ]
     },
     "execution_count": 111,
     "metadata": {},
     "output_type": "execute_result"
    }
   ],
   "source": [
    "korea_mdf.stack()"
   ]
  },
  {
   "cell_type": "code",
   "execution_count": 112,
   "id": "8daaa7c7",
   "metadata": {},
   "outputs": [
    {
     "data": {
      "text/html": [
       "<div>\n",
       "<style scoped>\n",
       "    .dataframe tbody tr th:only-of-type {\n",
       "        vertical-align: middle;\n",
       "    }\n",
       "\n",
       "    .dataframe tbody tr th {\n",
       "        vertical-align: top;\n",
       "    }\n",
       "\n",
       "    .dataframe thead th {\n",
       "        text-align: right;\n",
       "    }\n",
       "</style>\n",
       "<table border=\"1\" class=\"dataframe\">\n",
       "  <thead>\n",
       "    <tr style=\"text-align: right;\">\n",
       "      <th></th>\n",
       "      <th></th>\n",
       "      <th>총인구수</th>\n",
       "      <th>남자인구수</th>\n",
       "      <th>여자인구수</th>\n",
       "      <th>남녀비율</th>\n",
       "    </tr>\n",
       "    <tr>\n",
       "      <th>행정구역</th>\n",
       "      <th>년도</th>\n",
       "      <th></th>\n",
       "      <th></th>\n",
       "      <th></th>\n",
       "      <th></th>\n",
       "    </tr>\n",
       "  </thead>\n",
       "  <tbody>\n",
       "    <tr>\n",
       "      <th rowspan=\"2\" valign=\"top\">광주광역시</th>\n",
       "      <th>2010</th>\n",
       "      <td>1454636</td>\n",
       "      <td>721780</td>\n",
       "      <td>732956</td>\n",
       "      <td>98.475215</td>\n",
       "    </tr>\n",
       "    <tr>\n",
       "      <th>2020</th>\n",
       "      <td>1455048</td>\n",
       "      <td>720060</td>\n",
       "      <td>734988</td>\n",
       "      <td>97.968946</td>\n",
       "    </tr>\n",
       "    <tr>\n",
       "      <th rowspan=\"2\" valign=\"top\">대구광역시</th>\n",
       "      <th>2010</th>\n",
       "      <td>2511676</td>\n",
       "      <td>1255245</td>\n",
       "      <td>1256431</td>\n",
       "      <td>99.905606</td>\n",
       "    </tr>\n",
       "    <tr>\n",
       "      <th>2020</th>\n",
       "      <td>2427954</td>\n",
       "      <td>1198815</td>\n",
       "      <td>1229139</td>\n",
       "      <td>97.532907</td>\n",
       "    </tr>\n",
       "    <tr>\n",
       "      <th rowspan=\"2\" valign=\"top\">대전광역시</th>\n",
       "      <th>2010</th>\n",
       "      <td>1503664</td>\n",
       "      <td>753648</td>\n",
       "      <td>750016</td>\n",
       "      <td>100.484256</td>\n",
       "    </tr>\n",
       "    <tr>\n",
       "      <th>2020</th>\n",
       "      <td>1471040</td>\n",
       "      <td>734441</td>\n",
       "      <td>736599</td>\n",
       "      <td>99.707032</td>\n",
       "    </tr>\n",
       "    <tr>\n",
       "      <th rowspan=\"2\" valign=\"top\">부산광역시</th>\n",
       "      <th>2010</th>\n",
       "      <td>2567910</td>\n",
       "      <td>1773170</td>\n",
       "      <td>1794740</td>\n",
       "      <td>98.798155</td>\n",
       "    </tr>\n",
       "    <tr>\n",
       "      <th>2020</th>\n",
       "      <td>3404423</td>\n",
       "      <td>1668618</td>\n",
       "      <td>1735805</td>\n",
       "      <td>96.129346</td>\n",
       "    </tr>\n",
       "    <tr>\n",
       "      <th rowspan=\"2\" valign=\"top\">서울특별시</th>\n",
       "      <th>2010</th>\n",
       "      <td>10312545</td>\n",
       "      <td>5111259</td>\n",
       "      <td>5201286</td>\n",
       "      <td>98.269140</td>\n",
       "    </tr>\n",
       "    <tr>\n",
       "      <th>2020</th>\n",
       "      <td>9720846</td>\n",
       "      <td>4732275</td>\n",
       "      <td>4988571</td>\n",
       "      <td>94.862336</td>\n",
       "    </tr>\n",
       "    <tr>\n",
       "      <th rowspan=\"2\" valign=\"top\">인천광역시</th>\n",
       "      <th>2010</th>\n",
       "      <td>2758296</td>\n",
       "      <td>1390356</td>\n",
       "      <td>1367940</td>\n",
       "      <td>101.638668</td>\n",
       "    </tr>\n",
       "    <tr>\n",
       "      <th>2020</th>\n",
       "      <td>2847217</td>\n",
       "      <td>1476813</td>\n",
       "      <td>1470404</td>\n",
       "      <td>100.435867</td>\n",
       "    </tr>\n",
       "  </tbody>\n",
       "</table>\n",
       "</div>"
      ],
      "text/plain": [
       "                총인구수    남자인구수    여자인구수        남녀비율\n",
       "행정구역  년도                                          \n",
       "광주광역시 2010   1454636   721780   732956   98.475215\n",
       "      2020   1455048   720060   734988   97.968946\n",
       "대구광역시 2010   2511676  1255245  1256431   99.905606\n",
       "      2020   2427954  1198815  1229139   97.532907\n",
       "대전광역시 2010   1503664   753648   750016  100.484256\n",
       "      2020   1471040   734441   736599   99.707032\n",
       "부산광역시 2010   2567910  1773170  1794740   98.798155\n",
       "      2020   3404423  1668618  1735805   96.129346\n",
       "서울특별시 2010  10312545  5111259  5201286   98.269140\n",
       "      2020   9720846  4732275  4988571   94.862336\n",
       "인천광역시 2010   2758296  1390356  1367940  101.638668\n",
       "      2020   2847217  1476813  1470404  100.435867"
      ]
     },
     "execution_count": 112,
     "metadata": {},
     "output_type": "execute_result"
    }
   ],
   "source": [
    "korea_mdf"
   ]
  },
  {
   "cell_type": "code",
   "execution_count": 113,
   "id": "956e4b1b",
   "metadata": {},
   "outputs": [
    {
     "data": {
      "text/html": [
       "<div>\n",
       "<style scoped>\n",
       "    .dataframe tbody tr th:only-of-type {\n",
       "        vertical-align: middle;\n",
       "    }\n",
       "\n",
       "    .dataframe tbody tr th {\n",
       "        vertical-align: top;\n",
       "    }\n",
       "\n",
       "    .dataframe thead th {\n",
       "        text-align: right;\n",
       "    }\n",
       "</style>\n",
       "<table border=\"1\" class=\"dataframe\">\n",
       "  <thead>\n",
       "    <tr style=\"text-align: right;\">\n",
       "      <th></th>\n",
       "      <th>행정구역</th>\n",
       "      <th>총인구수</th>\n",
       "      <th>남자인구수</th>\n",
       "      <th>여자인구수</th>\n",
       "      <th>남녀비율</th>\n",
       "    </tr>\n",
       "    <tr>\n",
       "      <th>년도</th>\n",
       "      <th></th>\n",
       "      <th></th>\n",
       "      <th></th>\n",
       "      <th></th>\n",
       "      <th></th>\n",
       "    </tr>\n",
       "  </thead>\n",
       "  <tbody>\n",
       "    <tr>\n",
       "      <th>2010</th>\n",
       "      <td>광주광역시</td>\n",
       "      <td>1454636</td>\n",
       "      <td>721780</td>\n",
       "      <td>732956</td>\n",
       "      <td>98.475215</td>\n",
       "    </tr>\n",
       "    <tr>\n",
       "      <th>2020</th>\n",
       "      <td>광주광역시</td>\n",
       "      <td>1455048</td>\n",
       "      <td>720060</td>\n",
       "      <td>734988</td>\n",
       "      <td>97.968946</td>\n",
       "    </tr>\n",
       "    <tr>\n",
       "      <th>2010</th>\n",
       "      <td>대구광역시</td>\n",
       "      <td>2511676</td>\n",
       "      <td>1255245</td>\n",
       "      <td>1256431</td>\n",
       "      <td>99.905606</td>\n",
       "    </tr>\n",
       "    <tr>\n",
       "      <th>2020</th>\n",
       "      <td>대구광역시</td>\n",
       "      <td>2427954</td>\n",
       "      <td>1198815</td>\n",
       "      <td>1229139</td>\n",
       "      <td>97.532907</td>\n",
       "    </tr>\n",
       "    <tr>\n",
       "      <th>2010</th>\n",
       "      <td>대전광역시</td>\n",
       "      <td>1503664</td>\n",
       "      <td>753648</td>\n",
       "      <td>750016</td>\n",
       "      <td>100.484256</td>\n",
       "    </tr>\n",
       "    <tr>\n",
       "      <th>2020</th>\n",
       "      <td>대전광역시</td>\n",
       "      <td>1471040</td>\n",
       "      <td>734441</td>\n",
       "      <td>736599</td>\n",
       "      <td>99.707032</td>\n",
       "    </tr>\n",
       "    <tr>\n",
       "      <th>2010</th>\n",
       "      <td>부산광역시</td>\n",
       "      <td>2567910</td>\n",
       "      <td>1773170</td>\n",
       "      <td>1794740</td>\n",
       "      <td>98.798155</td>\n",
       "    </tr>\n",
       "    <tr>\n",
       "      <th>2020</th>\n",
       "      <td>부산광역시</td>\n",
       "      <td>3404423</td>\n",
       "      <td>1668618</td>\n",
       "      <td>1735805</td>\n",
       "      <td>96.129346</td>\n",
       "    </tr>\n",
       "    <tr>\n",
       "      <th>2010</th>\n",
       "      <td>서울특별시</td>\n",
       "      <td>10312545</td>\n",
       "      <td>5111259</td>\n",
       "      <td>5201286</td>\n",
       "      <td>98.269140</td>\n",
       "    </tr>\n",
       "    <tr>\n",
       "      <th>2020</th>\n",
       "      <td>서울특별시</td>\n",
       "      <td>9720846</td>\n",
       "      <td>4732275</td>\n",
       "      <td>4988571</td>\n",
       "      <td>94.862336</td>\n",
       "    </tr>\n",
       "    <tr>\n",
       "      <th>2010</th>\n",
       "      <td>인천광역시</td>\n",
       "      <td>2758296</td>\n",
       "      <td>1390356</td>\n",
       "      <td>1367940</td>\n",
       "      <td>101.638668</td>\n",
       "    </tr>\n",
       "    <tr>\n",
       "      <th>2020</th>\n",
       "      <td>인천광역시</td>\n",
       "      <td>2847217</td>\n",
       "      <td>1476813</td>\n",
       "      <td>1470404</td>\n",
       "      <td>100.435867</td>\n",
       "    </tr>\n",
       "  </tbody>\n",
       "</table>\n",
       "</div>"
      ],
      "text/plain": [
       "       행정구역      총인구수    남자인구수    여자인구수        남녀비율\n",
       "년도                                                 \n",
       "2010  광주광역시   1454636   721780   732956   98.475215\n",
       "2020  광주광역시   1455048   720060   734988   97.968946\n",
       "2010  대구광역시   2511676  1255245  1256431   99.905606\n",
       "2020  대구광역시   2427954  1198815  1229139   97.532907\n",
       "2010  대전광역시   1503664   753648   750016  100.484256\n",
       "2020  대전광역시   1471040   734441   736599   99.707032\n",
       "2010  부산광역시   2567910  1773170  1794740   98.798155\n",
       "2020  부산광역시   3404423  1668618  1735805   96.129346\n",
       "2010  서울특별시  10312545  5111259  5201286   98.269140\n",
       "2020  서울특별시   9720846  4732275  4988571   94.862336\n",
       "2010  인천광역시   2758296  1390356  1367940  101.638668\n",
       "2020  인천광역시   2847217  1476813  1470404  100.435867"
      ]
     },
     "execution_count": 113,
     "metadata": {},
     "output_type": "execute_result"
    }
   ],
   "source": [
    "idx_flat = korea_mdf.reset_index(level=0)\n",
    "idx_flat"
   ]
  },
  {
   "cell_type": "code",
   "execution_count": 114,
   "id": "468a7e35",
   "metadata": {},
   "outputs": [
    {
     "data": {
      "text/html": [
       "<div>\n",
       "<style scoped>\n",
       "    .dataframe tbody tr th:only-of-type {\n",
       "        vertical-align: middle;\n",
       "    }\n",
       "\n",
       "    .dataframe tbody tr th {\n",
       "        vertical-align: top;\n",
       "    }\n",
       "\n",
       "    .dataframe thead th {\n",
       "        text-align: right;\n",
       "    }\n",
       "</style>\n",
       "<table border=\"1\" class=\"dataframe\">\n",
       "  <thead>\n",
       "    <tr style=\"text-align: right;\">\n",
       "      <th></th>\n",
       "      <th>행정구역</th>\n",
       "      <th>년도</th>\n",
       "      <th>총인구수</th>\n",
       "      <th>남자인구수</th>\n",
       "      <th>여자인구수</th>\n",
       "      <th>남녀비율</th>\n",
       "    </tr>\n",
       "  </thead>\n",
       "  <tbody>\n",
       "    <tr>\n",
       "      <th>0</th>\n",
       "      <td>광주광역시</td>\n",
       "      <td>2010</td>\n",
       "      <td>1454636</td>\n",
       "      <td>721780</td>\n",
       "      <td>732956</td>\n",
       "      <td>98.475215</td>\n",
       "    </tr>\n",
       "    <tr>\n",
       "      <th>1</th>\n",
       "      <td>광주광역시</td>\n",
       "      <td>2020</td>\n",
       "      <td>1455048</td>\n",
       "      <td>720060</td>\n",
       "      <td>734988</td>\n",
       "      <td>97.968946</td>\n",
       "    </tr>\n",
       "    <tr>\n",
       "      <th>2</th>\n",
       "      <td>대구광역시</td>\n",
       "      <td>2010</td>\n",
       "      <td>2511676</td>\n",
       "      <td>1255245</td>\n",
       "      <td>1256431</td>\n",
       "      <td>99.905606</td>\n",
       "    </tr>\n",
       "    <tr>\n",
       "      <th>3</th>\n",
       "      <td>대구광역시</td>\n",
       "      <td>2020</td>\n",
       "      <td>2427954</td>\n",
       "      <td>1198815</td>\n",
       "      <td>1229139</td>\n",
       "      <td>97.532907</td>\n",
       "    </tr>\n",
       "    <tr>\n",
       "      <th>4</th>\n",
       "      <td>대전광역시</td>\n",
       "      <td>2010</td>\n",
       "      <td>1503664</td>\n",
       "      <td>753648</td>\n",
       "      <td>750016</td>\n",
       "      <td>100.484256</td>\n",
       "    </tr>\n",
       "    <tr>\n",
       "      <th>5</th>\n",
       "      <td>대전광역시</td>\n",
       "      <td>2020</td>\n",
       "      <td>1471040</td>\n",
       "      <td>734441</td>\n",
       "      <td>736599</td>\n",
       "      <td>99.707032</td>\n",
       "    </tr>\n",
       "    <tr>\n",
       "      <th>6</th>\n",
       "      <td>부산광역시</td>\n",
       "      <td>2010</td>\n",
       "      <td>2567910</td>\n",
       "      <td>1773170</td>\n",
       "      <td>1794740</td>\n",
       "      <td>98.798155</td>\n",
       "    </tr>\n",
       "    <tr>\n",
       "      <th>7</th>\n",
       "      <td>부산광역시</td>\n",
       "      <td>2020</td>\n",
       "      <td>3404423</td>\n",
       "      <td>1668618</td>\n",
       "      <td>1735805</td>\n",
       "      <td>96.129346</td>\n",
       "    </tr>\n",
       "    <tr>\n",
       "      <th>8</th>\n",
       "      <td>서울특별시</td>\n",
       "      <td>2010</td>\n",
       "      <td>10312545</td>\n",
       "      <td>5111259</td>\n",
       "      <td>5201286</td>\n",
       "      <td>98.269140</td>\n",
       "    </tr>\n",
       "    <tr>\n",
       "      <th>9</th>\n",
       "      <td>서울특별시</td>\n",
       "      <td>2020</td>\n",
       "      <td>9720846</td>\n",
       "      <td>4732275</td>\n",
       "      <td>4988571</td>\n",
       "      <td>94.862336</td>\n",
       "    </tr>\n",
       "    <tr>\n",
       "      <th>10</th>\n",
       "      <td>인천광역시</td>\n",
       "      <td>2010</td>\n",
       "      <td>2758296</td>\n",
       "      <td>1390356</td>\n",
       "      <td>1367940</td>\n",
       "      <td>101.638668</td>\n",
       "    </tr>\n",
       "    <tr>\n",
       "      <th>11</th>\n",
       "      <td>인천광역시</td>\n",
       "      <td>2020</td>\n",
       "      <td>2847217</td>\n",
       "      <td>1476813</td>\n",
       "      <td>1470404</td>\n",
       "      <td>100.435867</td>\n",
       "    </tr>\n",
       "  </tbody>\n",
       "</table>\n",
       "</div>"
      ],
      "text/plain": [
       "     행정구역    년도      총인구수    남자인구수    여자인구수        남녀비율\n",
       "0   광주광역시  2010   1454636   721780   732956   98.475215\n",
       "1   광주광역시  2020   1455048   720060   734988   97.968946\n",
       "2   대구광역시  2010   2511676  1255245  1256431   99.905606\n",
       "3   대구광역시  2020   2427954  1198815  1229139   97.532907\n",
       "4   대전광역시  2010   1503664   753648   750016  100.484256\n",
       "5   대전광역시  2020   1471040   734441   736599   99.707032\n",
       "6   부산광역시  2010   2567910  1773170  1794740   98.798155\n",
       "7   부산광역시  2020   3404423  1668618  1735805   96.129346\n",
       "8   서울특별시  2010  10312545  5111259  5201286   98.269140\n",
       "9   서울특별시  2020   9720846  4732275  4988571   94.862336\n",
       "10  인천광역시  2010   2758296  1390356  1367940  101.638668\n",
       "11  인천광역시  2020   2847217  1476813  1470404  100.435867"
      ]
     },
     "execution_count": 114,
     "metadata": {},
     "output_type": "execute_result"
    }
   ],
   "source": [
    "idx_flat = korea_mdf.reset_index(level=(0,1))\n",
    "idx_flat"
   ]
  },
  {
   "cell_type": "code",
   "execution_count": 115,
   "id": "e9d2667c",
   "metadata": {},
   "outputs": [
    {
     "data": {
      "text/html": [
       "<div>\n",
       "<style scoped>\n",
       "    .dataframe tbody tr th:only-of-type {\n",
       "        vertical-align: middle;\n",
       "    }\n",
       "\n",
       "    .dataframe tbody tr th {\n",
       "        vertical-align: top;\n",
       "    }\n",
       "\n",
       "    .dataframe thead th {\n",
       "        text-align: right;\n",
       "    }\n",
       "</style>\n",
       "<table border=\"1\" class=\"dataframe\">\n",
       "  <thead>\n",
       "    <tr style=\"text-align: right;\">\n",
       "      <th></th>\n",
       "      <th></th>\n",
       "      <th>총인구수</th>\n",
       "      <th>남자인구수</th>\n",
       "      <th>여자인구수</th>\n",
       "      <th>남녀비율</th>\n",
       "    </tr>\n",
       "    <tr>\n",
       "      <th>행정구역</th>\n",
       "      <th>년도</th>\n",
       "      <th></th>\n",
       "      <th></th>\n",
       "      <th></th>\n",
       "      <th></th>\n",
       "    </tr>\n",
       "  </thead>\n",
       "  <tbody>\n",
       "    <tr>\n",
       "      <th rowspan=\"2\" valign=\"top\">광주광역시</th>\n",
       "      <th>2010</th>\n",
       "      <td>1454636</td>\n",
       "      <td>721780</td>\n",
       "      <td>732956</td>\n",
       "      <td>98.475215</td>\n",
       "    </tr>\n",
       "    <tr>\n",
       "      <th>2020</th>\n",
       "      <td>1455048</td>\n",
       "      <td>720060</td>\n",
       "      <td>734988</td>\n",
       "      <td>97.968946</td>\n",
       "    </tr>\n",
       "    <tr>\n",
       "      <th rowspan=\"2\" valign=\"top\">대구광역시</th>\n",
       "      <th>2010</th>\n",
       "      <td>2511676</td>\n",
       "      <td>1255245</td>\n",
       "      <td>1256431</td>\n",
       "      <td>99.905606</td>\n",
       "    </tr>\n",
       "    <tr>\n",
       "      <th>2020</th>\n",
       "      <td>2427954</td>\n",
       "      <td>1198815</td>\n",
       "      <td>1229139</td>\n",
       "      <td>97.532907</td>\n",
       "    </tr>\n",
       "    <tr>\n",
       "      <th rowspan=\"2\" valign=\"top\">대전광역시</th>\n",
       "      <th>2010</th>\n",
       "      <td>1503664</td>\n",
       "      <td>753648</td>\n",
       "      <td>750016</td>\n",
       "      <td>100.484256</td>\n",
       "    </tr>\n",
       "    <tr>\n",
       "      <th>2020</th>\n",
       "      <td>1471040</td>\n",
       "      <td>734441</td>\n",
       "      <td>736599</td>\n",
       "      <td>99.707032</td>\n",
       "    </tr>\n",
       "    <tr>\n",
       "      <th rowspan=\"2\" valign=\"top\">부산광역시</th>\n",
       "      <th>2010</th>\n",
       "      <td>2567910</td>\n",
       "      <td>1773170</td>\n",
       "      <td>1794740</td>\n",
       "      <td>98.798155</td>\n",
       "    </tr>\n",
       "    <tr>\n",
       "      <th>2020</th>\n",
       "      <td>3404423</td>\n",
       "      <td>1668618</td>\n",
       "      <td>1735805</td>\n",
       "      <td>96.129346</td>\n",
       "    </tr>\n",
       "    <tr>\n",
       "      <th rowspan=\"2\" valign=\"top\">서울특별시</th>\n",
       "      <th>2010</th>\n",
       "      <td>10312545</td>\n",
       "      <td>5111259</td>\n",
       "      <td>5201286</td>\n",
       "      <td>98.269140</td>\n",
       "    </tr>\n",
       "    <tr>\n",
       "      <th>2020</th>\n",
       "      <td>9720846</td>\n",
       "      <td>4732275</td>\n",
       "      <td>4988571</td>\n",
       "      <td>94.862336</td>\n",
       "    </tr>\n",
       "    <tr>\n",
       "      <th rowspan=\"2\" valign=\"top\">인천광역시</th>\n",
       "      <th>2010</th>\n",
       "      <td>2758296</td>\n",
       "      <td>1390356</td>\n",
       "      <td>1367940</td>\n",
       "      <td>101.638668</td>\n",
       "    </tr>\n",
       "    <tr>\n",
       "      <th>2020</th>\n",
       "      <td>2847217</td>\n",
       "      <td>1476813</td>\n",
       "      <td>1470404</td>\n",
       "      <td>100.435867</td>\n",
       "    </tr>\n",
       "  </tbody>\n",
       "</table>\n",
       "</div>"
      ],
      "text/plain": [
       "                총인구수    남자인구수    여자인구수        남녀비율\n",
       "행정구역  년도                                          \n",
       "광주광역시 2010   1454636   721780   732956   98.475215\n",
       "      2020   1455048   720060   734988   97.968946\n",
       "대구광역시 2010   2511676  1255245  1256431   99.905606\n",
       "      2020   2427954  1198815  1229139   97.532907\n",
       "대전광역시 2010   1503664   753648   750016  100.484256\n",
       "      2020   1471040   734441   736599   99.707032\n",
       "부산광역시 2010   2567910  1773170  1794740   98.798155\n",
       "      2020   3404423  1668618  1735805   96.129346\n",
       "서울특별시 2010  10312545  5111259  5201286   98.269140\n",
       "      2020   9720846  4732275  4988571   94.862336\n",
       "인천광역시 2010   2758296  1390356  1367940  101.638668\n",
       "      2020   2847217  1476813  1470404  100.435867"
      ]
     },
     "execution_count": 115,
     "metadata": {},
     "output_type": "execute_result"
    }
   ],
   "source": [
    "idx_flat.set_index(['행정구역', '년도'])"
   ]
  },
  {
   "cell_type": "markdown",
   "id": "f8490738",
   "metadata": {},
   "source": [
    "## 데이터 연산"
   ]
  },
  {
   "cell_type": "code",
   "execution_count": 116,
   "id": "881b07c9",
   "metadata": {},
   "outputs": [
    {
     "data": {
      "text/plain": [
       "0    3\n",
       "1    0\n",
       "2    8\n",
       "3    2\n",
       "4    4\n",
       "dtype: int32"
      ]
     },
     "execution_count": 116,
     "metadata": {},
     "output_type": "execute_result"
    }
   ],
   "source": [
    "s = pd.Series(np.random.randint(0, 10, 5))\n",
    "s"
   ]
  },
  {
   "cell_type": "code",
   "execution_count": 117,
   "id": "bcc55a02",
   "metadata": {},
   "outputs": [
    {
     "data": {
      "text/html": [
       "<div>\n",
       "<style scoped>\n",
       "    .dataframe tbody tr th:only-of-type {\n",
       "        vertical-align: middle;\n",
       "    }\n",
       "\n",
       "    .dataframe tbody tr th {\n",
       "        vertical-align: top;\n",
       "    }\n",
       "\n",
       "    .dataframe thead th {\n",
       "        text-align: right;\n",
       "    }\n",
       "</style>\n",
       "<table border=\"1\" class=\"dataframe\">\n",
       "  <thead>\n",
       "    <tr style=\"text-align: right;\">\n",
       "      <th></th>\n",
       "      <th>A</th>\n",
       "      <th>B</th>\n",
       "      <th>C</th>\n",
       "    </tr>\n",
       "  </thead>\n",
       "  <tbody>\n",
       "    <tr>\n",
       "      <th>0</th>\n",
       "      <td>9</td>\n",
       "      <td>5</td>\n",
       "      <td>7</td>\n",
       "    </tr>\n",
       "    <tr>\n",
       "      <th>1</th>\n",
       "      <td>7</td>\n",
       "      <td>6</td>\n",
       "      <td>7</td>\n",
       "    </tr>\n",
       "    <tr>\n",
       "      <th>2</th>\n",
       "      <td>5</td>\n",
       "      <td>6</td>\n",
       "      <td>4</td>\n",
       "    </tr>\n",
       "  </tbody>\n",
       "</table>\n",
       "</div>"
      ],
      "text/plain": [
       "   A  B  C\n",
       "0  9  5  7\n",
       "1  7  6  7\n",
       "2  5  6  4"
      ]
     },
     "execution_count": 117,
     "metadata": {},
     "output_type": "execute_result"
    }
   ],
   "source": [
    "df = pd.DataFrame(np.random.randint(0, 10, (3, 3)),\n",
    "                  columns=['A','B','C'])\n",
    "df"
   ]
  },
  {
   "cell_type": "code",
   "execution_count": 118,
   "id": "9548f58e",
   "metadata": {},
   "outputs": [
    {
     "data": {
      "text/plain": [
       "0      20.085537\n",
       "1       1.000000\n",
       "2    2980.957987\n",
       "3       7.389056\n",
       "4      54.598150\n",
       "dtype: float64"
      ]
     },
     "execution_count": 118,
     "metadata": {},
     "output_type": "execute_result"
    }
   ],
   "source": [
    "np.exp(s)"
   ]
  },
  {
   "cell_type": "code",
   "execution_count": 119,
   "id": "daec79bd",
   "metadata": {},
   "outputs": [
    {
     "data": {
      "text/html": [
       "<div>\n",
       "<style scoped>\n",
       "    .dataframe tbody tr th:only-of-type {\n",
       "        vertical-align: middle;\n",
       "    }\n",
       "\n",
       "    .dataframe tbody tr th {\n",
       "        vertical-align: top;\n",
       "    }\n",
       "\n",
       "    .dataframe thead th {\n",
       "        text-align: right;\n",
       "    }\n",
       "</style>\n",
       "<table border=\"1\" class=\"dataframe\">\n",
       "  <thead>\n",
       "    <tr style=\"text-align: right;\">\n",
       "      <th></th>\n",
       "      <th>A</th>\n",
       "      <th>B</th>\n",
       "      <th>C</th>\n",
       "    </tr>\n",
       "  </thead>\n",
       "  <tbody>\n",
       "    <tr>\n",
       "      <th>0</th>\n",
       "      <td>0.707107</td>\n",
       "      <td>-7.071068e-01</td>\n",
       "      <td>0.707107</td>\n",
       "    </tr>\n",
       "    <tr>\n",
       "      <th>1</th>\n",
       "      <td>0.707107</td>\n",
       "      <td>-1.836970e-16</td>\n",
       "      <td>0.707107</td>\n",
       "    </tr>\n",
       "    <tr>\n",
       "      <th>2</th>\n",
       "      <td>-0.707107</td>\n",
       "      <td>-1.836970e-16</td>\n",
       "      <td>-1.000000</td>\n",
       "    </tr>\n",
       "  </tbody>\n",
       "</table>\n",
       "</div>"
      ],
      "text/plain": [
       "          A             B         C\n",
       "0  0.707107 -7.071068e-01  0.707107\n",
       "1  0.707107 -1.836970e-16  0.707107\n",
       "2 -0.707107 -1.836970e-16 -1.000000"
      ]
     },
     "execution_count": 119,
     "metadata": {},
     "output_type": "execute_result"
    }
   ],
   "source": [
    "np.cos(df * np.pi / 4)"
   ]
  },
  {
   "cell_type": "code",
   "execution_count": 120,
   "id": "36dbe148",
   "metadata": {},
   "outputs": [
    {
     "data": {
      "text/plain": [
       "0     NaN\n",
       "1     5.0\n",
       "2     9.0\n",
       "3    13.0\n",
       "4    17.0\n",
       "5     NaN\n",
       "dtype: float64"
      ]
     },
     "execution_count": 120,
     "metadata": {},
     "output_type": "execute_result"
    }
   ],
   "source": [
    "s1 = pd.Series([1, 3, 5, 7, 9], index = [0, 1, 2, 3, 4])\n",
    "s2 = pd.Series([2, 4, 6, 8, 10], index = [1, 2, 3, 4, 5])\n",
    "# 데이터 연산을 할때 기준은 index순이기 때문에 index가 일치하지 않는 부분은 NaN으로 나옴\n",
    "s1+s2"
   ]
  },
  {
   "cell_type": "code",
   "execution_count": 121,
   "id": "31bd8fb7",
   "metadata": {},
   "outputs": [
    {
     "data": {
      "text/plain": [
       "0     1.0\n",
       "1     5.0\n",
       "2     9.0\n",
       "3    13.0\n",
       "4    17.0\n",
       "5    10.0\n",
       "dtype: float64"
      ]
     },
     "execution_count": 121,
     "metadata": {},
     "output_type": "execute_result"
    }
   ],
   "source": [
    "s1.add(s2, fill_value=0)\n",
    "# fill_value로 NaN값을 채울 수 있다\n",
    "# index 0번이 1인 이유는 s1.index(0)의 값이 1이고 s2.index(0)값이 NaN이여서 0으로 채워졌기 때문에\n",
    "# 그 둘을 합했을 때 1이기 떄문이다."
   ]
  },
  {
   "cell_type": "code",
   "execution_count": 122,
   "id": "2ac8663c",
   "metadata": {},
   "outputs": [
    {
     "data": {
      "text/html": [
       "<div>\n",
       "<style scoped>\n",
       "    .dataframe tbody tr th:only-of-type {\n",
       "        vertical-align: middle;\n",
       "    }\n",
       "\n",
       "    .dataframe tbody tr th {\n",
       "        vertical-align: top;\n",
       "    }\n",
       "\n",
       "    .dataframe thead th {\n",
       "        text-align: right;\n",
       "    }\n",
       "</style>\n",
       "<table border=\"1\" class=\"dataframe\">\n",
       "  <thead>\n",
       "    <tr style=\"text-align: right;\">\n",
       "      <th></th>\n",
       "      <th>A</th>\n",
       "      <th>C</th>\n",
       "      <th>D</th>\n",
       "    </tr>\n",
       "  </thead>\n",
       "  <tbody>\n",
       "    <tr>\n",
       "      <th>0</th>\n",
       "      <td>10</td>\n",
       "      <td>12</td>\n",
       "      <td>10</td>\n",
       "    </tr>\n",
       "    <tr>\n",
       "      <th>1</th>\n",
       "      <td>13</td>\n",
       "      <td>10</td>\n",
       "      <td>12</td>\n",
       "    </tr>\n",
       "    <tr>\n",
       "      <th>2</th>\n",
       "      <td>15</td>\n",
       "      <td>5</td>\n",
       "      <td>2</td>\n",
       "    </tr>\n",
       "  </tbody>\n",
       "</table>\n",
       "</div>"
      ],
      "text/plain": [
       "    A   C   D\n",
       "0  10  12  10\n",
       "1  13  10  12\n",
       "2  15   5   2"
      ]
     },
     "execution_count": 122,
     "metadata": {},
     "output_type": "execute_result"
    }
   ],
   "source": [
    "df1 = pd.DataFrame(np.random.randint(0, 20, (3, 3)),\n",
    "                  columns=list('ACD'))\n",
    "df1"
   ]
  },
  {
   "cell_type": "code",
   "execution_count": 123,
   "id": "e5ac911c",
   "metadata": {},
   "outputs": [
    {
     "data": {
      "text/html": [
       "<div>\n",
       "<style scoped>\n",
       "    .dataframe tbody tr th:only-of-type {\n",
       "        vertical-align: middle;\n",
       "    }\n",
       "\n",
       "    .dataframe tbody tr th {\n",
       "        vertical-align: top;\n",
       "    }\n",
       "\n",
       "    .dataframe thead th {\n",
       "        text-align: right;\n",
       "    }\n",
       "</style>\n",
       "<table border=\"1\" class=\"dataframe\">\n",
       "  <thead>\n",
       "    <tr style=\"text-align: right;\">\n",
       "      <th></th>\n",
       "      <th>B</th>\n",
       "      <th>A</th>\n",
       "      <th>E</th>\n",
       "      <th>C</th>\n",
       "      <th>D</th>\n",
       "    </tr>\n",
       "  </thead>\n",
       "  <tbody>\n",
       "    <tr>\n",
       "      <th>0</th>\n",
       "      <td>15</td>\n",
       "      <td>0</td>\n",
       "      <td>12</td>\n",
       "      <td>18</td>\n",
       "      <td>6</td>\n",
       "    </tr>\n",
       "    <tr>\n",
       "      <th>1</th>\n",
       "      <td>1</td>\n",
       "      <td>9</td>\n",
       "      <td>13</td>\n",
       "      <td>14</td>\n",
       "      <td>6</td>\n",
       "    </tr>\n",
       "    <tr>\n",
       "      <th>2</th>\n",
       "      <td>14</td>\n",
       "      <td>5</td>\n",
       "      <td>3</td>\n",
       "      <td>6</td>\n",
       "      <td>14</td>\n",
       "    </tr>\n",
       "    <tr>\n",
       "      <th>3</th>\n",
       "      <td>6</td>\n",
       "      <td>17</td>\n",
       "      <td>0</td>\n",
       "      <td>12</td>\n",
       "      <td>18</td>\n",
       "    </tr>\n",
       "    <tr>\n",
       "      <th>4</th>\n",
       "      <td>3</td>\n",
       "      <td>15</td>\n",
       "      <td>10</td>\n",
       "      <td>14</td>\n",
       "      <td>19</td>\n",
       "    </tr>\n",
       "  </tbody>\n",
       "</table>\n",
       "</div>"
      ],
      "text/plain": [
       "    B   A   E   C   D\n",
       "0  15   0  12  18   6\n",
       "1   1   9  13  14   6\n",
       "2  14   5   3   6  14\n",
       "3   6  17   0  12  18\n",
       "4   3  15  10  14  19"
      ]
     },
     "execution_count": 123,
     "metadata": {},
     "output_type": "execute_result"
    }
   ],
   "source": [
    "df2 = pd.DataFrame(np.random.randint(0, 20, (5,5)),\n",
    "                  columns=list('BAECD'))\n",
    "df2"
   ]
  },
  {
   "cell_type": "code",
   "execution_count": 124,
   "id": "5174513e",
   "metadata": {},
   "outputs": [
    {
     "data": {
      "text/html": [
       "<div>\n",
       "<style scoped>\n",
       "    .dataframe tbody tr th:only-of-type {\n",
       "        vertical-align: middle;\n",
       "    }\n",
       "\n",
       "    .dataframe tbody tr th {\n",
       "        vertical-align: top;\n",
       "    }\n",
       "\n",
       "    .dataframe thead th {\n",
       "        text-align: right;\n",
       "    }\n",
       "</style>\n",
       "<table border=\"1\" class=\"dataframe\">\n",
       "  <thead>\n",
       "    <tr style=\"text-align: right;\">\n",
       "      <th></th>\n",
       "      <th>A</th>\n",
       "      <th>B</th>\n",
       "      <th>C</th>\n",
       "      <th>D</th>\n",
       "      <th>E</th>\n",
       "    </tr>\n",
       "  </thead>\n",
       "  <tbody>\n",
       "    <tr>\n",
       "      <th>0</th>\n",
       "      <td>10.0</td>\n",
       "      <td>NaN</td>\n",
       "      <td>30.0</td>\n",
       "      <td>16.0</td>\n",
       "      <td>NaN</td>\n",
       "    </tr>\n",
       "    <tr>\n",
       "      <th>1</th>\n",
       "      <td>22.0</td>\n",
       "      <td>NaN</td>\n",
       "      <td>24.0</td>\n",
       "      <td>18.0</td>\n",
       "      <td>NaN</td>\n",
       "    </tr>\n",
       "    <tr>\n",
       "      <th>2</th>\n",
       "      <td>20.0</td>\n",
       "      <td>NaN</td>\n",
       "      <td>11.0</td>\n",
       "      <td>16.0</td>\n",
       "      <td>NaN</td>\n",
       "    </tr>\n",
       "    <tr>\n",
       "      <th>3</th>\n",
       "      <td>NaN</td>\n",
       "      <td>NaN</td>\n",
       "      <td>NaN</td>\n",
       "      <td>NaN</td>\n",
       "      <td>NaN</td>\n",
       "    </tr>\n",
       "    <tr>\n",
       "      <th>4</th>\n",
       "      <td>NaN</td>\n",
       "      <td>NaN</td>\n",
       "      <td>NaN</td>\n",
       "      <td>NaN</td>\n",
       "      <td>NaN</td>\n",
       "    </tr>\n",
       "  </tbody>\n",
       "</table>\n",
       "</div>"
      ],
      "text/plain": [
       "      A   B     C     D   E\n",
       "0  10.0 NaN  30.0  16.0 NaN\n",
       "1  22.0 NaN  24.0  18.0 NaN\n",
       "2  20.0 NaN  11.0  16.0 NaN\n",
       "3   NaN NaN   NaN   NaN NaN\n",
       "4   NaN NaN   NaN   NaN NaN"
      ]
     },
     "execution_count": 124,
     "metadata": {},
     "output_type": "execute_result"
    }
   ],
   "source": [
    "df1 + df2"
   ]
  },
  {
   "cell_type": "code",
   "execution_count": 125,
   "id": "a5cd588b",
   "metadata": {},
   "outputs": [
    {
     "data": {
      "text/html": [
       "<div>\n",
       "<style scoped>\n",
       "    .dataframe tbody tr th:only-of-type {\n",
       "        vertical-align: middle;\n",
       "    }\n",
       "\n",
       "    .dataframe tbody tr th {\n",
       "        vertical-align: top;\n",
       "    }\n",
       "\n",
       "    .dataframe thead th {\n",
       "        text-align: right;\n",
       "    }\n",
       "</style>\n",
       "<table border=\"1\" class=\"dataframe\">\n",
       "  <thead>\n",
       "    <tr style=\"text-align: right;\">\n",
       "      <th></th>\n",
       "      <th>A</th>\n",
       "      <th>B</th>\n",
       "      <th>C</th>\n",
       "      <th>D</th>\n",
       "      <th>E</th>\n",
       "    </tr>\n",
       "  </thead>\n",
       "  <tbody>\n",
       "    <tr>\n",
       "      <th>0</th>\n",
       "      <td>10.000000</td>\n",
       "      <td>24.888889</td>\n",
       "      <td>30.000000</td>\n",
       "      <td>16.000000</td>\n",
       "      <td>21.888889</td>\n",
       "    </tr>\n",
       "    <tr>\n",
       "      <th>1</th>\n",
       "      <td>22.000000</td>\n",
       "      <td>10.888889</td>\n",
       "      <td>24.000000</td>\n",
       "      <td>18.000000</td>\n",
       "      <td>22.888889</td>\n",
       "    </tr>\n",
       "    <tr>\n",
       "      <th>2</th>\n",
       "      <td>20.000000</td>\n",
       "      <td>23.888889</td>\n",
       "      <td>11.000000</td>\n",
       "      <td>16.000000</td>\n",
       "      <td>12.888889</td>\n",
       "    </tr>\n",
       "    <tr>\n",
       "      <th>3</th>\n",
       "      <td>26.888889</td>\n",
       "      <td>15.888889</td>\n",
       "      <td>21.888889</td>\n",
       "      <td>27.888889</td>\n",
       "      <td>9.888889</td>\n",
       "    </tr>\n",
       "    <tr>\n",
       "      <th>4</th>\n",
       "      <td>24.888889</td>\n",
       "      <td>12.888889</td>\n",
       "      <td>23.888889</td>\n",
       "      <td>28.888889</td>\n",
       "      <td>19.888889</td>\n",
       "    </tr>\n",
       "  </tbody>\n",
       "</table>\n",
       "</div>"
      ],
      "text/plain": [
       "           A          B          C          D          E\n",
       "0  10.000000  24.888889  30.000000  16.000000  21.888889\n",
       "1  22.000000  10.888889  24.000000  18.000000  22.888889\n",
       "2  20.000000  23.888889  11.000000  16.000000  12.888889\n",
       "3  26.888889  15.888889  21.888889  27.888889   9.888889\n",
       "4  24.888889  12.888889  23.888889  28.888889  19.888889"
      ]
     },
     "execution_count": 125,
     "metadata": {},
     "output_type": "execute_result"
    }
   ],
   "source": [
    "fvalue = df1.stack().mean()\n",
    "# DataFrame을 stack을 하면 Series형태로 변환이 된다.\n",
    "df1.add(df2, fill_value=fvalue)"
   ]
  },
  {
   "cell_type": "markdown",
   "id": "86a611a3",
   "metadata": {},
   "source": [
    "### 연산자 범용 함수\n",
    "|Python 연산자|Pandas 메소드|\n",
    "|:--|:--|\n",
    "|```+```|```add```, ```radd```|\n",
    "|```-```|```sub```,  ```rsub```, ```subtract```|\n",
    "|```*```|```mul```, ```rmul```, ```multiply```|\n",
    "|```/```|```truediv```,  ```div```, ```rdiv```, ```divide```|\n",
    "|```//```|```floordiv```, ```rfloordiv```|\n",
    "|```%```|```mod```|\n",
    "|```**```|```pow```, ```rpow```|"
   ]
  },
  {
   "cell_type": "markdown",
   "id": "006cdaee",
   "metadata": {},
   "source": [
    "#### add( )"
   ]
  },
  {
   "cell_type": "code",
   "execution_count": 126,
   "id": "78188c23",
   "metadata": {},
   "outputs": [
    {
     "data": {
      "text/plain": [
       "array([[6, 9, 5],\n",
       "       [3, 2, 5],\n",
       "       [1, 5, 5]])"
      ]
     },
     "execution_count": 126,
     "metadata": {},
     "output_type": "execute_result"
    }
   ],
   "source": [
    "a = np.random.randint(1, 10, size=(3, 3))\n",
    "a"
   ]
  },
  {
   "cell_type": "code",
   "execution_count": 127,
   "id": "e1c9f594",
   "metadata": {},
   "outputs": [
    {
     "data": {
      "text/plain": [
       "array([[12, 18, 10],\n",
       "       [ 9, 11, 10],\n",
       "       [ 7, 14, 10]])"
      ]
     },
     "execution_count": 127,
     "metadata": {},
     "output_type": "execute_result"
    }
   ],
   "source": [
    "a + a[0]"
   ]
  },
  {
   "cell_type": "code",
   "execution_count": 128,
   "id": "a88addf2",
   "metadata": {},
   "outputs": [
    {
     "data": {
      "text/html": [
       "<div>\n",
       "<style scoped>\n",
       "    .dataframe tbody tr th:only-of-type {\n",
       "        vertical-align: middle;\n",
       "    }\n",
       "\n",
       "    .dataframe tbody tr th {\n",
       "        vertical-align: top;\n",
       "    }\n",
       "\n",
       "    .dataframe thead th {\n",
       "        text-align: right;\n",
       "    }\n",
       "</style>\n",
       "<table border=\"1\" class=\"dataframe\">\n",
       "  <thead>\n",
       "    <tr style=\"text-align: right;\">\n",
       "      <th></th>\n",
       "      <th>A</th>\n",
       "      <th>B</th>\n",
       "      <th>C</th>\n",
       "    </tr>\n",
       "  </thead>\n",
       "  <tbody>\n",
       "    <tr>\n",
       "      <th>0</th>\n",
       "      <td>6</td>\n",
       "      <td>9</td>\n",
       "      <td>5</td>\n",
       "    </tr>\n",
       "    <tr>\n",
       "      <th>1</th>\n",
       "      <td>3</td>\n",
       "      <td>2</td>\n",
       "      <td>5</td>\n",
       "    </tr>\n",
       "    <tr>\n",
       "      <th>2</th>\n",
       "      <td>1</td>\n",
       "      <td>5</td>\n",
       "      <td>5</td>\n",
       "    </tr>\n",
       "  </tbody>\n",
       "</table>\n",
       "</div>"
      ],
      "text/plain": [
       "   A  B  C\n",
       "0  6  9  5\n",
       "1  3  2  5\n",
       "2  1  5  5"
      ]
     },
     "execution_count": 128,
     "metadata": {},
     "output_type": "execute_result"
    }
   ],
   "source": [
    "df = pd.DataFrame(a, columns = list('ABC'))\n",
    "df"
   ]
  },
  {
   "cell_type": "code",
   "execution_count": 129,
   "id": "353ce437",
   "metadata": {},
   "outputs": [
    {
     "data": {
      "text/html": [
       "<div>\n",
       "<style scoped>\n",
       "    .dataframe tbody tr th:only-of-type {\n",
       "        vertical-align: middle;\n",
       "    }\n",
       "\n",
       "    .dataframe tbody tr th {\n",
       "        vertical-align: top;\n",
       "    }\n",
       "\n",
       "    .dataframe thead th {\n",
       "        text-align: right;\n",
       "    }\n",
       "</style>\n",
       "<table border=\"1\" class=\"dataframe\">\n",
       "  <thead>\n",
       "    <tr style=\"text-align: right;\">\n",
       "      <th></th>\n",
       "      <th>A</th>\n",
       "      <th>B</th>\n",
       "      <th>C</th>\n",
       "    </tr>\n",
       "  </thead>\n",
       "  <tbody>\n",
       "    <tr>\n",
       "      <th>0</th>\n",
       "      <td>12</td>\n",
       "      <td>18</td>\n",
       "      <td>10</td>\n",
       "    </tr>\n",
       "    <tr>\n",
       "      <th>1</th>\n",
       "      <td>9</td>\n",
       "      <td>11</td>\n",
       "      <td>10</td>\n",
       "    </tr>\n",
       "    <tr>\n",
       "      <th>2</th>\n",
       "      <td>7</td>\n",
       "      <td>14</td>\n",
       "      <td>10</td>\n",
       "    </tr>\n",
       "  </tbody>\n",
       "</table>\n",
       "</div>"
      ],
      "text/plain": [
       "    A   B   C\n",
       "0  12  18  10\n",
       "1   9  11  10\n",
       "2   7  14  10"
      ]
     },
     "execution_count": 129,
     "metadata": {},
     "output_type": "execute_result"
    }
   ],
   "source": [
    "df + df.iloc[0]\n",
    "# pandas 또한 numpy와 같이 크기가 다른 형태의 DataFrame을 더했을때\n",
    "# 자동적으로 Broadcast되어 계산이 된다."
   ]
  },
  {
   "cell_type": "code",
   "execution_count": 130,
   "id": "4006ce74",
   "metadata": {},
   "outputs": [
    {
     "data": {
      "text/html": [
       "<div>\n",
       "<style scoped>\n",
       "    .dataframe tbody tr th:only-of-type {\n",
       "        vertical-align: middle;\n",
       "    }\n",
       "\n",
       "    .dataframe tbody tr th {\n",
       "        vertical-align: top;\n",
       "    }\n",
       "\n",
       "    .dataframe thead th {\n",
       "        text-align: right;\n",
       "    }\n",
       "</style>\n",
       "<table border=\"1\" class=\"dataframe\">\n",
       "  <thead>\n",
       "    <tr style=\"text-align: right;\">\n",
       "      <th></th>\n",
       "      <th>A</th>\n",
       "      <th>B</th>\n",
       "      <th>C</th>\n",
       "    </tr>\n",
       "  </thead>\n",
       "  <tbody>\n",
       "    <tr>\n",
       "      <th>0</th>\n",
       "      <td>12</td>\n",
       "      <td>18</td>\n",
       "      <td>10</td>\n",
       "    </tr>\n",
       "    <tr>\n",
       "      <th>1</th>\n",
       "      <td>9</td>\n",
       "      <td>11</td>\n",
       "      <td>10</td>\n",
       "    </tr>\n",
       "    <tr>\n",
       "      <th>2</th>\n",
       "      <td>7</td>\n",
       "      <td>14</td>\n",
       "      <td>10</td>\n",
       "    </tr>\n",
       "  </tbody>\n",
       "</table>\n",
       "</div>"
      ],
      "text/plain": [
       "    A   B   C\n",
       "0  12  18  10\n",
       "1   9  11  10\n",
       "2   7  14  10"
      ]
     },
     "execution_count": 130,
     "metadata": {},
     "output_type": "execute_result"
    }
   ],
   "source": [
    "df.add(df.iloc[0])"
   ]
  },
  {
   "cell_type": "markdown",
   "id": "72ae5cdf",
   "metadata": {},
   "source": [
    "#### sub( ) / subtract( )"
   ]
  },
  {
   "cell_type": "code",
   "execution_count": 131,
   "id": "ae67f04b",
   "metadata": {},
   "outputs": [
    {
     "data": {
      "text/plain": [
       "array([[6, 9, 5],\n",
       "       [3, 2, 5],\n",
       "       [1, 5, 5]])"
      ]
     },
     "execution_count": 131,
     "metadata": {},
     "output_type": "execute_result"
    }
   ],
   "source": [
    "a"
   ]
  },
  {
   "cell_type": "code",
   "execution_count": 132,
   "id": "6fbd23f3",
   "metadata": {},
   "outputs": [
    {
     "data": {
      "text/plain": [
       "array([[ 0,  0,  0],\n",
       "       [-3, -7,  0],\n",
       "       [-5, -4,  0]])"
      ]
     },
     "execution_count": 132,
     "metadata": {},
     "output_type": "execute_result"
    }
   ],
   "source": [
    "a - a[0]"
   ]
  },
  {
   "cell_type": "code",
   "execution_count": 133,
   "id": "2d00940b",
   "metadata": {},
   "outputs": [
    {
     "data": {
      "text/html": [
       "<div>\n",
       "<style scoped>\n",
       "    .dataframe tbody tr th:only-of-type {\n",
       "        vertical-align: middle;\n",
       "    }\n",
       "\n",
       "    .dataframe tbody tr th {\n",
       "        vertical-align: top;\n",
       "    }\n",
       "\n",
       "    .dataframe thead th {\n",
       "        text-align: right;\n",
       "    }\n",
       "</style>\n",
       "<table border=\"1\" class=\"dataframe\">\n",
       "  <thead>\n",
       "    <tr style=\"text-align: right;\">\n",
       "      <th></th>\n",
       "      <th>A</th>\n",
       "      <th>B</th>\n",
       "      <th>C</th>\n",
       "    </tr>\n",
       "  </thead>\n",
       "  <tbody>\n",
       "    <tr>\n",
       "      <th>0</th>\n",
       "      <td>6</td>\n",
       "      <td>9</td>\n",
       "      <td>5</td>\n",
       "    </tr>\n",
       "    <tr>\n",
       "      <th>1</th>\n",
       "      <td>3</td>\n",
       "      <td>2</td>\n",
       "      <td>5</td>\n",
       "    </tr>\n",
       "    <tr>\n",
       "      <th>2</th>\n",
       "      <td>1</td>\n",
       "      <td>5</td>\n",
       "      <td>5</td>\n",
       "    </tr>\n",
       "  </tbody>\n",
       "</table>\n",
       "</div>"
      ],
      "text/plain": [
       "   A  B  C\n",
       "0  6  9  5\n",
       "1  3  2  5\n",
       "2  1  5  5"
      ]
     },
     "execution_count": 133,
     "metadata": {},
     "output_type": "execute_result"
    }
   ],
   "source": [
    "df"
   ]
  },
  {
   "cell_type": "code",
   "execution_count": 134,
   "id": "ff88d5c5",
   "metadata": {},
   "outputs": [
    {
     "data": {
      "text/html": [
       "<div>\n",
       "<style scoped>\n",
       "    .dataframe tbody tr th:only-of-type {\n",
       "        vertical-align: middle;\n",
       "    }\n",
       "\n",
       "    .dataframe tbody tr th {\n",
       "        vertical-align: top;\n",
       "    }\n",
       "\n",
       "    .dataframe thead th {\n",
       "        text-align: right;\n",
       "    }\n",
       "</style>\n",
       "<table border=\"1\" class=\"dataframe\">\n",
       "  <thead>\n",
       "    <tr style=\"text-align: right;\">\n",
       "      <th></th>\n",
       "      <th>A</th>\n",
       "      <th>B</th>\n",
       "      <th>C</th>\n",
       "    </tr>\n",
       "  </thead>\n",
       "  <tbody>\n",
       "    <tr>\n",
       "      <th>0</th>\n",
       "      <td>0</td>\n",
       "      <td>0</td>\n",
       "      <td>0</td>\n",
       "    </tr>\n",
       "    <tr>\n",
       "      <th>1</th>\n",
       "      <td>-3</td>\n",
       "      <td>-7</td>\n",
       "      <td>0</td>\n",
       "    </tr>\n",
       "    <tr>\n",
       "      <th>2</th>\n",
       "      <td>-5</td>\n",
       "      <td>-4</td>\n",
       "      <td>0</td>\n",
       "    </tr>\n",
       "  </tbody>\n",
       "</table>\n",
       "</div>"
      ],
      "text/plain": [
       "   A  B  C\n",
       "0  0  0  0\n",
       "1 -3 -7  0\n",
       "2 -5 -4  0"
      ]
     },
     "execution_count": 134,
     "metadata": {},
     "output_type": "execute_result"
    }
   ],
   "source": [
    "df - df.iloc[0]"
   ]
  },
  {
   "cell_type": "code",
   "execution_count": 135,
   "id": "5b3ea6e8",
   "metadata": {},
   "outputs": [
    {
     "data": {
      "text/html": [
       "<div>\n",
       "<style scoped>\n",
       "    .dataframe tbody tr th:only-of-type {\n",
       "        vertical-align: middle;\n",
       "    }\n",
       "\n",
       "    .dataframe tbody tr th {\n",
       "        vertical-align: top;\n",
       "    }\n",
       "\n",
       "    .dataframe thead th {\n",
       "        text-align: right;\n",
       "    }\n",
       "</style>\n",
       "<table border=\"1\" class=\"dataframe\">\n",
       "  <thead>\n",
       "    <tr style=\"text-align: right;\">\n",
       "      <th></th>\n",
       "      <th>A</th>\n",
       "      <th>B</th>\n",
       "      <th>C</th>\n",
       "    </tr>\n",
       "  </thead>\n",
       "  <tbody>\n",
       "    <tr>\n",
       "      <th>0</th>\n",
       "      <td>0</td>\n",
       "      <td>0</td>\n",
       "      <td>0</td>\n",
       "    </tr>\n",
       "    <tr>\n",
       "      <th>1</th>\n",
       "      <td>-3</td>\n",
       "      <td>-7</td>\n",
       "      <td>0</td>\n",
       "    </tr>\n",
       "    <tr>\n",
       "      <th>2</th>\n",
       "      <td>-5</td>\n",
       "      <td>-4</td>\n",
       "      <td>0</td>\n",
       "    </tr>\n",
       "  </tbody>\n",
       "</table>\n",
       "</div>"
      ],
      "text/plain": [
       "   A  B  C\n",
       "0  0  0  0\n",
       "1 -3 -7  0\n",
       "2 -5 -4  0"
      ]
     },
     "execution_count": 135,
     "metadata": {},
     "output_type": "execute_result"
    }
   ],
   "source": [
    "df.sub(df.iloc[0])"
   ]
  },
  {
   "cell_type": "code",
   "execution_count": 136,
   "id": "2d1b4381",
   "metadata": {},
   "outputs": [
    {
     "data": {
      "text/html": [
       "<div>\n",
       "<style scoped>\n",
       "    .dataframe tbody tr th:only-of-type {\n",
       "        vertical-align: middle;\n",
       "    }\n",
       "\n",
       "    .dataframe tbody tr th {\n",
       "        vertical-align: top;\n",
       "    }\n",
       "\n",
       "    .dataframe thead th {\n",
       "        text-align: right;\n",
       "    }\n",
       "</style>\n",
       "<table border=\"1\" class=\"dataframe\">\n",
       "  <thead>\n",
       "    <tr style=\"text-align: right;\">\n",
       "      <th></th>\n",
       "      <th>A</th>\n",
       "      <th>B</th>\n",
       "      <th>C</th>\n",
       "    </tr>\n",
       "  </thead>\n",
       "  <tbody>\n",
       "    <tr>\n",
       "      <th>0</th>\n",
       "      <td>-3</td>\n",
       "      <td>0</td>\n",
       "      <td>-4</td>\n",
       "    </tr>\n",
       "    <tr>\n",
       "      <th>1</th>\n",
       "      <td>1</td>\n",
       "      <td>0</td>\n",
       "      <td>3</td>\n",
       "    </tr>\n",
       "    <tr>\n",
       "      <th>2</th>\n",
       "      <td>-4</td>\n",
       "      <td>0</td>\n",
       "      <td>0</td>\n",
       "    </tr>\n",
       "  </tbody>\n",
       "</table>\n",
       "</div>"
      ],
      "text/plain": [
       "   A  B  C\n",
       "0 -3  0 -4\n",
       "1  1  0  3\n",
       "2 -4  0  0"
      ]
     },
     "execution_count": 136,
     "metadata": {},
     "output_type": "execute_result"
    }
   ],
   "source": [
    "df.subtract(df['B'], axis=0)"
   ]
  },
  {
   "cell_type": "markdown",
   "id": "9b8f208b",
   "metadata": {},
   "source": [
    "#### mul( ) / multply( )"
   ]
  },
  {
   "cell_type": "code",
   "execution_count": 137,
   "id": "2dcad3b7",
   "metadata": {},
   "outputs": [
    {
     "data": {
      "text/plain": [
       "array([[6, 9, 5],\n",
       "       [3, 2, 5],\n",
       "       [1, 5, 5]])"
      ]
     },
     "execution_count": 137,
     "metadata": {},
     "output_type": "execute_result"
    }
   ],
   "source": [
    "a"
   ]
  },
  {
   "cell_type": "code",
   "execution_count": 138,
   "id": "a52f860b",
   "metadata": {},
   "outputs": [
    {
     "data": {
      "text/plain": [
       "array([[18, 18, 25],\n",
       "       [ 9,  4, 25],\n",
       "       [ 3, 10, 25]])"
      ]
     },
     "execution_count": 138,
     "metadata": {},
     "output_type": "execute_result"
    }
   ],
   "source": [
    "a * a[1]"
   ]
  },
  {
   "cell_type": "code",
   "execution_count": 139,
   "id": "9af68135",
   "metadata": {},
   "outputs": [
    {
     "data": {
      "text/html": [
       "<div>\n",
       "<style scoped>\n",
       "    .dataframe tbody tr th:only-of-type {\n",
       "        vertical-align: middle;\n",
       "    }\n",
       "\n",
       "    .dataframe tbody tr th {\n",
       "        vertical-align: top;\n",
       "    }\n",
       "\n",
       "    .dataframe thead th {\n",
       "        text-align: right;\n",
       "    }\n",
       "</style>\n",
       "<table border=\"1\" class=\"dataframe\">\n",
       "  <thead>\n",
       "    <tr style=\"text-align: right;\">\n",
       "      <th></th>\n",
       "      <th>A</th>\n",
       "      <th>B</th>\n",
       "      <th>C</th>\n",
       "    </tr>\n",
       "  </thead>\n",
       "  <tbody>\n",
       "    <tr>\n",
       "      <th>0</th>\n",
       "      <td>6</td>\n",
       "      <td>9</td>\n",
       "      <td>5</td>\n",
       "    </tr>\n",
       "    <tr>\n",
       "      <th>1</th>\n",
       "      <td>3</td>\n",
       "      <td>2</td>\n",
       "      <td>5</td>\n",
       "    </tr>\n",
       "    <tr>\n",
       "      <th>2</th>\n",
       "      <td>1</td>\n",
       "      <td>5</td>\n",
       "      <td>5</td>\n",
       "    </tr>\n",
       "  </tbody>\n",
       "</table>\n",
       "</div>"
      ],
      "text/plain": [
       "   A  B  C\n",
       "0  6  9  5\n",
       "1  3  2  5\n",
       "2  1  5  5"
      ]
     },
     "execution_count": 139,
     "metadata": {},
     "output_type": "execute_result"
    }
   ],
   "source": [
    "df"
   ]
  },
  {
   "cell_type": "code",
   "execution_count": 140,
   "id": "92c5770f",
   "metadata": {},
   "outputs": [
    {
     "data": {
      "text/html": [
       "<div>\n",
       "<style scoped>\n",
       "    .dataframe tbody tr th:only-of-type {\n",
       "        vertical-align: middle;\n",
       "    }\n",
       "\n",
       "    .dataframe tbody tr th {\n",
       "        vertical-align: top;\n",
       "    }\n",
       "\n",
       "    .dataframe thead th {\n",
       "        text-align: right;\n",
       "    }\n",
       "</style>\n",
       "<table border=\"1\" class=\"dataframe\">\n",
       "  <thead>\n",
       "    <tr style=\"text-align: right;\">\n",
       "      <th></th>\n",
       "      <th>A</th>\n",
       "      <th>B</th>\n",
       "      <th>C</th>\n",
       "    </tr>\n",
       "  </thead>\n",
       "  <tbody>\n",
       "    <tr>\n",
       "      <th>0</th>\n",
       "      <td>18</td>\n",
       "      <td>18</td>\n",
       "      <td>25</td>\n",
       "    </tr>\n",
       "    <tr>\n",
       "      <th>1</th>\n",
       "      <td>9</td>\n",
       "      <td>4</td>\n",
       "      <td>25</td>\n",
       "    </tr>\n",
       "    <tr>\n",
       "      <th>2</th>\n",
       "      <td>3</td>\n",
       "      <td>10</td>\n",
       "      <td>25</td>\n",
       "    </tr>\n",
       "  </tbody>\n",
       "</table>\n",
       "</div>"
      ],
      "text/plain": [
       "    A   B   C\n",
       "0  18  18  25\n",
       "1   9   4  25\n",
       "2   3  10  25"
      ]
     },
     "execution_count": 140,
     "metadata": {},
     "output_type": "execute_result"
    }
   ],
   "source": [
    "df * df.iloc[1]"
   ]
  },
  {
   "cell_type": "code",
   "execution_count": 141,
   "id": "ce1dc9a4",
   "metadata": {},
   "outputs": [
    {
     "data": {
      "text/html": [
       "<div>\n",
       "<style scoped>\n",
       "    .dataframe tbody tr th:only-of-type {\n",
       "        vertical-align: middle;\n",
       "    }\n",
       "\n",
       "    .dataframe tbody tr th {\n",
       "        vertical-align: top;\n",
       "    }\n",
       "\n",
       "    .dataframe thead th {\n",
       "        text-align: right;\n",
       "    }\n",
       "</style>\n",
       "<table border=\"1\" class=\"dataframe\">\n",
       "  <thead>\n",
       "    <tr style=\"text-align: right;\">\n",
       "      <th></th>\n",
       "      <th>A</th>\n",
       "      <th>B</th>\n",
       "      <th>C</th>\n",
       "    </tr>\n",
       "  </thead>\n",
       "  <tbody>\n",
       "    <tr>\n",
       "      <th>0</th>\n",
       "      <td>18</td>\n",
       "      <td>18</td>\n",
       "      <td>25</td>\n",
       "    </tr>\n",
       "    <tr>\n",
       "      <th>1</th>\n",
       "      <td>9</td>\n",
       "      <td>4</td>\n",
       "      <td>25</td>\n",
       "    </tr>\n",
       "    <tr>\n",
       "      <th>2</th>\n",
       "      <td>3</td>\n",
       "      <td>10</td>\n",
       "      <td>25</td>\n",
       "    </tr>\n",
       "  </tbody>\n",
       "</table>\n",
       "</div>"
      ],
      "text/plain": [
       "    A   B   C\n",
       "0  18  18  25\n",
       "1   9   4  25\n",
       "2   3  10  25"
      ]
     },
     "execution_count": 141,
     "metadata": {},
     "output_type": "execute_result"
    }
   ],
   "source": [
    "df.mul(df.iloc[1])"
   ]
  },
  {
   "cell_type": "code",
   "execution_count": 142,
   "id": "98dfa8d0",
   "metadata": {},
   "outputs": [
    {
     "data": {
      "text/html": [
       "<div>\n",
       "<style scoped>\n",
       "    .dataframe tbody tr th:only-of-type {\n",
       "        vertical-align: middle;\n",
       "    }\n",
       "\n",
       "    .dataframe tbody tr th {\n",
       "        vertical-align: top;\n",
       "    }\n",
       "\n",
       "    .dataframe thead th {\n",
       "        text-align: right;\n",
       "    }\n",
       "</style>\n",
       "<table border=\"1\" class=\"dataframe\">\n",
       "  <thead>\n",
       "    <tr style=\"text-align: right;\">\n",
       "      <th></th>\n",
       "      <th>A</th>\n",
       "      <th>B</th>\n",
       "      <th>C</th>\n",
       "    </tr>\n",
       "  </thead>\n",
       "  <tbody>\n",
       "    <tr>\n",
       "      <th>0</th>\n",
       "      <td>6</td>\n",
       "      <td>45</td>\n",
       "      <td>25</td>\n",
       "    </tr>\n",
       "    <tr>\n",
       "      <th>1</th>\n",
       "      <td>3</td>\n",
       "      <td>10</td>\n",
       "      <td>25</td>\n",
       "    </tr>\n",
       "    <tr>\n",
       "      <th>2</th>\n",
       "      <td>1</td>\n",
       "      <td>25</td>\n",
       "      <td>25</td>\n",
       "    </tr>\n",
       "  </tbody>\n",
       "</table>\n",
       "</div>"
      ],
      "text/plain": [
       "   A   B   C\n",
       "0  6  45  25\n",
       "1  3  10  25\n",
       "2  1  25  25"
      ]
     },
     "execution_count": 142,
     "metadata": {},
     "output_type": "execute_result"
    }
   ],
   "source": [
    "df.multiply(df.iloc[2])"
   ]
  },
  {
   "cell_type": "markdown",
   "id": "8894a7e7",
   "metadata": {},
   "source": [
    "#### truediv( ) / div( ) / divide( ) / floordiv( )"
   ]
  },
  {
   "cell_type": "code",
   "execution_count": 143,
   "id": "64918e79",
   "metadata": {},
   "outputs": [
    {
     "data": {
      "text/plain": [
       "array([[6, 9, 5],\n",
       "       [3, 2, 5],\n",
       "       [1, 5, 5]])"
      ]
     },
     "execution_count": 143,
     "metadata": {},
     "output_type": "execute_result"
    }
   ],
   "source": [
    "a "
   ]
  },
  {
   "cell_type": "code",
   "execution_count": 144,
   "id": "248095c8",
   "metadata": {},
   "outputs": [
    {
     "data": {
      "text/plain": [
       "array([[1.        , 1.        , 1.        ],\n",
       "       [0.5       , 0.22222222, 1.        ],\n",
       "       [0.16666667, 0.55555556, 1.        ]])"
      ]
     },
     "execution_count": 144,
     "metadata": {},
     "output_type": "execute_result"
    }
   ],
   "source": [
    "a / a[0]"
   ]
  },
  {
   "cell_type": "code",
   "execution_count": 145,
   "id": "300afdec",
   "metadata": {},
   "outputs": [
    {
     "data": {
      "text/html": [
       "<div>\n",
       "<style scoped>\n",
       "    .dataframe tbody tr th:only-of-type {\n",
       "        vertical-align: middle;\n",
       "    }\n",
       "\n",
       "    .dataframe tbody tr th {\n",
       "        vertical-align: top;\n",
       "    }\n",
       "\n",
       "    .dataframe thead th {\n",
       "        text-align: right;\n",
       "    }\n",
       "</style>\n",
       "<table border=\"1\" class=\"dataframe\">\n",
       "  <thead>\n",
       "    <tr style=\"text-align: right;\">\n",
       "      <th></th>\n",
       "      <th>A</th>\n",
       "      <th>B</th>\n",
       "      <th>C</th>\n",
       "    </tr>\n",
       "  </thead>\n",
       "  <tbody>\n",
       "    <tr>\n",
       "      <th>0</th>\n",
       "      <td>1.000000</td>\n",
       "      <td>1.000000</td>\n",
       "      <td>1.0</td>\n",
       "    </tr>\n",
       "    <tr>\n",
       "      <th>1</th>\n",
       "      <td>0.500000</td>\n",
       "      <td>0.222222</td>\n",
       "      <td>1.0</td>\n",
       "    </tr>\n",
       "    <tr>\n",
       "      <th>2</th>\n",
       "      <td>0.166667</td>\n",
       "      <td>0.555556</td>\n",
       "      <td>1.0</td>\n",
       "    </tr>\n",
       "  </tbody>\n",
       "</table>\n",
       "</div>"
      ],
      "text/plain": [
       "          A         B    C\n",
       "0  1.000000  1.000000  1.0\n",
       "1  0.500000  0.222222  1.0\n",
       "2  0.166667  0.555556  1.0"
      ]
     },
     "execution_count": 145,
     "metadata": {},
     "output_type": "execute_result"
    }
   ],
   "source": [
    "df / df.iloc[0]"
   ]
  },
  {
   "cell_type": "code",
   "execution_count": 146,
   "id": "e59707a4",
   "metadata": {},
   "outputs": [
    {
     "data": {
      "text/html": [
       "<div>\n",
       "<style scoped>\n",
       "    .dataframe tbody tr th:only-of-type {\n",
       "        vertical-align: middle;\n",
       "    }\n",
       "\n",
       "    .dataframe tbody tr th {\n",
       "        vertical-align: top;\n",
       "    }\n",
       "\n",
       "    .dataframe thead th {\n",
       "        text-align: right;\n",
       "    }\n",
       "</style>\n",
       "<table border=\"1\" class=\"dataframe\">\n",
       "  <thead>\n",
       "    <tr style=\"text-align: right;\">\n",
       "      <th></th>\n",
       "      <th>A</th>\n",
       "      <th>B</th>\n",
       "      <th>C</th>\n",
       "    </tr>\n",
       "  </thead>\n",
       "  <tbody>\n",
       "    <tr>\n",
       "      <th>0</th>\n",
       "      <td>1.000000</td>\n",
       "      <td>1.000000</td>\n",
       "      <td>1.0</td>\n",
       "    </tr>\n",
       "    <tr>\n",
       "      <th>1</th>\n",
       "      <td>0.500000</td>\n",
       "      <td>0.222222</td>\n",
       "      <td>1.0</td>\n",
       "    </tr>\n",
       "    <tr>\n",
       "      <th>2</th>\n",
       "      <td>0.166667</td>\n",
       "      <td>0.555556</td>\n",
       "      <td>1.0</td>\n",
       "    </tr>\n",
       "  </tbody>\n",
       "</table>\n",
       "</div>"
      ],
      "text/plain": [
       "          A         B    C\n",
       "0  1.000000  1.000000  1.0\n",
       "1  0.500000  0.222222  1.0\n",
       "2  0.166667  0.555556  1.0"
      ]
     },
     "execution_count": 146,
     "metadata": {},
     "output_type": "execute_result"
    }
   ],
   "source": [
    "df.truediv(df.iloc[0])"
   ]
  },
  {
   "cell_type": "code",
   "execution_count": 147,
   "id": "abaa7a45",
   "metadata": {},
   "outputs": [
    {
     "data": {
      "text/html": [
       "<div>\n",
       "<style scoped>\n",
       "    .dataframe tbody tr th:only-of-type {\n",
       "        vertical-align: middle;\n",
       "    }\n",
       "\n",
       "    .dataframe tbody tr th {\n",
       "        vertical-align: top;\n",
       "    }\n",
       "\n",
       "    .dataframe thead th {\n",
       "        text-align: right;\n",
       "    }\n",
       "</style>\n",
       "<table border=\"1\" class=\"dataframe\">\n",
       "  <thead>\n",
       "    <tr style=\"text-align: right;\">\n",
       "      <th></th>\n",
       "      <th>A</th>\n",
       "      <th>B</th>\n",
       "      <th>C</th>\n",
       "    </tr>\n",
       "  </thead>\n",
       "  <tbody>\n",
       "    <tr>\n",
       "      <th>0</th>\n",
       "      <td>1.000000</td>\n",
       "      <td>1.000000</td>\n",
       "      <td>1.0</td>\n",
       "    </tr>\n",
       "    <tr>\n",
       "      <th>1</th>\n",
       "      <td>0.500000</td>\n",
       "      <td>0.222222</td>\n",
       "      <td>1.0</td>\n",
       "    </tr>\n",
       "    <tr>\n",
       "      <th>2</th>\n",
       "      <td>0.166667</td>\n",
       "      <td>0.555556</td>\n",
       "      <td>1.0</td>\n",
       "    </tr>\n",
       "  </tbody>\n",
       "</table>\n",
       "</div>"
      ],
      "text/plain": [
       "          A         B    C\n",
       "0  1.000000  1.000000  1.0\n",
       "1  0.500000  0.222222  1.0\n",
       "2  0.166667  0.555556  1.0"
      ]
     },
     "execution_count": 147,
     "metadata": {},
     "output_type": "execute_result"
    }
   ],
   "source": [
    "df.div(df.iloc[0])"
   ]
  },
  {
   "cell_type": "code",
   "execution_count": 148,
   "id": "dccf22b8",
   "metadata": {},
   "outputs": [
    {
     "data": {
      "text/html": [
       "<div>\n",
       "<style scoped>\n",
       "    .dataframe tbody tr th:only-of-type {\n",
       "        vertical-align: middle;\n",
       "    }\n",
       "\n",
       "    .dataframe tbody tr th {\n",
       "        vertical-align: top;\n",
       "    }\n",
       "\n",
       "    .dataframe thead th {\n",
       "        text-align: right;\n",
       "    }\n",
       "</style>\n",
       "<table border=\"1\" class=\"dataframe\">\n",
       "  <thead>\n",
       "    <tr style=\"text-align: right;\">\n",
       "      <th></th>\n",
       "      <th>A</th>\n",
       "      <th>B</th>\n",
       "      <th>C</th>\n",
       "    </tr>\n",
       "  </thead>\n",
       "  <tbody>\n",
       "    <tr>\n",
       "      <th>0</th>\n",
       "      <td>1.000000</td>\n",
       "      <td>1.000000</td>\n",
       "      <td>1.0</td>\n",
       "    </tr>\n",
       "    <tr>\n",
       "      <th>1</th>\n",
       "      <td>0.500000</td>\n",
       "      <td>0.222222</td>\n",
       "      <td>1.0</td>\n",
       "    </tr>\n",
       "    <tr>\n",
       "      <th>2</th>\n",
       "      <td>0.166667</td>\n",
       "      <td>0.555556</td>\n",
       "      <td>1.0</td>\n",
       "    </tr>\n",
       "  </tbody>\n",
       "</table>\n",
       "</div>"
      ],
      "text/plain": [
       "          A         B    C\n",
       "0  1.000000  1.000000  1.0\n",
       "1  0.500000  0.222222  1.0\n",
       "2  0.166667  0.555556  1.0"
      ]
     },
     "execution_count": 148,
     "metadata": {},
     "output_type": "execute_result"
    }
   ],
   "source": [
    "df.divide(df.iloc[0])"
   ]
  },
  {
   "cell_type": "code",
   "execution_count": 149,
   "id": "fd9c39a6",
   "metadata": {},
   "outputs": [
    {
     "data": {
      "text/plain": [
       "array([[1, 1, 1],\n",
       "       [0, 0, 1],\n",
       "       [0, 0, 1]], dtype=int32)"
      ]
     },
     "execution_count": 149,
     "metadata": {},
     "output_type": "execute_result"
    }
   ],
   "source": [
    "a // a[0]"
   ]
  },
  {
   "cell_type": "code",
   "execution_count": 150,
   "id": "08f55db7",
   "metadata": {},
   "outputs": [
    {
     "data": {
      "text/html": [
       "<div>\n",
       "<style scoped>\n",
       "    .dataframe tbody tr th:only-of-type {\n",
       "        vertical-align: middle;\n",
       "    }\n",
       "\n",
       "    .dataframe tbody tr th {\n",
       "        vertical-align: top;\n",
       "    }\n",
       "\n",
       "    .dataframe thead th {\n",
       "        text-align: right;\n",
       "    }\n",
       "</style>\n",
       "<table border=\"1\" class=\"dataframe\">\n",
       "  <thead>\n",
       "    <tr style=\"text-align: right;\">\n",
       "      <th></th>\n",
       "      <th>A</th>\n",
       "      <th>B</th>\n",
       "      <th>C</th>\n",
       "    </tr>\n",
       "  </thead>\n",
       "  <tbody>\n",
       "    <tr>\n",
       "      <th>0</th>\n",
       "      <td>1</td>\n",
       "      <td>1</td>\n",
       "      <td>1</td>\n",
       "    </tr>\n",
       "    <tr>\n",
       "      <th>1</th>\n",
       "      <td>0</td>\n",
       "      <td>0</td>\n",
       "      <td>1</td>\n",
       "    </tr>\n",
       "    <tr>\n",
       "      <th>2</th>\n",
       "      <td>0</td>\n",
       "      <td>0</td>\n",
       "      <td>1</td>\n",
       "    </tr>\n",
       "  </tbody>\n",
       "</table>\n",
       "</div>"
      ],
      "text/plain": [
       "   A  B  C\n",
       "0  1  1  1\n",
       "1  0  0  1\n",
       "2  0  0  1"
      ]
     },
     "execution_count": 150,
     "metadata": {},
     "output_type": "execute_result"
    }
   ],
   "source": [
    "df.floordiv(df.iloc[0])"
   ]
  },
  {
   "cell_type": "markdown",
   "id": "d4fa0aeb",
   "metadata": {},
   "source": [
    "#### mod( )"
   ]
  },
  {
   "cell_type": "code",
   "execution_count": 151,
   "id": "9edbe1ba",
   "metadata": {},
   "outputs": [
    {
     "data": {
      "text/plain": [
       "array([[6, 9, 5],\n",
       "       [3, 2, 5],\n",
       "       [1, 5, 5]])"
      ]
     },
     "execution_count": 151,
     "metadata": {},
     "output_type": "execute_result"
    }
   ],
   "source": [
    "a"
   ]
  },
  {
   "cell_type": "code",
   "execution_count": 152,
   "id": "ebb05cba",
   "metadata": {},
   "outputs": [
    {
     "data": {
      "text/plain": [
       "array([[0, 0, 0],\n",
       "       [3, 2, 0],\n",
       "       [1, 5, 0]], dtype=int32)"
      ]
     },
     "execution_count": 152,
     "metadata": {},
     "output_type": "execute_result"
    }
   ],
   "source": [
    "a % a[0]"
   ]
  },
  {
   "cell_type": "code",
   "execution_count": 153,
   "id": "008ec0c3",
   "metadata": {},
   "outputs": [
    {
     "data": {
      "text/html": [
       "<div>\n",
       "<style scoped>\n",
       "    .dataframe tbody tr th:only-of-type {\n",
       "        vertical-align: middle;\n",
       "    }\n",
       "\n",
       "    .dataframe tbody tr th {\n",
       "        vertical-align: top;\n",
       "    }\n",
       "\n",
       "    .dataframe thead th {\n",
       "        text-align: right;\n",
       "    }\n",
       "</style>\n",
       "<table border=\"1\" class=\"dataframe\">\n",
       "  <thead>\n",
       "    <tr style=\"text-align: right;\">\n",
       "      <th></th>\n",
       "      <th>A</th>\n",
       "      <th>B</th>\n",
       "      <th>C</th>\n",
       "    </tr>\n",
       "  </thead>\n",
       "  <tbody>\n",
       "    <tr>\n",
       "      <th>0</th>\n",
       "      <td>6</td>\n",
       "      <td>9</td>\n",
       "      <td>5</td>\n",
       "    </tr>\n",
       "    <tr>\n",
       "      <th>1</th>\n",
       "      <td>3</td>\n",
       "      <td>2</td>\n",
       "      <td>5</td>\n",
       "    </tr>\n",
       "    <tr>\n",
       "      <th>2</th>\n",
       "      <td>1</td>\n",
       "      <td>5</td>\n",
       "      <td>5</td>\n",
       "    </tr>\n",
       "  </tbody>\n",
       "</table>\n",
       "</div>"
      ],
      "text/plain": [
       "   A  B  C\n",
       "0  6  9  5\n",
       "1  3  2  5\n",
       "2  1  5  5"
      ]
     },
     "execution_count": 153,
     "metadata": {},
     "output_type": "execute_result"
    }
   ],
   "source": [
    "df"
   ]
  },
  {
   "cell_type": "code",
   "execution_count": 154,
   "id": "8ebbfa28",
   "metadata": {},
   "outputs": [
    {
     "data": {
      "text/html": [
       "<div>\n",
       "<style scoped>\n",
       "    .dataframe tbody tr th:only-of-type {\n",
       "        vertical-align: middle;\n",
       "    }\n",
       "\n",
       "    .dataframe tbody tr th {\n",
       "        vertical-align: top;\n",
       "    }\n",
       "\n",
       "    .dataframe thead th {\n",
       "        text-align: right;\n",
       "    }\n",
       "</style>\n",
       "<table border=\"1\" class=\"dataframe\">\n",
       "  <thead>\n",
       "    <tr style=\"text-align: right;\">\n",
       "      <th></th>\n",
       "      <th>A</th>\n",
       "      <th>B</th>\n",
       "      <th>C</th>\n",
       "    </tr>\n",
       "  </thead>\n",
       "  <tbody>\n",
       "    <tr>\n",
       "      <th>0</th>\n",
       "      <td>0</td>\n",
       "      <td>0</td>\n",
       "      <td>0</td>\n",
       "    </tr>\n",
       "    <tr>\n",
       "      <th>1</th>\n",
       "      <td>3</td>\n",
       "      <td>2</td>\n",
       "      <td>0</td>\n",
       "    </tr>\n",
       "    <tr>\n",
       "      <th>2</th>\n",
       "      <td>1</td>\n",
       "      <td>5</td>\n",
       "      <td>0</td>\n",
       "    </tr>\n",
       "  </tbody>\n",
       "</table>\n",
       "</div>"
      ],
      "text/plain": [
       "   A  B  C\n",
       "0  0  0  0\n",
       "1  3  2  0\n",
       "2  1  5  0"
      ]
     },
     "execution_count": 154,
     "metadata": {},
     "output_type": "execute_result"
    }
   ],
   "source": [
    "df.mod(df.iloc[0])"
   ]
  },
  {
   "cell_type": "markdown",
   "id": "15bbe8bd",
   "metadata": {},
   "source": [
    "#### pow( )"
   ]
  },
  {
   "cell_type": "code",
   "execution_count": 155,
   "id": "9709d3f0",
   "metadata": {},
   "outputs": [
    {
     "data": {
      "text/plain": [
       "array([[    46656, 387420489,      3125],\n",
       "       [      729,       512,      3125],\n",
       "       [        1,   1953125,      3125]], dtype=int32)"
      ]
     },
     "execution_count": 155,
     "metadata": {},
     "output_type": "execute_result"
    }
   ],
   "source": [
    "a ** a[0]"
   ]
  },
  {
   "cell_type": "code",
   "execution_count": 158,
   "id": "59fb666a",
   "metadata": {},
   "outputs": [
    {
     "data": {
      "text/html": [
       "<div>\n",
       "<style scoped>\n",
       "    .dataframe tbody tr th:only-of-type {\n",
       "        vertical-align: middle;\n",
       "    }\n",
       "\n",
       "    .dataframe tbody tr th {\n",
       "        vertical-align: top;\n",
       "    }\n",
       "\n",
       "    .dataframe thead th {\n",
       "        text-align: right;\n",
       "    }\n",
       "</style>\n",
       "<table border=\"1\" class=\"dataframe\">\n",
       "  <thead>\n",
       "    <tr style=\"text-align: right;\">\n",
       "      <th></th>\n",
       "      <th>A</th>\n",
       "      <th>B</th>\n",
       "      <th>C</th>\n",
       "    </tr>\n",
       "  </thead>\n",
       "  <tbody>\n",
       "    <tr>\n",
       "      <th>0</th>\n",
       "      <td>46656</td>\n",
       "      <td>387420489</td>\n",
       "      <td>3125</td>\n",
       "    </tr>\n",
       "    <tr>\n",
       "      <th>1</th>\n",
       "      <td>729</td>\n",
       "      <td>512</td>\n",
       "      <td>3125</td>\n",
       "    </tr>\n",
       "    <tr>\n",
       "      <th>2</th>\n",
       "      <td>1</td>\n",
       "      <td>1953125</td>\n",
       "      <td>3125</td>\n",
       "    </tr>\n",
       "  </tbody>\n",
       "</table>\n",
       "</div>"
      ],
      "text/plain": [
       "       A          B     C\n",
       "0  46656  387420489  3125\n",
       "1    729        512  3125\n",
       "2      1    1953125  3125"
      ]
     },
     "execution_count": 158,
     "metadata": {},
     "output_type": "execute_result"
    }
   ],
   "source": [
    "df.pow(df.iloc[0])"
   ]
  },
  {
   "cell_type": "code",
   "execution_count": 159,
   "id": "94de5355",
   "metadata": {},
   "outputs": [
    {
     "data": {
      "text/plain": [
       "A    6\n",
       "C    5\n",
       "Name: 0, dtype: int32"
      ]
     },
     "execution_count": 159,
     "metadata": {},
     "output_type": "execute_result"
    }
   ],
   "source": [
    "row = df.iloc[0, ::2]\n",
    "row"
   ]
  },
  {
   "cell_type": "code",
   "execution_count": 161,
   "id": "d6fcb921",
   "metadata": {},
   "outputs": [
    {
     "data": {
      "text/html": [
       "<div>\n",
       "<style scoped>\n",
       "    .dataframe tbody tr th:only-of-type {\n",
       "        vertical-align: middle;\n",
       "    }\n",
       "\n",
       "    .dataframe tbody tr th {\n",
       "        vertical-align: top;\n",
       "    }\n",
       "\n",
       "    .dataframe thead th {\n",
       "        text-align: right;\n",
       "    }\n",
       "</style>\n",
       "<table border=\"1\" class=\"dataframe\">\n",
       "  <thead>\n",
       "    <tr style=\"text-align: right;\">\n",
       "      <th></th>\n",
       "      <th>A</th>\n",
       "      <th>B</th>\n",
       "      <th>C</th>\n",
       "    </tr>\n",
       "  </thead>\n",
       "  <tbody>\n",
       "    <tr>\n",
       "      <th>0</th>\n",
       "      <td>0.0</td>\n",
       "      <td>NaN</td>\n",
       "      <td>0.0</td>\n",
       "    </tr>\n",
       "    <tr>\n",
       "      <th>1</th>\n",
       "      <td>-3.0</td>\n",
       "      <td>NaN</td>\n",
       "      <td>0.0</td>\n",
       "    </tr>\n",
       "    <tr>\n",
       "      <th>2</th>\n",
       "      <td>-5.0</td>\n",
       "      <td>NaN</td>\n",
       "      <td>0.0</td>\n",
       "    </tr>\n",
       "  </tbody>\n",
       "</table>\n",
       "</div>"
      ],
      "text/plain": [
       "     A   B    C\n",
       "0  0.0 NaN  0.0\n",
       "1 -3.0 NaN  0.0\n",
       "2 -5.0 NaN  0.0"
      ]
     },
     "execution_count": 161,
     "metadata": {},
     "output_type": "execute_result"
    }
   ],
   "source": [
    "df - row"
   ]
  },
  {
   "cell_type": "markdown",
   "id": "0b66e932",
   "metadata": {},
   "source": [
    "### 정렬(Sort)"
   ]
  },
  {
   "cell_type": "code",
   "execution_count": 162,
   "id": "389a60bb",
   "metadata": {},
   "outputs": [
    {
     "data": {
      "text/plain": [
       "A    0\n",
       "D    1\n",
       "B    2\n",
       "C    3\n",
       "E    4\n",
       "dtype: int64"
      ]
     },
     "execution_count": 162,
     "metadata": {},
     "output_type": "execute_result"
    }
   ],
   "source": [
    "s = pd.Series(range(5), index=['A','D','B','C','E'])\n",
    "s"
   ]
  },
  {
   "cell_type": "code",
   "execution_count": 163,
   "id": "c8c644cc",
   "metadata": {},
   "outputs": [
    {
     "data": {
      "text/plain": [
       "A    0\n",
       "B    2\n",
       "C    3\n",
       "D    1\n",
       "E    4\n",
       "dtype: int64"
      ]
     },
     "execution_count": 163,
     "metadata": {},
     "output_type": "execute_result"
    }
   ],
   "source": [
    "s.sort_index()"
   ]
  },
  {
   "cell_type": "code",
   "execution_count": 164,
   "id": "b7998832",
   "metadata": {},
   "outputs": [
    {
     "data": {
      "text/plain": [
       "A    0\n",
       "D    1\n",
       "B    2\n",
       "C    3\n",
       "E    4\n",
       "dtype: int64"
      ]
     },
     "execution_count": 164,
     "metadata": {},
     "output_type": "execute_result"
    }
   ],
   "source": [
    "s.sort_values()"
   ]
  },
  {
   "cell_type": "code",
   "execution_count": 166,
   "id": "5d864733",
   "metadata": {},
   "outputs": [
    {
     "data": {
      "text/html": [
       "<div>\n",
       "<style scoped>\n",
       "    .dataframe tbody tr th:only-of-type {\n",
       "        vertical-align: middle;\n",
       "    }\n",
       "\n",
       "    .dataframe tbody tr th {\n",
       "        vertical-align: top;\n",
       "    }\n",
       "\n",
       "    .dataframe thead th {\n",
       "        text-align: right;\n",
       "    }\n",
       "</style>\n",
       "<table border=\"1\" class=\"dataframe\">\n",
       "  <thead>\n",
       "    <tr style=\"text-align: right;\">\n",
       "      <th></th>\n",
       "      <th>B</th>\n",
       "      <th>D</th>\n",
       "      <th>A</th>\n",
       "      <th>C</th>\n",
       "    </tr>\n",
       "  </thead>\n",
       "  <tbody>\n",
       "    <tr>\n",
       "      <th>2</th>\n",
       "      <td>6</td>\n",
       "      <td>3</td>\n",
       "      <td>2</td>\n",
       "      <td>8</td>\n",
       "    </tr>\n",
       "    <tr>\n",
       "      <th>4</th>\n",
       "      <td>6</td>\n",
       "      <td>4</td>\n",
       "      <td>9</td>\n",
       "      <td>5</td>\n",
       "    </tr>\n",
       "    <tr>\n",
       "      <th>1</th>\n",
       "      <td>0</td>\n",
       "      <td>6</td>\n",
       "      <td>9</td>\n",
       "      <td>9</td>\n",
       "    </tr>\n",
       "    <tr>\n",
       "      <th>3</th>\n",
       "      <td>6</td>\n",
       "      <td>5</td>\n",
       "      <td>2</td>\n",
       "      <td>5</td>\n",
       "    </tr>\n",
       "  </tbody>\n",
       "</table>\n",
       "</div>"
      ],
      "text/plain": [
       "   B  D  A  C\n",
       "2  6  3  2  8\n",
       "4  6  4  9  5\n",
       "1  0  6  9  9\n",
       "3  6  5  2  5"
      ]
     },
     "execution_count": 166,
     "metadata": {},
     "output_type": "execute_result"
    }
   ],
   "source": [
    "df = pd.DataFrame(np.random.randint(0, 10, (4, 4)), \n",
    "                  index = [2, 4, 1, 3], \n",
    "                  columns=list('BDAC'))\n",
    "df"
   ]
  },
  {
   "cell_type": "code",
   "execution_count": 167,
   "id": "9db73d92",
   "metadata": {},
   "outputs": [
    {
     "data": {
      "text/html": [
       "<div>\n",
       "<style scoped>\n",
       "    .dataframe tbody tr th:only-of-type {\n",
       "        vertical-align: middle;\n",
       "    }\n",
       "\n",
       "    .dataframe tbody tr th {\n",
       "        vertical-align: top;\n",
       "    }\n",
       "\n",
       "    .dataframe thead th {\n",
       "        text-align: right;\n",
       "    }\n",
       "</style>\n",
       "<table border=\"1\" class=\"dataframe\">\n",
       "  <thead>\n",
       "    <tr style=\"text-align: right;\">\n",
       "      <th></th>\n",
       "      <th>B</th>\n",
       "      <th>D</th>\n",
       "      <th>A</th>\n",
       "      <th>C</th>\n",
       "    </tr>\n",
       "  </thead>\n",
       "  <tbody>\n",
       "    <tr>\n",
       "      <th>1</th>\n",
       "      <td>0</td>\n",
       "      <td>6</td>\n",
       "      <td>9</td>\n",
       "      <td>9</td>\n",
       "    </tr>\n",
       "    <tr>\n",
       "      <th>2</th>\n",
       "      <td>6</td>\n",
       "      <td>3</td>\n",
       "      <td>2</td>\n",
       "      <td>8</td>\n",
       "    </tr>\n",
       "    <tr>\n",
       "      <th>3</th>\n",
       "      <td>6</td>\n",
       "      <td>5</td>\n",
       "      <td>2</td>\n",
       "      <td>5</td>\n",
       "    </tr>\n",
       "    <tr>\n",
       "      <th>4</th>\n",
       "      <td>6</td>\n",
       "      <td>4</td>\n",
       "      <td>9</td>\n",
       "      <td>5</td>\n",
       "    </tr>\n",
       "  </tbody>\n",
       "</table>\n",
       "</div>"
      ],
      "text/plain": [
       "   B  D  A  C\n",
       "1  0  6  9  9\n",
       "2  6  3  2  8\n",
       "3  6  5  2  5\n",
       "4  6  4  9  5"
      ]
     },
     "execution_count": 167,
     "metadata": {},
     "output_type": "execute_result"
    }
   ],
   "source": [
    "df.sort_index()"
   ]
  },
  {
   "cell_type": "code",
   "execution_count": 171,
   "id": "295bf919",
   "metadata": {},
   "outputs": [
    {
     "data": {
      "text/html": [
       "<div>\n",
       "<style scoped>\n",
       "    .dataframe tbody tr th:only-of-type {\n",
       "        vertical-align: middle;\n",
       "    }\n",
       "\n",
       "    .dataframe tbody tr th {\n",
       "        vertical-align: top;\n",
       "    }\n",
       "\n",
       "    .dataframe thead th {\n",
       "        text-align: right;\n",
       "    }\n",
       "</style>\n",
       "<table border=\"1\" class=\"dataframe\">\n",
       "  <thead>\n",
       "    <tr style=\"text-align: right;\">\n",
       "      <th></th>\n",
       "      <th>A</th>\n",
       "      <th>B</th>\n",
       "      <th>C</th>\n",
       "      <th>D</th>\n",
       "    </tr>\n",
       "  </thead>\n",
       "  <tbody>\n",
       "    <tr>\n",
       "      <th>2</th>\n",
       "      <td>2</td>\n",
       "      <td>6</td>\n",
       "      <td>8</td>\n",
       "      <td>3</td>\n",
       "    </tr>\n",
       "    <tr>\n",
       "      <th>4</th>\n",
       "      <td>9</td>\n",
       "      <td>6</td>\n",
       "      <td>5</td>\n",
       "      <td>4</td>\n",
       "    </tr>\n",
       "    <tr>\n",
       "      <th>1</th>\n",
       "      <td>9</td>\n",
       "      <td>0</td>\n",
       "      <td>9</td>\n",
       "      <td>6</td>\n",
       "    </tr>\n",
       "    <tr>\n",
       "      <th>3</th>\n",
       "      <td>2</td>\n",
       "      <td>6</td>\n",
       "      <td>5</td>\n",
       "      <td>5</td>\n",
       "    </tr>\n",
       "  </tbody>\n",
       "</table>\n",
       "</div>"
      ],
      "text/plain": [
       "   A  B  C  D\n",
       "2  2  6  8  3\n",
       "4  9  6  5  4\n",
       "1  9  0  9  6\n",
       "3  2  6  5  5"
      ]
     },
     "execution_count": 171,
     "metadata": {},
     "output_type": "execute_result"
    }
   ],
   "source": [
    "df.sort_index(axis=1)"
   ]
  },
  {
   "cell_type": "code",
   "execution_count": 168,
   "id": "83622d4e",
   "metadata": {},
   "outputs": [
    {
     "data": {
      "text/html": [
       "<div>\n",
       "<style scoped>\n",
       "    .dataframe tbody tr th:only-of-type {\n",
       "        vertical-align: middle;\n",
       "    }\n",
       "\n",
       "    .dataframe tbody tr th {\n",
       "        vertical-align: top;\n",
       "    }\n",
       "\n",
       "    .dataframe thead th {\n",
       "        text-align: right;\n",
       "    }\n",
       "</style>\n",
       "<table border=\"1\" class=\"dataframe\">\n",
       "  <thead>\n",
       "    <tr style=\"text-align: right;\">\n",
       "      <th></th>\n",
       "      <th>B</th>\n",
       "      <th>D</th>\n",
       "      <th>A</th>\n",
       "      <th>C</th>\n",
       "    </tr>\n",
       "  </thead>\n",
       "  <tbody>\n",
       "    <tr>\n",
       "      <th>2</th>\n",
       "      <td>6</td>\n",
       "      <td>3</td>\n",
       "      <td>2</td>\n",
       "      <td>8</td>\n",
       "    </tr>\n",
       "    <tr>\n",
       "      <th>3</th>\n",
       "      <td>6</td>\n",
       "      <td>5</td>\n",
       "      <td>2</td>\n",
       "      <td>5</td>\n",
       "    </tr>\n",
       "    <tr>\n",
       "      <th>4</th>\n",
       "      <td>6</td>\n",
       "      <td>4</td>\n",
       "      <td>9</td>\n",
       "      <td>5</td>\n",
       "    </tr>\n",
       "    <tr>\n",
       "      <th>1</th>\n",
       "      <td>0</td>\n",
       "      <td>6</td>\n",
       "      <td>9</td>\n",
       "      <td>9</td>\n",
       "    </tr>\n",
       "  </tbody>\n",
       "</table>\n",
       "</div>"
      ],
      "text/plain": [
       "   B  D  A  C\n",
       "2  6  3  2  8\n",
       "3  6  5  2  5\n",
       "4  6  4  9  5\n",
       "1  0  6  9  9"
      ]
     },
     "execution_count": 168,
     "metadata": {},
     "output_type": "execute_result"
    }
   ],
   "source": [
    "df.sort_values(by='A')"
   ]
  },
  {
   "cell_type": "code",
   "execution_count": 169,
   "id": "d7ebe5bd",
   "metadata": {},
   "outputs": [
    {
     "data": {
      "text/html": [
       "<div>\n",
       "<style scoped>\n",
       "    .dataframe tbody tr th:only-of-type {\n",
       "        vertical-align: middle;\n",
       "    }\n",
       "\n",
       "    .dataframe tbody tr th {\n",
       "        vertical-align: top;\n",
       "    }\n",
       "\n",
       "    .dataframe thead th {\n",
       "        text-align: right;\n",
       "    }\n",
       "</style>\n",
       "<table border=\"1\" class=\"dataframe\">\n",
       "  <thead>\n",
       "    <tr style=\"text-align: right;\">\n",
       "      <th></th>\n",
       "      <th>B</th>\n",
       "      <th>D</th>\n",
       "      <th>A</th>\n",
       "      <th>C</th>\n",
       "    </tr>\n",
       "  </thead>\n",
       "  <tbody>\n",
       "    <tr>\n",
       "      <th>3</th>\n",
       "      <td>6</td>\n",
       "      <td>5</td>\n",
       "      <td>2</td>\n",
       "      <td>5</td>\n",
       "    </tr>\n",
       "    <tr>\n",
       "      <th>2</th>\n",
       "      <td>6</td>\n",
       "      <td>3</td>\n",
       "      <td>2</td>\n",
       "      <td>8</td>\n",
       "    </tr>\n",
       "    <tr>\n",
       "      <th>4</th>\n",
       "      <td>6</td>\n",
       "      <td>4</td>\n",
       "      <td>9</td>\n",
       "      <td>5</td>\n",
       "    </tr>\n",
       "    <tr>\n",
       "      <th>1</th>\n",
       "      <td>0</td>\n",
       "      <td>6</td>\n",
       "      <td>9</td>\n",
       "      <td>9</td>\n",
       "    </tr>\n",
       "  </tbody>\n",
       "</table>\n",
       "</div>"
      ],
      "text/plain": [
       "   B  D  A  C\n",
       "3  6  5  2  5\n",
       "2  6  3  2  8\n",
       "4  6  4  9  5\n",
       "1  0  6  9  9"
      ]
     },
     "execution_count": 169,
     "metadata": {},
     "output_type": "execute_result"
    }
   ],
   "source": [
    "df.sort_values(by=['A','C'])"
   ]
  },
  {
   "cell_type": "markdown",
   "id": "96d80aeb",
   "metadata": {},
   "source": [
    "### 순위(Ranking)\n",
    "|메소드|설명|\n",
    "|:--|:--|\n",
    "|```average```|기본값. 순위에 같은 값을 가지는 항목들의 평균값을 사용|\n",
    "|```min```|같은 값을 가지는 그룹을 낮은 순위로 지정|\n",
    "|```max```|같은 값을 가지는 그룹을 높은 순위로 지정|\n",
    "|```first```|데이터 내의 위치에 따라 순위 지정|\n",
    "|```dense```|같은 그룹 내에서 모두 같은 순위를 적용하지 않고 1씩 증가|"
   ]
  },
  {
   "cell_type": "code",
   "execution_count": 172,
   "id": "c4513206",
   "metadata": {},
   "outputs": [
    {
     "data": {
      "text/plain": [
       "0   -2\n",
       "1    4\n",
       "2    7\n",
       "3    3\n",
       "4    0\n",
       "5    7\n",
       "6    5\n",
       "7   -4\n",
       "8    2\n",
       "9    6\n",
       "dtype: int64"
      ]
     },
     "execution_count": 172,
     "metadata": {},
     "output_type": "execute_result"
    }
   ],
   "source": [
    "s = pd.Series([-2, 4, 7, 3, 0, 7, 5, -4, 2, 6])\n",
    "s"
   ]
  },
  {
   "cell_type": "code",
   "execution_count": 173,
   "id": "2b320d04",
   "metadata": {},
   "outputs": [
    {
     "data": {
      "text/plain": [
       "0    2.0\n",
       "1    6.0\n",
       "2    9.5\n",
       "3    5.0\n",
       "4    3.0\n",
       "5    9.5\n",
       "6    7.0\n",
       "7    1.0\n",
       "8    4.0\n",
       "9    8.0\n",
       "dtype: float64"
      ]
     },
     "execution_count": 173,
     "metadata": {},
     "output_type": "execute_result"
    }
   ],
   "source": [
    "s.rank()\n",
    "# 동일 값인 7이 9.5등으로 동일하게 나와있음"
   ]
  },
  {
   "cell_type": "code",
   "execution_count": 174,
   "id": "68782642",
   "metadata": {},
   "outputs": [
    {
     "data": {
      "text/plain": [
       "0     2.0\n",
       "1     6.0\n",
       "2     9.0\n",
       "3     5.0\n",
       "4     3.0\n",
       "5    10.0\n",
       "6     7.0\n",
       "7     1.0\n",
       "8     4.0\n",
       "9     8.0\n",
       "dtype: float64"
      ]
     },
     "execution_count": 174,
     "metadata": {},
     "output_type": "execute_result"
    }
   ],
   "source": [
    "s.rank(method='first')\n",
    "# first는 데이터 내의 위치에 따라 순위가 지정되기 때문에 더 빨리 나온 2번 index에 있는 7이 9등이 된다."
   ]
  },
  {
   "cell_type": "code",
   "execution_count": 175,
   "id": "4869d9c1",
   "metadata": {
    "scrolled": true
   },
   "outputs": [
    {
     "data": {
      "text/plain": [
       "0     2.0\n",
       "1     6.0\n",
       "2    10.0\n",
       "3     5.0\n",
       "4     3.0\n",
       "5    10.0\n",
       "6     7.0\n",
       "7     1.0\n",
       "8     4.0\n",
       "9     8.0\n",
       "dtype: float64"
      ]
     },
     "execution_count": 175,
     "metadata": {},
     "output_type": "execute_result"
    }
   ],
   "source": [
    "s.rank(method='max')"
   ]
  },
  {
   "cell_type": "code",
   "execution_count": 184,
   "id": "6b3ae9b8",
   "metadata": {},
   "outputs": [
    {
     "name": "stdout",
     "output_type": "stream",
     "text": [
      "7   -4\n",
      "0   -2\n",
      "4    0\n",
      "8    2\n",
      "3    3\n",
      "1    4\n",
      "6    5\n",
      "9    6\n",
      "2    7\n",
      "5    7\n",
      "dtype: int64\n"
     ]
    },
    {
     "data": {
      "text/plain": [
       "7    1.0\n",
       "0    2.0\n",
       "4    3.0\n",
       "8    4.0\n",
       "3    5.0\n",
       "1    6.0\n",
       "6    7.0\n",
       "9    8.0\n",
       "2    9.5\n",
       "5    9.5\n",
       "dtype: float64"
      ]
     },
     "execution_count": 184,
     "metadata": {},
     "output_type": "execute_result"
    }
   ],
   "source": [
    "s.sort_values(inplace=True)\n",
    "print(s)\n",
    "s.rank()"
   ]
  },
  {
   "cell_type": "markdown",
   "id": "e75bc3f2",
   "metadata": {},
   "source": [
    "### 고성능 연산"
   ]
  },
  {
   "cell_type": "code",
   "execution_count": 186,
   "id": "044d2584",
   "metadata": {},
   "outputs": [],
   "source": [
    "nrows, ncols = 100000, 100\n",
    "\n",
    "df1, df2, df3, df4 = (pd.DataFrame(np.random.rand(nrows, ncols)) for i in range(4))"
   ]
  },
  {
   "cell_type": "code",
   "execution_count": 187,
   "id": "ad88ccd2",
   "metadata": {},
   "outputs": [
    {
     "name": "stdout",
     "output_type": "stream",
     "text": [
      "127 ms ± 3.08 ms per loop (mean ± std. dev. of 7 runs, 10 loops each)\n"
     ]
    }
   ],
   "source": [
    "%timeit df1 + df2 + df3 + df4"
   ]
  },
  {
   "cell_type": "code",
   "execution_count": 188,
   "id": "e6bd55e7",
   "metadata": {},
   "outputs": [
    {
     "name": "stdout",
     "output_type": "stream",
     "text": [
      "58.1 ms ± 3.38 ms per loop (mean ± std. dev. of 7 runs, 10 loops each)\n"
     ]
    }
   ],
   "source": [
    "%timeit pd.eval('df1 + df2 + df3 + df4')"
   ]
  },
  {
   "cell_type": "code",
   "execution_count": 194,
   "id": "6c328883",
   "metadata": {},
   "outputs": [
    {
     "name": "stdout",
     "output_type": "stream",
     "text": [
      "172 ms ± 767 µs per loop (mean ± std. dev. of 7 runs, 10 loops each)\n"
     ]
    }
   ],
   "source": [
    "%timeit df1 * -df2 / (-df3 * df4)"
   ]
  },
  {
   "cell_type": "code",
   "execution_count": 195,
   "id": "a99b5702",
   "metadata": {},
   "outputs": [
    {
     "name": "stdout",
     "output_type": "stream",
     "text": [
      "45.6 ms ± 611 µs per loop (mean ± std. dev. of 7 runs, 10 loops each)\n"
     ]
    }
   ],
   "source": [
    "%timeit pd.eval('df1 * -df2 / (-df3 * df4)')"
   ]
  },
  {
   "cell_type": "code",
   "execution_count": 196,
   "id": "3d46ffc9",
   "metadata": {},
   "outputs": [
    {
     "name": "stdout",
     "output_type": "stream",
     "text": [
      "75.7 ms ± 2.1 ms per loop (mean ± std. dev. of 7 runs, 10 loops each)\n"
     ]
    }
   ],
   "source": [
    "%timeit (df1 < df2) & (df2 <= df3 ) & (df3 != df4)"
   ]
  },
  {
   "cell_type": "code",
   "execution_count": 198,
   "id": "5566ac19",
   "metadata": {},
   "outputs": [
    {
     "name": "stdout",
     "output_type": "stream",
     "text": [
      "30.9 ms ± 593 µs per loop (mean ± std. dev. of 7 runs, 10 loops each)\n"
     ]
    }
   ],
   "source": [
    "%timeit pd.eval('(df1 < df2) & (df2 <= df3 ) & (df3 != df4)')"
   ]
  },
  {
   "cell_type": "code",
   "execution_count": 200,
   "id": "0acc7019",
   "metadata": {},
   "outputs": [
    {
     "data": {
      "text/html": [
       "<div>\n",
       "<style scoped>\n",
       "    .dataframe tbody tr th:only-of-type {\n",
       "        vertical-align: middle;\n",
       "    }\n",
       "\n",
       "    .dataframe tbody tr th {\n",
       "        vertical-align: top;\n",
       "    }\n",
       "\n",
       "    .dataframe thead th {\n",
       "        text-align: right;\n",
       "    }\n",
       "</style>\n",
       "<table border=\"1\" class=\"dataframe\">\n",
       "  <thead>\n",
       "    <tr style=\"text-align: right;\">\n",
       "      <th></th>\n",
       "      <th>A</th>\n",
       "      <th>B</th>\n",
       "      <th>C</th>\n",
       "      <th>D</th>\n",
       "      <th>E</th>\n",
       "    </tr>\n",
       "  </thead>\n",
       "  <tbody>\n",
       "    <tr>\n",
       "      <th>0</th>\n",
       "      <td>0.781278</td>\n",
       "      <td>0.973528</td>\n",
       "      <td>0.193582</td>\n",
       "      <td>0.063428</td>\n",
       "      <td>0.082824</td>\n",
       "    </tr>\n",
       "    <tr>\n",
       "      <th>1</th>\n",
       "      <td>0.258465</td>\n",
       "      <td>0.654206</td>\n",
       "      <td>0.278463</td>\n",
       "      <td>0.784763</td>\n",
       "      <td>0.514739</td>\n",
       "    </tr>\n",
       "    <tr>\n",
       "      <th>2</th>\n",
       "      <td>0.398177</td>\n",
       "      <td>0.166627</td>\n",
       "      <td>0.872684</td>\n",
       "      <td>0.108876</td>\n",
       "      <td>0.290272</td>\n",
       "    </tr>\n",
       "    <tr>\n",
       "      <th>3</th>\n",
       "      <td>0.546126</td>\n",
       "      <td>0.389456</td>\n",
       "      <td>0.385744</td>\n",
       "      <td>0.313540</td>\n",
       "      <td>0.670539</td>\n",
       "    </tr>\n",
       "    <tr>\n",
       "      <th>4</th>\n",
       "      <td>0.665297</td>\n",
       "      <td>0.066015</td>\n",
       "      <td>0.369569</td>\n",
       "      <td>0.802647</td>\n",
       "      <td>0.493238</td>\n",
       "    </tr>\n",
       "  </tbody>\n",
       "</table>\n",
       "</div>"
      ],
      "text/plain": [
       "          A         B         C         D         E\n",
       "0  0.781278  0.973528  0.193582  0.063428  0.082824\n",
       "1  0.258465  0.654206  0.278463  0.784763  0.514739\n",
       "2  0.398177  0.166627  0.872684  0.108876  0.290272\n",
       "3  0.546126  0.389456  0.385744  0.313540  0.670539\n",
       "4  0.665297  0.066015  0.369569  0.802647  0.493238"
      ]
     },
     "execution_count": 200,
     "metadata": {},
     "output_type": "execute_result"
    }
   ],
   "source": [
    "df = pd.DataFrame(np.random.rand(1000000, 5), columns=['A','B','C','D','E'])\n",
    "df.head()"
   ]
  },
  {
   "cell_type": "code",
   "execution_count": 201,
   "id": "d5783bbf",
   "metadata": {},
   "outputs": [
    {
     "name": "stdout",
     "output_type": "stream",
     "text": [
      "24.2 ms ± 559 µs per loop (mean ± std. dev. of 7 runs, 100 loops each)\n"
     ]
    }
   ],
   "source": [
    "%timeit df['A'] + df['B'] / df['C']  - df['D'] * df['E']"
   ]
  },
  {
   "cell_type": "code",
   "execution_count": 205,
   "id": "bb3fc40b",
   "metadata": {},
   "outputs": [
    {
     "name": "stdout",
     "output_type": "stream",
     "text": [
      "6.59 ms ± 108 µs per loop (mean ± std. dev. of 7 runs, 100 loops each)\n"
     ]
    }
   ],
   "source": [
    "%timeit pd.eval(\"df.A + df.B / df.C  - df.D * df.E\")"
   ]
  },
  {
   "cell_type": "code",
   "execution_count": 207,
   "id": "9fa06a14",
   "metadata": {},
   "outputs": [
    {
     "name": "stdout",
     "output_type": "stream",
     "text": [
      "14.3 ms ± 250 µs per loop (mean ± std. dev. of 7 runs, 100 loops each)\n"
     ]
    }
   ],
   "source": [
    "%timeit df.eval('A + B / C - D * E')"
   ]
  },
  {
   "cell_type": "code",
   "execution_count": 208,
   "id": "add26941",
   "metadata": {},
   "outputs": [
    {
     "data": {
      "text/html": [
       "<div>\n",
       "<style scoped>\n",
       "    .dataframe tbody tr th:only-of-type {\n",
       "        vertical-align: middle;\n",
       "    }\n",
       "\n",
       "    .dataframe tbody tr th {\n",
       "        vertical-align: top;\n",
       "    }\n",
       "\n",
       "    .dataframe thead th {\n",
       "        text-align: right;\n",
       "    }\n",
       "</style>\n",
       "<table border=\"1\" class=\"dataframe\">\n",
       "  <thead>\n",
       "    <tr style=\"text-align: right;\">\n",
       "      <th></th>\n",
       "      <th>A</th>\n",
       "      <th>B</th>\n",
       "      <th>C</th>\n",
       "      <th>D</th>\n",
       "      <th>E</th>\n",
       "      <th>R</th>\n",
       "    </tr>\n",
       "  </thead>\n",
       "  <tbody>\n",
       "    <tr>\n",
       "      <th>0</th>\n",
       "      <td>0.781278</td>\n",
       "      <td>0.973528</td>\n",
       "      <td>0.193582</td>\n",
       "      <td>0.063428</td>\n",
       "      <td>0.082824</td>\n",
       "      <td>5.805054</td>\n",
       "    </tr>\n",
       "    <tr>\n",
       "      <th>1</th>\n",
       "      <td>0.258465</td>\n",
       "      <td>0.654206</td>\n",
       "      <td>0.278463</td>\n",
       "      <td>0.784763</td>\n",
       "      <td>0.514739</td>\n",
       "      <td>2.203865</td>\n",
       "    </tr>\n",
       "    <tr>\n",
       "      <th>2</th>\n",
       "      <td>0.398177</td>\n",
       "      <td>0.166627</td>\n",
       "      <td>0.872684</td>\n",
       "      <td>0.108876</td>\n",
       "      <td>0.290272</td>\n",
       "      <td>0.557509</td>\n",
       "    </tr>\n",
       "    <tr>\n",
       "      <th>3</th>\n",
       "      <td>0.546126</td>\n",
       "      <td>0.389456</td>\n",
       "      <td>0.385744</td>\n",
       "      <td>0.313540</td>\n",
       "      <td>0.670539</td>\n",
       "      <td>1.345510</td>\n",
       "    </tr>\n",
       "    <tr>\n",
       "      <th>4</th>\n",
       "      <td>0.665297</td>\n",
       "      <td>0.066015</td>\n",
       "      <td>0.369569</td>\n",
       "      <td>0.802647</td>\n",
       "      <td>0.493238</td>\n",
       "      <td>0.448029</td>\n",
       "    </tr>\n",
       "  </tbody>\n",
       "</table>\n",
       "</div>"
      ],
      "text/plain": [
       "          A         B         C         D         E         R\n",
       "0  0.781278  0.973528  0.193582  0.063428  0.082824  5.805054\n",
       "1  0.258465  0.654206  0.278463  0.784763  0.514739  2.203865\n",
       "2  0.398177  0.166627  0.872684  0.108876  0.290272  0.557509\n",
       "3  0.546126  0.389456  0.385744  0.313540  0.670539  1.345510\n",
       "4  0.665297  0.066015  0.369569  0.802647  0.493238  0.448029"
      ]
     },
     "execution_count": 208,
     "metadata": {},
     "output_type": "execute_result"
    }
   ],
   "source": [
    "df.eval('R = A + B / C - D * E', inplace=True)\n",
    "df.head()"
   ]
  },
  {
   "cell_type": "code",
   "execution_count": 209,
   "id": "c0ef80b9",
   "metadata": {},
   "outputs": [
    {
     "data": {
      "text/html": [
       "<div>\n",
       "<style scoped>\n",
       "    .dataframe tbody tr th:only-of-type {\n",
       "        vertical-align: middle;\n",
       "    }\n",
       "\n",
       "    .dataframe tbody tr th {\n",
       "        vertical-align: top;\n",
       "    }\n",
       "\n",
       "    .dataframe thead th {\n",
       "        text-align: right;\n",
       "    }\n",
       "</style>\n",
       "<table border=\"1\" class=\"dataframe\">\n",
       "  <thead>\n",
       "    <tr style=\"text-align: right;\">\n",
       "      <th></th>\n",
       "      <th>A</th>\n",
       "      <th>B</th>\n",
       "      <th>C</th>\n",
       "      <th>D</th>\n",
       "      <th>E</th>\n",
       "      <th>R</th>\n",
       "    </tr>\n",
       "  </thead>\n",
       "  <tbody>\n",
       "    <tr>\n",
       "      <th>0</th>\n",
       "      <td>0.781278</td>\n",
       "      <td>0.973528</td>\n",
       "      <td>0.193582</td>\n",
       "      <td>0.063428</td>\n",
       "      <td>0.082824</td>\n",
       "      <td>-4.242497</td>\n",
       "    </tr>\n",
       "    <tr>\n",
       "      <th>1</th>\n",
       "      <td>0.258465</td>\n",
       "      <td>0.654206</td>\n",
       "      <td>0.278463</td>\n",
       "      <td>0.784763</td>\n",
       "      <td>0.514739</td>\n",
       "      <td>-1.686936</td>\n",
       "    </tr>\n",
       "    <tr>\n",
       "      <th>2</th>\n",
       "      <td>0.398177</td>\n",
       "      <td>0.166627</td>\n",
       "      <td>0.872684</td>\n",
       "      <td>0.108876</td>\n",
       "      <td>0.290272</td>\n",
       "      <td>0.238845</td>\n",
       "    </tr>\n",
       "    <tr>\n",
       "      <th>3</th>\n",
       "      <td>0.546126</td>\n",
       "      <td>0.389456</td>\n",
       "      <td>0.385744</td>\n",
       "      <td>0.313540</td>\n",
       "      <td>0.670539</td>\n",
       "      <td>-0.253258</td>\n",
       "    </tr>\n",
       "    <tr>\n",
       "      <th>4</th>\n",
       "      <td>0.665297</td>\n",
       "      <td>0.066015</td>\n",
       "      <td>0.369569</td>\n",
       "      <td>0.802647</td>\n",
       "      <td>0.493238</td>\n",
       "      <td>0.882566</td>\n",
       "    </tr>\n",
       "  </tbody>\n",
       "</table>\n",
       "</div>"
      ],
      "text/plain": [
       "          A         B         C         D         E         R\n",
       "0  0.781278  0.973528  0.193582  0.063428  0.082824 -4.242497\n",
       "1  0.258465  0.654206  0.278463  0.784763  0.514739 -1.686936\n",
       "2  0.398177  0.166627  0.872684  0.108876  0.290272  0.238845\n",
       "3  0.546126  0.389456  0.385744  0.313540  0.670539 -0.253258\n",
       "4  0.665297  0.066015  0.369569  0.802647  0.493238  0.882566"
      ]
     },
     "execution_count": 209,
     "metadata": {},
     "output_type": "execute_result"
    }
   ],
   "source": [
    "df.eval('R = A - B / C + D * E', inplace=True)\n",
    "df.head()"
   ]
  },
  {
   "cell_type": "code",
   "execution_count": 210,
   "id": "afd89836",
   "metadata": {},
   "outputs": [
    {
     "data": {
      "text/plain": [
       "0         0.423302\n",
       "1         0.392414\n",
       "2         0.744090\n",
       "3         0.888151\n",
       "4         1.211853\n",
       "            ...   \n",
       "999995    1.223347\n",
       "999996    0.373965\n",
       "999997    1.607178\n",
       "999998    1.371442\n",
       "999999    0.349209\n",
       "Length: 1000000, dtype: float64"
      ]
     },
     "execution_count": 210,
     "metadata": {},
     "output_type": "execute_result"
    }
   ],
   "source": [
    "col_mean = df.mean(1)\n",
    "df['A'] + col_mean"
   ]
  },
  {
   "cell_type": "code",
   "execution_count": 211,
   "id": "efa24fb3",
   "metadata": {},
   "outputs": [
    {
     "data": {
      "text/plain": [
       "0         0.423302\n",
       "1         0.392414\n",
       "2         0.744090\n",
       "3         0.888151\n",
       "4         1.211853\n",
       "            ...   \n",
       "999995    1.223347\n",
       "999996    0.373965\n",
       "999997    1.607178\n",
       "999998    1.371442\n",
       "999999    0.349209\n",
       "Length: 1000000, dtype: float64"
      ]
     },
     "execution_count": 211,
     "metadata": {},
     "output_type": "execute_result"
    }
   ],
   "source": [
    "df.eval('A + @col_mean') # 외부에 있는 변수도 '@'을 사용하여 불러올 수 있다."
   ]
  },
  {
   "cell_type": "code",
   "execution_count": 215,
   "id": "0614629c",
   "metadata": {},
   "outputs": [
    {
     "data": {
      "text/html": [
       "<div>\n",
       "<style scoped>\n",
       "    .dataframe tbody tr th:only-of-type {\n",
       "        vertical-align: middle;\n",
       "    }\n",
       "\n",
       "    .dataframe tbody tr th {\n",
       "        vertical-align: top;\n",
       "    }\n",
       "\n",
       "    .dataframe thead th {\n",
       "        text-align: right;\n",
       "    }\n",
       "</style>\n",
       "<table border=\"1\" class=\"dataframe\">\n",
       "  <thead>\n",
       "    <tr style=\"text-align: right;\">\n",
       "      <th></th>\n",
       "      <th>A</th>\n",
       "      <th>B</th>\n",
       "      <th>C</th>\n",
       "      <th>D</th>\n",
       "      <th>E</th>\n",
       "      <th>R</th>\n",
       "    </tr>\n",
       "  </thead>\n",
       "  <tbody>\n",
       "    <tr>\n",
       "      <th>2</th>\n",
       "      <td>0.398177</td>\n",
       "      <td>0.166627</td>\n",
       "      <td>0.872684</td>\n",
       "      <td>0.108876</td>\n",
       "      <td>0.290272</td>\n",
       "      <td>0.238845</td>\n",
       "    </tr>\n",
       "    <tr>\n",
       "      <th>19</th>\n",
       "      <td>0.193395</td>\n",
       "      <td>0.088509</td>\n",
       "      <td>0.832081</td>\n",
       "      <td>0.943183</td>\n",
       "      <td>0.471197</td>\n",
       "      <td>0.531450</td>\n",
       "    </tr>\n",
       "    <tr>\n",
       "      <th>48</th>\n",
       "      <td>0.426565</td>\n",
       "      <td>0.038340</td>\n",
       "      <td>0.536007</td>\n",
       "      <td>0.754230</td>\n",
       "      <td>0.743076</td>\n",
       "      <td>0.915486</td>\n",
       "    </tr>\n",
       "    <tr>\n",
       "      <th>53</th>\n",
       "      <td>0.493141</td>\n",
       "      <td>0.016433</td>\n",
       "      <td>0.549259</td>\n",
       "      <td>0.287433</td>\n",
       "      <td>0.413863</td>\n",
       "      <td>0.582179</td>\n",
       "    </tr>\n",
       "    <tr>\n",
       "      <th>56</th>\n",
       "      <td>0.345881</td>\n",
       "      <td>0.451806</td>\n",
       "      <td>0.526912</td>\n",
       "      <td>0.598349</td>\n",
       "      <td>0.293047</td>\n",
       "      <td>-0.336235</td>\n",
       "    </tr>\n",
       "    <tr>\n",
       "      <th>...</th>\n",
       "      <td>...</td>\n",
       "      <td>...</td>\n",
       "      <td>...</td>\n",
       "      <td>...</td>\n",
       "      <td>...</td>\n",
       "      <td>...</td>\n",
       "    </tr>\n",
       "    <tr>\n",
       "      <th>999951</th>\n",
       "      <td>0.016504</td>\n",
       "      <td>0.429651</td>\n",
       "      <td>0.551314</td>\n",
       "      <td>0.452333</td>\n",
       "      <td>0.442475</td>\n",
       "      <td>-0.562672</td>\n",
       "    </tr>\n",
       "    <tr>\n",
       "      <th>999954</th>\n",
       "      <td>0.073390</td>\n",
       "      <td>0.405669</td>\n",
       "      <td>0.508582</td>\n",
       "      <td>0.387873</td>\n",
       "      <td>0.066400</td>\n",
       "      <td>-0.698503</td>\n",
       "    </tr>\n",
       "    <tr>\n",
       "      <th>999983</th>\n",
       "      <td>0.250878</td>\n",
       "      <td>0.272252</td>\n",
       "      <td>0.751059</td>\n",
       "      <td>0.703780</td>\n",
       "      <td>0.782322</td>\n",
       "      <td>0.438971</td>\n",
       "    </tr>\n",
       "    <tr>\n",
       "      <th>999990</th>\n",
       "      <td>0.163466</td>\n",
       "      <td>0.183814</td>\n",
       "      <td>0.984818</td>\n",
       "      <td>0.022301</td>\n",
       "      <td>0.935621</td>\n",
       "      <td>-0.002317</td>\n",
       "    </tr>\n",
       "    <tr>\n",
       "      <th>999993</th>\n",
       "      <td>0.270363</td>\n",
       "      <td>0.250654</td>\n",
       "      <td>0.852027</td>\n",
       "      <td>0.093483</td>\n",
       "      <td>0.368716</td>\n",
       "      <td>0.010646</td>\n",
       "    </tr>\n",
       "  </tbody>\n",
       "</table>\n",
       "<p>124967 rows × 6 columns</p>\n",
       "</div>"
      ],
      "text/plain": [
       "               A         B         C         D         E         R\n",
       "2       0.398177  0.166627  0.872684  0.108876  0.290272  0.238845\n",
       "19      0.193395  0.088509  0.832081  0.943183  0.471197  0.531450\n",
       "48      0.426565  0.038340  0.536007  0.754230  0.743076  0.915486\n",
       "53      0.493141  0.016433  0.549259  0.287433  0.413863  0.582179\n",
       "56      0.345881  0.451806  0.526912  0.598349  0.293047 -0.336235\n",
       "...          ...       ...       ...       ...       ...       ...\n",
       "999951  0.016504  0.429651  0.551314  0.452333  0.442475 -0.562672\n",
       "999954  0.073390  0.405669  0.508582  0.387873  0.066400 -0.698503\n",
       "999983  0.250878  0.272252  0.751059  0.703780  0.782322  0.438971\n",
       "999990  0.163466  0.183814  0.984818  0.022301  0.935621 -0.002317\n",
       "999993  0.270363  0.250654  0.852027  0.093483  0.368716  0.010646\n",
       "\n",
       "[124967 rows x 6 columns]"
      ]
     },
     "execution_count": 215,
     "metadata": {},
     "output_type": "execute_result"
    }
   ],
   "source": [
    "df[(df.A < 0.5) & (df.B < 0.5) & (df.C > 0.5)]\n",
    "# 여러 조건을 포함하는 계산식 경우에도"
   ]
  },
  {
   "cell_type": "code",
   "execution_count": 216,
   "id": "176ed9ff",
   "metadata": {},
   "outputs": [
    {
     "data": {
      "text/html": [
       "<div>\n",
       "<style scoped>\n",
       "    .dataframe tbody tr th:only-of-type {\n",
       "        vertical-align: middle;\n",
       "    }\n",
       "\n",
       "    .dataframe tbody tr th {\n",
       "        vertical-align: top;\n",
       "    }\n",
       "\n",
       "    .dataframe thead th {\n",
       "        text-align: right;\n",
       "    }\n",
       "</style>\n",
       "<table border=\"1\" class=\"dataframe\">\n",
       "  <thead>\n",
       "    <tr style=\"text-align: right;\">\n",
       "      <th></th>\n",
       "      <th>A</th>\n",
       "      <th>B</th>\n",
       "      <th>C</th>\n",
       "      <th>D</th>\n",
       "      <th>E</th>\n",
       "      <th>R</th>\n",
       "    </tr>\n",
       "  </thead>\n",
       "  <tbody>\n",
       "    <tr>\n",
       "      <th>2</th>\n",
       "      <td>0.398177</td>\n",
       "      <td>0.166627</td>\n",
       "      <td>0.872684</td>\n",
       "      <td>0.108876</td>\n",
       "      <td>0.290272</td>\n",
       "      <td>0.238845</td>\n",
       "    </tr>\n",
       "    <tr>\n",
       "      <th>19</th>\n",
       "      <td>0.193395</td>\n",
       "      <td>0.088509</td>\n",
       "      <td>0.832081</td>\n",
       "      <td>0.943183</td>\n",
       "      <td>0.471197</td>\n",
       "      <td>0.531450</td>\n",
       "    </tr>\n",
       "    <tr>\n",
       "      <th>48</th>\n",
       "      <td>0.426565</td>\n",
       "      <td>0.038340</td>\n",
       "      <td>0.536007</td>\n",
       "      <td>0.754230</td>\n",
       "      <td>0.743076</td>\n",
       "      <td>0.915486</td>\n",
       "    </tr>\n",
       "    <tr>\n",
       "      <th>53</th>\n",
       "      <td>0.493141</td>\n",
       "      <td>0.016433</td>\n",
       "      <td>0.549259</td>\n",
       "      <td>0.287433</td>\n",
       "      <td>0.413863</td>\n",
       "      <td>0.582179</td>\n",
       "    </tr>\n",
       "    <tr>\n",
       "      <th>56</th>\n",
       "      <td>0.345881</td>\n",
       "      <td>0.451806</td>\n",
       "      <td>0.526912</td>\n",
       "      <td>0.598349</td>\n",
       "      <td>0.293047</td>\n",
       "      <td>-0.336235</td>\n",
       "    </tr>\n",
       "    <tr>\n",
       "      <th>...</th>\n",
       "      <td>...</td>\n",
       "      <td>...</td>\n",
       "      <td>...</td>\n",
       "      <td>...</td>\n",
       "      <td>...</td>\n",
       "      <td>...</td>\n",
       "    </tr>\n",
       "    <tr>\n",
       "      <th>999951</th>\n",
       "      <td>0.016504</td>\n",
       "      <td>0.429651</td>\n",
       "      <td>0.551314</td>\n",
       "      <td>0.452333</td>\n",
       "      <td>0.442475</td>\n",
       "      <td>-0.562672</td>\n",
       "    </tr>\n",
       "    <tr>\n",
       "      <th>999954</th>\n",
       "      <td>0.073390</td>\n",
       "      <td>0.405669</td>\n",
       "      <td>0.508582</td>\n",
       "      <td>0.387873</td>\n",
       "      <td>0.066400</td>\n",
       "      <td>-0.698503</td>\n",
       "    </tr>\n",
       "    <tr>\n",
       "      <th>999983</th>\n",
       "      <td>0.250878</td>\n",
       "      <td>0.272252</td>\n",
       "      <td>0.751059</td>\n",
       "      <td>0.703780</td>\n",
       "      <td>0.782322</td>\n",
       "      <td>0.438971</td>\n",
       "    </tr>\n",
       "    <tr>\n",
       "      <th>999990</th>\n",
       "      <td>0.163466</td>\n",
       "      <td>0.183814</td>\n",
       "      <td>0.984818</td>\n",
       "      <td>0.022301</td>\n",
       "      <td>0.935621</td>\n",
       "      <td>-0.002317</td>\n",
       "    </tr>\n",
       "    <tr>\n",
       "      <th>999993</th>\n",
       "      <td>0.270363</td>\n",
       "      <td>0.250654</td>\n",
       "      <td>0.852027</td>\n",
       "      <td>0.093483</td>\n",
       "      <td>0.368716</td>\n",
       "      <td>0.010646</td>\n",
       "    </tr>\n",
       "  </tbody>\n",
       "</table>\n",
       "<p>124967 rows × 6 columns</p>\n",
       "</div>"
      ],
      "text/plain": [
       "               A         B         C         D         E         R\n",
       "2       0.398177  0.166627  0.872684  0.108876  0.290272  0.238845\n",
       "19      0.193395  0.088509  0.832081  0.943183  0.471197  0.531450\n",
       "48      0.426565  0.038340  0.536007  0.754230  0.743076  0.915486\n",
       "53      0.493141  0.016433  0.549259  0.287433  0.413863  0.582179\n",
       "56      0.345881  0.451806  0.526912  0.598349  0.293047 -0.336235\n",
       "...          ...       ...       ...       ...       ...       ...\n",
       "999951  0.016504  0.429651  0.551314  0.452333  0.442475 -0.562672\n",
       "999954  0.073390  0.405669  0.508582  0.387873  0.066400 -0.698503\n",
       "999983  0.250878  0.272252  0.751059  0.703780  0.782322  0.438971\n",
       "999990  0.163466  0.183814  0.984818  0.022301  0.935621 -0.002317\n",
       "999993  0.270363  0.250654  0.852027  0.093483  0.368716  0.010646\n",
       "\n",
       "[124967 rows x 6 columns]"
      ]
     },
     "execution_count": 216,
     "metadata": {},
     "output_type": "execute_result"
    }
   ],
   "source": [
    "pd.eval('df[(df.A < 0.5) & (df.B < 0.5) & (df.C > 0.5)]')\n",
    "# eval로 가능하다."
   ]
  },
  {
   "cell_type": "code",
   "execution_count": 219,
   "id": "87a71d4d",
   "metadata": {},
   "outputs": [
    {
     "data": {
      "text/html": [
       "<div>\n",
       "<style scoped>\n",
       "    .dataframe tbody tr th:only-of-type {\n",
       "        vertical-align: middle;\n",
       "    }\n",
       "\n",
       "    .dataframe tbody tr th {\n",
       "        vertical-align: top;\n",
       "    }\n",
       "\n",
       "    .dataframe thead th {\n",
       "        text-align: right;\n",
       "    }\n",
       "</style>\n",
       "<table border=\"1\" class=\"dataframe\">\n",
       "  <thead>\n",
       "    <tr style=\"text-align: right;\">\n",
       "      <th></th>\n",
       "      <th>A</th>\n",
       "      <th>B</th>\n",
       "      <th>C</th>\n",
       "      <th>D</th>\n",
       "      <th>E</th>\n",
       "      <th>R</th>\n",
       "    </tr>\n",
       "  </thead>\n",
       "  <tbody>\n",
       "    <tr>\n",
       "      <th>2</th>\n",
       "      <td>0.398177</td>\n",
       "      <td>0.166627</td>\n",
       "      <td>0.872684</td>\n",
       "      <td>0.108876</td>\n",
       "      <td>0.290272</td>\n",
       "      <td>0.238845</td>\n",
       "    </tr>\n",
       "    <tr>\n",
       "      <th>19</th>\n",
       "      <td>0.193395</td>\n",
       "      <td>0.088509</td>\n",
       "      <td>0.832081</td>\n",
       "      <td>0.943183</td>\n",
       "      <td>0.471197</td>\n",
       "      <td>0.531450</td>\n",
       "    </tr>\n",
       "    <tr>\n",
       "      <th>48</th>\n",
       "      <td>0.426565</td>\n",
       "      <td>0.038340</td>\n",
       "      <td>0.536007</td>\n",
       "      <td>0.754230</td>\n",
       "      <td>0.743076</td>\n",
       "      <td>0.915486</td>\n",
       "    </tr>\n",
       "    <tr>\n",
       "      <th>53</th>\n",
       "      <td>0.493141</td>\n",
       "      <td>0.016433</td>\n",
       "      <td>0.549259</td>\n",
       "      <td>0.287433</td>\n",
       "      <td>0.413863</td>\n",
       "      <td>0.582179</td>\n",
       "    </tr>\n",
       "    <tr>\n",
       "      <th>56</th>\n",
       "      <td>0.345881</td>\n",
       "      <td>0.451806</td>\n",
       "      <td>0.526912</td>\n",
       "      <td>0.598349</td>\n",
       "      <td>0.293047</td>\n",
       "      <td>-0.336235</td>\n",
       "    </tr>\n",
       "    <tr>\n",
       "      <th>...</th>\n",
       "      <td>...</td>\n",
       "      <td>...</td>\n",
       "      <td>...</td>\n",
       "      <td>...</td>\n",
       "      <td>...</td>\n",
       "      <td>...</td>\n",
       "    </tr>\n",
       "    <tr>\n",
       "      <th>999951</th>\n",
       "      <td>0.016504</td>\n",
       "      <td>0.429651</td>\n",
       "      <td>0.551314</td>\n",
       "      <td>0.452333</td>\n",
       "      <td>0.442475</td>\n",
       "      <td>-0.562672</td>\n",
       "    </tr>\n",
       "    <tr>\n",
       "      <th>999954</th>\n",
       "      <td>0.073390</td>\n",
       "      <td>0.405669</td>\n",
       "      <td>0.508582</td>\n",
       "      <td>0.387873</td>\n",
       "      <td>0.066400</td>\n",
       "      <td>-0.698503</td>\n",
       "    </tr>\n",
       "    <tr>\n",
       "      <th>999983</th>\n",
       "      <td>0.250878</td>\n",
       "      <td>0.272252</td>\n",
       "      <td>0.751059</td>\n",
       "      <td>0.703780</td>\n",
       "      <td>0.782322</td>\n",
       "      <td>0.438971</td>\n",
       "    </tr>\n",
       "    <tr>\n",
       "      <th>999990</th>\n",
       "      <td>0.163466</td>\n",
       "      <td>0.183814</td>\n",
       "      <td>0.984818</td>\n",
       "      <td>0.022301</td>\n",
       "      <td>0.935621</td>\n",
       "      <td>-0.002317</td>\n",
       "    </tr>\n",
       "    <tr>\n",
       "      <th>999993</th>\n",
       "      <td>0.270363</td>\n",
       "      <td>0.250654</td>\n",
       "      <td>0.852027</td>\n",
       "      <td>0.093483</td>\n",
       "      <td>0.368716</td>\n",
       "      <td>0.010646</td>\n",
       "    </tr>\n",
       "  </tbody>\n",
       "</table>\n",
       "<p>124967 rows × 6 columns</p>\n",
       "</div>"
      ],
      "text/plain": [
       "               A         B         C         D         E         R\n",
       "2       0.398177  0.166627  0.872684  0.108876  0.290272  0.238845\n",
       "19      0.193395  0.088509  0.832081  0.943183  0.471197  0.531450\n",
       "48      0.426565  0.038340  0.536007  0.754230  0.743076  0.915486\n",
       "53      0.493141  0.016433  0.549259  0.287433  0.413863  0.582179\n",
       "56      0.345881  0.451806  0.526912  0.598349  0.293047 -0.336235\n",
       "...          ...       ...       ...       ...       ...       ...\n",
       "999951  0.016504  0.429651  0.551314  0.452333  0.442475 -0.562672\n",
       "999954  0.073390  0.405669  0.508582  0.387873  0.066400 -0.698503\n",
       "999983  0.250878  0.272252  0.751059  0.703780  0.782322  0.438971\n",
       "999990  0.163466  0.183814  0.984818  0.022301  0.935621 -0.002317\n",
       "999993  0.270363  0.250654  0.852027  0.093483  0.368716  0.010646\n",
       "\n",
       "[124967 rows x 6 columns]"
      ]
     },
     "execution_count": 219,
     "metadata": {},
     "output_type": "execute_result"
    }
   ],
   "source": [
    "df.query('(A < 0.5) and (B < 0.5) and (C > 0.5)')\n",
    "# 조건을 가진 질의문인 경우에도 query를 쓰고 질의문을 쓰면 더 빠른 연산이 가능"
   ]
  },
  {
   "cell_type": "code",
   "execution_count": 220,
   "id": "a2c48985",
   "metadata": {},
   "outputs": [
    {
     "data": {
      "text/html": [
       "<div>\n",
       "<style scoped>\n",
       "    .dataframe tbody tr th:only-of-type {\n",
       "        vertical-align: middle;\n",
       "    }\n",
       "\n",
       "    .dataframe tbody tr th {\n",
       "        vertical-align: top;\n",
       "    }\n",
       "\n",
       "    .dataframe thead th {\n",
       "        text-align: right;\n",
       "    }\n",
       "</style>\n",
       "<table border=\"1\" class=\"dataframe\">\n",
       "  <thead>\n",
       "    <tr style=\"text-align: right;\">\n",
       "      <th></th>\n",
       "      <th>A</th>\n",
       "      <th>B</th>\n",
       "      <th>C</th>\n",
       "      <th>D</th>\n",
       "      <th>E</th>\n",
       "      <th>R</th>\n",
       "    </tr>\n",
       "  </thead>\n",
       "  <tbody>\n",
       "    <tr>\n",
       "      <th>2</th>\n",
       "      <td>0.398177</td>\n",
       "      <td>0.166627</td>\n",
       "      <td>0.872684</td>\n",
       "      <td>0.108876</td>\n",
       "      <td>0.290272</td>\n",
       "      <td>0.238845</td>\n",
       "    </tr>\n",
       "    <tr>\n",
       "      <th>6</th>\n",
       "      <td>0.395922</td>\n",
       "      <td>0.425444</td>\n",
       "      <td>0.109125</td>\n",
       "      <td>0.950652</td>\n",
       "      <td>0.888009</td>\n",
       "      <td>-2.658590</td>\n",
       "    </tr>\n",
       "    <tr>\n",
       "      <th>8</th>\n",
       "      <td>0.036071</td>\n",
       "      <td>0.002373</td>\n",
       "      <td>0.199302</td>\n",
       "      <td>0.673528</td>\n",
       "      <td>0.817442</td>\n",
       "      <td>0.574736</td>\n",
       "    </tr>\n",
       "    <tr>\n",
       "      <th>11</th>\n",
       "      <td>0.290550</td>\n",
       "      <td>0.370350</td>\n",
       "      <td>0.432931</td>\n",
       "      <td>0.467552</td>\n",
       "      <td>0.348524</td>\n",
       "      <td>-0.401946</td>\n",
       "    </tr>\n",
       "    <tr>\n",
       "      <th>12</th>\n",
       "      <td>0.445093</td>\n",
       "      <td>0.470211</td>\n",
       "      <td>0.305312</td>\n",
       "      <td>0.634474</td>\n",
       "      <td>0.182490</td>\n",
       "      <td>-0.979219</td>\n",
       "    </tr>\n",
       "    <tr>\n",
       "      <th>...</th>\n",
       "      <td>...</td>\n",
       "      <td>...</td>\n",
       "      <td>...</td>\n",
       "      <td>...</td>\n",
       "      <td>...</td>\n",
       "      <td>...</td>\n",
       "    </tr>\n",
       "    <tr>\n",
       "      <th>999982</th>\n",
       "      <td>0.093455</td>\n",
       "      <td>0.464156</td>\n",
       "      <td>0.331368</td>\n",
       "      <td>0.676744</td>\n",
       "      <td>0.198460</td>\n",
       "      <td>-1.172968</td>\n",
       "    </tr>\n",
       "    <tr>\n",
       "      <th>999983</th>\n",
       "      <td>0.250878</td>\n",
       "      <td>0.272252</td>\n",
       "      <td>0.751059</td>\n",
       "      <td>0.703780</td>\n",
       "      <td>0.782322</td>\n",
       "      <td>0.438971</td>\n",
       "    </tr>\n",
       "    <tr>\n",
       "      <th>999988</th>\n",
       "      <td>0.036925</td>\n",
       "      <td>0.257363</td>\n",
       "      <td>0.497375</td>\n",
       "      <td>0.957278</td>\n",
       "      <td>0.457538</td>\n",
       "      <td>-0.042528</td>\n",
       "    </tr>\n",
       "    <tr>\n",
       "      <th>999990</th>\n",
       "      <td>0.163466</td>\n",
       "      <td>0.183814</td>\n",
       "      <td>0.984818</td>\n",
       "      <td>0.022301</td>\n",
       "      <td>0.935621</td>\n",
       "      <td>-0.002317</td>\n",
       "    </tr>\n",
       "    <tr>\n",
       "      <th>999993</th>\n",
       "      <td>0.270363</td>\n",
       "      <td>0.250654</td>\n",
       "      <td>0.852027</td>\n",
       "      <td>0.093483</td>\n",
       "      <td>0.368716</td>\n",
       "      <td>0.010646</td>\n",
       "    </tr>\n",
       "  </tbody>\n",
       "</table>\n",
       "<p>249802 rows × 6 columns</p>\n",
       "</div>"
      ],
      "text/plain": [
       "               A         B         C         D         E         R\n",
       "2       0.398177  0.166627  0.872684  0.108876  0.290272  0.238845\n",
       "6       0.395922  0.425444  0.109125  0.950652  0.888009 -2.658590\n",
       "8       0.036071  0.002373  0.199302  0.673528  0.817442  0.574736\n",
       "11      0.290550  0.370350  0.432931  0.467552  0.348524 -0.401946\n",
       "12      0.445093  0.470211  0.305312  0.634474  0.182490 -0.979219\n",
       "...          ...       ...       ...       ...       ...       ...\n",
       "999982  0.093455  0.464156  0.331368  0.676744  0.198460 -1.172968\n",
       "999983  0.250878  0.272252  0.751059  0.703780  0.782322  0.438971\n",
       "999988  0.036925  0.257363  0.497375  0.957278  0.457538 -0.042528\n",
       "999990  0.163466  0.183814  0.984818  0.022301  0.935621 -0.002317\n",
       "999993  0.270363  0.250654  0.852027  0.093483  0.368716  0.010646\n",
       "\n",
       "[249802 rows x 6 columns]"
      ]
     },
     "execution_count": 220,
     "metadata": {},
     "output_type": "execute_result"
    }
   ],
   "source": [
    "col_mean = df['D'].mean()\n",
    "df[(df.A < col_mean) & (df.B < col_mean)]"
   ]
  },
  {
   "cell_type": "code",
   "execution_count": 221,
   "id": "d941bbf2",
   "metadata": {},
   "outputs": [
    {
     "data": {
      "text/html": [
       "<div>\n",
       "<style scoped>\n",
       "    .dataframe tbody tr th:only-of-type {\n",
       "        vertical-align: middle;\n",
       "    }\n",
       "\n",
       "    .dataframe tbody tr th {\n",
       "        vertical-align: top;\n",
       "    }\n",
       "\n",
       "    .dataframe thead th {\n",
       "        text-align: right;\n",
       "    }\n",
       "</style>\n",
       "<table border=\"1\" class=\"dataframe\">\n",
       "  <thead>\n",
       "    <tr style=\"text-align: right;\">\n",
       "      <th></th>\n",
       "      <th>A</th>\n",
       "      <th>B</th>\n",
       "      <th>C</th>\n",
       "      <th>D</th>\n",
       "      <th>E</th>\n",
       "      <th>R</th>\n",
       "    </tr>\n",
       "  </thead>\n",
       "  <tbody>\n",
       "    <tr>\n",
       "      <th>2</th>\n",
       "      <td>0.398177</td>\n",
       "      <td>0.166627</td>\n",
       "      <td>0.872684</td>\n",
       "      <td>0.108876</td>\n",
       "      <td>0.290272</td>\n",
       "      <td>0.238845</td>\n",
       "    </tr>\n",
       "    <tr>\n",
       "      <th>6</th>\n",
       "      <td>0.395922</td>\n",
       "      <td>0.425444</td>\n",
       "      <td>0.109125</td>\n",
       "      <td>0.950652</td>\n",
       "      <td>0.888009</td>\n",
       "      <td>-2.658590</td>\n",
       "    </tr>\n",
       "    <tr>\n",
       "      <th>8</th>\n",
       "      <td>0.036071</td>\n",
       "      <td>0.002373</td>\n",
       "      <td>0.199302</td>\n",
       "      <td>0.673528</td>\n",
       "      <td>0.817442</td>\n",
       "      <td>0.574736</td>\n",
       "    </tr>\n",
       "    <tr>\n",
       "      <th>11</th>\n",
       "      <td>0.290550</td>\n",
       "      <td>0.370350</td>\n",
       "      <td>0.432931</td>\n",
       "      <td>0.467552</td>\n",
       "      <td>0.348524</td>\n",
       "      <td>-0.401946</td>\n",
       "    </tr>\n",
       "    <tr>\n",
       "      <th>12</th>\n",
       "      <td>0.445093</td>\n",
       "      <td>0.470211</td>\n",
       "      <td>0.305312</td>\n",
       "      <td>0.634474</td>\n",
       "      <td>0.182490</td>\n",
       "      <td>-0.979219</td>\n",
       "    </tr>\n",
       "    <tr>\n",
       "      <th>...</th>\n",
       "      <td>...</td>\n",
       "      <td>...</td>\n",
       "      <td>...</td>\n",
       "      <td>...</td>\n",
       "      <td>...</td>\n",
       "      <td>...</td>\n",
       "    </tr>\n",
       "    <tr>\n",
       "      <th>999982</th>\n",
       "      <td>0.093455</td>\n",
       "      <td>0.464156</td>\n",
       "      <td>0.331368</td>\n",
       "      <td>0.676744</td>\n",
       "      <td>0.198460</td>\n",
       "      <td>-1.172968</td>\n",
       "    </tr>\n",
       "    <tr>\n",
       "      <th>999983</th>\n",
       "      <td>0.250878</td>\n",
       "      <td>0.272252</td>\n",
       "      <td>0.751059</td>\n",
       "      <td>0.703780</td>\n",
       "      <td>0.782322</td>\n",
       "      <td>0.438971</td>\n",
       "    </tr>\n",
       "    <tr>\n",
       "      <th>999988</th>\n",
       "      <td>0.036925</td>\n",
       "      <td>0.257363</td>\n",
       "      <td>0.497375</td>\n",
       "      <td>0.957278</td>\n",
       "      <td>0.457538</td>\n",
       "      <td>-0.042528</td>\n",
       "    </tr>\n",
       "    <tr>\n",
       "      <th>999990</th>\n",
       "      <td>0.163466</td>\n",
       "      <td>0.183814</td>\n",
       "      <td>0.984818</td>\n",
       "      <td>0.022301</td>\n",
       "      <td>0.935621</td>\n",
       "      <td>-0.002317</td>\n",
       "    </tr>\n",
       "    <tr>\n",
       "      <th>999993</th>\n",
       "      <td>0.270363</td>\n",
       "      <td>0.250654</td>\n",
       "      <td>0.852027</td>\n",
       "      <td>0.093483</td>\n",
       "      <td>0.368716</td>\n",
       "      <td>0.010646</td>\n",
       "    </tr>\n",
       "  </tbody>\n",
       "</table>\n",
       "<p>249802 rows × 6 columns</p>\n",
       "</div>"
      ],
      "text/plain": [
       "               A         B         C         D         E         R\n",
       "2       0.398177  0.166627  0.872684  0.108876  0.290272  0.238845\n",
       "6       0.395922  0.425444  0.109125  0.950652  0.888009 -2.658590\n",
       "8       0.036071  0.002373  0.199302  0.673528  0.817442  0.574736\n",
       "11      0.290550  0.370350  0.432931  0.467552  0.348524 -0.401946\n",
       "12      0.445093  0.470211  0.305312  0.634474  0.182490 -0.979219\n",
       "...          ...       ...       ...       ...       ...       ...\n",
       "999982  0.093455  0.464156  0.331368  0.676744  0.198460 -1.172968\n",
       "999983  0.250878  0.272252  0.751059  0.703780  0.782322  0.438971\n",
       "999988  0.036925  0.257363  0.497375  0.957278  0.457538 -0.042528\n",
       "999990  0.163466  0.183814  0.984818  0.022301  0.935621 -0.002317\n",
       "999993  0.270363  0.250654  0.852027  0.093483  0.368716  0.010646\n",
       "\n",
       "[249802 rows x 6 columns]"
      ]
     },
     "execution_count": 221,
     "metadata": {},
     "output_type": "execute_result"
    }
   ],
   "source": [
    "df.query('A < @col_mean and B < @col_mean')"
   ]
  },
  {
   "cell_type": "markdown",
   "id": "128739a6",
   "metadata": {},
   "source": [
    "## 데이터 결합"
   ]
  },
  {
   "cell_type": "markdown",
   "id": "ca7f5dda",
   "metadata": {},
   "source": [
    "### Concat( ) / Append( )"
   ]
  },
  {
   "cell_type": "code",
   "execution_count": 223,
   "id": "89748a3f",
   "metadata": {},
   "outputs": [
    {
     "data": {
      "text/plain": [
       "1    a\n",
       "2    b\n",
       "3    c\n",
       "4    d\n",
       "dtype: object"
      ]
     },
     "execution_count": 223,
     "metadata": {},
     "output_type": "execute_result"
    }
   ],
   "source": [
    "s1 = pd.Series(['a','b'], index = [1, 2])\n",
    "s2 = pd.Series(['c','d'], index = [3, 4])\n",
    "pd.concat([s1, s2])"
   ]
  },
  {
   "cell_type": "code",
   "execution_count": 226,
   "id": "ae4a8b89",
   "metadata": {},
   "outputs": [],
   "source": [
    "def create_df(cols, idx):\n",
    "    data = {c: [str(c.lower()) + str(i) for i in idx] for c in cols}\n",
    "    return pd.DataFrame(data, idx)"
   ]
  },
  {
   "cell_type": "code",
   "execution_count": 227,
   "id": "614b1bbc",
   "metadata": {},
   "outputs": [
    {
     "data": {
      "text/html": [
       "<div>\n",
       "<style scoped>\n",
       "    .dataframe tbody tr th:only-of-type {\n",
       "        vertical-align: middle;\n",
       "    }\n",
       "\n",
       "    .dataframe tbody tr th {\n",
       "        vertical-align: top;\n",
       "    }\n",
       "\n",
       "    .dataframe thead th {\n",
       "        text-align: right;\n",
       "    }\n",
       "</style>\n",
       "<table border=\"1\" class=\"dataframe\">\n",
       "  <thead>\n",
       "    <tr style=\"text-align: right;\">\n",
       "      <th></th>\n",
       "      <th>A</th>\n",
       "      <th>B</th>\n",
       "    </tr>\n",
       "  </thead>\n",
       "  <tbody>\n",
       "    <tr>\n",
       "      <th>1</th>\n",
       "      <td>a1</td>\n",
       "      <td>b1</td>\n",
       "    </tr>\n",
       "    <tr>\n",
       "      <th>2</th>\n",
       "      <td>a2</td>\n",
       "      <td>b2</td>\n",
       "    </tr>\n",
       "  </tbody>\n",
       "</table>\n",
       "</div>"
      ],
      "text/plain": [
       "    A   B\n",
       "1  a1  b1\n",
       "2  a2  b2"
      ]
     },
     "execution_count": 227,
     "metadata": {},
     "output_type": "execute_result"
    }
   ],
   "source": [
    "df1 = create_df('AB', [1, 2])\n",
    "df1"
   ]
  },
  {
   "cell_type": "code",
   "execution_count": 228,
   "id": "14809961",
   "metadata": {},
   "outputs": [
    {
     "data": {
      "text/html": [
       "<div>\n",
       "<style scoped>\n",
       "    .dataframe tbody tr th:only-of-type {\n",
       "        vertical-align: middle;\n",
       "    }\n",
       "\n",
       "    .dataframe tbody tr th {\n",
       "        vertical-align: top;\n",
       "    }\n",
       "\n",
       "    .dataframe thead th {\n",
       "        text-align: right;\n",
       "    }\n",
       "</style>\n",
       "<table border=\"1\" class=\"dataframe\">\n",
       "  <thead>\n",
       "    <tr style=\"text-align: right;\">\n",
       "      <th></th>\n",
       "      <th>A</th>\n",
       "      <th>B</th>\n",
       "    </tr>\n",
       "  </thead>\n",
       "  <tbody>\n",
       "    <tr>\n",
       "      <th>3</th>\n",
       "      <td>a3</td>\n",
       "      <td>b3</td>\n",
       "    </tr>\n",
       "    <tr>\n",
       "      <th>4</th>\n",
       "      <td>a4</td>\n",
       "      <td>b4</td>\n",
       "    </tr>\n",
       "  </tbody>\n",
       "</table>\n",
       "</div>"
      ],
      "text/plain": [
       "    A   B\n",
       "3  a3  b3\n",
       "4  a4  b4"
      ]
     },
     "execution_count": 228,
     "metadata": {},
     "output_type": "execute_result"
    }
   ],
   "source": [
    "df2 = create_df('AB',[3, 4])\n",
    "df2"
   ]
  },
  {
   "cell_type": "code",
   "execution_count": 230,
   "id": "b77f12a2",
   "metadata": {},
   "outputs": [
    {
     "data": {
      "text/html": [
       "<div>\n",
       "<style scoped>\n",
       "    .dataframe tbody tr th:only-of-type {\n",
       "        vertical-align: middle;\n",
       "    }\n",
       "\n",
       "    .dataframe tbody tr th {\n",
       "        vertical-align: top;\n",
       "    }\n",
       "\n",
       "    .dataframe thead th {\n",
       "        text-align: right;\n",
       "    }\n",
       "</style>\n",
       "<table border=\"1\" class=\"dataframe\">\n",
       "  <thead>\n",
       "    <tr style=\"text-align: right;\">\n",
       "      <th></th>\n",
       "      <th>A</th>\n",
       "      <th>B</th>\n",
       "    </tr>\n",
       "  </thead>\n",
       "  <tbody>\n",
       "    <tr>\n",
       "      <th>1</th>\n",
       "      <td>a1</td>\n",
       "      <td>b1</td>\n",
       "    </tr>\n",
       "    <tr>\n",
       "      <th>2</th>\n",
       "      <td>a2</td>\n",
       "      <td>b2</td>\n",
       "    </tr>\n",
       "    <tr>\n",
       "      <th>3</th>\n",
       "      <td>a3</td>\n",
       "      <td>b3</td>\n",
       "    </tr>\n",
       "    <tr>\n",
       "      <th>4</th>\n",
       "      <td>a4</td>\n",
       "      <td>b4</td>\n",
       "    </tr>\n",
       "  </tbody>\n",
       "</table>\n",
       "</div>"
      ],
      "text/plain": [
       "    A   B\n",
       "1  a1  b1\n",
       "2  a2  b2\n",
       "3  a3  b3\n",
       "4  a4  b4"
      ]
     },
     "execution_count": 230,
     "metadata": {},
     "output_type": "execute_result"
    }
   ],
   "source": [
    "pd.concat([df1, df2]) # Index의 기준에 따라 아래로 데이터 테이블이 붙음"
   ]
  },
  {
   "cell_type": "code",
   "execution_count": 231,
   "id": "6884687f",
   "metadata": {},
   "outputs": [
    {
     "data": {
      "text/html": [
       "<div>\n",
       "<style scoped>\n",
       "    .dataframe tbody tr th:only-of-type {\n",
       "        vertical-align: middle;\n",
       "    }\n",
       "\n",
       "    .dataframe tbody tr th {\n",
       "        vertical-align: top;\n",
       "    }\n",
       "\n",
       "    .dataframe thead th {\n",
       "        text-align: right;\n",
       "    }\n",
       "</style>\n",
       "<table border=\"1\" class=\"dataframe\">\n",
       "  <thead>\n",
       "    <tr style=\"text-align: right;\">\n",
       "      <th></th>\n",
       "      <th>A</th>\n",
       "      <th>B</th>\n",
       "    </tr>\n",
       "  </thead>\n",
       "  <tbody>\n",
       "    <tr>\n",
       "      <th>0</th>\n",
       "      <td>a0</td>\n",
       "      <td>b0</td>\n",
       "    </tr>\n",
       "    <tr>\n",
       "      <th>1</th>\n",
       "      <td>a1</td>\n",
       "      <td>b1</td>\n",
       "    </tr>\n",
       "  </tbody>\n",
       "</table>\n",
       "</div>"
      ],
      "text/plain": [
       "    A   B\n",
       "0  a0  b0\n",
       "1  a1  b1"
      ]
     },
     "execution_count": 231,
     "metadata": {},
     "output_type": "execute_result"
    }
   ],
   "source": [
    "df3 = create_df('AB', [0,1])\n",
    "df3"
   ]
  },
  {
   "cell_type": "code",
   "execution_count": 232,
   "id": "5d84056e",
   "metadata": {},
   "outputs": [
    {
     "data": {
      "text/html": [
       "<div>\n",
       "<style scoped>\n",
       "    .dataframe tbody tr th:only-of-type {\n",
       "        vertical-align: middle;\n",
       "    }\n",
       "\n",
       "    .dataframe tbody tr th {\n",
       "        vertical-align: top;\n",
       "    }\n",
       "\n",
       "    .dataframe thead th {\n",
       "        text-align: right;\n",
       "    }\n",
       "</style>\n",
       "<table border=\"1\" class=\"dataframe\">\n",
       "  <thead>\n",
       "    <tr style=\"text-align: right;\">\n",
       "      <th></th>\n",
       "      <th>C</th>\n",
       "      <th>D</th>\n",
       "    </tr>\n",
       "  </thead>\n",
       "  <tbody>\n",
       "    <tr>\n",
       "      <th>0</th>\n",
       "      <td>c0</td>\n",
       "      <td>d0</td>\n",
       "    </tr>\n",
       "    <tr>\n",
       "      <th>1</th>\n",
       "      <td>c1</td>\n",
       "      <td>d1</td>\n",
       "    </tr>\n",
       "  </tbody>\n",
       "</table>\n",
       "</div>"
      ],
      "text/plain": [
       "    C   D\n",
       "0  c0  d0\n",
       "1  c1  d1"
      ]
     },
     "execution_count": 232,
     "metadata": {},
     "output_type": "execute_result"
    }
   ],
   "source": [
    "df4 = create_df('CD', [0,1])\n",
    "df4"
   ]
  },
  {
   "cell_type": "code",
   "execution_count": 233,
   "id": "428f3e9f",
   "metadata": {},
   "outputs": [
    {
     "data": {
      "text/html": [
       "<div>\n",
       "<style scoped>\n",
       "    .dataframe tbody tr th:only-of-type {\n",
       "        vertical-align: middle;\n",
       "    }\n",
       "\n",
       "    .dataframe tbody tr th {\n",
       "        vertical-align: top;\n",
       "    }\n",
       "\n",
       "    .dataframe thead th {\n",
       "        text-align: right;\n",
       "    }\n",
       "</style>\n",
       "<table border=\"1\" class=\"dataframe\">\n",
       "  <thead>\n",
       "    <tr style=\"text-align: right;\">\n",
       "      <th></th>\n",
       "      <th>A</th>\n",
       "      <th>B</th>\n",
       "      <th>C</th>\n",
       "      <th>D</th>\n",
       "    </tr>\n",
       "  </thead>\n",
       "  <tbody>\n",
       "    <tr>\n",
       "      <th>0</th>\n",
       "      <td>a0</td>\n",
       "      <td>b0</td>\n",
       "      <td>NaN</td>\n",
       "      <td>NaN</td>\n",
       "    </tr>\n",
       "    <tr>\n",
       "      <th>1</th>\n",
       "      <td>a1</td>\n",
       "      <td>b1</td>\n",
       "      <td>NaN</td>\n",
       "      <td>NaN</td>\n",
       "    </tr>\n",
       "    <tr>\n",
       "      <th>0</th>\n",
       "      <td>NaN</td>\n",
       "      <td>NaN</td>\n",
       "      <td>c0</td>\n",
       "      <td>d0</td>\n",
       "    </tr>\n",
       "    <tr>\n",
       "      <th>1</th>\n",
       "      <td>NaN</td>\n",
       "      <td>NaN</td>\n",
       "      <td>c1</td>\n",
       "      <td>d1</td>\n",
       "    </tr>\n",
       "  </tbody>\n",
       "</table>\n",
       "</div>"
      ],
      "text/plain": [
       "     A    B    C    D\n",
       "0   a0   b0  NaN  NaN\n",
       "1   a1   b1  NaN  NaN\n",
       "0  NaN  NaN   c0   d0\n",
       "1  NaN  NaN   c1   d1"
      ]
     },
     "execution_count": 233,
     "metadata": {},
     "output_type": "execute_result"
    }
   ],
   "source": [
    "pd.concat([df3, df4])\n",
    "# column명을 기준으로 두 DataFrame이 붙지만 \n",
    "# df3와 df4의 Column명이 다르기 때문에 다른 Column에 대한 value는 NaN으로 처리된다."
   ]
  },
  {
   "cell_type": "code",
   "execution_count": 243,
   "id": "a7539427",
   "metadata": {},
   "outputs": [
    {
     "data": {
      "text/html": [
       "<div>\n",
       "<style scoped>\n",
       "    .dataframe tbody tr th:only-of-type {\n",
       "        vertical-align: middle;\n",
       "    }\n",
       "\n",
       "    .dataframe tbody tr th {\n",
       "        vertical-align: top;\n",
       "    }\n",
       "\n",
       "    .dataframe thead th {\n",
       "        text-align: right;\n",
       "    }\n",
       "</style>\n",
       "<table border=\"1\" class=\"dataframe\">\n",
       "  <thead>\n",
       "    <tr style=\"text-align: right;\">\n",
       "      <th></th>\n",
       "      <th>A</th>\n",
       "      <th>B</th>\n",
       "      <th>C</th>\n",
       "      <th>D</th>\n",
       "    </tr>\n",
       "  </thead>\n",
       "  <tbody>\n",
       "    <tr>\n",
       "      <th>0</th>\n",
       "      <td>a0</td>\n",
       "      <td>b0</td>\n",
       "      <td>c0</td>\n",
       "      <td>d0</td>\n",
       "    </tr>\n",
       "    <tr>\n",
       "      <th>1</th>\n",
       "      <td>a1</td>\n",
       "      <td>b1</td>\n",
       "      <td>c1</td>\n",
       "      <td>d1</td>\n",
       "    </tr>\n",
       "  </tbody>\n",
       "</table>\n",
       "</div>"
      ],
      "text/plain": [
       "    A   B   C   D\n",
       "0  a0  b0  c0  d0\n",
       "1  a1  b1  c1  d1"
      ]
     },
     "execution_count": 243,
     "metadata": {},
     "output_type": "execute_result"
    }
   ],
   "source": [
    "pd.concat([df3, df4], axis=1)"
   ]
  },
  {
   "cell_type": "code",
   "execution_count": 244,
   "id": "1a6c2d16",
   "metadata": {},
   "outputs": [
    {
     "data": {
      "text/html": [
       "<div>\n",
       "<style scoped>\n",
       "    .dataframe tbody tr th:only-of-type {\n",
       "        vertical-align: middle;\n",
       "    }\n",
       "\n",
       "    .dataframe tbody tr th {\n",
       "        vertical-align: top;\n",
       "    }\n",
       "\n",
       "    .dataframe thead th {\n",
       "        text-align: right;\n",
       "    }\n",
       "</style>\n",
       "<table border=\"1\" class=\"dataframe\">\n",
       "  <thead>\n",
       "    <tr style=\"text-align: right;\">\n",
       "      <th></th>\n",
       "      <th>A</th>\n",
       "      <th>B</th>\n",
       "    </tr>\n",
       "  </thead>\n",
       "  <tbody>\n",
       "    <tr>\n",
       "      <th>1</th>\n",
       "      <td>a1</td>\n",
       "      <td>b1</td>\n",
       "    </tr>\n",
       "    <tr>\n",
       "      <th>2</th>\n",
       "      <td>a2</td>\n",
       "      <td>b2</td>\n",
       "    </tr>\n",
       "    <tr>\n",
       "      <th>0</th>\n",
       "      <td>a0</td>\n",
       "      <td>b0</td>\n",
       "    </tr>\n",
       "    <tr>\n",
       "      <th>1</th>\n",
       "      <td>a1</td>\n",
       "      <td>b1</td>\n",
       "    </tr>\n",
       "  </tbody>\n",
       "</table>\n",
       "</div>"
      ],
      "text/plain": [
       "    A   B\n",
       "1  a1  b1\n",
       "2  a2  b2\n",
       "0  a0  b0\n",
       "1  a1  b1"
      ]
     },
     "execution_count": 244,
     "metadata": {},
     "output_type": "execute_result"
    }
   ],
   "source": [
    "pd.concat([df1, df3])"
   ]
  },
  {
   "cell_type": "code",
   "execution_count": 238,
   "id": "9d72831e",
   "metadata": {},
   "outputs": [],
   "source": [
    "# pd.concat([df1, df3], verify_integrity=True)\n",
    "# verify_integrity는 결합하는 두 DataFrame의 index에 동일한 값이 있으면 \n",
    "# 오류를 생성하게 하여 생성을 방지함"
   ]
  },
  {
   "cell_type": "code",
   "execution_count": 236,
   "id": "d4b188bd",
   "metadata": {},
   "outputs": [
    {
     "data": {
      "text/html": [
       "<div>\n",
       "<style scoped>\n",
       "    .dataframe tbody tr th:only-of-type {\n",
       "        vertical-align: middle;\n",
       "    }\n",
       "\n",
       "    .dataframe tbody tr th {\n",
       "        vertical-align: top;\n",
       "    }\n",
       "\n",
       "    .dataframe thead th {\n",
       "        text-align: right;\n",
       "    }\n",
       "</style>\n",
       "<table border=\"1\" class=\"dataframe\">\n",
       "  <thead>\n",
       "    <tr style=\"text-align: right;\">\n",
       "      <th></th>\n",
       "      <th>A</th>\n",
       "      <th>B</th>\n",
       "    </tr>\n",
       "  </thead>\n",
       "  <tbody>\n",
       "    <tr>\n",
       "      <th>0</th>\n",
       "      <td>a1</td>\n",
       "      <td>b1</td>\n",
       "    </tr>\n",
       "    <tr>\n",
       "      <th>1</th>\n",
       "      <td>a2</td>\n",
       "      <td>b2</td>\n",
       "    </tr>\n",
       "    <tr>\n",
       "      <th>2</th>\n",
       "      <td>a0</td>\n",
       "      <td>b0</td>\n",
       "    </tr>\n",
       "    <tr>\n",
       "      <th>3</th>\n",
       "      <td>a1</td>\n",
       "      <td>b1</td>\n",
       "    </tr>\n",
       "  </tbody>\n",
       "</table>\n",
       "</div>"
      ],
      "text/plain": [
       "    A   B\n",
       "0  a1  b1\n",
       "1  a2  b2\n",
       "2  a0  b0\n",
       "3  a1  b1"
      ]
     },
     "execution_count": 236,
     "metadata": {},
     "output_type": "execute_result"
    }
   ],
   "source": [
    "pd.concat([df1, df3], ignore_index=True)"
   ]
  },
  {
   "cell_type": "code",
   "execution_count": 239,
   "id": "cf885943",
   "metadata": {},
   "outputs": [
    {
     "data": {
      "text/html": [
       "<div>\n",
       "<style scoped>\n",
       "    .dataframe tbody tr th:only-of-type {\n",
       "        vertical-align: middle;\n",
       "    }\n",
       "\n",
       "    .dataframe tbody tr th {\n",
       "        vertical-align: top;\n",
       "    }\n",
       "\n",
       "    .dataframe thead th {\n",
       "        text-align: right;\n",
       "    }\n",
       "</style>\n",
       "<table border=\"1\" class=\"dataframe\">\n",
       "  <thead>\n",
       "    <tr style=\"text-align: right;\">\n",
       "      <th></th>\n",
       "      <th></th>\n",
       "      <th>A</th>\n",
       "      <th>B</th>\n",
       "    </tr>\n",
       "  </thead>\n",
       "  <tbody>\n",
       "    <tr>\n",
       "      <th rowspan=\"2\" valign=\"top\">x</th>\n",
       "      <th>1</th>\n",
       "      <td>a1</td>\n",
       "      <td>b1</td>\n",
       "    </tr>\n",
       "    <tr>\n",
       "      <th>2</th>\n",
       "      <td>a2</td>\n",
       "      <td>b2</td>\n",
       "    </tr>\n",
       "    <tr>\n",
       "      <th rowspan=\"2\" valign=\"top\">y</th>\n",
       "      <th>0</th>\n",
       "      <td>a0</td>\n",
       "      <td>b0</td>\n",
       "    </tr>\n",
       "    <tr>\n",
       "      <th>1</th>\n",
       "      <td>a1</td>\n",
       "      <td>b1</td>\n",
       "    </tr>\n",
       "  </tbody>\n",
       "</table>\n",
       "</div>"
      ],
      "text/plain": [
       "      A   B\n",
       "x 1  a1  b1\n",
       "  2  a2  b2\n",
       "y 0  a0  b0\n",
       "  1  a1  b1"
      ]
     },
     "execution_count": 239,
     "metadata": {},
     "output_type": "execute_result"
    }
   ],
   "source": [
    "pd.concat([df1, df3], keys=['x','y'])\n",
    "# MultiIndex의 형태로 만들어줌"
   ]
  },
  {
   "cell_type": "code",
   "execution_count": 240,
   "id": "49ea158e",
   "metadata": {},
   "outputs": [
    {
     "data": {
      "text/html": [
       "<div>\n",
       "<style scoped>\n",
       "    .dataframe tbody tr th:only-of-type {\n",
       "        vertical-align: middle;\n",
       "    }\n",
       "\n",
       "    .dataframe tbody tr th {\n",
       "        vertical-align: top;\n",
       "    }\n",
       "\n",
       "    .dataframe thead th {\n",
       "        text-align: right;\n",
       "    }\n",
       "</style>\n",
       "<table border=\"1\" class=\"dataframe\">\n",
       "  <thead>\n",
       "    <tr style=\"text-align: right;\">\n",
       "      <th></th>\n",
       "      <th>A</th>\n",
       "      <th>B</th>\n",
       "      <th>C</th>\n",
       "      <th>D</th>\n",
       "    </tr>\n",
       "  </thead>\n",
       "  <tbody>\n",
       "    <tr>\n",
       "      <th>1</th>\n",
       "      <td>a1</td>\n",
       "      <td>b1</td>\n",
       "      <td>c1</td>\n",
       "      <td>NaN</td>\n",
       "    </tr>\n",
       "    <tr>\n",
       "      <th>2</th>\n",
       "      <td>a2</td>\n",
       "      <td>b2</td>\n",
       "      <td>c2</td>\n",
       "      <td>NaN</td>\n",
       "    </tr>\n",
       "    <tr>\n",
       "      <th>3</th>\n",
       "      <td>NaN</td>\n",
       "      <td>b3</td>\n",
       "      <td>c3</td>\n",
       "      <td>d3</td>\n",
       "    </tr>\n",
       "    <tr>\n",
       "      <th>4</th>\n",
       "      <td>NaN</td>\n",
       "      <td>b4</td>\n",
       "      <td>c4</td>\n",
       "      <td>d4</td>\n",
       "    </tr>\n",
       "  </tbody>\n",
       "</table>\n",
       "</div>"
      ],
      "text/plain": [
       "     A   B   C    D\n",
       "1   a1  b1  c1  NaN\n",
       "2   a2  b2  c2  NaN\n",
       "3  NaN  b3  c3   d3\n",
       "4  NaN  b4  c4   d4"
      ]
     },
     "execution_count": 240,
     "metadata": {},
     "output_type": "execute_result"
    }
   ],
   "source": [
    "df5 = create_df('ABC',[1, 2])\n",
    "df6 = create_df('BCD',[3,4])\n",
    "pd.concat([df5, df6])"
   ]
  },
  {
   "cell_type": "code",
   "execution_count": 241,
   "id": "509aa989",
   "metadata": {},
   "outputs": [
    {
     "data": {
      "text/html": [
       "<div>\n",
       "<style scoped>\n",
       "    .dataframe tbody tr th:only-of-type {\n",
       "        vertical-align: middle;\n",
       "    }\n",
       "\n",
       "    .dataframe tbody tr th {\n",
       "        vertical-align: top;\n",
       "    }\n",
       "\n",
       "    .dataframe thead th {\n",
       "        text-align: right;\n",
       "    }\n",
       "</style>\n",
       "<table border=\"1\" class=\"dataframe\">\n",
       "  <thead>\n",
       "    <tr style=\"text-align: right;\">\n",
       "      <th></th>\n",
       "      <th>B</th>\n",
       "      <th>C</th>\n",
       "    </tr>\n",
       "  </thead>\n",
       "  <tbody>\n",
       "    <tr>\n",
       "      <th>1</th>\n",
       "      <td>b1</td>\n",
       "      <td>c1</td>\n",
       "    </tr>\n",
       "    <tr>\n",
       "      <th>2</th>\n",
       "      <td>b2</td>\n",
       "      <td>c2</td>\n",
       "    </tr>\n",
       "    <tr>\n",
       "      <th>3</th>\n",
       "      <td>b3</td>\n",
       "      <td>c3</td>\n",
       "    </tr>\n",
       "    <tr>\n",
       "      <th>4</th>\n",
       "      <td>b4</td>\n",
       "      <td>c4</td>\n",
       "    </tr>\n",
       "  </tbody>\n",
       "</table>\n",
       "</div>"
      ],
      "text/plain": [
       "    B   C\n",
       "1  b1  c1\n",
       "2  b2  c2\n",
       "3  b3  c3\n",
       "4  b4  c4"
      ]
     },
     "execution_count": 241,
     "metadata": {},
     "output_type": "execute_result"
    }
   ],
   "source": [
    "pd.concat([df5, df6], join='inner')\n",
    "# columns 중에 공통된 column만이 결합되어 합쳐짐"
   ]
  },
  {
   "cell_type": "code",
   "execution_count": 242,
   "id": "2ad6c5c3",
   "metadata": {},
   "outputs": [
    {
     "data": {
      "text/html": [
       "<div>\n",
       "<style scoped>\n",
       "    .dataframe tbody tr th:only-of-type {\n",
       "        vertical-align: middle;\n",
       "    }\n",
       "\n",
       "    .dataframe tbody tr th {\n",
       "        vertical-align: top;\n",
       "    }\n",
       "\n",
       "    .dataframe thead th {\n",
       "        text-align: right;\n",
       "    }\n",
       "</style>\n",
       "<table border=\"1\" class=\"dataframe\">\n",
       "  <thead>\n",
       "    <tr style=\"text-align: right;\">\n",
       "      <th></th>\n",
       "      <th>A</th>\n",
       "      <th>B</th>\n",
       "      <th>C</th>\n",
       "      <th>D</th>\n",
       "    </tr>\n",
       "  </thead>\n",
       "  <tbody>\n",
       "    <tr>\n",
       "      <th>1</th>\n",
       "      <td>a1</td>\n",
       "      <td>b1</td>\n",
       "      <td>c1</td>\n",
       "      <td>NaN</td>\n",
       "    </tr>\n",
       "    <tr>\n",
       "      <th>2</th>\n",
       "      <td>a2</td>\n",
       "      <td>b2</td>\n",
       "      <td>c2</td>\n",
       "      <td>NaN</td>\n",
       "    </tr>\n",
       "    <tr>\n",
       "      <th>3</th>\n",
       "      <td>NaN</td>\n",
       "      <td>b3</td>\n",
       "      <td>c3</td>\n",
       "      <td>d3</td>\n",
       "    </tr>\n",
       "    <tr>\n",
       "      <th>4</th>\n",
       "      <td>NaN</td>\n",
       "      <td>b4</td>\n",
       "      <td>c4</td>\n",
       "      <td>d4</td>\n",
       "    </tr>\n",
       "  </tbody>\n",
       "</table>\n",
       "</div>"
      ],
      "text/plain": [
       "     A   B   C    D\n",
       "1   a1  b1  c1  NaN\n",
       "2   a2  b2  c2  NaN\n",
       "3  NaN  b3  c3   d3\n",
       "4  NaN  b4  c4   d4"
      ]
     },
     "execution_count": 242,
     "metadata": {},
     "output_type": "execute_result"
    }
   ],
   "source": [
    "df5.append(df6)\n",
    "# concat과 같은 용도"
   ]
  },
  {
   "cell_type": "markdown",
   "id": "080d2f03",
   "metadata": {},
   "source": [
    "### 병합과 조인"
   ]
  },
  {
   "cell_type": "code",
   "execution_count": 245,
   "id": "fca19456",
   "metadata": {},
   "outputs": [
    {
     "data": {
      "text/html": [
       "<div>\n",
       "<style scoped>\n",
       "    .dataframe tbody tr th:only-of-type {\n",
       "        vertical-align: middle;\n",
       "    }\n",
       "\n",
       "    .dataframe tbody tr th {\n",
       "        vertical-align: top;\n",
       "    }\n",
       "\n",
       "    .dataframe thead th {\n",
       "        text-align: right;\n",
       "    }\n",
       "</style>\n",
       "<table border=\"1\" class=\"dataframe\">\n",
       "  <thead>\n",
       "    <tr style=\"text-align: right;\">\n",
       "      <th></th>\n",
       "      <th>학생</th>\n",
       "      <th>학과</th>\n",
       "    </tr>\n",
       "  </thead>\n",
       "  <tbody>\n",
       "    <tr>\n",
       "      <th>0</th>\n",
       "      <td>홍길동</td>\n",
       "      <td>경영학과</td>\n",
       "    </tr>\n",
       "    <tr>\n",
       "      <th>1</th>\n",
       "      <td>이순신</td>\n",
       "      <td>교육학과</td>\n",
       "    </tr>\n",
       "    <tr>\n",
       "      <th>2</th>\n",
       "      <td>임꺽정</td>\n",
       "      <td>컴퓨터학과</td>\n",
       "    </tr>\n",
       "    <tr>\n",
       "      <th>3</th>\n",
       "      <td>김유신</td>\n",
       "      <td>통계학과</td>\n",
       "    </tr>\n",
       "  </tbody>\n",
       "</table>\n",
       "</div>"
      ],
      "text/plain": [
       "    학생     학과\n",
       "0  홍길동   경영학과\n",
       "1  이순신   교육학과\n",
       "2  임꺽정  컴퓨터학과\n",
       "3  김유신   통계학과"
      ]
     },
     "execution_count": 245,
     "metadata": {},
     "output_type": "execute_result"
    }
   ],
   "source": [
    "df1 = pd.DataFrame({'학생':['홍길동','이순신','임꺽정','김유신'],\n",
    "                    '학과':['경영학과','교육학과','컴퓨터학과','통계학과']})\n",
    "df1"
   ]
  },
  {
   "cell_type": "code",
   "execution_count": 246,
   "id": "02517cd7",
   "metadata": {},
   "outputs": [
    {
     "data": {
      "text/html": [
       "<div>\n",
       "<style scoped>\n",
       "    .dataframe tbody tr th:only-of-type {\n",
       "        vertical-align: middle;\n",
       "    }\n",
       "\n",
       "    .dataframe tbody tr th {\n",
       "        vertical-align: top;\n",
       "    }\n",
       "\n",
       "    .dataframe thead th {\n",
       "        text-align: right;\n",
       "    }\n",
       "</style>\n",
       "<table border=\"1\" class=\"dataframe\">\n",
       "  <thead>\n",
       "    <tr style=\"text-align: right;\">\n",
       "      <th></th>\n",
       "      <th>학생</th>\n",
       "      <th>입학년도</th>\n",
       "    </tr>\n",
       "  </thead>\n",
       "  <tbody>\n",
       "    <tr>\n",
       "      <th>0</th>\n",
       "      <td>홍길동</td>\n",
       "      <td>2012</td>\n",
       "    </tr>\n",
       "    <tr>\n",
       "      <th>1</th>\n",
       "      <td>이순신</td>\n",
       "      <td>2016</td>\n",
       "    </tr>\n",
       "    <tr>\n",
       "      <th>2</th>\n",
       "      <td>임꺽정</td>\n",
       "      <td>2019</td>\n",
       "    </tr>\n",
       "    <tr>\n",
       "      <th>3</th>\n",
       "      <td>김유신</td>\n",
       "      <td>2020</td>\n",
       "    </tr>\n",
       "  </tbody>\n",
       "</table>\n",
       "</div>"
      ],
      "text/plain": [
       "    학생  입학년도\n",
       "0  홍길동  2012\n",
       "1  이순신  2016\n",
       "2  임꺽정  2019\n",
       "3  김유신  2020"
      ]
     },
     "execution_count": 246,
     "metadata": {},
     "output_type": "execute_result"
    }
   ],
   "source": [
    "df2 = pd.DataFrame({'학생':['홍길동','이순신','임꺽정','김유신'],\n",
    "                    '입학년도':[2012, 2016, 2019, 2020]})\n",
    "df2"
   ]
  },
  {
   "cell_type": "code",
   "execution_count": 247,
   "id": "7d57d04d",
   "metadata": {},
   "outputs": [
    {
     "data": {
      "text/html": [
       "<div>\n",
       "<style scoped>\n",
       "    .dataframe tbody tr th:only-of-type {\n",
       "        vertical-align: middle;\n",
       "    }\n",
       "\n",
       "    .dataframe tbody tr th {\n",
       "        vertical-align: top;\n",
       "    }\n",
       "\n",
       "    .dataframe thead th {\n",
       "        text-align: right;\n",
       "    }\n",
       "</style>\n",
       "<table border=\"1\" class=\"dataframe\">\n",
       "  <thead>\n",
       "    <tr style=\"text-align: right;\">\n",
       "      <th></th>\n",
       "      <th>학생</th>\n",
       "      <th>학과</th>\n",
       "      <th>입학년도</th>\n",
       "    </tr>\n",
       "  </thead>\n",
       "  <tbody>\n",
       "    <tr>\n",
       "      <th>0</th>\n",
       "      <td>홍길동</td>\n",
       "      <td>경영학과</td>\n",
       "      <td>2012</td>\n",
       "    </tr>\n",
       "    <tr>\n",
       "      <th>1</th>\n",
       "      <td>이순신</td>\n",
       "      <td>교육학과</td>\n",
       "      <td>2016</td>\n",
       "    </tr>\n",
       "    <tr>\n",
       "      <th>2</th>\n",
       "      <td>임꺽정</td>\n",
       "      <td>컴퓨터학과</td>\n",
       "      <td>2019</td>\n",
       "    </tr>\n",
       "    <tr>\n",
       "      <th>3</th>\n",
       "      <td>김유신</td>\n",
       "      <td>통계학과</td>\n",
       "      <td>2020</td>\n",
       "    </tr>\n",
       "  </tbody>\n",
       "</table>\n",
       "</div>"
      ],
      "text/plain": [
       "    학생     학과  입학년도\n",
       "0  홍길동   경영학과  2012\n",
       "1  이순신   교육학과  2016\n",
       "2  임꺽정  컴퓨터학과  2019\n",
       "3  김유신   통계학과  2020"
      ]
     },
     "execution_count": 247,
     "metadata": {},
     "output_type": "execute_result"
    }
   ],
   "source": [
    "df3 = pd.merge(df1, df2)\n",
    "df3"
   ]
  },
  {
   "cell_type": "code",
   "execution_count": 248,
   "id": "c3781509",
   "metadata": {},
   "outputs": [
    {
     "data": {
      "text/html": [
       "<div>\n",
       "<style scoped>\n",
       "    .dataframe tbody tr th:only-of-type {\n",
       "        vertical-align: middle;\n",
       "    }\n",
       "\n",
       "    .dataframe tbody tr th {\n",
       "        vertical-align: top;\n",
       "    }\n",
       "\n",
       "    .dataframe thead th {\n",
       "        text-align: right;\n",
       "    }\n",
       "</style>\n",
       "<table border=\"1\" class=\"dataframe\">\n",
       "  <thead>\n",
       "    <tr style=\"text-align: right;\">\n",
       "      <th></th>\n",
       "      <th>학과</th>\n",
       "      <th>학과장</th>\n",
       "    </tr>\n",
       "  </thead>\n",
       "  <tbody>\n",
       "    <tr>\n",
       "      <th>0</th>\n",
       "      <td>경영학과</td>\n",
       "      <td>황희</td>\n",
       "    </tr>\n",
       "    <tr>\n",
       "      <th>1</th>\n",
       "      <td>교육학과</td>\n",
       "      <td>장영실</td>\n",
       "    </tr>\n",
       "    <tr>\n",
       "      <th>2</th>\n",
       "      <td>컴퓨터학과</td>\n",
       "      <td>안창호</td>\n",
       "    </tr>\n",
       "    <tr>\n",
       "      <th>3</th>\n",
       "      <td>통계학과</td>\n",
       "      <td>정약용</td>\n",
       "    </tr>\n",
       "  </tbody>\n",
       "</table>\n",
       "</div>"
      ],
      "text/plain": [
       "      학과  학과장\n",
       "0   경영학과   황희\n",
       "1   교육학과  장영실\n",
       "2  컴퓨터학과  안창호\n",
       "3   통계학과  정약용"
      ]
     },
     "execution_count": 248,
     "metadata": {},
     "output_type": "execute_result"
    }
   ],
   "source": [
    "df4 = pd.DataFrame({'학과':['경영학과','교육학과','컴퓨터학과','통계학과'],\n",
    "                    '학과장':['황희','장영실','안창호','정약용']})\n",
    "df4"
   ]
  },
  {
   "cell_type": "code",
   "execution_count": 251,
   "id": "646fa6ff",
   "metadata": {},
   "outputs": [
    {
     "data": {
      "text/html": [
       "<div>\n",
       "<style scoped>\n",
       "    .dataframe tbody tr th:only-of-type {\n",
       "        vertical-align: middle;\n",
       "    }\n",
       "\n",
       "    .dataframe tbody tr th {\n",
       "        vertical-align: top;\n",
       "    }\n",
       "\n",
       "    .dataframe thead th {\n",
       "        text-align: right;\n",
       "    }\n",
       "</style>\n",
       "<table border=\"1\" class=\"dataframe\">\n",
       "  <thead>\n",
       "    <tr style=\"text-align: right;\">\n",
       "      <th></th>\n",
       "      <th>학생</th>\n",
       "      <th>학과</th>\n",
       "      <th>입학년도</th>\n",
       "      <th>학과장</th>\n",
       "    </tr>\n",
       "  </thead>\n",
       "  <tbody>\n",
       "    <tr>\n",
       "      <th>0</th>\n",
       "      <td>홍길동</td>\n",
       "      <td>경영학과</td>\n",
       "      <td>2012</td>\n",
       "      <td>황희</td>\n",
       "    </tr>\n",
       "    <tr>\n",
       "      <th>1</th>\n",
       "      <td>이순신</td>\n",
       "      <td>교육학과</td>\n",
       "      <td>2016</td>\n",
       "      <td>장영실</td>\n",
       "    </tr>\n",
       "    <tr>\n",
       "      <th>2</th>\n",
       "      <td>임꺽정</td>\n",
       "      <td>컴퓨터학과</td>\n",
       "      <td>2019</td>\n",
       "      <td>안창호</td>\n",
       "    </tr>\n",
       "    <tr>\n",
       "      <th>3</th>\n",
       "      <td>김유신</td>\n",
       "      <td>통계학과</td>\n",
       "      <td>2020</td>\n",
       "      <td>정약용</td>\n",
       "    </tr>\n",
       "  </tbody>\n",
       "</table>\n",
       "</div>"
      ],
      "text/plain": [
       "    학생     학과  입학년도  학과장\n",
       "0  홍길동   경영학과  2012   황희\n",
       "1  이순신   교육학과  2016  장영실\n",
       "2  임꺽정  컴퓨터학과  2019  안창호\n",
       "3  김유신   통계학과  2020  정약용"
      ]
     },
     "execution_count": 251,
     "metadata": {},
     "output_type": "execute_result"
    }
   ],
   "source": [
    "pd.merge(df3, df4)"
   ]
  },
  {
   "cell_type": "code",
   "execution_count": 252,
   "id": "bb3cfe52",
   "metadata": {},
   "outputs": [
    {
     "data": {
      "text/html": [
       "<div>\n",
       "<style scoped>\n",
       "    .dataframe tbody tr th:only-of-type {\n",
       "        vertical-align: middle;\n",
       "    }\n",
       "\n",
       "    .dataframe tbody tr th {\n",
       "        vertical-align: top;\n",
       "    }\n",
       "\n",
       "    .dataframe thead th {\n",
       "        text-align: right;\n",
       "    }\n",
       "</style>\n",
       "<table border=\"1\" class=\"dataframe\">\n",
       "  <thead>\n",
       "    <tr style=\"text-align: right;\">\n",
       "      <th></th>\n",
       "      <th>학과</th>\n",
       "      <th>과목</th>\n",
       "    </tr>\n",
       "  </thead>\n",
       "  <tbody>\n",
       "    <tr>\n",
       "      <th>0</th>\n",
       "      <td>경영학과</td>\n",
       "      <td>경영개론</td>\n",
       "    </tr>\n",
       "    <tr>\n",
       "      <th>1</th>\n",
       "      <td>교육학과</td>\n",
       "      <td>기초수학</td>\n",
       "    </tr>\n",
       "    <tr>\n",
       "      <th>2</th>\n",
       "      <td>교육학과</td>\n",
       "      <td>물리학</td>\n",
       "    </tr>\n",
       "    <tr>\n",
       "      <th>3</th>\n",
       "      <td>컴퓨터학과</td>\n",
       "      <td>프로그래밍</td>\n",
       "    </tr>\n",
       "    <tr>\n",
       "      <th>4</th>\n",
       "      <td>컴퓨터학과</td>\n",
       "      <td>운영체제</td>\n",
       "    </tr>\n",
       "    <tr>\n",
       "      <th>5</th>\n",
       "      <td>통계학과</td>\n",
       "      <td>확률론</td>\n",
       "    </tr>\n",
       "  </tbody>\n",
       "</table>\n",
       "</div>"
      ],
      "text/plain": [
       "      학과     과목\n",
       "0   경영학과   경영개론\n",
       "1   교육학과   기초수학\n",
       "2   교육학과    물리학\n",
       "3  컴퓨터학과  프로그래밍\n",
       "4  컴퓨터학과   운영체제\n",
       "5   통계학과    확률론"
      ]
     },
     "execution_count": 252,
     "metadata": {},
     "output_type": "execute_result"
    }
   ],
   "source": [
    "df5 = pd.DataFrame({'학과':['경영학과','교육학과','교육학과','컴퓨터학과','컴퓨터학과','통계학과'],\n",
    "                    '과목':['경영개론','기초수학','물리학','프로그래밍','운영체제','확률론']})\n",
    "df5"
   ]
  },
  {
   "cell_type": "code",
   "execution_count": 253,
   "id": "889450d3",
   "metadata": {},
   "outputs": [
    {
     "data": {
      "text/html": [
       "<div>\n",
       "<style scoped>\n",
       "    .dataframe tbody tr th:only-of-type {\n",
       "        vertical-align: middle;\n",
       "    }\n",
       "\n",
       "    .dataframe tbody tr th {\n",
       "        vertical-align: top;\n",
       "    }\n",
       "\n",
       "    .dataframe thead th {\n",
       "        text-align: right;\n",
       "    }\n",
       "</style>\n",
       "<table border=\"1\" class=\"dataframe\">\n",
       "  <thead>\n",
       "    <tr style=\"text-align: right;\">\n",
       "      <th></th>\n",
       "      <th>학생</th>\n",
       "      <th>학과</th>\n",
       "      <th>과목</th>\n",
       "    </tr>\n",
       "  </thead>\n",
       "  <tbody>\n",
       "    <tr>\n",
       "      <th>0</th>\n",
       "      <td>홍길동</td>\n",
       "      <td>경영학과</td>\n",
       "      <td>경영개론</td>\n",
       "    </tr>\n",
       "    <tr>\n",
       "      <th>1</th>\n",
       "      <td>이순신</td>\n",
       "      <td>교육학과</td>\n",
       "      <td>기초수학</td>\n",
       "    </tr>\n",
       "    <tr>\n",
       "      <th>2</th>\n",
       "      <td>이순신</td>\n",
       "      <td>교육학과</td>\n",
       "      <td>물리학</td>\n",
       "    </tr>\n",
       "    <tr>\n",
       "      <th>3</th>\n",
       "      <td>임꺽정</td>\n",
       "      <td>컴퓨터학과</td>\n",
       "      <td>프로그래밍</td>\n",
       "    </tr>\n",
       "    <tr>\n",
       "      <th>4</th>\n",
       "      <td>임꺽정</td>\n",
       "      <td>컴퓨터학과</td>\n",
       "      <td>운영체제</td>\n",
       "    </tr>\n",
       "    <tr>\n",
       "      <th>5</th>\n",
       "      <td>김유신</td>\n",
       "      <td>통계학과</td>\n",
       "      <td>확률론</td>\n",
       "    </tr>\n",
       "  </tbody>\n",
       "</table>\n",
       "</div>"
      ],
      "text/plain": [
       "    학생     학과     과목\n",
       "0  홍길동   경영학과   경영개론\n",
       "1  이순신   교육학과   기초수학\n",
       "2  이순신   교육학과    물리학\n",
       "3  임꺽정  컴퓨터학과  프로그래밍\n",
       "4  임꺽정  컴퓨터학과   운영체제\n",
       "5  김유신   통계학과    확률론"
      ]
     },
     "execution_count": 253,
     "metadata": {},
     "output_type": "execute_result"
    }
   ],
   "source": [
    "pd.merge(df1, df5)\n",
    "# merge하는 기준은 공통된 학과\n",
    "# df1은 학생/학과라는 컬럼이 있고\n",
    "# df5는 학과/과목이 존재한다.\n",
    "# merge를 할 경우 공통된 컬럼인 학과를 기준으로 병합되기 때문에\n",
    "# df1의 학생의 컬럼이 늘어난다."
   ]
  },
  {
   "cell_type": "code",
   "execution_count": 260,
   "id": "2e3197e4",
   "metadata": {},
   "outputs": [
    {
     "data": {
      "text/html": [
       "<div>\n",
       "<style scoped>\n",
       "    .dataframe tbody tr th:only-of-type {\n",
       "        vertical-align: middle;\n",
       "    }\n",
       "\n",
       "    .dataframe tbody tr th {\n",
       "        vertical-align: top;\n",
       "    }\n",
       "\n",
       "    .dataframe thead th {\n",
       "        text-align: right;\n",
       "    }\n",
       "</style>\n",
       "<table border=\"1\" class=\"dataframe\">\n",
       "  <thead>\n",
       "    <tr style=\"text-align: right;\">\n",
       "      <th></th>\n",
       "      <th>학생</th>\n",
       "      <th>학과</th>\n",
       "      <th>입학년도</th>\n",
       "    </tr>\n",
       "  </thead>\n",
       "  <tbody>\n",
       "    <tr>\n",
       "      <th>0</th>\n",
       "      <td>홍길동</td>\n",
       "      <td>경영학과</td>\n",
       "      <td>2012</td>\n",
       "    </tr>\n",
       "    <tr>\n",
       "      <th>1</th>\n",
       "      <td>이순신</td>\n",
       "      <td>교육학과</td>\n",
       "      <td>2016</td>\n",
       "    </tr>\n",
       "    <tr>\n",
       "      <th>2</th>\n",
       "      <td>임꺽정</td>\n",
       "      <td>컴퓨터학과</td>\n",
       "      <td>2019</td>\n",
       "    </tr>\n",
       "    <tr>\n",
       "      <th>3</th>\n",
       "      <td>김유신</td>\n",
       "      <td>통계학과</td>\n",
       "      <td>2020</td>\n",
       "    </tr>\n",
       "  </tbody>\n",
       "</table>\n",
       "</div>"
      ],
      "text/plain": [
       "    학생     학과  입학년도\n",
       "0  홍길동   경영학과  2012\n",
       "1  이순신   교육학과  2016\n",
       "2  임꺽정  컴퓨터학과  2019\n",
       "3  김유신   통계학과  2020"
      ]
     },
     "execution_count": 260,
     "metadata": {},
     "output_type": "execute_result"
    }
   ],
   "source": [
    "pd.merge(df1, df2, on='학생')"
   ]
  },
  {
   "cell_type": "code",
   "execution_count": 261,
   "id": "eab924c3",
   "metadata": {},
   "outputs": [
    {
     "data": {
      "text/html": [
       "<div>\n",
       "<style scoped>\n",
       "    .dataframe tbody tr th:only-of-type {\n",
       "        vertical-align: middle;\n",
       "    }\n",
       "\n",
       "    .dataframe tbody tr th {\n",
       "        vertical-align: top;\n",
       "    }\n",
       "\n",
       "    .dataframe thead th {\n",
       "        text-align: right;\n",
       "    }\n",
       "</style>\n",
       "<table border=\"1\" class=\"dataframe\">\n",
       "  <thead>\n",
       "    <tr style=\"text-align: right;\">\n",
       "      <th></th>\n",
       "      <th>이름</th>\n",
       "      <th>성적</th>\n",
       "    </tr>\n",
       "  </thead>\n",
       "  <tbody>\n",
       "    <tr>\n",
       "      <th>0</th>\n",
       "      <td>홍길동</td>\n",
       "      <td>A</td>\n",
       "    </tr>\n",
       "    <tr>\n",
       "      <th>1</th>\n",
       "      <td>이순신</td>\n",
       "      <td>A+</td>\n",
       "    </tr>\n",
       "    <tr>\n",
       "      <th>2</th>\n",
       "      <td>임꺽정</td>\n",
       "      <td>B</td>\n",
       "    </tr>\n",
       "    <tr>\n",
       "      <th>3</th>\n",
       "      <td>김유신</td>\n",
       "      <td>A+</td>\n",
       "    </tr>\n",
       "  </tbody>\n",
       "</table>\n",
       "</div>"
      ],
      "text/plain": [
       "    이름  성적\n",
       "0  홍길동   A\n",
       "1  이순신  A+\n",
       "2  임꺽정   B\n",
       "3  김유신  A+"
      ]
     },
     "execution_count": 261,
     "metadata": {},
     "output_type": "execute_result"
    }
   ],
   "source": [
    "df6 = pd.DataFrame({'이름':['홍길동','이순신','임꺽정','김유신'],\n",
    "                    '성적':['A','A+','B','A+']})\n",
    "df6"
   ]
  },
  {
   "cell_type": "code",
   "execution_count": 262,
   "id": "027ec098",
   "metadata": {},
   "outputs": [
    {
     "data": {
      "text/html": [
       "<div>\n",
       "<style scoped>\n",
       "    .dataframe tbody tr th:only-of-type {\n",
       "        vertical-align: middle;\n",
       "    }\n",
       "\n",
       "    .dataframe tbody tr th {\n",
       "        vertical-align: top;\n",
       "    }\n",
       "\n",
       "    .dataframe thead th {\n",
       "        text-align: right;\n",
       "    }\n",
       "</style>\n",
       "<table border=\"1\" class=\"dataframe\">\n",
       "  <thead>\n",
       "    <tr style=\"text-align: right;\">\n",
       "      <th></th>\n",
       "      <th>학생</th>\n",
       "      <th>학과</th>\n",
       "      <th>이름</th>\n",
       "      <th>성적</th>\n",
       "    </tr>\n",
       "  </thead>\n",
       "  <tbody>\n",
       "    <tr>\n",
       "      <th>0</th>\n",
       "      <td>홍길동</td>\n",
       "      <td>경영학과</td>\n",
       "      <td>홍길동</td>\n",
       "      <td>A</td>\n",
       "    </tr>\n",
       "    <tr>\n",
       "      <th>1</th>\n",
       "      <td>이순신</td>\n",
       "      <td>교육학과</td>\n",
       "      <td>이순신</td>\n",
       "      <td>A+</td>\n",
       "    </tr>\n",
       "    <tr>\n",
       "      <th>2</th>\n",
       "      <td>임꺽정</td>\n",
       "      <td>컴퓨터학과</td>\n",
       "      <td>임꺽정</td>\n",
       "      <td>B</td>\n",
       "    </tr>\n",
       "    <tr>\n",
       "      <th>3</th>\n",
       "      <td>김유신</td>\n",
       "      <td>통계학과</td>\n",
       "      <td>김유신</td>\n",
       "      <td>A+</td>\n",
       "    </tr>\n",
       "  </tbody>\n",
       "</table>\n",
       "</div>"
      ],
      "text/plain": [
       "    학생     학과   이름  성적\n",
       "0  홍길동   경영학과  홍길동   A\n",
       "1  이순신   교육학과  이순신  A+\n",
       "2  임꺽정  컴퓨터학과  임꺽정   B\n",
       "3  김유신   통계학과  김유신  A+"
      ]
     },
     "execution_count": 262,
     "metadata": {},
     "output_type": "execute_result"
    }
   ],
   "source": [
    "pd.merge(df1, df6, left_on='학생', right_on='이름')"
   ]
  },
  {
   "cell_type": "code",
   "execution_count": 263,
   "id": "96624a04",
   "metadata": {},
   "outputs": [
    {
     "data": {
      "text/html": [
       "<div>\n",
       "<style scoped>\n",
       "    .dataframe tbody tr th:only-of-type {\n",
       "        vertical-align: middle;\n",
       "    }\n",
       "\n",
       "    .dataframe tbody tr th {\n",
       "        vertical-align: top;\n",
       "    }\n",
       "\n",
       "    .dataframe thead th {\n",
       "        text-align: right;\n",
       "    }\n",
       "</style>\n",
       "<table border=\"1\" class=\"dataframe\">\n",
       "  <thead>\n",
       "    <tr style=\"text-align: right;\">\n",
       "      <th></th>\n",
       "      <th>학생</th>\n",
       "      <th>학과</th>\n",
       "      <th>성적</th>\n",
       "    </tr>\n",
       "  </thead>\n",
       "  <tbody>\n",
       "    <tr>\n",
       "      <th>0</th>\n",
       "      <td>홍길동</td>\n",
       "      <td>경영학과</td>\n",
       "      <td>A</td>\n",
       "    </tr>\n",
       "    <tr>\n",
       "      <th>1</th>\n",
       "      <td>이순신</td>\n",
       "      <td>교육학과</td>\n",
       "      <td>A+</td>\n",
       "    </tr>\n",
       "    <tr>\n",
       "      <th>2</th>\n",
       "      <td>임꺽정</td>\n",
       "      <td>컴퓨터학과</td>\n",
       "      <td>B</td>\n",
       "    </tr>\n",
       "    <tr>\n",
       "      <th>3</th>\n",
       "      <td>김유신</td>\n",
       "      <td>통계학과</td>\n",
       "      <td>A+</td>\n",
       "    </tr>\n",
       "  </tbody>\n",
       "</table>\n",
       "</div>"
      ],
      "text/plain": [
       "    학생     학과  성적\n",
       "0  홍길동   경영학과   A\n",
       "1  이순신   교육학과  A+\n",
       "2  임꺽정  컴퓨터학과   B\n",
       "3  김유신   통계학과  A+"
      ]
     },
     "execution_count": 263,
     "metadata": {},
     "output_type": "execute_result"
    }
   ],
   "source": [
    "pd.merge(df1, df6, left_on='학생',right_on='이름').drop('이름',axis=1)"
   ]
  },
  {
   "cell_type": "code",
   "execution_count": 265,
   "id": "8fc0da97",
   "metadata": {},
   "outputs": [],
   "source": [
    "mdf1 = df1.set_index('학생')\n",
    "mdf2 = df2.set_index('학생')"
   ]
  },
  {
   "cell_type": "code",
   "execution_count": 266,
   "id": "0eea4e0f",
   "metadata": {},
   "outputs": [
    {
     "data": {
      "text/html": [
       "<div>\n",
       "<style scoped>\n",
       "    .dataframe tbody tr th:only-of-type {\n",
       "        vertical-align: middle;\n",
       "    }\n",
       "\n",
       "    .dataframe tbody tr th {\n",
       "        vertical-align: top;\n",
       "    }\n",
       "\n",
       "    .dataframe thead th {\n",
       "        text-align: right;\n",
       "    }\n",
       "</style>\n",
       "<table border=\"1\" class=\"dataframe\">\n",
       "  <thead>\n",
       "    <tr style=\"text-align: right;\">\n",
       "      <th></th>\n",
       "      <th>학과</th>\n",
       "    </tr>\n",
       "    <tr>\n",
       "      <th>학생</th>\n",
       "      <th></th>\n",
       "    </tr>\n",
       "  </thead>\n",
       "  <tbody>\n",
       "    <tr>\n",
       "      <th>홍길동</th>\n",
       "      <td>경영학과</td>\n",
       "    </tr>\n",
       "    <tr>\n",
       "      <th>이순신</th>\n",
       "      <td>교육학과</td>\n",
       "    </tr>\n",
       "    <tr>\n",
       "      <th>임꺽정</th>\n",
       "      <td>컴퓨터학과</td>\n",
       "    </tr>\n",
       "    <tr>\n",
       "      <th>김유신</th>\n",
       "      <td>통계학과</td>\n",
       "    </tr>\n",
       "  </tbody>\n",
       "</table>\n",
       "</div>"
      ],
      "text/plain": [
       "        학과\n",
       "학생        \n",
       "홍길동   경영학과\n",
       "이순신   교육학과\n",
       "임꺽정  컴퓨터학과\n",
       "김유신   통계학과"
      ]
     },
     "execution_count": 266,
     "metadata": {},
     "output_type": "execute_result"
    }
   ],
   "source": [
    "mdf1"
   ]
  },
  {
   "cell_type": "code",
   "execution_count": 267,
   "id": "d2f19ea3",
   "metadata": {},
   "outputs": [
    {
     "data": {
      "text/html": [
       "<div>\n",
       "<style scoped>\n",
       "    .dataframe tbody tr th:only-of-type {\n",
       "        vertical-align: middle;\n",
       "    }\n",
       "\n",
       "    .dataframe tbody tr th {\n",
       "        vertical-align: top;\n",
       "    }\n",
       "\n",
       "    .dataframe thead th {\n",
       "        text-align: right;\n",
       "    }\n",
       "</style>\n",
       "<table border=\"1\" class=\"dataframe\">\n",
       "  <thead>\n",
       "    <tr style=\"text-align: right;\">\n",
       "      <th></th>\n",
       "      <th>입학년도</th>\n",
       "    </tr>\n",
       "    <tr>\n",
       "      <th>학생</th>\n",
       "      <th></th>\n",
       "    </tr>\n",
       "  </thead>\n",
       "  <tbody>\n",
       "    <tr>\n",
       "      <th>홍길동</th>\n",
       "      <td>2012</td>\n",
       "    </tr>\n",
       "    <tr>\n",
       "      <th>이순신</th>\n",
       "      <td>2016</td>\n",
       "    </tr>\n",
       "    <tr>\n",
       "      <th>임꺽정</th>\n",
       "      <td>2019</td>\n",
       "    </tr>\n",
       "    <tr>\n",
       "      <th>김유신</th>\n",
       "      <td>2020</td>\n",
       "    </tr>\n",
       "  </tbody>\n",
       "</table>\n",
       "</div>"
      ],
      "text/plain": [
       "     입학년도\n",
       "학생       \n",
       "홍길동  2012\n",
       "이순신  2016\n",
       "임꺽정  2019\n",
       "김유신  2020"
      ]
     },
     "execution_count": 267,
     "metadata": {},
     "output_type": "execute_result"
    }
   ],
   "source": [
    "mdf2"
   ]
  },
  {
   "cell_type": "code",
   "execution_count": 268,
   "id": "565b66ef",
   "metadata": {},
   "outputs": [
    {
     "data": {
      "text/html": [
       "<div>\n",
       "<style scoped>\n",
       "    .dataframe tbody tr th:only-of-type {\n",
       "        vertical-align: middle;\n",
       "    }\n",
       "\n",
       "    .dataframe tbody tr th {\n",
       "        vertical-align: top;\n",
       "    }\n",
       "\n",
       "    .dataframe thead th {\n",
       "        text-align: right;\n",
       "    }\n",
       "</style>\n",
       "<table border=\"1\" class=\"dataframe\">\n",
       "  <thead>\n",
       "    <tr style=\"text-align: right;\">\n",
       "      <th></th>\n",
       "      <th>학과</th>\n",
       "      <th>입학년도</th>\n",
       "    </tr>\n",
       "    <tr>\n",
       "      <th>학생</th>\n",
       "      <th></th>\n",
       "      <th></th>\n",
       "    </tr>\n",
       "  </thead>\n",
       "  <tbody>\n",
       "    <tr>\n",
       "      <th>홍길동</th>\n",
       "      <td>경영학과</td>\n",
       "      <td>2012</td>\n",
       "    </tr>\n",
       "    <tr>\n",
       "      <th>이순신</th>\n",
       "      <td>교육학과</td>\n",
       "      <td>2016</td>\n",
       "    </tr>\n",
       "    <tr>\n",
       "      <th>임꺽정</th>\n",
       "      <td>컴퓨터학과</td>\n",
       "      <td>2019</td>\n",
       "    </tr>\n",
       "    <tr>\n",
       "      <th>김유신</th>\n",
       "      <td>통계학과</td>\n",
       "      <td>2020</td>\n",
       "    </tr>\n",
       "  </tbody>\n",
       "</table>\n",
       "</div>"
      ],
      "text/plain": [
       "        학과  입학년도\n",
       "학생              \n",
       "홍길동   경영학과  2012\n",
       "이순신   교육학과  2016\n",
       "임꺽정  컴퓨터학과  2019\n",
       "김유신   통계학과  2020"
      ]
     },
     "execution_count": 268,
     "metadata": {},
     "output_type": "execute_result"
    }
   ],
   "source": [
    "pd.merge(mdf1, mdf2, left_index=True, right_index=True)"
   ]
  },
  {
   "cell_type": "code",
   "execution_count": 270,
   "id": "47c23adc",
   "metadata": {},
   "outputs": [
    {
     "data": {
      "text/html": [
       "<div>\n",
       "<style scoped>\n",
       "    .dataframe tbody tr th:only-of-type {\n",
       "        vertical-align: middle;\n",
       "    }\n",
       "\n",
       "    .dataframe tbody tr th {\n",
       "        vertical-align: top;\n",
       "    }\n",
       "\n",
       "    .dataframe thead th {\n",
       "        text-align: right;\n",
       "    }\n",
       "</style>\n",
       "<table border=\"1\" class=\"dataframe\">\n",
       "  <thead>\n",
       "    <tr style=\"text-align: right;\">\n",
       "      <th></th>\n",
       "      <th>학과</th>\n",
       "      <th>입학년도</th>\n",
       "    </tr>\n",
       "    <tr>\n",
       "      <th>학생</th>\n",
       "      <th></th>\n",
       "      <th></th>\n",
       "    </tr>\n",
       "  </thead>\n",
       "  <tbody>\n",
       "    <tr>\n",
       "      <th>홍길동</th>\n",
       "      <td>경영학과</td>\n",
       "      <td>2012</td>\n",
       "    </tr>\n",
       "    <tr>\n",
       "      <th>이순신</th>\n",
       "      <td>교육학과</td>\n",
       "      <td>2016</td>\n",
       "    </tr>\n",
       "    <tr>\n",
       "      <th>임꺽정</th>\n",
       "      <td>컴퓨터학과</td>\n",
       "      <td>2019</td>\n",
       "    </tr>\n",
       "    <tr>\n",
       "      <th>김유신</th>\n",
       "      <td>통계학과</td>\n",
       "      <td>2020</td>\n",
       "    </tr>\n",
       "  </tbody>\n",
       "</table>\n",
       "</div>"
      ],
      "text/plain": [
       "        학과  입학년도\n",
       "학생              \n",
       "홍길동   경영학과  2012\n",
       "이순신   교육학과  2016\n",
       "임꺽정  컴퓨터학과  2019\n",
       "김유신   통계학과  2020"
      ]
     },
     "execution_count": 270,
     "metadata": {},
     "output_type": "execute_result"
    }
   ],
   "source": [
    "mdf1.join(mdf2)"
   ]
  },
  {
   "cell_type": "code",
   "execution_count": 271,
   "id": "04d51f7d",
   "metadata": {},
   "outputs": [
    {
     "data": {
      "text/html": [
       "<div>\n",
       "<style scoped>\n",
       "    .dataframe tbody tr th:only-of-type {\n",
       "        vertical-align: middle;\n",
       "    }\n",
       "\n",
       "    .dataframe tbody tr th {\n",
       "        vertical-align: top;\n",
       "    }\n",
       "\n",
       "    .dataframe thead th {\n",
       "        text-align: right;\n",
       "    }\n",
       "</style>\n",
       "<table border=\"1\" class=\"dataframe\">\n",
       "  <thead>\n",
       "    <tr style=\"text-align: right;\">\n",
       "      <th></th>\n",
       "      <th>학과</th>\n",
       "      <th>이름</th>\n",
       "      <th>성적</th>\n",
       "    </tr>\n",
       "  </thead>\n",
       "  <tbody>\n",
       "    <tr>\n",
       "      <th>0</th>\n",
       "      <td>경영학과</td>\n",
       "      <td>홍길동</td>\n",
       "      <td>A</td>\n",
       "    </tr>\n",
       "    <tr>\n",
       "      <th>1</th>\n",
       "      <td>교육학과</td>\n",
       "      <td>이순신</td>\n",
       "      <td>A+</td>\n",
       "    </tr>\n",
       "    <tr>\n",
       "      <th>2</th>\n",
       "      <td>컴퓨터학과</td>\n",
       "      <td>임꺽정</td>\n",
       "      <td>B</td>\n",
       "    </tr>\n",
       "    <tr>\n",
       "      <th>3</th>\n",
       "      <td>통계학과</td>\n",
       "      <td>김유신</td>\n",
       "      <td>A+</td>\n",
       "    </tr>\n",
       "  </tbody>\n",
       "</table>\n",
       "</div>"
      ],
      "text/plain": [
       "      학과   이름  성적\n",
       "0   경영학과  홍길동   A\n",
       "1   교육학과  이순신  A+\n",
       "2  컴퓨터학과  임꺽정   B\n",
       "3   통계학과  김유신  A+"
      ]
     },
     "execution_count": 271,
     "metadata": {},
     "output_type": "execute_result"
    }
   ],
   "source": [
    "pd.merge(mdf1, df6, left_index=True, right_on='이름')"
   ]
  },
  {
   "cell_type": "code",
   "execution_count": 272,
   "id": "0a14ab3e",
   "metadata": {},
   "outputs": [
    {
     "data": {
      "text/html": [
       "<div>\n",
       "<style scoped>\n",
       "    .dataframe tbody tr th:only-of-type {\n",
       "        vertical-align: middle;\n",
       "    }\n",
       "\n",
       "    .dataframe tbody tr th {\n",
       "        vertical-align: top;\n",
       "    }\n",
       "\n",
       "    .dataframe thead th {\n",
       "        text-align: right;\n",
       "    }\n",
       "</style>\n",
       "<table border=\"1\" class=\"dataframe\">\n",
       "  <thead>\n",
       "    <tr style=\"text-align: right;\">\n",
       "      <th></th>\n",
       "      <th>이름</th>\n",
       "      <th>주문음식</th>\n",
       "    </tr>\n",
       "  </thead>\n",
       "  <tbody>\n",
       "    <tr>\n",
       "      <th>0</th>\n",
       "      <td>홍길동</td>\n",
       "      <td>햄버거</td>\n",
       "    </tr>\n",
       "    <tr>\n",
       "      <th>1</th>\n",
       "      <td>이순신</td>\n",
       "      <td>피자</td>\n",
       "    </tr>\n",
       "    <tr>\n",
       "      <th>2</th>\n",
       "      <td>임꺽정</td>\n",
       "      <td>짜장면</td>\n",
       "    </tr>\n",
       "  </tbody>\n",
       "</table>\n",
       "</div>"
      ],
      "text/plain": [
       "    이름 주문음식\n",
       "0  홍길동  햄버거\n",
       "1  이순신   피자\n",
       "2  임꺽정  짜장면"
      ]
     },
     "execution_count": 272,
     "metadata": {},
     "output_type": "execute_result"
    }
   ],
   "source": [
    "df7 = pd.DataFrame({'이름':['홍길동','이순신','임꺽정'],\n",
    "                    '주문음식':['햄버거','피자','짜장면']})\n",
    "df7"
   ]
  },
  {
   "cell_type": "code",
   "execution_count": 274,
   "id": "ad6d8fe4",
   "metadata": {},
   "outputs": [
    {
     "data": {
      "text/html": [
       "<div>\n",
       "<style scoped>\n",
       "    .dataframe tbody tr th:only-of-type {\n",
       "        vertical-align: middle;\n",
       "    }\n",
       "\n",
       "    .dataframe tbody tr th {\n",
       "        vertical-align: top;\n",
       "    }\n",
       "\n",
       "    .dataframe thead th {\n",
       "        text-align: right;\n",
       "    }\n",
       "</style>\n",
       "<table border=\"1\" class=\"dataframe\">\n",
       "  <thead>\n",
       "    <tr style=\"text-align: right;\">\n",
       "      <th></th>\n",
       "      <th>이름</th>\n",
       "      <th>주문음료</th>\n",
       "    </tr>\n",
       "  </thead>\n",
       "  <tbody>\n",
       "    <tr>\n",
       "      <th>0</th>\n",
       "      <td>홍길동</td>\n",
       "      <td>콜라</td>\n",
       "    </tr>\n",
       "    <tr>\n",
       "      <th>1</th>\n",
       "      <td>이순신</td>\n",
       "      <td>사이다</td>\n",
       "    </tr>\n",
       "    <tr>\n",
       "      <th>2</th>\n",
       "      <td>김유신</td>\n",
       "      <td>커피</td>\n",
       "    </tr>\n",
       "  </tbody>\n",
       "</table>\n",
       "</div>"
      ],
      "text/plain": [
       "    이름 주문음료\n",
       "0  홍길동   콜라\n",
       "1  이순신  사이다\n",
       "2  김유신   커피"
      ]
     },
     "execution_count": 274,
     "metadata": {},
     "output_type": "execute_result"
    }
   ],
   "source": [
    "df8 = pd.DataFrame({'이름':['홍길동','이순신','김유신'],\n",
    "                     '주문음료':['콜라','사이다','커피']})\n",
    "df8"
   ]
  },
  {
   "cell_type": "code",
   "execution_count": 275,
   "id": "dfaf8266",
   "metadata": {},
   "outputs": [
    {
     "data": {
      "text/html": [
       "<div>\n",
       "<style scoped>\n",
       "    .dataframe tbody tr th:only-of-type {\n",
       "        vertical-align: middle;\n",
       "    }\n",
       "\n",
       "    .dataframe tbody tr th {\n",
       "        vertical-align: top;\n",
       "    }\n",
       "\n",
       "    .dataframe thead th {\n",
       "        text-align: right;\n",
       "    }\n",
       "</style>\n",
       "<table border=\"1\" class=\"dataframe\">\n",
       "  <thead>\n",
       "    <tr style=\"text-align: right;\">\n",
       "      <th></th>\n",
       "      <th>이름</th>\n",
       "      <th>주문음식</th>\n",
       "      <th>주문음료</th>\n",
       "    </tr>\n",
       "  </thead>\n",
       "  <tbody>\n",
       "    <tr>\n",
       "      <th>0</th>\n",
       "      <td>홍길동</td>\n",
       "      <td>햄버거</td>\n",
       "      <td>콜라</td>\n",
       "    </tr>\n",
       "    <tr>\n",
       "      <th>1</th>\n",
       "      <td>이순신</td>\n",
       "      <td>피자</td>\n",
       "      <td>사이다</td>\n",
       "    </tr>\n",
       "  </tbody>\n",
       "</table>\n",
       "</div>"
      ],
      "text/plain": [
       "    이름 주문음식 주문음료\n",
       "0  홍길동  햄버거   콜라\n",
       "1  이순신   피자  사이다"
      ]
     },
     "execution_count": 275,
     "metadata": {},
     "output_type": "execute_result"
    }
   ],
   "source": [
    "pd.merge(df7, df8)"
   ]
  },
  {
   "cell_type": "code",
   "execution_count": 277,
   "id": "6e41047f",
   "metadata": {},
   "outputs": [
    {
     "data": {
      "text/html": [
       "<div>\n",
       "<style scoped>\n",
       "    .dataframe tbody tr th:only-of-type {\n",
       "        vertical-align: middle;\n",
       "    }\n",
       "\n",
       "    .dataframe tbody tr th {\n",
       "        vertical-align: top;\n",
       "    }\n",
       "\n",
       "    .dataframe thead th {\n",
       "        text-align: right;\n",
       "    }\n",
       "</style>\n",
       "<table border=\"1\" class=\"dataframe\">\n",
       "  <thead>\n",
       "    <tr style=\"text-align: right;\">\n",
       "      <th></th>\n",
       "      <th>이름</th>\n",
       "      <th>주문음식</th>\n",
       "      <th>주문음료</th>\n",
       "    </tr>\n",
       "  </thead>\n",
       "  <tbody>\n",
       "    <tr>\n",
       "      <th>0</th>\n",
       "      <td>홍길동</td>\n",
       "      <td>햄버거</td>\n",
       "      <td>콜라</td>\n",
       "    </tr>\n",
       "    <tr>\n",
       "      <th>1</th>\n",
       "      <td>이순신</td>\n",
       "      <td>피자</td>\n",
       "      <td>사이다</td>\n",
       "    </tr>\n",
       "  </tbody>\n",
       "</table>\n",
       "</div>"
      ],
      "text/plain": [
       "    이름 주문음식 주문음료\n",
       "0  홍길동  햄버거   콜라\n",
       "1  이순신   피자  사이다"
      ]
     },
     "execution_count": 277,
     "metadata": {},
     "output_type": "execute_result"
    }
   ],
   "source": [
    "pd.merge(df7, df8, how='inner')"
   ]
  },
  {
   "cell_type": "code",
   "execution_count": 278,
   "id": "dc5237fd",
   "metadata": {},
   "outputs": [
    {
     "data": {
      "text/html": [
       "<div>\n",
       "<style scoped>\n",
       "    .dataframe tbody tr th:only-of-type {\n",
       "        vertical-align: middle;\n",
       "    }\n",
       "\n",
       "    .dataframe tbody tr th {\n",
       "        vertical-align: top;\n",
       "    }\n",
       "\n",
       "    .dataframe thead th {\n",
       "        text-align: right;\n",
       "    }\n",
       "</style>\n",
       "<table border=\"1\" class=\"dataframe\">\n",
       "  <thead>\n",
       "    <tr style=\"text-align: right;\">\n",
       "      <th></th>\n",
       "      <th>이름</th>\n",
       "      <th>주문음식</th>\n",
       "      <th>주문음료</th>\n",
       "    </tr>\n",
       "  </thead>\n",
       "  <tbody>\n",
       "    <tr>\n",
       "      <th>0</th>\n",
       "      <td>홍길동</td>\n",
       "      <td>햄버거</td>\n",
       "      <td>콜라</td>\n",
       "    </tr>\n",
       "    <tr>\n",
       "      <th>1</th>\n",
       "      <td>이순신</td>\n",
       "      <td>피자</td>\n",
       "      <td>사이다</td>\n",
       "    </tr>\n",
       "    <tr>\n",
       "      <th>2</th>\n",
       "      <td>임꺽정</td>\n",
       "      <td>짜장면</td>\n",
       "      <td>NaN</td>\n",
       "    </tr>\n",
       "    <tr>\n",
       "      <th>3</th>\n",
       "      <td>김유신</td>\n",
       "      <td>NaN</td>\n",
       "      <td>커피</td>\n",
       "    </tr>\n",
       "  </tbody>\n",
       "</table>\n",
       "</div>"
      ],
      "text/plain": [
       "    이름 주문음식 주문음료\n",
       "0  홍길동  햄버거   콜라\n",
       "1  이순신   피자  사이다\n",
       "2  임꺽정  짜장면  NaN\n",
       "3  김유신  NaN   커피"
      ]
     },
     "execution_count": 278,
     "metadata": {},
     "output_type": "execute_result"
    }
   ],
   "source": [
    "pd.merge(df7, df8, how='outer')"
   ]
  },
  {
   "cell_type": "code",
   "execution_count": 279,
   "id": "8d2d6a32",
   "metadata": {},
   "outputs": [
    {
     "data": {
      "text/html": [
       "<div>\n",
       "<style scoped>\n",
       "    .dataframe tbody tr th:only-of-type {\n",
       "        vertical-align: middle;\n",
       "    }\n",
       "\n",
       "    .dataframe tbody tr th {\n",
       "        vertical-align: top;\n",
       "    }\n",
       "\n",
       "    .dataframe thead th {\n",
       "        text-align: right;\n",
       "    }\n",
       "</style>\n",
       "<table border=\"1\" class=\"dataframe\">\n",
       "  <thead>\n",
       "    <tr style=\"text-align: right;\">\n",
       "      <th></th>\n",
       "      <th>이름</th>\n",
       "      <th>주문음식</th>\n",
       "      <th>주문음료</th>\n",
       "    </tr>\n",
       "  </thead>\n",
       "  <tbody>\n",
       "    <tr>\n",
       "      <th>0</th>\n",
       "      <td>홍길동</td>\n",
       "      <td>햄버거</td>\n",
       "      <td>콜라</td>\n",
       "    </tr>\n",
       "    <tr>\n",
       "      <th>1</th>\n",
       "      <td>이순신</td>\n",
       "      <td>피자</td>\n",
       "      <td>사이다</td>\n",
       "    </tr>\n",
       "    <tr>\n",
       "      <th>2</th>\n",
       "      <td>임꺽정</td>\n",
       "      <td>짜장면</td>\n",
       "      <td>NaN</td>\n",
       "    </tr>\n",
       "  </tbody>\n",
       "</table>\n",
       "</div>"
      ],
      "text/plain": [
       "    이름 주문음식 주문음료\n",
       "0  홍길동  햄버거   콜라\n",
       "1  이순신   피자  사이다\n",
       "2  임꺽정  짜장면  NaN"
      ]
     },
     "execution_count": 279,
     "metadata": {},
     "output_type": "execute_result"
    }
   ],
   "source": [
    "pd.merge(df7, df8, how='left')\n",
    "# df7에 있는 것만 기준으로 병합\n",
    "# df8에는 없는 것들은 NaN을 반환"
   ]
  },
  {
   "cell_type": "code",
   "execution_count": 280,
   "id": "6e3ed697",
   "metadata": {},
   "outputs": [
    {
     "data": {
      "text/html": [
       "<div>\n",
       "<style scoped>\n",
       "    .dataframe tbody tr th:only-of-type {\n",
       "        vertical-align: middle;\n",
       "    }\n",
       "\n",
       "    .dataframe tbody tr th {\n",
       "        vertical-align: top;\n",
       "    }\n",
       "\n",
       "    .dataframe thead th {\n",
       "        text-align: right;\n",
       "    }\n",
       "</style>\n",
       "<table border=\"1\" class=\"dataframe\">\n",
       "  <thead>\n",
       "    <tr style=\"text-align: right;\">\n",
       "      <th></th>\n",
       "      <th>이름</th>\n",
       "      <th>주문음식</th>\n",
       "      <th>주문음료</th>\n",
       "    </tr>\n",
       "  </thead>\n",
       "  <tbody>\n",
       "    <tr>\n",
       "      <th>0</th>\n",
       "      <td>홍길동</td>\n",
       "      <td>햄버거</td>\n",
       "      <td>콜라</td>\n",
       "    </tr>\n",
       "    <tr>\n",
       "      <th>1</th>\n",
       "      <td>이순신</td>\n",
       "      <td>피자</td>\n",
       "      <td>사이다</td>\n",
       "    </tr>\n",
       "    <tr>\n",
       "      <th>2</th>\n",
       "      <td>김유신</td>\n",
       "      <td>NaN</td>\n",
       "      <td>커피</td>\n",
       "    </tr>\n",
       "  </tbody>\n",
       "</table>\n",
       "</div>"
      ],
      "text/plain": [
       "    이름 주문음식 주문음료\n",
       "0  홍길동  햄버거   콜라\n",
       "1  이순신   피자  사이다\n",
       "2  김유신  NaN   커피"
      ]
     },
     "execution_count": 280,
     "metadata": {},
     "output_type": "execute_result"
    }
   ],
   "source": [
    "pd.merge(df7, df8, how='right')\n",
    "# df8을 기준으로\n",
    "# df8에 김유신이 있지만 김유신의 주문음식은 존재하지 않는다.\n",
    "# df7에는 임꺽정이 있지만 df8을 기준으로 하기 때문에 나타나지 않는다."
   ]
  },
  {
   "cell_type": "code",
   "execution_count": 282,
   "id": "d573595a",
   "metadata": {},
   "outputs": [
    {
     "data": {
      "text/html": [
       "<div>\n",
       "<style scoped>\n",
       "    .dataframe tbody tr th:only-of-type {\n",
       "        vertical-align: middle;\n",
       "    }\n",
       "\n",
       "    .dataframe tbody tr th {\n",
       "        vertical-align: top;\n",
       "    }\n",
       "\n",
       "    .dataframe thead th {\n",
       "        text-align: right;\n",
       "    }\n",
       "</style>\n",
       "<table border=\"1\" class=\"dataframe\">\n",
       "  <thead>\n",
       "    <tr style=\"text-align: right;\">\n",
       "      <th></th>\n",
       "      <th>이름</th>\n",
       "      <th>순위</th>\n",
       "    </tr>\n",
       "  </thead>\n",
       "  <tbody>\n",
       "    <tr>\n",
       "      <th>0</th>\n",
       "      <td>홍길동</td>\n",
       "      <td>3</td>\n",
       "    </tr>\n",
       "    <tr>\n",
       "      <th>1</th>\n",
       "      <td>이순신</td>\n",
       "      <td>2</td>\n",
       "    </tr>\n",
       "    <tr>\n",
       "      <th>2</th>\n",
       "      <td>임꺽정</td>\n",
       "      <td>4</td>\n",
       "    </tr>\n",
       "    <tr>\n",
       "      <th>3</th>\n",
       "      <td>김유신</td>\n",
       "      <td>1</td>\n",
       "    </tr>\n",
       "  </tbody>\n",
       "</table>\n",
       "</div>"
      ],
      "text/plain": [
       "    이름  순위\n",
       "0  홍길동   3\n",
       "1  이순신   2\n",
       "2  임꺽정   4\n",
       "3  김유신   1"
      ]
     },
     "execution_count": 282,
     "metadata": {},
     "output_type": "execute_result"
    }
   ],
   "source": [
    "df9 = pd.DataFrame({'이름':['홍길동','이순신','임꺽정','김유신'],\n",
    "                    '순위':[3, 2, 4, 1]})\n",
    "df9"
   ]
  },
  {
   "cell_type": "code",
   "execution_count": 283,
   "id": "4c85cf14",
   "metadata": {},
   "outputs": [
    {
     "data": {
      "text/html": [
       "<div>\n",
       "<style scoped>\n",
       "    .dataframe tbody tr th:only-of-type {\n",
       "        vertical-align: middle;\n",
       "    }\n",
       "\n",
       "    .dataframe tbody tr th {\n",
       "        vertical-align: top;\n",
       "    }\n",
       "\n",
       "    .dataframe thead th {\n",
       "        text-align: right;\n",
       "    }\n",
       "</style>\n",
       "<table border=\"1\" class=\"dataframe\">\n",
       "  <thead>\n",
       "    <tr style=\"text-align: right;\">\n",
       "      <th></th>\n",
       "      <th>이름</th>\n",
       "      <th>순위</th>\n",
       "    </tr>\n",
       "  </thead>\n",
       "  <tbody>\n",
       "    <tr>\n",
       "      <th>0</th>\n",
       "      <td>홍길동</td>\n",
       "      <td>4</td>\n",
       "    </tr>\n",
       "    <tr>\n",
       "      <th>1</th>\n",
       "      <td>이순신</td>\n",
       "      <td>1</td>\n",
       "    </tr>\n",
       "    <tr>\n",
       "      <th>2</th>\n",
       "      <td>임꺽정</td>\n",
       "      <td>3</td>\n",
       "    </tr>\n",
       "    <tr>\n",
       "      <th>3</th>\n",
       "      <td>김유신</td>\n",
       "      <td>2</td>\n",
       "    </tr>\n",
       "  </tbody>\n",
       "</table>\n",
       "</div>"
      ],
      "text/plain": [
       "    이름  순위\n",
       "0  홍길동   4\n",
       "1  이순신   1\n",
       "2  임꺽정   3\n",
       "3  김유신   2"
      ]
     },
     "execution_count": 283,
     "metadata": {},
     "output_type": "execute_result"
    }
   ],
   "source": [
    "df10 = pd.DataFrame({'이름':['홍길동','이순신','임꺽정','김유신'],\n",
    "                    '순위':[4, 1, 3, 2]})\n",
    "df10"
   ]
  },
  {
   "cell_type": "code",
   "execution_count": 284,
   "id": "2250f5bd",
   "metadata": {},
   "outputs": [
    {
     "data": {
      "text/html": [
       "<div>\n",
       "<style scoped>\n",
       "    .dataframe tbody tr th:only-of-type {\n",
       "        vertical-align: middle;\n",
       "    }\n",
       "\n",
       "    .dataframe tbody tr th {\n",
       "        vertical-align: top;\n",
       "    }\n",
       "\n",
       "    .dataframe thead th {\n",
       "        text-align: right;\n",
       "    }\n",
       "</style>\n",
       "<table border=\"1\" class=\"dataframe\">\n",
       "  <thead>\n",
       "    <tr style=\"text-align: right;\">\n",
       "      <th></th>\n",
       "      <th>이름</th>\n",
       "      <th>순위_x</th>\n",
       "      <th>순위_y</th>\n",
       "    </tr>\n",
       "  </thead>\n",
       "  <tbody>\n",
       "    <tr>\n",
       "      <th>0</th>\n",
       "      <td>홍길동</td>\n",
       "      <td>3</td>\n",
       "      <td>4</td>\n",
       "    </tr>\n",
       "    <tr>\n",
       "      <th>1</th>\n",
       "      <td>이순신</td>\n",
       "      <td>2</td>\n",
       "      <td>1</td>\n",
       "    </tr>\n",
       "    <tr>\n",
       "      <th>2</th>\n",
       "      <td>임꺽정</td>\n",
       "      <td>4</td>\n",
       "      <td>3</td>\n",
       "    </tr>\n",
       "    <tr>\n",
       "      <th>3</th>\n",
       "      <td>김유신</td>\n",
       "      <td>1</td>\n",
       "      <td>2</td>\n",
       "    </tr>\n",
       "  </tbody>\n",
       "</table>\n",
       "</div>"
      ],
      "text/plain": [
       "    이름  순위_x  순위_y\n",
       "0  홍길동     3     4\n",
       "1  이순신     2     1\n",
       "2  임꺽정     4     3\n",
       "3  김유신     1     2"
      ]
     },
     "execution_count": 284,
     "metadata": {},
     "output_type": "execute_result"
    }
   ],
   "source": [
    "pd.merge(df9, df10, on='이름')"
   ]
  },
  {
   "cell_type": "code",
   "execution_count": 285,
   "id": "26b04d45",
   "metadata": {},
   "outputs": [
    {
     "data": {
      "text/html": [
       "<div>\n",
       "<style scoped>\n",
       "    .dataframe tbody tr th:only-of-type {\n",
       "        vertical-align: middle;\n",
       "    }\n",
       "\n",
       "    .dataframe tbody tr th {\n",
       "        vertical-align: top;\n",
       "    }\n",
       "\n",
       "    .dataframe thead th {\n",
       "        text-align: right;\n",
       "    }\n",
       "</style>\n",
       "<table border=\"1\" class=\"dataframe\">\n",
       "  <thead>\n",
       "    <tr style=\"text-align: right;\">\n",
       "      <th></th>\n",
       "      <th>이름</th>\n",
       "      <th>순위_인기</th>\n",
       "      <th>순위_성적</th>\n",
       "    </tr>\n",
       "  </thead>\n",
       "  <tbody>\n",
       "    <tr>\n",
       "      <th>0</th>\n",
       "      <td>홍길동</td>\n",
       "      <td>3</td>\n",
       "      <td>4</td>\n",
       "    </tr>\n",
       "    <tr>\n",
       "      <th>1</th>\n",
       "      <td>이순신</td>\n",
       "      <td>2</td>\n",
       "      <td>1</td>\n",
       "    </tr>\n",
       "    <tr>\n",
       "      <th>2</th>\n",
       "      <td>임꺽정</td>\n",
       "      <td>4</td>\n",
       "      <td>3</td>\n",
       "    </tr>\n",
       "    <tr>\n",
       "      <th>3</th>\n",
       "      <td>김유신</td>\n",
       "      <td>1</td>\n",
       "      <td>2</td>\n",
       "    </tr>\n",
       "  </tbody>\n",
       "</table>\n",
       "</div>"
      ],
      "text/plain": [
       "    이름  순위_인기  순위_성적\n",
       "0  홍길동      3      4\n",
       "1  이순신      2      1\n",
       "2  임꺽정      4      3\n",
       "3  김유신      1      2"
      ]
     },
     "execution_count": 285,
     "metadata": {},
     "output_type": "execute_result"
    }
   ],
   "source": [
    "pd.merge(df9, df10, on='이름', suffixes=[\"_인기\",\"_성적\"])"
   ]
  },
  {
   "cell_type": "code",
   "execution_count": null,
   "id": "fd1b1641",
   "metadata": {},
   "outputs": [],
   "source": [
    "#2:12:18"
   ]
  }
 ],
 "metadata": {
  "kernelspec": {
   "display_name": "Python 3",
   "language": "python",
   "name": "python3"
  },
  "language_info": {
   "codemirror_mode": {
    "name": "ipython",
    "version": 3
   },
   "file_extension": ".py",
   "mimetype": "text/x-python",
   "name": "python",
   "nbconvert_exporter": "python",
   "pygments_lexer": "ipython3",
   "version": "3.8.8"
  },
  "toc": {
   "base_numbering": 1,
   "nav_menu": {},
   "number_sections": true,
   "sideBar": true,
   "skip_h1_title": false,
   "title_cell": "Table of Contents",
   "title_sidebar": "Contents",
   "toc_cell": false,
   "toc_position": {
    "height": "calc(100% - 180px)",
    "left": "10px",
    "top": "150px",
    "width": "384px"
   },
   "toc_section_display": true,
   "toc_window_display": true
  }
 },
 "nbformat": 4,
 "nbformat_minor": 5
}
