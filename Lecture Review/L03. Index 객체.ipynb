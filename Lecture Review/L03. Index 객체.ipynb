{
 "cells": [
  {
   "cell_type": "markdown",
   "id": "4c583ae2",
   "metadata": {},
   "source": [
    "## Index 객체"
   ]
  },
  {
   "cell_type": "code",
   "execution_count": 2,
   "id": "0be7e720",
   "metadata": {},
   "outputs": [
    {
     "data": {
      "text/plain": [
       "Int64Index([0, 1, 2, 3, 4, 5, 6], dtype='int64')"
      ]
     },
     "execution_count": 2,
     "metadata": {},
     "output_type": "execute_result"
    }
   ],
   "source": [
    "import pandas as pd\n",
    "\n",
    "idx = pd.Index([0,1, 2, 3, 4, 5,6])\n",
    "idx"
   ]
  },
  {
   "cell_type": "code",
   "execution_count": 3,
   "id": "5aca48f4",
   "metadata": {},
   "outputs": [
    {
     "data": {
      "text/plain": [
       "1"
      ]
     },
     "execution_count": 3,
     "metadata": {},
     "output_type": "execute_result"
    }
   ],
   "source": [
    "idx[1]"
   ]
  },
  {
   "cell_type": "code",
   "execution_count": 4,
   "id": "825c8a76",
   "metadata": {},
   "outputs": [
    {
     "data": {
      "text/plain": [
       "Int64Index([0, 2, 4], dtype='int64')"
      ]
     },
     "execution_count": 4,
     "metadata": {},
     "output_type": "execute_result"
    }
   ],
   "source": [
    "idx[0:5:2]"
   ]
  },
  {
   "cell_type": "code",
   "execution_count": 5,
   "id": "eb0d0bf8",
   "metadata": {},
   "outputs": [
    {
     "data": {
      "text/plain": [
       "DatetimeIndex(['2021-12-12', '2021-12-13'], dtype='datetime64[ns]', freq=None)"
      ]
     },
     "execution_count": 5,
     "metadata": {},
     "output_type": "execute_result"
    }
   ],
   "source": [
    "didx = pd.DatetimeIndex(['2021-12-12', '2021-12-13'])\n",
    "didx"
   ]
  },
  {
   "cell_type": "code",
   "execution_count": 6,
   "id": "81958a7d",
   "metadata": {},
   "outputs": [
    {
     "data": {
      "text/plain": [
       "PeriodIndex(['2021-12', '2022-01'], dtype='period[M]', freq='M')"
      ]
     },
     "execution_count": 6,
     "metadata": {},
     "output_type": "execute_result"
    }
   ],
   "source": [
    "pdidx = pd.PeriodIndex(['2021-12', '2022-01'], freq='M')\n",
    "pdidx"
   ]
  },
  {
   "cell_type": "code",
   "execution_count": 7,
   "id": "73134d28",
   "metadata": {},
   "outputs": [
    {
     "name": "stdout",
     "output_type": "stream",
     "text": [
      "Int64Index([0, 1, 2, 3, 4, 5, 6], dtype='int64')\n",
      "2\n"
     ]
    }
   ],
   "source": [
    "print(idx)\n",
    "print(pdidx.size)"
   ]
  },
  {
   "cell_type": "code",
   "execution_count": 8,
   "id": "6202131c",
   "metadata": {},
   "outputs": [
    {
     "data": {
      "text/plain": [
       "PeriodIndex(['2021', '2022', '1999', '1954', '1441'], dtype='period[A-DEC]', freq='A-DEC')"
      ]
     },
     "execution_count": 8,
     "metadata": {},
     "output_type": "execute_result"
    }
   ],
   "source": [
    "pdidx_y = pd.PeriodIndex(['2021', '2022', '1999', '1954', '1441'], freq='Y')\n",
    "pdidx_y"
   ]
  },
  {
   "cell_type": "code",
   "execution_count": 9,
   "id": "a6bc6794",
   "metadata": {},
   "outputs": [
    {
     "data": {
      "text/html": [
       "<div>\n",
       "<style scoped>\n",
       "    .dataframe tbody tr th:only-of-type {\n",
       "        vertical-align: middle;\n",
       "    }\n",
       "\n",
       "    .dataframe tbody tr th {\n",
       "        vertical-align: top;\n",
       "    }\n",
       "\n",
       "    .dataframe thead th {\n",
       "        text-align: right;\n",
       "    }\n",
       "</style>\n",
       "<table border=\"1\" class=\"dataframe\">\n",
       "  <thead>\n",
       "    <tr style=\"text-align: right;\">\n",
       "      <th></th>\n",
       "      <th>0</th>\n",
       "    </tr>\n",
       "  </thead>\n",
       "  <tbody>\n",
       "    <tr>\n",
       "      <th>2021</th>\n",
       "      <td>0</td>\n",
       "    </tr>\n",
       "    <tr>\n",
       "      <th>2022</th>\n",
       "      <td>1</td>\n",
       "    </tr>\n",
       "    <tr>\n",
       "      <th>1999</th>\n",
       "      <td>2</td>\n",
       "    </tr>\n",
       "    <tr>\n",
       "      <th>1954</th>\n",
       "      <td>3</td>\n",
       "    </tr>\n",
       "    <tr>\n",
       "      <th>1441</th>\n",
       "      <td>4</td>\n",
       "    </tr>\n",
       "  </tbody>\n",
       "</table>\n",
       "</div>"
      ],
      "text/plain": [
       "      0\n",
       "2021  0\n",
       "2022  1\n",
       "1999  2\n",
       "1954  3\n",
       "1441  4"
      ]
     },
     "execution_count": 9,
     "metadata": {},
     "output_type": "execute_result"
    }
   ],
   "source": [
    "idx1 = pd.Index([1, 2, 4, 6, 8])\n",
    "idx2 = pd.Index([2, 4, 5, 6, 7])\n",
    "pd.DataFrame(data=range(5), index=pdidx_y)"
   ]
  },
  {
   "cell_type": "markdown",
   "id": "1837d7f8",
   "metadata": {},
   "source": [
    "### index 연산"
   ]
  },
  {
   "cell_type": "code",
   "execution_count": 10,
   "id": "eef7d3fe",
   "metadata": {},
   "outputs": [
    {
     "name": "stdout",
     "output_type": "stream",
     "text": [
      "Int64Index([1, 2, 4, 6, 8, 2, 4, 5, 6, 7], dtype='int64')\n",
      "Int64Index([1, 8], dtype='int64')\n",
      "Int64Index([1, 5, 7, 8], dtype='int64')\n",
      "Int64Index([-1, -2, -1, 0, 1], dtype='int64')\n",
      "Int64Index([2, 4, 6], dtype='int64')\n",
      "Int64Index([2, 4, 6], dtype='int64')\n",
      "Int64Index([1, 2, 4, 5, 6, 7, 8], dtype='int64')\n",
      "Int64Index([1, 2, 4, 5, 6, 7, 8], dtype='int64')\n",
      "Int64Index([2, 4, 6, 8], dtype='int64')\n",
      "Int64Index([2, 4, 6, 8], dtype='int64')\n"
     ]
    }
   ],
   "source": [
    "import warnings\n",
    "warnings.filterwarnings(action='ignore')\n",
    "# warnings.filterwarnings(action='default')\n",
    "\n",
    "idx1 = pd.Index([1, 2, 4, 6, 8])\n",
    "idx2 = pd.Index([2, 4, 5, 6, 7])\n",
    "\n",
    "print(idx1.append(idx2))\n",
    "print(idx1.difference(idx2)) # difference는 두 index의 차집합을 반환한다.\n",
    "print(idx1^idx2)  # ^ 연산자는 두 index의 차집합을 반환하지만 추후 삭제 예정( difference 사용 추천 )\n",
    "print(idx1 - idx2)  # 두 DataFrame의 값들의 차를 반환한다.\n",
    "print(idx1.intersection(idx2)) # intersection은 두 index의 교집합을 반환한다.\n",
    "print(idx1 & idx2) # & 연산자도 intersection를 사용하지만 추후에 삭제 예정( intersection을 사용 추천 )\n",
    "print(idx1.union(idx2)) # union 함수는 두 index의 합집합을 반환 (중복을 제거함)\n",
    "print(idx1|idx2) # | 연산자도 두 index의 합집합을 반환하지만 추후에 삭제 예정 ( union 사용 추천 )\n",
    "print(idx1.delete(0)) # 인덱스 번호를 지정하여 그 해당하는 번호의 값을 제거\n",
    "print(idx1.drop(1))   # 해당하는 값을 지정하여 그 값을 제거"
   ]
  },
  {
   "cell_type": "markdown",
   "id": "d67a59a7",
   "metadata": {},
   "source": [
    "#### difference( )"
   ]
  },
  {
   "cell_type": "code",
   "execution_count": 11,
   "id": "38039abf",
   "metadata": {},
   "outputs": [
    {
     "data": {
      "text/html": [
       "<div>\n",
       "<style scoped>\n",
       "    .dataframe tbody tr th:only-of-type {\n",
       "        vertical-align: middle;\n",
       "    }\n",
       "\n",
       "    .dataframe tbody tr th {\n",
       "        vertical-align: top;\n",
       "    }\n",
       "\n",
       "    .dataframe thead th {\n",
       "        text-align: right;\n",
       "    }\n",
       "</style>\n",
       "<table border=\"1\" class=\"dataframe\">\n",
       "  <thead>\n",
       "    <tr style=\"text-align: right;\">\n",
       "      <th></th>\n",
       "      <th>0</th>\n",
       "    </tr>\n",
       "  </thead>\n",
       "  <tbody>\n",
       "    <tr>\n",
       "      <th>2</th>\n",
       "      <td>0</td>\n",
       "    </tr>\n",
       "    <tr>\n",
       "      <th>4</th>\n",
       "      <td>2</td>\n",
       "    </tr>\n",
       "    <tr>\n",
       "      <th>6</th>\n",
       "      <td>4</td>\n",
       "    </tr>\n",
       "  </tbody>\n",
       "</table>\n",
       "</div>"
      ],
      "text/plain": [
       "   0\n",
       "2  0\n",
       "4  2\n",
       "6  4"
      ]
     },
     "execution_count": 11,
     "metadata": {},
     "output_type": "execute_result"
    }
   ],
   "source": [
    "a_index = pd.Index(range(1, 7))\n",
    "a = pd.DataFrame(data = [1, 2, 3, 4, 5, 6], index = a_index)\n",
    "\n",
    "b_index = pd.Index(range(1, 7, 2))\n",
    "b = pd.DataFrame(data = [1, 3, 5], index = b_index)\n",
    "\n",
    "c = pd.DataFrame(data = range(0, 6, 2), index = a_index.difference(b_index))\n",
    "c"
   ]
  },
  {
   "cell_type": "code",
   "execution_count": 12,
   "id": "88e4a004",
   "metadata": {},
   "outputs": [
    {
     "data": {
      "text/plain": [
       "Int64Index([2, 4, 6, 8, 9], dtype='int64')"
      ]
     },
     "execution_count": 12,
     "metadata": {},
     "output_type": "execute_result"
    }
   ],
   "source": [
    "a = pd.Index([1, 2, 3, 4, 5, 6, 7, 8, 9])\n",
    "b = pd.Index(range(1, 9, 2))\n",
    "c = pd.Index(a.difference(b))\n",
    "c"
   ]
  },
  {
   "cell_type": "markdown",
   "id": "0ad73d3b",
   "metadata": {},
   "source": [
    "#### intersection( )"
   ]
  },
  {
   "cell_type": "code",
   "execution_count": 13,
   "id": "99a640a9",
   "metadata": {},
   "outputs": [
    {
     "data": {
      "text/html": [
       "<div>\n",
       "<style scoped>\n",
       "    .dataframe tbody tr th:only-of-type {\n",
       "        vertical-align: middle;\n",
       "    }\n",
       "\n",
       "    .dataframe tbody tr th {\n",
       "        vertical-align: top;\n",
       "    }\n",
       "\n",
       "    .dataframe thead th {\n",
       "        text-align: right;\n",
       "    }\n",
       "</style>\n",
       "<table border=\"1\" class=\"dataframe\">\n",
       "  <thead>\n",
       "    <tr style=\"text-align: right;\">\n",
       "      <th></th>\n",
       "      <th>0</th>\n",
       "    </tr>\n",
       "  </thead>\n",
       "  <tbody>\n",
       "    <tr>\n",
       "      <th>1</th>\n",
       "      <td>2</td>\n",
       "    </tr>\n",
       "    <tr>\n",
       "      <th>3</th>\n",
       "      <td>4</td>\n",
       "    </tr>\n",
       "    <tr>\n",
       "      <th>5</th>\n",
       "      <td>6</td>\n",
       "    </tr>\n",
       "  </tbody>\n",
       "</table>\n",
       "</div>"
      ],
      "text/plain": [
       "   0\n",
       "1  2\n",
       "3  4\n",
       "5  6"
      ]
     },
     "execution_count": 13,
     "metadata": {},
     "output_type": "execute_result"
    }
   ],
   "source": [
    "a_index = pd.Index(range(1, 7))\n",
    "a = pd.DataFrame(data=[1, 2, 3, 4, 5, 6], index=a_index)\n",
    "\n",
    "b_index = pd.Index(range(1, 7, 2))\n",
    "b = pd.DataFrame(data=[1, 3, 5], index=b_index)\n",
    "\n",
    "c = pd.DataFrame(data=[2, 4, 6], index=a_index.intersection(b_index))\n",
    "c"
   ]
  },
  {
   "cell_type": "code",
   "execution_count": 14,
   "id": "059021db",
   "metadata": {},
   "outputs": [
    {
     "data": {
      "text/plain": [
       "[1, 3, 5]"
      ]
     },
     "execution_count": 14,
     "metadata": {},
     "output_type": "execute_result"
    }
   ],
   "source": [
    "a = pd.Index(range(1, 7))\n",
    "b = pd.Index(range(1, 7, 2))\n",
    "c = a.intersection(b)\n",
    "list(c)"
   ]
  },
  {
   "cell_type": "markdown",
   "id": "ce262e9d",
   "metadata": {},
   "source": [
    "#### delete( )"
   ]
  },
  {
   "cell_type": "code",
   "execution_count": 15,
   "id": "c630bb72",
   "metadata": {},
   "outputs": [
    {
     "name": "stdout",
     "output_type": "stream",
     "text": [
      "[1, 2, 3, 4, 5, 6]\n",
      "[1, 2, 3, 5, 6]\n"
     ]
    }
   ],
   "source": [
    "a = pd.Index(range(1,7))\n",
    "print(list(a))\n",
    "a = a.delete(3)\n",
    "print(list(a))  # a의 Index 번호 3번을 제외함"
   ]
  },
  {
   "cell_type": "code",
   "execution_count": 16,
   "id": "166eef8b",
   "metadata": {},
   "outputs": [
    {
     "data": {
      "text/plain": [
       "[1, 3, 5, 7, 9]"
      ]
     },
     "execution_count": 16,
     "metadata": {},
     "output_type": "execute_result"
    }
   ],
   "source": [
    "b = pd.Index(range(1, 11))\n",
    "b = b.delete([1, 3, 5, 7, 9])\n",
    "list(b)"
   ]
  },
  {
   "cell_type": "markdown",
   "id": "ca31242e",
   "metadata": {},
   "source": [
    "#### drop( )"
   ]
  },
  {
   "cell_type": "code",
   "execution_count": 17,
   "id": "e0a1bd29",
   "metadata": {},
   "outputs": [
    {
     "name": "stdout",
     "output_type": "stream",
     "text": [
      "[1, 2, 3, 4, 5, 6]\n"
     ]
    },
    {
     "data": {
      "text/plain": [
       "[2, 4, 6]"
      ]
     },
     "execution_count": 17,
     "metadata": {},
     "output_type": "execute_result"
    }
   ],
   "source": [
    "a = pd.Index(range(1,7))\n",
    "print(list(a))\n",
    "a = a.drop([1, 3, 5])\n",
    "list(a)"
   ]
  },
  {
   "cell_type": "code",
   "execution_count": 18,
   "id": "3138872d",
   "metadata": {},
   "outputs": [
    {
     "name": "stdout",
     "output_type": "stream",
     "text": [
      "[1, 2, 3, 4, 5, 6, 7, 8, 9, 10]\n"
     ]
    },
    {
     "data": {
      "text/plain": [
       "[2, 3, 4, 6, 7, 8, 9]"
      ]
     },
     "execution_count": 18,
     "metadata": {},
     "output_type": "execute_result"
    }
   ],
   "source": [
    "b = pd.Index(range(1, 11))\n",
    "print(list(b))\n",
    "b = b.drop([1, 5, 10])\n",
    "list(b)"
   ]
  }
 ],
 "metadata": {
  "kernelspec": {
   "display_name": "Python 3",
   "language": "python",
   "name": "python3"
  },
  "language_info": {
   "codemirror_mode": {
    "name": "ipython",
    "version": 3
   },
   "file_extension": ".py",
   "mimetype": "text/x-python",
   "name": "python",
   "nbconvert_exporter": "python",
   "pygments_lexer": "ipython3",
   "version": "3.8.8"
  },
  "toc": {
   "base_numbering": 1,
   "nav_menu": {},
   "number_sections": true,
   "sideBar": true,
   "skip_h1_title": false,
   "title_cell": "Table of Contents",
   "title_sidebar": "Contents",
   "toc_cell": false,
   "toc_position": {
    "height": "calc(100% - 180px)",
    "left": "10px",
    "top": "150px",
    "width": "384px"
   },
   "toc_section_display": true,
   "toc_window_display": true
  }
 },
 "nbformat": 4,
 "nbformat_minor": 5
}
