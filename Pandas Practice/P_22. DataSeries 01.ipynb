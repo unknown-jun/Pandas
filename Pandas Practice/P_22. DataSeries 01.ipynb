{
 "cells": [
  {
   "cell_type": "code",
   "execution_count": 2,
   "id": "b1132a28",
   "metadata": {},
   "outputs": [],
   "source": [
    "import pandas as pd\n",
    "import numpy as np"
   ]
  },
  {
   "cell_type": "markdown",
   "id": "0c99567a",
   "metadata": {},
   "source": [
    "# 1. Write a Pandas program to create and display a one-dimensional array-like"
   ]
  },
  {
   "cell_type": "code",
   "execution_count": 3,
   "id": "8a8061c0",
   "metadata": {},
   "outputs": [
    {
     "data": {
      "text/plain": [
       "array([1, 4, 3, 5, 8])"
      ]
     },
     "execution_count": 3,
     "metadata": {},
     "output_type": "execute_result"
    }
   ],
   "source": [
    "example = np.array([1, 4, 3, 5, 8])\n",
    "example"
   ]
  },
  {
   "cell_type": "markdown",
   "id": "adc3f351",
   "metadata": {},
   "source": [
    "# 2. Write a Pandas program to convert a Panda module Series to Python list and it's type."
   ]
  },
  {
   "cell_type": "code",
   "execution_count": 6,
   "id": "37e9f75c",
   "metadata": {},
   "outputs": [
    {
     "name": "stdout",
     "output_type": "stream",
     "text": [
      "<class 'list'>\n",
      "<class 'pandas.core.series.Series'>\n"
     ]
    },
    {
     "data": {
      "text/plain": [
       "[1, 2, 3, 4, 5]"
      ]
     },
     "execution_count": 6,
     "metadata": {},
     "output_type": "execute_result"
    }
   ],
   "source": [
    "toseries = [1, 2, 3, 4, 5]\n",
    "toseries = pd.Series(toseries)\n",
    "\n",
    "example2 = pd.Series([1, 2, 3, 4, 5])\n",
    "tolist = example2.tolist()\n",
    "\n",
    "print(type(tolist))\n",
    "print(type(toseries))\n",
    "\n",
    "tolist"
   ]
  },
  {
   "cell_type": "markdown",
   "id": "5cda2f67",
   "metadata": {},
   "source": [
    "# 3. Write a Pandas program to add, subtract, multiple and divide two Pandas Series.\n",
    "Sample Series: [2, 4, 6, 8, 10], [1, 3, 5, 7, 9]"
   ]
  },
  {
   "cell_type": "code",
   "execution_count": 18,
   "id": "ddc41d91",
   "metadata": {},
   "outputs": [
    {
     "data": {
      "text/plain": [
       "0     3\n",
       "1     7\n",
       "2    11\n",
       "3    15\n",
       "4    19\n",
       "dtype: int64"
      ]
     },
     "execution_count": 18,
     "metadata": {},
     "output_type": "execute_result"
    }
   ],
   "source": [
    "series1 = pd.Series([2, 4, 6, 8, 10])\n",
    "series2 = pd.Series([1, 3, 5, 7, 9])\n",
    "\n",
    "series1+series2"
   ]
  },
  {
   "cell_type": "code",
   "execution_count": 17,
   "id": "d947d514",
   "metadata": {},
   "outputs": [
    {
     "data": {
      "text/plain": [
       "0    1\n",
       "1    1\n",
       "2    1\n",
       "3    1\n",
       "4    1\n",
       "dtype: int64"
      ]
     },
     "execution_count": 17,
     "metadata": {},
     "output_type": "execute_result"
    }
   ],
   "source": [
    "series1-series2"
   ]
  },
  {
   "cell_type": "code",
   "execution_count": 16,
   "id": "01d50e91",
   "metadata": {},
   "outputs": [
    {
     "data": {
      "text/plain": [
       "0     2\n",
       "1    12\n",
       "2    30\n",
       "3    56\n",
       "4    90\n",
       "dtype: int64"
      ]
     },
     "execution_count": 16,
     "metadata": {},
     "output_type": "execute_result"
    }
   ],
   "source": [
    "series1*series2"
   ]
  },
  {
   "cell_type": "code",
   "execution_count": 15,
   "id": "91d43ea3",
   "metadata": {},
   "outputs": [
    {
     "data": {
      "text/plain": [
       "0    2.000000\n",
       "1    1.333333\n",
       "2    1.200000\n",
       "3    1.142857\n",
       "4    1.111111\n",
       "dtype: float64"
      ]
     },
     "execution_count": 15,
     "metadata": {},
     "output_type": "execute_result"
    }
   ],
   "source": [
    "series1/series2"
   ]
  },
  {
   "cell_type": "markdown",
   "id": "bdf00326",
   "metadata": {},
   "source": [
    "# 4. Write a Pandas program to compare the elements of the two Pandas Series.\n",
    "Sample Series: [2, 4, 6, 8, 10], [1, 3, 5, 7, 10]"
   ]
  },
  {
   "cell_type": "code",
   "execution_count": 19,
   "id": "cc82b81d",
   "metadata": {},
   "outputs": [
    {
     "data": {
      "text/plain": [
       "0    True\n",
       "1    True\n",
       "2    True\n",
       "3    True\n",
       "4    True\n",
       "dtype: bool"
      ]
     },
     "execution_count": 19,
     "metadata": {},
     "output_type": "execute_result"
    }
   ],
   "source": [
    "series1 = pd.Series([2, 4, 6, 8, 10])\n",
    "series2 = pd.Series([1, 3, 5, 7, 9])\n",
    "\n",
    "series1 > series2"
   ]
  },
  {
   "cell_type": "code",
   "execution_count": 20,
   "id": "1bf3835a",
   "metadata": {},
   "outputs": [
    {
     "data": {
      "text/plain": [
       "0    False\n",
       "1    False\n",
       "2    False\n",
       "3    False\n",
       "4    False\n",
       "dtype: bool"
      ]
     },
     "execution_count": 20,
     "metadata": {},
     "output_type": "execute_result"
    }
   ],
   "source": [
    "series1 < series2"
   ]
  },
  {
   "cell_type": "code",
   "execution_count": 21,
   "id": "5024df03",
   "metadata": {},
   "outputs": [
    {
     "data": {
      "text/plain": [
       "0    True\n",
       "1    True\n",
       "2    True\n",
       "3    True\n",
       "4    True\n",
       "dtype: bool"
      ]
     },
     "execution_count": 21,
     "metadata": {},
     "output_type": "execute_result"
    }
   ],
   "source": [
    "series1 >= series2"
   ]
  },
  {
   "cell_type": "code",
   "execution_count": 22,
   "id": "f26d2c6a",
   "metadata": {},
   "outputs": [
    {
     "data": {
      "text/plain": [
       "0    False\n",
       "1    False\n",
       "2    False\n",
       "3    False\n",
       "4    False\n",
       "dtype: bool"
      ]
     },
     "execution_count": 22,
     "metadata": {},
     "output_type": "execute_result"
    }
   ],
   "source": [
    "series1 <= series2"
   ]
  },
  {
   "cell_type": "markdown",
   "id": "2450531a",
   "metadata": {},
   "source": [
    "# 5. Write a Pandas program to convert a dictionary to a Pandas series.\n",
    "Sample Series:  \n",
    "  \n",
    "Original dictionary:  \n",
    "{'a': 100, 'b': 200, 'c': 300, 'd': 400, 'e': 800}   \n",
    "  \n",
    "Converted series:    \n",
    "a 100    \n",
    "b 200    \n",
    "c 300    \n",
    "d 400    \n",
    "e 800    \n",
    "dtype: int64\n"
   ]
  },
  {
   "cell_type": "code",
   "execution_count": 71,
   "id": "1fef56f9",
   "metadata": {},
   "outputs": [
    {
     "data": {
      "text/plain": [
       "a    100\n",
       "b    200\n",
       "c    300\n",
       "d    400\n",
       "e    800\n",
       "dtype: int64"
      ]
     },
     "execution_count": 71,
     "metadata": {},
     "output_type": "execute_result"
    }
   ],
   "source": [
    "series = pd.Series({'a': 100, 'b': 200, 'c': 300, 'd': 400, 'e': 800})\n",
    "series"
   ]
  },
  {
   "cell_type": "markdown",
   "id": "d30b0eaf",
   "metadata": {},
   "source": [
    "# 6. Write a Pandas program to convert a NumPy array to a Pandas series.\n",
    "Sample Series:\n",
    "\n",
    "NumPy array:\n",
    "[10 20 30 40 50]\n",
    "\n",
    "Converted Pandas series:    \n",
    "0 10    \n",
    "1 20    \n",
    "2 30    \n",
    "3 40    \n",
    "4 50    \n",
    "dtype: int64"
   ]
  },
  {
   "cell_type": "code",
   "execution_count": 33,
   "id": "553a8211",
   "metadata": {},
   "outputs": [
    {
     "data": {
      "text/plain": [
       "0    10\n",
       "1    20\n",
       "2    30\n",
       "3    40\n",
       "4    50\n",
       "dtype: int64"
      ]
     },
     "execution_count": 33,
     "metadata": {},
     "output_type": "execute_result"
    }
   ],
   "source": [
    "Toseries = np.array([10, 20, 30, 40,50], int)\n",
    "Toseries = pd.Series(Toseries, dtype = 'int64')\n",
    "Toseries"
   ]
  },
  {
   "cell_type": "markdown",
   "id": "0e81a5d8",
   "metadata": {},
   "source": [
    "# 7. Write a Pandas program to change the data type of given a column or a Series.\n",
    "Sample Series:\n",
    "<br>\n",
    "<br>\n",
    "  \n",
    "\n",
    "Original Data Series:    \n",
    "0 100    \n",
    "1 200    \n",
    "2 python    \n",
    "3 300.12    \n",
    "4 400    \n",
    "dtype: object  \n",
    "<br>\n",
    "Change the said data type to numeric:    \n",
    "0 100.00    \n",
    "1 200.00    \n",
    "2 NaN    \n",
    "3 300.12    \n",
    "4 400.00    \n",
    "dtype: float64"
   ]
  },
  {
   "cell_type": "code",
   "execution_count": 37,
   "id": "31a38b24",
   "metadata": {},
   "outputs": [
    {
     "data": {
      "text/plain": [
       "0         0\n",
       "1       200\n",
       "2    python\n",
       "3    300.12\n",
       "4       400\n",
       "dtype: object"
      ]
     },
     "execution_count": 37,
     "metadata": {},
     "output_type": "execute_result"
    }
   ],
   "source": [
    "originalData=pd.Series([0, 200, 'python', 300.12, 400], dtype='object')\n",
    "originalData"
   ]
  },
  {
   "cell_type": "code",
   "execution_count": 45,
   "id": "7d9cae76",
   "metadata": {},
   "outputs": [
    {
     "data": {
      "text/plain": [
       "0      0.00\n",
       "1    200.00\n",
       "2       NaN\n",
       "3    300.12\n",
       "4    400.00\n",
       "dtype: float64"
      ]
     },
     "execution_count": 45,
     "metadata": {},
     "output_type": "execute_result"
    }
   ],
   "source": [
    "originalData[2] = np.nan\n",
    "originalData.astype('float64')"
   ]
  },
  {
   "cell_type": "markdown",
   "id": "0cebbc08",
   "metadata": {},
   "source": [
    "# 8. Write a Pandas program to convert the first column of a DataFrame as a Series.\n",
    "Sample Output:\n",
    "<br>\n",
    "<br>\n",
    "Original DataFrame    \n",
    "col1 col2 col3    \n",
    "0 1 4 7    \n",
    "1 2 5 5    \n",
    "2 3 6 8    \n",
    "3 4 9 12    \n",
    "4 7 5 1     \n",
    "5 11 0 11\n",
    "<br>\n",
    "<br>\n",
    "1st column as a Series:    \n",
    "0 1    \n",
    "1 2    \n",
    "2 3    \n",
    "3 4    \n",
    "4 7    \n",
    "5 11    \n",
    "Name: col1, dtype: int64    \n",
    "<class 'pandas.core.series.Series'>"
   ]
  },
  {
   "cell_type": "code",
   "execution_count": 47,
   "id": "5302364d",
   "metadata": {},
   "outputs": [
    {
     "data": {
      "text/html": [
       "<div>\n",
       "<style scoped>\n",
       "    .dataframe tbody tr th:only-of-type {\n",
       "        vertical-align: middle;\n",
       "    }\n",
       "\n",
       "    .dataframe tbody tr th {\n",
       "        vertical-align: top;\n",
       "    }\n",
       "\n",
       "    .dataframe thead th {\n",
       "        text-align: right;\n",
       "    }\n",
       "</style>\n",
       "<table border=\"1\" class=\"dataframe\">\n",
       "  <thead>\n",
       "    <tr style=\"text-align: right;\">\n",
       "      <th></th>\n",
       "      <th>col1</th>\n",
       "      <th>col2</th>\n",
       "      <th>col3</th>\n",
       "    </tr>\n",
       "  </thead>\n",
       "  <tbody>\n",
       "    <tr>\n",
       "      <th>0</th>\n",
       "      <td>1</td>\n",
       "      <td>4</td>\n",
       "      <td>7</td>\n",
       "    </tr>\n",
       "    <tr>\n",
       "      <th>1</th>\n",
       "      <td>2</td>\n",
       "      <td>5</td>\n",
       "      <td>5</td>\n",
       "    </tr>\n",
       "    <tr>\n",
       "      <th>2</th>\n",
       "      <td>3</td>\n",
       "      <td>6</td>\n",
       "      <td>8</td>\n",
       "    </tr>\n",
       "    <tr>\n",
       "      <th>3</th>\n",
       "      <td>4</td>\n",
       "      <td>9</td>\n",
       "      <td>12</td>\n",
       "    </tr>\n",
       "    <tr>\n",
       "      <th>4</th>\n",
       "      <td>7</td>\n",
       "      <td>5</td>\n",
       "      <td>1</td>\n",
       "    </tr>\n",
       "    <tr>\n",
       "      <th>5</th>\n",
       "      <td>11</td>\n",
       "      <td>0</td>\n",
       "      <td>11</td>\n",
       "    </tr>\n",
       "  </tbody>\n",
       "</table>\n",
       "</div>"
      ],
      "text/plain": [
       "   col1  col2  col3\n",
       "0     1     4     7\n",
       "1     2     5     5\n",
       "2     3     6     8\n",
       "3     4     9    12\n",
       "4     7     5     1\n",
       "5    11     0    11"
      ]
     },
     "execution_count": 47,
     "metadata": {},
     "output_type": "execute_result"
    }
   ],
   "source": [
    "originalDataframe = pd.DataFrame({'col1':[1, 2, 3, 4, 7, 11],\n",
    "                                  'col2':[4, 5, 6, 9, 5, 0],\n",
    "                                  'col3':[7, 5, 8, 12, 1, 11]})\n",
    "originalDataframe"
   ]
  },
  {
   "cell_type": "code",
   "execution_count": 49,
   "id": "91d1a9b0",
   "metadata": {},
   "outputs": [
    {
     "data": {
      "text/plain": [
       "0     1\n",
       "1     2\n",
       "2     3\n",
       "3     4\n",
       "4     7\n",
       "5    11\n",
       "Name: col1, dtype: int64"
      ]
     },
     "execution_count": 49,
     "metadata": {},
     "output_type": "execute_result"
    }
   ],
   "source": [
    "series = originalDataframe.col1\n",
    "series"
   ]
  },
  {
   "cell_type": "markdown",
   "id": "158c81d3",
   "metadata": {},
   "source": [
    "# 9. Write a Pandas program to convert a given Series to an array.\n",
    "Sample Output:\n",
    "<br>\n",
    "<br>\n",
    "\n",
    "Original Data Series:    \n",
    "0 100    \n",
    "1 200    \n",
    "2 python    \n",
    "3 300.12    \n",
    "4 400    \n",
    "dtype: object  \n",
    "<br>\n",
    "<br>\n",
    "\n",
    "Series to an array    \n",
    "['100' '200' 'python' '300.12' '400']"
   ]
  },
  {
   "cell_type": "code",
   "execution_count": 50,
   "id": "b043d4dd",
   "metadata": {},
   "outputs": [
    {
     "data": {
      "text/plain": [
       "0       100\n",
       "1       200\n",
       "2    python\n",
       "3    300.12\n",
       "4       400\n",
       "dtype: object"
      ]
     },
     "execution_count": 50,
     "metadata": {},
     "output_type": "execute_result"
    }
   ],
   "source": [
    "originalDataSeries = pd.Series([100, 200, 'python',300.12, 400], dtype='object')\n",
    "originalDataSeries"
   ]
  },
  {
   "cell_type": "code",
   "execution_count": 54,
   "id": "c0025cdb",
   "metadata": {},
   "outputs": [
    {
     "data": {
      "text/plain": [
       "array([100, 200, 'python', 300.12, 400], dtype=object)"
      ]
     },
     "execution_count": 54,
     "metadata": {},
     "output_type": "execute_result"
    }
   ],
   "source": [
    "changeArray = np.array(originalDataSeries, dtype='object')\n",
    "changeArray"
   ]
  },
  {
   "cell_type": "markdown",
   "id": "07c0782f",
   "metadata": {},
   "source": [
    "# 10. Write a Pandas program to convert Series of lists to one Series.\n",
    "Sample Output:\n",
    "<br>\n",
    "<br>\n",
    "\n",
    "Original Series of list    \n",
    "0 [Red, Green, White]    \n",
    "1 [Red, Black]    \n",
    "2 [Yellow]    \n",
    "dtype: object\n",
    "<br>\n",
    "<br>\n",
    "\n",
    "One Series    \n",
    "0 Red    \n",
    "1 Green    \n",
    "2 White    \n",
    "3 Red    \n",
    "4 Black    \n",
    "5 Yellow    \n",
    "dtype: object"
   ]
  },
  {
   "cell_type": "code",
   "execution_count": 73,
   "id": "01c2cc2e",
   "metadata": {},
   "outputs": [
    {
     "data": {
      "text/plain": [
       "0    [Red, Green, White]\n",
       "1           [Red, Black]\n",
       "2               [Yellow]\n",
       "dtype: object"
      ]
     },
     "execution_count": 73,
     "metadata": {},
     "output_type": "execute_result"
    }
   ],
   "source": [
    "series = pd.Series([['Red','Green','White'],['Red','Black'],['Yellow']])\n",
    "series"
   ]
  },
  {
   "cell_type": "code",
   "execution_count": 74,
   "id": "a51314bd",
   "metadata": {},
   "outputs": [
    {
     "data": {
      "text/plain": [
       "0       Red\n",
       "1     Green\n",
       "2     White\n",
       "3       Red\n",
       "4     Black\n",
       "5    Yellow\n",
       "dtype: object"
      ]
     },
     "execution_count": 74,
     "metadata": {},
     "output_type": "execute_result"
    }
   ],
   "source": [
    "tmp = []\n",
    "for i in series:\n",
    "    for z in i:\n",
    "        tmp.append(z)\n",
    "answer = pd.Series(tmp)\n",
    "answer"
   ]
  },
  {
   "cell_type": "markdown",
   "id": "d45a9bdc",
   "metadata": {},
   "source": [
    "# 11. Write a Pandas program to sort a given Series.\n",
    "Sample Output:\n",
    "\n",
    "Original Data Series:  \n",
    "0 100    \n",
    "1 200    \n",
    "2 python    \n",
    "3 300.12    \n",
    "4 400    \n",
    "dtype: object   \n",
    "\n",
    "0 100    \n",
    "1 200    \n",
    "3 300.12    \n",
    "4 400    \n",
    "2 python    \n",
    "dtype: object"
   ]
  },
  {
   "cell_type": "code",
   "execution_count": 84,
   "id": "24651081",
   "metadata": {},
   "outputs": [
    {
     "data": {
      "text/plain": [
       "0       100\n",
       "1       200\n",
       "3    300.12\n",
       "4       400\n",
       "2    python\n",
       "dtype: object"
      ]
     },
     "execution_count": 84,
     "metadata": {},
     "output_type": "execute_result"
    }
   ],
   "source": [
    "series = pd.Series(['100', '200', 'python','300.12', '400'], dtype='object')\n",
    "series.sort_values()"
   ]
  },
  {
   "cell_type": "markdown",
   "id": "c9e344e3",
   "metadata": {},
   "source": [
    "# 12. Write a Pandas program to add some data to an existing Series.\n",
    "Sample Output:\n",
    "\n",
    "Original Data Series:    \n",
    "0 100    \n",
    "1 200    \n",
    "2 python    \n",
    "3 300.12    \n",
    "4 400    \n",
    "dtype: object    \n",
    "\n",
    "Data Series after adding some data:    \n",
    "0 100    \n",
    "1 200    \n",
    "2 python    \n",
    "3 300.12    \n",
    "4 400    \n",
    "0 500    \n",
    "1 php    \n",
    "dtype: object"
   ]
  },
  {
   "cell_type": "code",
   "execution_count": 88,
   "id": "4832683e",
   "metadata": {},
   "outputs": [
    {
     "data": {
      "text/plain": [
       "0       100\n",
       "1       200\n",
       "2    python\n",
       "3    300.12\n",
       "4       400\n",
       "0       500\n",
       "1       php\n",
       "dtype: object"
      ]
     },
     "execution_count": 88,
     "metadata": {},
     "output_type": "execute_result"
    }
   ],
   "source": [
    "series = pd.Series(['100', '200', 'python','300.12', '400'], dtype='object')\n",
    "series1 = pd.Series(['500','php'])\n",
    "pd.concat([series,series1], axis=0)"
   ]
  },
  {
   "cell_type": "markdown",
   "id": "3b6be0eb",
   "metadata": {},
   "source": [
    "# 13. Write a Pandas program to create a subset of a given series based on value and condition.\n",
    "Sample Output:\n",
    "\n",
    "Original Data Series:    \n",
    "0 0    \n",
    "1 1    \n",
    "2 2    \n",
    "3 3    \n",
    "4 4    \n",
    "5 5    \n",
    "6 6    \n",
    "7 7    \n",
    "8 8    \n",
    "9 9    \n",
    "10 10    \n",
    "dtype: int64    \n",
    "\n",
    "Subset of the above Data Series:    \n",
    "0 0    \n",
    "1 1    \n",
    "2 2    \n",
    "3 3    \n",
    "4 4    \n",
    "5 5    \n",
    "dtype: int64"
   ]
  },
  {
   "cell_type": "code",
   "execution_count": null,
   "id": "9a17bf25",
   "metadata": {},
   "outputs": [],
   "source": []
  },
  {
   "cell_type": "markdown",
   "id": "265c1cfb",
   "metadata": {},
   "source": [
    "# 14. Write a Pandas program to change the order of index of a given series.\n",
    "Sample Output:\n",
    "\n",
    "Original Data Series:    \n",
    "A 1    \n",
    "B 2    \n",
    "C 3    \n",
    "D 4    \n",
    "E 5    \n",
    "dtype: int64    \n",
    "\n",
    "Data Series after changing the order of index:    \n",
    "B 2    \n",
    "A 1    \n",
    "C 3    \n",
    "D 4    \n",
    "E 5    \n",
    "dtype: int64"
   ]
  },
  {
   "cell_type": "markdown",
   "id": "d9760f43",
   "metadata": {},
   "source": [
    "# 15. Write a Pandas program to create the mean and standard deviation of the data of a given Series.\n",
    "Sample Output:    \n",
    "Original Data Series:    \n",
    "0 1    \n",
    "1 2    \n",
    "2 3    \n",
    "3 4    \n",
    "4 5    \n",
    "5 6    \n",
    "6 7    \n",
    "7 8    \n",
    "8 9    \n",
    "9 5    \n",
    "10 3    \n",
    "dtype: int64    \n",
    "\n",
    "Mean of the said Data Series:    \n",
    "4.818181818181818    \n",
    "\n",
    "Standard deviation of the said Data Series:    \n",
    "2.522624895547565"
   ]
  },
  {
   "cell_type": "markdown",
   "id": "28237c00",
   "metadata": {},
   "source": [
    "# 16. Write a Pandas program to get the items of a given series not present in another given series.\n",
    "Sample Output:\n",
    "\n",
    "Original Series:    \n",
    "sr1:    \n",
    "0 1    \n",
    "1 2    \n",
    "2 3    \n",
    "3 4    \n",
    "4 5    \n",
    "dtype: int64    \n",
    "\n",
    "sr2:    \n",
    "0 2    \n",
    "1 4    \n",
    "2 6    \n",
    "3 8    \n",
    "4 10    \n",
    "dtype: int64    \n",
    "\n",
    "Items of sr1 not present in sr2:    \n",
    "0 1    \n",
    "2 3    \n",
    "4 5    \n",
    "dtype: int64"
   ]
  },
  {
   "cell_type": "markdown",
   "id": "9878779e",
   "metadata": {},
   "source": [
    "# ★ 17. Write a Pandas program to get the items which are not common of two given series.\n",
    "Sample Output:\n",
    "\n",
    "Original Series:    \n",
    "sr1:    \n",
    "0 1    \n",
    "1 2    \n",
    "2 3    \n",
    "3 4    \n",
    "4 5    \n",
    "dtype: int64    \n",
    "\n",
    "sr2:    \n",
    "0 2    \n",
    "1 4    \n",
    "2 6    \n",
    "3 8    \n",
    "4 10    \n",
    "dtype: int64    \n",
    "\n",
    "Items of a given series not present in another given series:    \n",
    "0 1    \n",
    "2 3    \n",
    "4 5    \n",
    "5 6    \n",
    "6 8    \n",
    "7 10    \n",
    "dtype: int64"
   ]
  },
  {
   "cell_type": "markdown",
   "id": "1e39c67b",
   "metadata": {},
   "source": [
    "# 18. Write a Pandas program to compute the minimum, 25th percentile, median, 75th, and maximum of a given series.\n",
    "Sample Output:\n",
    "\n",
    "Original Series:    \n",
    "0 3.000938    \n",
    "1 11.370722    \n",
    "2 14.612143    \n",
    "3 8.990256    \n",
    "4 13.925283    \n",
    "5 12.056875    \n",
    ".... 17 14.118931    \n",
    "18 8.247458    \n",
    "19 5.526727    \n",
    "dtype: float64   \n",
    "\n",
    "\n",
    "Minimum, 25th percentile, median, 75th, and maximum of a given series:    \n",
    "\n",
    "[ 3.00093811 8.09463867 10.23353705 12.21537733 14.61214321]"
   ]
  },
  {
   "cell_type": "markdown",
   "id": "702dcbd3",
   "metadata": {},
   "source": [
    "# 19. Write a Pandas program to calculate the frequency counts of each unique value of a given series.\n",
    "Sample Output:\n",
    "\n",
    "Original Series:    \n",
    "0 1    \n",
    "1 7    \n",
    "2 1    \n",
    "3 6    \n",
    "4 9    \n",
    "5 1    \n",
    "... 29 2    \n",
    "30 9    \n",
    "31 1    \n",
    "32 2    \n",
    "33 9    \n",
    "34 2    \n",
    "35 9    \n",
    "36 0    \n",
    "37 0    \n",
    "38 4    \n",
    "39 8    \n",
    "dtype: object    \n",
    "\n",
    "Frequency of each unique value of the said series.    \n",
    "0 9    \n",
    "2 7    \n",
    "9 6    \n",
    "1 5    \n",
    "6 3    \n",
    "8 3    \n",
    "7 3    \n",
    "3 2    \n",
    "4 1    \n",
    "5 1    \n",
    "dtype: int64"
   ]
  },
  {
   "cell_type": "markdown",
   "id": "cdf25120",
   "metadata": {},
   "source": [
    "# 20. Write a Pandas program to display most frequent value in a given series and replace everything else as 'Other' in the series.\n",
    "Sample Output:\n",
    "\n",
    "Original Series:    \n",
    "0 3    \n",
    "1 1    \n",
    "2 1    \n",
    "3 3    \n",
    "4 2    \n",
    "5 2    \n",
    "6 1    \n",
    "7 2    \n",
    "8 3    \n",
    "9 1    \n",
    "10 2    \n",
    "11 2    \n",
    "12 2    \n",
    "13 3    \n",
    "14 3    \n",
    "dtype: int64    \n",
    "\n",
    "Top 2 Freq: \n",
    "2 6    \n",
    "3 5    \n",
    "1 4    \n",
    "dtype: int64    \n",
    "0 Other    \n",
    "1 Other    \n",
    "2 Other    \n",
    "3 Other    \n",
    "4 2    \n",
    "5 2    \n",
    "6 Other    \n",
    "7 2    \n",
    "8 Other    \n",
    "9 Other    \n",
    "10 2    \n",
    "11 2    \n",
    "12 2    \n",
    "13 Other    \n",
    "14 Other    \n",
    "\n",
    "dtype: object"
   ]
  },
  {
   "cell_type": "code",
   "execution_count": null,
   "id": "816dcc07",
   "metadata": {},
   "outputs": [],
   "source": []
  }
 ],
 "metadata": {
  "kernelspec": {
   "display_name": "Python 3",
   "language": "python",
   "name": "python3"
  },
  "language_info": {
   "codemirror_mode": {
    "name": "ipython",
    "version": 3
   },
   "file_extension": ".py",
   "mimetype": "text/x-python",
   "name": "python",
   "nbconvert_exporter": "python",
   "pygments_lexer": "ipython3",
   "version": "3.8.8"
  },
  "toc": {
   "base_numbering": 1,
   "nav_menu": {},
   "number_sections": true,
   "sideBar": true,
   "skip_h1_title": false,
   "title_cell": "Table of Contents",
   "title_sidebar": "Contents",
   "toc_cell": false,
   "toc_position": {},
   "toc_section_display": true,
   "toc_window_display": true
  }
 },
 "nbformat": 4,
 "nbformat_minor": 5
}
