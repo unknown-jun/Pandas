{
 "cells": [
  {
   "cell_type": "markdown",
   "id": "ac82e36e",
   "metadata": {},
   "source": [
    "## Series 객체"
   ]
  },
  {
   "cell_type": "code",
   "execution_count": 1,
   "id": "3f961629",
   "metadata": {},
   "outputs": [
    {
     "data": {
      "text/plain": [
       "0    1\n",
       "1    2\n",
       "2    3\n",
       "3    4\n",
       "4    5\n",
       "dtype: int64"
      ]
     },
     "execution_count": 1,
     "metadata": {},
     "output_type": "execute_result"
    }
   ],
   "source": [
    "import pandas as pd\n",
    "import numpy as np\n",
    "\n",
    "series = pd.Series([1, 2, 3, 4, 5])\n",
    "# Series를 만들때 리스트로만 묶고서 객체화했을 땐, 정수형 인덱스가 자동으로 생성됌\n",
    "series"
   ]
  },
  {
   "cell_type": "code",
   "execution_count": 2,
   "id": "7c139867",
   "metadata": {},
   "outputs": [
    {
     "data": {
      "text/plain": [
       "a    1\n",
       "b    2\n",
       "c    3\n",
       "d    4\n",
       "e    5\n",
       "dtype: int64"
      ]
     },
     "execution_count": 2,
     "metadata": {},
     "output_type": "execute_result"
    }
   ],
   "source": [
    "T_series = pd.Series([1, 2, 3, 4, 5],\n",
    "                    index=['a','b','c','d','e'])\n",
    "# Series를 만들 때 index를 줘서 사용자 지정 인덱스를 만들수 있다.\n",
    "T_series"
   ]
  },
  {
   "cell_type": "code",
   "execution_count": 3,
   "id": "253f85d4",
   "metadata": {},
   "outputs": [
    {
     "data": {
      "text/plain": [
       "array([1, 2, 3, 4, 5], dtype=int64)"
      ]
     },
     "execution_count": 3,
     "metadata": {},
     "output_type": "execute_result"
    }
   ],
   "source": [
    "T_series.values # values 메소드를 사용하면 해당 Series의 값들이 np.array형태로 반환됌"
   ]
  },
  {
   "cell_type": "code",
   "execution_count": 4,
   "id": "83842ea6",
   "metadata": {},
   "outputs": [
    {
     "data": {
      "text/plain": [
       "4"
      ]
     },
     "execution_count": 4,
     "metadata": {},
     "output_type": "execute_result"
    }
   ],
   "source": [
    "T_series.values[3] # values 메소드는 slicing이 가능한 객체"
   ]
  },
  {
   "cell_type": "code",
   "execution_count": 5,
   "id": "e8af3bcd",
   "metadata": {},
   "outputs": [
    {
     "name": "stdout",
     "output_type": "stream",
     "text": [
      "1\n",
      "3\n",
      "5\n"
     ]
    }
   ],
   "source": [
    "for i in range(0, 5, 2):\n",
    "    # Slicing이 가능하기 때문에 for 문의 iteration을 적용하여 홀수값으로만 반환이 가능\n",
    "    print(T_series.values[i])"
   ]
  },
  {
   "cell_type": "code",
   "execution_count": 6,
   "id": "10c9bb31",
   "metadata": {},
   "outputs": [
    {
     "data": {
      "text/plain": [
       "Index(['a', 'b', 'c', 'd', 'e'], dtype='object')"
      ]
     },
     "execution_count": 6,
     "metadata": {},
     "output_type": "execute_result"
    }
   ],
   "source": [
    "T_series.index # index 메소드를 사용하면 해당 Series의 index 값들을 np.array형태로 반환됌"
   ]
  },
  {
   "cell_type": "code",
   "execution_count": 7,
   "id": "94352222",
   "metadata": {},
   "outputs": [
    {
     "data": {
      "text/plain": [
       "RangeIndex(start=0, stop=5, step=1)"
      ]
     },
     "execution_count": 7,
     "metadata": {},
     "output_type": "execute_result"
    }
   ],
   "source": [
    "series.index"
   ]
  },
  {
   "cell_type": "code",
   "execution_count": 8,
   "id": "df54e1fb",
   "metadata": {},
   "outputs": [
    {
     "data": {
      "text/plain": [
       "c    3\n",
       "d    4\n",
       "dtype: int64"
      ]
     },
     "execution_count": 8,
     "metadata": {},
     "output_type": "execute_result"
    }
   ],
   "source": [
    "T_series[2:4] # Series 객체 또한 Slicing이 가능함"
   ]
  },
  {
   "cell_type": "code",
   "execution_count": 9,
   "id": "2f0390f6",
   "metadata": {},
   "outputs": [
    {
     "data": {
      "text/plain": [
       "a    1\n",
       "c    3\n",
       "e    5\n",
       "dtype: int64"
      ]
     },
     "execution_count": 9,
     "metadata": {},
     "output_type": "execute_result"
    }
   ],
   "source": [
    "T_series[::2] # Slicing이 가능하기 때문에 step을 주어 홀수값들만 반환"
   ]
  },
  {
   "cell_type": "code",
   "execution_count": 10,
   "id": "1cdd93d5",
   "metadata": {},
   "outputs": [
    {
     "data": {
      "text/plain": [
       "a      1.0\n",
       "b      2.0\n",
       "c      3.0\n",
       "d      4.0\n",
       "e      5.0\n",
       "f     14.0\n",
       "ff     4.0\n",
       "g      NaN\n",
       "dtype: float64"
      ]
     },
     "execution_count": 10,
     "metadata": {},
     "output_type": "execute_result"
    }
   ],
   "source": [
    "T_series['f'] = 14 # Series는 dictionary의 원소를 방식으로 원소 추가가 가능함\n",
    "T_series['ff'] = 4\n",
    "T_series['g'] = np.nan # np.nan 값을 이용하여 결측치를 추가하는 방법이 있음\n",
    "T_series"
   ]
  },
  {
   "cell_type": "code",
   "execution_count": 11,
   "id": "649872cc",
   "metadata": {},
   "outputs": [
    {
     "data": {
      "text/plain": [
       "4.0     2\n",
       "3.0     1\n",
       "2.0     1\n",
       "14.0    1\n",
       "5.0     1\n",
       "1.0     1\n",
       "dtype: int64"
      ]
     },
     "execution_count": 11,
     "metadata": {},
     "output_type": "execute_result"
    }
   ],
   "source": [
    "T_series.value_counts() # value_counts()를 이용하면 Series의 관측값의 빈도수를 파악할 수 있다."
   ]
  },
  {
   "cell_type": "code",
   "execution_count": 12,
   "id": "a00ab69a",
   "metadata": {},
   "outputs": [
    {
     "data": {
      "text/plain": [
       "3.0     1\n",
       "2.0     1\n",
       "14.0    1\n",
       "5.0     1\n",
       "4.0     2\n",
       "1.0     1\n",
       "dtype: int64"
      ]
     },
     "execution_count": 12,
     "metadata": {},
     "output_type": "execute_result"
    }
   ],
   "source": [
    "T_series.value_counts(sort = False)"
   ]
  },
  {
   "cell_type": "code",
   "execution_count": 13,
   "id": "6e7ad16e",
   "metadata": {},
   "outputs": [
    {
     "data": {
      "text/plain": [
       "4.0     28.6 %\n",
       "3.0     14.3 %\n",
       "2.0     14.3 %\n",
       "14.0    14.3 %\n",
       "5.0     14.3 %\n",
       "1.0     14.3 %\n",
       "dtype: object"
      ]
     },
     "execution_count": 13,
     "metadata": {},
     "output_type": "execute_result"
    }
   ],
   "source": [
    "# value_counts(normalize = True)를 이용하면 빈도수가 비율형태로 나오게 된다.\n",
    "# value_counts와 index, value를 이용하여 백분위로 values로 갖는 새로운 Series 생성하는 예\n",
    "idx = T_series.value_counts().index\n",
    "val = T_series.value_counts(normalize = True).values *100\n",
    "hundred = dict()\n",
    "\n",
    "for i, j in zip(idx, val):\n",
    "    t = round(j, 1)\n",
    "    hundred[i] = str(t) + ' %'\n",
    "\n",
    "hundred = pd.Series(hundred)\n",
    "hundred"
   ]
  },
  {
   "cell_type": "code",
   "execution_count": 14,
   "id": "d100f82e",
   "metadata": {},
   "outputs": [
    {
     "data": {
      "text/plain": [
       "English    English Grammer in use\n",
       "태블로                 태블로 굿모닝 굿애프터눈\n",
       "판다스           파이썬 머신러닝 판다스 데이터 분석\n",
       "ML                 파이썬 머신러닝 완벽가이드\n",
       "dtype: object"
      ]
     },
     "execution_count": 14,
     "metadata": {},
     "output_type": "execute_result"
    }
   ],
   "source": [
    "# 딕셔너리 형태를 이용하여 새로운 Series를 생성할 수 있다.\n",
    "book = pd.Series({'English':'English Grammer in use',\n",
    "                  '태블로':'태블로 굿모닝 굿애프터눈',\n",
    "                  '판다스':'파이썬 머신러닝 판다스 데이터 분석',\n",
    "                  'ML':'파이썬 머신러닝 완벽가이드'})\n",
    "book"
   ]
  },
  {
   "cell_type": "code",
   "execution_count": 15,
   "id": "c5777296",
   "metadata": {},
   "outputs": [
    {
     "data": {
      "text/plain": [
       "'English Grammer in use'"
      ]
     },
     "execution_count": 15,
     "metadata": {},
     "output_type": "execute_result"
    }
   ],
   "source": [
    "book['English']"
   ]
  },
  {
   "cell_type": "code",
   "execution_count": 16,
   "id": "a9807868",
   "metadata": {},
   "outputs": [
    {
     "data": {
      "text/plain": [
       "English    English Grammer in use\n",
       "태블로                 태블로 굿모닝 굿애프터눈\n",
       "판다스           파이썬 머신러닝 판다스 데이터 분석\n",
       "dtype: object"
      ]
     },
     "execution_count": 16,
     "metadata": {},
     "output_type": "execute_result"
    }
   ],
   "source": [
    "book['English':'판다스']"
   ]
  }
 ],
 "metadata": {
  "kernelspec": {
   "display_name": "Python 3",
   "language": "python",
   "name": "python3"
  },
  "language_info": {
   "codemirror_mode": {
    "name": "ipython",
    "version": 3
   },
   "file_extension": ".py",
   "mimetype": "text/x-python",
   "name": "python",
   "nbconvert_exporter": "python",
   "pygments_lexer": "ipython3",
   "version": "3.8.8"
  },
  "toc": {
   "base_numbering": 1,
   "nav_menu": {},
   "number_sections": true,
   "sideBar": true,
   "skip_h1_title": false,
   "title_cell": "Table of Contents",
   "title_sidebar": "Contents",
   "toc_cell": false,
   "toc_position": {
    "height": "calc(100% - 180px)",
    "left": "10px",
    "top": "150px",
    "width": "384px"
   },
   "toc_section_display": true,
   "toc_window_display": true
  }
 },
 "nbformat": 4,
 "nbformat_minor": 5
}
