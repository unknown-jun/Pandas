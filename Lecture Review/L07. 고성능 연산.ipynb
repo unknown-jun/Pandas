{
 "cells": [
  {
   "cell_type": "markdown",
   "id": "d1a2d521",
   "metadata": {},
   "source": [
    "## 고성능 연산"
   ]
  },
  {
   "cell_type": "code",
   "execution_count": 325,
   "id": "9a947501",
   "metadata": {},
   "outputs": [],
   "source": [
    "nrows , ncols = 1000000, 100\n",
    "\n",
    "df1, df2, df3, df4 =(pd.DataFrame(np.random.rand(nrows, ncols)) for i in range(4) )"
   ]
  },
  {
   "cell_type": "code",
   "execution_count": 326,
   "id": "d36e2c3c",
   "metadata": {},
   "outputs": [
    {
     "name": "stdout",
     "output_type": "stream",
     "text": [
      "1.12 s ± 39.1 ms per loop (mean ± std. dev. of 7 runs, 1 loop each)\n"
     ]
    }
   ],
   "source": [
    "%timeit df1 + df2 +df3 +df4"
   ]
  },
  {
   "cell_type": "code",
   "execution_count": 327,
   "id": "d2b7098c",
   "metadata": {},
   "outputs": [
    {
     "name": "stdout",
     "output_type": "stream",
     "text": [
      "466 ms ± 25.2 ms per loop (mean ± std. dev. of 7 runs, 1 loop each)\n"
     ]
    }
   ],
   "source": [
    "%timeit pd.eval('df1+df2+df3+df4')"
   ]
  },
  {
   "cell_type": "code",
   "execution_count": 328,
   "id": "8008720a",
   "metadata": {},
   "outputs": [
    {
     "name": "stdout",
     "output_type": "stream",
     "text": [
      "2.08 s ± 713 ms per loop (mean ± std. dev. of 7 runs, 1 loop each)\n"
     ]
    }
   ],
   "source": [
    "%timeit df1 * -df2 / (-df3*df4)"
   ]
  },
  {
   "cell_type": "code",
   "execution_count": 329,
   "id": "8d7b49eb",
   "metadata": {},
   "outputs": [
    {
     "name": "stdout",
     "output_type": "stream",
     "text": [
      "443 ms ± 33.4 ms per loop (mean ± std. dev. of 7 runs, 1 loop each)\n"
     ]
    }
   ],
   "source": [
    "%timeit pd.eval('df1 * -df2 / (-df3*df4)')"
   ]
  },
  {
   "cell_type": "code",
   "execution_count": 330,
   "id": "b9f13673",
   "metadata": {},
   "outputs": [
    {
     "name": "stdout",
     "output_type": "stream",
     "text": [
      "594 ms ± 41.3 ms per loop (mean ± std. dev. of 7 runs, 1 loop each)\n"
     ]
    }
   ],
   "source": [
    "%timeit (df1 < df2) & (df2 <= df3) & (df3 != df4)"
   ]
  },
  {
   "cell_type": "code",
   "execution_count": 331,
   "id": "70ab71b3",
   "metadata": {},
   "outputs": [
    {
     "name": "stdout",
     "output_type": "stream",
     "text": [
      "272 ms ± 5.02 ms per loop (mean ± std. dev. of 7 runs, 1 loop each)\n"
     ]
    }
   ],
   "source": [
    "%timeit pd.eval('(df1 < df2) & (df2 <= df3) & (df3 != df4)')"
   ]
  },
  {
   "cell_type": "code",
   "execution_count": 332,
   "id": "874ca44d",
   "metadata": {},
   "outputs": [
    {
     "data": {
      "text/html": [
       "<div>\n",
       "<style scoped>\n",
       "    .dataframe tbody tr th:only-of-type {\n",
       "        vertical-align: middle;\n",
       "    }\n",
       "\n",
       "    .dataframe tbody tr th {\n",
       "        vertical-align: top;\n",
       "    }\n",
       "\n",
       "    .dataframe thead th {\n",
       "        text-align: right;\n",
       "    }\n",
       "</style>\n",
       "<table border=\"1\" class=\"dataframe\">\n",
       "  <thead>\n",
       "    <tr style=\"text-align: right;\">\n",
       "      <th></th>\n",
       "      <th>A</th>\n",
       "      <th>B</th>\n",
       "      <th>C</th>\n",
       "      <th>D</th>\n",
       "      <th>E</th>\n",
       "    </tr>\n",
       "  </thead>\n",
       "  <tbody>\n",
       "    <tr>\n",
       "      <th>0</th>\n",
       "      <td>0.488876</td>\n",
       "      <td>0.370213</td>\n",
       "      <td>0.209664</td>\n",
       "      <td>0.403769</td>\n",
       "      <td>0.812692</td>\n",
       "    </tr>\n",
       "    <tr>\n",
       "      <th>1</th>\n",
       "      <td>0.902853</td>\n",
       "      <td>0.711986</td>\n",
       "      <td>0.462742</td>\n",
       "      <td>0.138583</td>\n",
       "      <td>0.942992</td>\n",
       "    </tr>\n",
       "    <tr>\n",
       "      <th>2</th>\n",
       "      <td>0.923614</td>\n",
       "      <td>0.681024</td>\n",
       "      <td>0.319210</td>\n",
       "      <td>0.036920</td>\n",
       "      <td>0.099341</td>\n",
       "    </tr>\n",
       "    <tr>\n",
       "      <th>3</th>\n",
       "      <td>0.252328</td>\n",
       "      <td>0.408919</td>\n",
       "      <td>0.416972</td>\n",
       "      <td>0.315338</td>\n",
       "      <td>0.884603</td>\n",
       "    </tr>\n",
       "    <tr>\n",
       "      <th>4</th>\n",
       "      <td>0.742515</td>\n",
       "      <td>0.405909</td>\n",
       "      <td>0.048960</td>\n",
       "      <td>0.060139</td>\n",
       "      <td>0.443625</td>\n",
       "    </tr>\n",
       "  </tbody>\n",
       "</table>\n",
       "</div>"
      ],
      "text/plain": [
       "          A         B         C         D         E\n",
       "0  0.488876  0.370213  0.209664  0.403769  0.812692\n",
       "1  0.902853  0.711986  0.462742  0.138583  0.942992\n",
       "2  0.923614  0.681024  0.319210  0.036920  0.099341\n",
       "3  0.252328  0.408919  0.416972  0.315338  0.884603\n",
       "4  0.742515  0.405909  0.048960  0.060139  0.443625"
      ]
     },
     "execution_count": 332,
     "metadata": {},
     "output_type": "execute_result"
    }
   ],
   "source": [
    "df = pd.DataFrame(np.random.rand(10000000, 5), columns=['A','B','C','D','E'])\n",
    "df.head()"
   ]
  },
  {
   "cell_type": "code",
   "execution_count": 333,
   "id": "3cf9cb1e",
   "metadata": {},
   "outputs": [
    {
     "name": "stdout",
     "output_type": "stream",
     "text": [
      "191 ms ± 6.14 ms per loop (mean ± std. dev. of 7 runs, 10 loops each)\n"
     ]
    }
   ],
   "source": [
    "%timeit df['A'] + df['B'] / df['C'] - df['D'] * df['E']"
   ]
  },
  {
   "cell_type": "code",
   "execution_count": 334,
   "id": "b92c4285",
   "metadata": {},
   "outputs": [
    {
     "name": "stdout",
     "output_type": "stream",
     "text": [
      "48.1 ms ± 2.64 ms per loop (mean ± std. dev. of 7 runs, 10 loops each)\n"
     ]
    }
   ],
   "source": [
    "%timeit pd.eval(\"df.A + df.B / df.C - df.D * df.E\")"
   ]
  },
  {
   "cell_type": "code",
   "execution_count": 335,
   "id": "a8fdb6b4",
   "metadata": {},
   "outputs": [
    {
     "data": {
      "text/html": [
       "<div>\n",
       "<style scoped>\n",
       "    .dataframe tbody tr th:only-of-type {\n",
       "        vertical-align: middle;\n",
       "    }\n",
       "\n",
       "    .dataframe tbody tr th {\n",
       "        vertical-align: top;\n",
       "    }\n",
       "\n",
       "    .dataframe thead th {\n",
       "        text-align: right;\n",
       "    }\n",
       "</style>\n",
       "<table border=\"1\" class=\"dataframe\">\n",
       "  <thead>\n",
       "    <tr style=\"text-align: right;\">\n",
       "      <th></th>\n",
       "      <th>A</th>\n",
       "      <th>B</th>\n",
       "      <th>C</th>\n",
       "      <th>D</th>\n",
       "      <th>E</th>\n",
       "      <th>R</th>\n",
       "    </tr>\n",
       "  </thead>\n",
       "  <tbody>\n",
       "    <tr>\n",
       "      <th>0</th>\n",
       "      <td>0.488876</td>\n",
       "      <td>0.370213</td>\n",
       "      <td>0.209664</td>\n",
       "      <td>0.403769</td>\n",
       "      <td>0.812692</td>\n",
       "      <td>1.926484</td>\n",
       "    </tr>\n",
       "    <tr>\n",
       "      <th>1</th>\n",
       "      <td>0.902853</td>\n",
       "      <td>0.711986</td>\n",
       "      <td>0.462742</td>\n",
       "      <td>0.138583</td>\n",
       "      <td>0.942992</td>\n",
       "      <td>2.310795</td>\n",
       "    </tr>\n",
       "    <tr>\n",
       "      <th>2</th>\n",
       "      <td>0.923614</td>\n",
       "      <td>0.681024</td>\n",
       "      <td>0.319210</td>\n",
       "      <td>0.036920</td>\n",
       "      <td>0.099341</td>\n",
       "      <td>3.053413</td>\n",
       "    </tr>\n",
       "    <tr>\n",
       "      <th>3</th>\n",
       "      <td>0.252328</td>\n",
       "      <td>0.408919</td>\n",
       "      <td>0.416972</td>\n",
       "      <td>0.315338</td>\n",
       "      <td>0.884603</td>\n",
       "      <td>0.954066</td>\n",
       "    </tr>\n",
       "    <tr>\n",
       "      <th>4</th>\n",
       "      <td>0.742515</td>\n",
       "      <td>0.405909</td>\n",
       "      <td>0.048960</td>\n",
       "      <td>0.060139</td>\n",
       "      <td>0.443625</td>\n",
       "      <td>9.006402</td>\n",
       "    </tr>\n",
       "  </tbody>\n",
       "</table>\n",
       "</div>"
      ],
      "text/plain": [
       "          A         B         C         D         E         R\n",
       "0  0.488876  0.370213  0.209664  0.403769  0.812692  1.926484\n",
       "1  0.902853  0.711986  0.462742  0.138583  0.942992  2.310795\n",
       "2  0.923614  0.681024  0.319210  0.036920  0.099341  3.053413\n",
       "3  0.252328  0.408919  0.416972  0.315338  0.884603  0.954066\n",
       "4  0.742515  0.405909  0.048960  0.060139  0.443625  9.006402"
      ]
     },
     "execution_count": 335,
     "metadata": {},
     "output_type": "execute_result"
    }
   ],
   "source": [
    "df.eval('R = A + B / C - D * E', inplace=True)\n",
    "df.head()"
   ]
  },
  {
   "cell_type": "code",
   "execution_count": 336,
   "id": "88aabdee",
   "metadata": {},
   "outputs": [],
   "source": [
    "n__index = np.random.randint(1, 4, (3,3))\n",
    "\n",
    "tt1, tt2, tt3, tt4 = ((pd.DataFrame(n__index))for i in range(4))"
   ]
  },
  {
   "cell_type": "code",
   "execution_count": 337,
   "id": "b0415796",
   "metadata": {},
   "outputs": [
    {
     "name": "stdout",
     "output_type": "stream",
     "text": [
      "93.6 µs ± 863 ns per loop (mean ± std. dev. of 7 runs, 10000 loops each)\n"
     ]
    }
   ],
   "source": [
    "%timeit tt1 + tt2"
   ]
  },
  {
   "cell_type": "code",
   "execution_count": 338,
   "id": "8c5dbbd9",
   "metadata": {},
   "outputs": [
    {
     "name": "stdout",
     "output_type": "stream",
     "text": [
      "1.19 ms ± 64.7 µs per loop (mean ± std. dev. of 7 runs, 1000 loops each)\n"
     ]
    }
   ],
   "source": [
    "%timeit pd.eval('tt1+tt2')"
   ]
  },
  {
   "cell_type": "code",
   "execution_count": 339,
   "id": "38d38bf1",
   "metadata": {},
   "outputs": [
    {
     "data": {
      "text/plain": [
       "0          1.190826\n",
       "1          1.814511\n",
       "2          1.775868\n",
       "3          0.791032\n",
       "4          2.527107\n",
       "             ...   \n",
       "9999995    1.345189\n",
       "9999996    1.006785\n",
       "9999997    0.557266\n",
       "9999998    1.117957\n",
       "9999999    1.561265\n",
       "Length: 10000000, dtype: float64"
      ]
     },
     "execution_count": 339,
     "metadata": {},
     "output_type": "execute_result"
    }
   ],
   "source": [
    "col_mean = df.mean(1)\n",
    "df['A'] + col_mean"
   ]
  },
  {
   "cell_type": "code",
   "execution_count": 340,
   "id": "46e5af8a",
   "metadata": {
    "scrolled": true
   },
   "outputs": [
    {
     "data": {
      "text/plain": [
       "0          1.190826\n",
       "1          1.814511\n",
       "2          1.775868\n",
       "3          0.791032\n",
       "4          2.527107\n",
       "             ...   \n",
       "9999995    1.345189\n",
       "9999996    1.006785\n",
       "9999997    0.557266\n",
       "9999998    1.117957\n",
       "9999999    1.561265\n",
       "Length: 10000000, dtype: float64"
      ]
     },
     "execution_count": 340,
     "metadata": {},
     "output_type": "execute_result"
    }
   ],
   "source": [
    "df.eval('A + @col_mean')\n",
    "# 외부에 있는 변수도 '@'를 사용하여 불러올 수 있다."
   ]
  },
  {
   "cell_type": "code",
   "execution_count": 341,
   "id": "f35e0f52",
   "metadata": {},
   "outputs": [
    {
     "data": {
      "text/html": [
       "<div>\n",
       "<style scoped>\n",
       "    .dataframe tbody tr th:only-of-type {\n",
       "        vertical-align: middle;\n",
       "    }\n",
       "\n",
       "    .dataframe tbody tr th {\n",
       "        vertical-align: top;\n",
       "    }\n",
       "\n",
       "    .dataframe thead th {\n",
       "        text-align: right;\n",
       "    }\n",
       "</style>\n",
       "<table border=\"1\" class=\"dataframe\">\n",
       "  <thead>\n",
       "    <tr style=\"text-align: right;\">\n",
       "      <th></th>\n",
       "      <th>A</th>\n",
       "      <th>B</th>\n",
       "      <th>C</th>\n",
       "      <th>D</th>\n",
       "      <th>E</th>\n",
       "      <th>R</th>\n",
       "    </tr>\n",
       "  </thead>\n",
       "  <tbody>\n",
       "    <tr>\n",
       "      <th>15</th>\n",
       "      <td>0.352789</td>\n",
       "      <td>0.451733</td>\n",
       "      <td>0.881564</td>\n",
       "      <td>0.091902</td>\n",
       "      <td>0.487455</td>\n",
       "      <td>0.820413</td>\n",
       "    </tr>\n",
       "    <tr>\n",
       "      <th>32</th>\n",
       "      <td>0.245665</td>\n",
       "      <td>0.328907</td>\n",
       "      <td>0.590170</td>\n",
       "      <td>0.354169</td>\n",
       "      <td>0.311095</td>\n",
       "      <td>0.692793</td>\n",
       "    </tr>\n",
       "    <tr>\n",
       "      <th>48</th>\n",
       "      <td>0.065236</td>\n",
       "      <td>0.474578</td>\n",
       "      <td>0.571893</td>\n",
       "      <td>0.544419</td>\n",
       "      <td>0.311448</td>\n",
       "      <td>0.725515</td>\n",
       "    </tr>\n",
       "    <tr>\n",
       "      <th>59</th>\n",
       "      <td>0.366234</td>\n",
       "      <td>0.382593</td>\n",
       "      <td>0.994350</td>\n",
       "      <td>0.011880</td>\n",
       "      <td>0.845038</td>\n",
       "      <td>0.740961</td>\n",
       "    </tr>\n",
       "    <tr>\n",
       "      <th>64</th>\n",
       "      <td>0.387483</td>\n",
       "      <td>0.301342</td>\n",
       "      <td>0.510528</td>\n",
       "      <td>0.531405</td>\n",
       "      <td>0.585165</td>\n",
       "      <td>0.666778</td>\n",
       "    </tr>\n",
       "    <tr>\n",
       "      <th>...</th>\n",
       "      <td>...</td>\n",
       "      <td>...</td>\n",
       "      <td>...</td>\n",
       "      <td>...</td>\n",
       "      <td>...</td>\n",
       "      <td>...</td>\n",
       "    </tr>\n",
       "    <tr>\n",
       "      <th>9999971</th>\n",
       "      <td>0.055589</td>\n",
       "      <td>0.247460</td>\n",
       "      <td>0.661532</td>\n",
       "      <td>0.719662</td>\n",
       "      <td>0.972968</td>\n",
       "      <td>-0.270548</td>\n",
       "    </tr>\n",
       "    <tr>\n",
       "      <th>9999976</th>\n",
       "      <td>0.202647</td>\n",
       "      <td>0.185252</td>\n",
       "      <td>0.856664</td>\n",
       "      <td>0.652971</td>\n",
       "      <td>0.722132</td>\n",
       "      <td>-0.052636</td>\n",
       "    </tr>\n",
       "    <tr>\n",
       "      <th>9999978</th>\n",
       "      <td>0.465963</td>\n",
       "      <td>0.242608</td>\n",
       "      <td>0.917010</td>\n",
       "      <td>0.758110</td>\n",
       "      <td>0.147687</td>\n",
       "      <td>0.618564</td>\n",
       "    </tr>\n",
       "    <tr>\n",
       "      <th>9999989</th>\n",
       "      <td>0.418460</td>\n",
       "      <td>0.474370</td>\n",
       "      <td>0.660337</td>\n",
       "      <td>0.278983</td>\n",
       "      <td>0.396427</td>\n",
       "      <td>1.026239</td>\n",
       "    </tr>\n",
       "    <tr>\n",
       "      <th>9999997</th>\n",
       "      <td>0.057795</td>\n",
       "      <td>0.490160</td>\n",
       "      <td>0.597781</td>\n",
       "      <td>0.971262</td>\n",
       "      <td>0.071961</td>\n",
       "      <td>0.807867</td>\n",
       "    </tr>\n",
       "  </tbody>\n",
       "</table>\n",
       "<p>1250792 rows × 6 columns</p>\n",
       "</div>"
      ],
      "text/plain": [
       "                A         B         C         D         E         R\n",
       "15       0.352789  0.451733  0.881564  0.091902  0.487455  0.820413\n",
       "32       0.245665  0.328907  0.590170  0.354169  0.311095  0.692793\n",
       "48       0.065236  0.474578  0.571893  0.544419  0.311448  0.725515\n",
       "59       0.366234  0.382593  0.994350  0.011880  0.845038  0.740961\n",
       "64       0.387483  0.301342  0.510528  0.531405  0.585165  0.666778\n",
       "...           ...       ...       ...       ...       ...       ...\n",
       "9999971  0.055589  0.247460  0.661532  0.719662  0.972968 -0.270548\n",
       "9999976  0.202647  0.185252  0.856664  0.652971  0.722132 -0.052636\n",
       "9999978  0.465963  0.242608  0.917010  0.758110  0.147687  0.618564\n",
       "9999989  0.418460  0.474370  0.660337  0.278983  0.396427  1.026239\n",
       "9999997  0.057795  0.490160  0.597781  0.971262  0.071961  0.807867\n",
       "\n",
       "[1250792 rows x 6 columns]"
      ]
     },
     "execution_count": 341,
     "metadata": {},
     "output_type": "execute_result"
    }
   ],
   "source": [
    "df[(df.A < 0.5) & (df.B < 0.5) & (df.C > 0.5)]"
   ]
  },
  {
   "cell_type": "code",
   "execution_count": 342,
   "id": "85335d48",
   "metadata": {},
   "outputs": [
    {
     "name": "stdout",
     "output_type": "stream",
     "text": [
      "157 ms ± 5.03 ms per loop (mean ± std. dev. of 7 runs, 10 loops each)\n"
     ]
    }
   ],
   "source": [
    "%timeit df[(df.A < 0.5) & (df.B < 0.5) & (df.C > 0.5)]\n",
    "# 여러 조건을 포함하는 계산식의 경우에도"
   ]
  },
  {
   "cell_type": "code",
   "execution_count": 343,
   "id": "6bdaa3d2",
   "metadata": {},
   "outputs": [
    {
     "name": "stdout",
     "output_type": "stream",
     "text": [
      "171 ms ± 15.8 ms per loop (mean ± std. dev. of 7 runs, 1 loop each)\n"
     ]
    }
   ],
   "source": [
    "%timeit pd.eval('df[(df.A < 0.5) & (df.B < 0.5) & (df.C > 0.5)]')\n",
    "# eval로 가능하다."
   ]
  },
  {
   "cell_type": "code",
   "execution_count": 158,
   "id": "3647438e",
   "metadata": {},
   "outputs": [
    {
     "name": "stdout",
     "output_type": "stream",
     "text": [
      "190 ms ± 22.2 ms per loop (mean ± std. dev. of 7 runs, 1 loop each)\n"
     ]
    }
   ],
   "source": [
    "%timeit df.query('(A < 0.5) and (B < 0.5) and (C > 0.5)')"
   ]
  },
  {
   "cell_type": "code",
   "execution_count": 159,
   "id": "9cbccab1",
   "metadata": {},
   "outputs": [
    {
     "data": {
      "text/html": [
       "<div>\n",
       "<style scoped>\n",
       "    .dataframe tbody tr th:only-of-type {\n",
       "        vertical-align: middle;\n",
       "    }\n",
       "\n",
       "    .dataframe tbody tr th {\n",
       "        vertical-align: top;\n",
       "    }\n",
       "\n",
       "    .dataframe thead th {\n",
       "        text-align: right;\n",
       "    }\n",
       "</style>\n",
       "<table border=\"1\" class=\"dataframe\">\n",
       "  <thead>\n",
       "    <tr style=\"text-align: right;\">\n",
       "      <th></th>\n",
       "      <th>A</th>\n",
       "      <th>B</th>\n",
       "      <th>C</th>\n",
       "      <th>D</th>\n",
       "      <th>E</th>\n",
       "      <th>R</th>\n",
       "    </tr>\n",
       "  </thead>\n",
       "  <tbody>\n",
       "    <tr>\n",
       "      <th>3</th>\n",
       "      <td>0.239817</td>\n",
       "      <td>0.152939</td>\n",
       "      <td>0.602620</td>\n",
       "      <td>0.699912</td>\n",
       "      <td>0.858988</td>\n",
       "      <td>-0.107609</td>\n",
       "    </tr>\n",
       "    <tr>\n",
       "      <th>13</th>\n",
       "      <td>0.460262</td>\n",
       "      <td>0.424502</td>\n",
       "      <td>0.858867</td>\n",
       "      <td>0.985975</td>\n",
       "      <td>0.737832</td>\n",
       "      <td>0.227036</td>\n",
       "    </tr>\n",
       "    <tr>\n",
       "      <th>21</th>\n",
       "      <td>0.463955</td>\n",
       "      <td>0.052499</td>\n",
       "      <td>0.541964</td>\n",
       "      <td>0.301343</td>\n",
       "      <td>0.210881</td>\n",
       "      <td>0.497276</td>\n",
       "    </tr>\n",
       "    <tr>\n",
       "      <th>27</th>\n",
       "      <td>0.108273</td>\n",
       "      <td>0.253613</td>\n",
       "      <td>0.940130</td>\n",
       "      <td>0.051461</td>\n",
       "      <td>0.697182</td>\n",
       "      <td>0.342159</td>\n",
       "    </tr>\n",
       "    <tr>\n",
       "      <th>51</th>\n",
       "      <td>0.117922</td>\n",
       "      <td>0.420361</td>\n",
       "      <td>0.853297</td>\n",
       "      <td>0.650511</td>\n",
       "      <td>0.909979</td>\n",
       "      <td>0.018601</td>\n",
       "    </tr>\n",
       "    <tr>\n",
       "      <th>...</th>\n",
       "      <td>...</td>\n",
       "      <td>...</td>\n",
       "      <td>...</td>\n",
       "      <td>...</td>\n",
       "      <td>...</td>\n",
       "      <td>...</td>\n",
       "    </tr>\n",
       "    <tr>\n",
       "      <th>9999957</th>\n",
       "      <td>0.066084</td>\n",
       "      <td>0.277332</td>\n",
       "      <td>0.565864</td>\n",
       "      <td>0.937372</td>\n",
       "      <td>0.837599</td>\n",
       "      <td>-0.228953</td>\n",
       "    </tr>\n",
       "    <tr>\n",
       "      <th>9999963</th>\n",
       "      <td>0.197640</td>\n",
       "      <td>0.057284</td>\n",
       "      <td>0.842049</td>\n",
       "      <td>0.189427</td>\n",
       "      <td>0.322022</td>\n",
       "      <td>0.204670</td>\n",
       "    </tr>\n",
       "    <tr>\n",
       "      <th>9999978</th>\n",
       "      <td>0.279420</td>\n",
       "      <td>0.328775</td>\n",
       "      <td>0.519763</td>\n",
       "      <td>0.606751</td>\n",
       "      <td>0.689120</td>\n",
       "      <td>0.493842</td>\n",
       "    </tr>\n",
       "    <tr>\n",
       "      <th>9999988</th>\n",
       "      <td>0.087384</td>\n",
       "      <td>0.183914</td>\n",
       "      <td>0.823628</td>\n",
       "      <td>0.684903</td>\n",
       "      <td>0.772283</td>\n",
       "      <td>-0.218258</td>\n",
       "    </tr>\n",
       "    <tr>\n",
       "      <th>9999990</th>\n",
       "      <td>0.051751</td>\n",
       "      <td>0.024260</td>\n",
       "      <td>0.763756</td>\n",
       "      <td>0.265811</td>\n",
       "      <td>0.508077</td>\n",
       "      <td>-0.051537</td>\n",
       "    </tr>\n",
       "  </tbody>\n",
       "</table>\n",
       "<p>1250134 rows × 6 columns</p>\n",
       "</div>"
      ],
      "text/plain": [
       "                A         B         C         D         E         R\n",
       "3        0.239817  0.152939  0.602620  0.699912  0.858988 -0.107609\n",
       "13       0.460262  0.424502  0.858867  0.985975  0.737832  0.227036\n",
       "21       0.463955  0.052499  0.541964  0.301343  0.210881  0.497276\n",
       "27       0.108273  0.253613  0.940130  0.051461  0.697182  0.342159\n",
       "51       0.117922  0.420361  0.853297  0.650511  0.909979  0.018601\n",
       "...           ...       ...       ...       ...       ...       ...\n",
       "9999957  0.066084  0.277332  0.565864  0.937372  0.837599 -0.228953\n",
       "9999963  0.197640  0.057284  0.842049  0.189427  0.322022  0.204670\n",
       "9999978  0.279420  0.328775  0.519763  0.606751  0.689120  0.493842\n",
       "9999988  0.087384  0.183914  0.823628  0.684903  0.772283 -0.218258\n",
       "9999990  0.051751  0.024260  0.763756  0.265811  0.508077 -0.051537\n",
       "\n",
       "[1250134 rows x 6 columns]"
      ]
     },
     "execution_count": 159,
     "metadata": {},
     "output_type": "execute_result"
    }
   ],
   "source": [
    "pd.eval('df[(df.A < 0.5) & (df.B < 0.5) & (df.C > 0.5)]')"
   ]
  },
  {
   "cell_type": "code",
   "execution_count": 160,
   "id": "957a78b2",
   "metadata": {},
   "outputs": [
    {
     "data": {
      "text/html": [
       "<div>\n",
       "<style scoped>\n",
       "    .dataframe tbody tr th:only-of-type {\n",
       "        vertical-align: middle;\n",
       "    }\n",
       "\n",
       "    .dataframe tbody tr th {\n",
       "        vertical-align: top;\n",
       "    }\n",
       "\n",
       "    .dataframe thead th {\n",
       "        text-align: right;\n",
       "    }\n",
       "</style>\n",
       "<table border=\"1\" class=\"dataframe\">\n",
       "  <thead>\n",
       "    <tr style=\"text-align: right;\">\n",
       "      <th></th>\n",
       "      <th>몸무게</th>\n",
       "      <th>키</th>\n",
       "    </tr>\n",
       "  </thead>\n",
       "  <tbody>\n",
       "    <tr>\n",
       "      <th>0</th>\n",
       "      <td>95</td>\n",
       "      <td>170</td>\n",
       "    </tr>\n",
       "    <tr>\n",
       "      <th>1</th>\n",
       "      <td>70</td>\n",
       "      <td>170</td>\n",
       "    </tr>\n",
       "    <tr>\n",
       "      <th>2</th>\n",
       "      <td>65</td>\n",
       "      <td>170</td>\n",
       "    </tr>\n",
       "    <tr>\n",
       "      <th>3</th>\n",
       "      <td>45</td>\n",
       "      <td>170</td>\n",
       "    </tr>\n",
       "    <tr>\n",
       "      <th>4</th>\n",
       "      <td>85</td>\n",
       "      <td>170</td>\n",
       "    </tr>\n",
       "  </tbody>\n",
       "</table>\n",
       "</div>"
      ],
      "text/plain": [
       "   몸무게    키\n",
       "0   95  170\n",
       "1   70  170\n",
       "2   65  170\n",
       "3   45  170\n",
       "4   85  170"
      ]
     },
     "execution_count": 160,
     "metadata": {},
     "output_type": "execute_result"
    }
   ],
   "source": [
    "data_1 = {'몸무게': [95, 70, 65, 45, 85], \n",
    "        '키': [170, 170, 170, 170, 170]}\n",
    "y = pd.DataFrame(data_1)\n",
    "y"
   ]
  },
  {
   "cell_type": "code",
   "execution_count": 161,
   "id": "d4ad3511",
   "metadata": {},
   "outputs": [
    {
     "data": {
      "text/plain": [
       "0    265\n",
       "1    240\n",
       "2    235\n",
       "3    215\n",
       "4    255\n",
       "dtype: int64"
      ]
     },
     "execution_count": 161,
     "metadata": {},
     "output_type": "execute_result"
    }
   ],
   "source": [
    "y.eval('몸무게 + 키')"
   ]
  },
  {
   "cell_type": "code",
   "execution_count": 162,
   "id": "fd9a8a9c",
   "metadata": {},
   "outputs": [
    {
     "data": {
      "text/html": [
       "<div>\n",
       "<style scoped>\n",
       "    .dataframe tbody tr th:only-of-type {\n",
       "        vertical-align: middle;\n",
       "    }\n",
       "\n",
       "    .dataframe tbody tr th {\n",
       "        vertical-align: top;\n",
       "    }\n",
       "\n",
       "    .dataframe thead th {\n",
       "        text-align: right;\n",
       "    }\n",
       "</style>\n",
       "<table border=\"1\" class=\"dataframe\">\n",
       "  <thead>\n",
       "    <tr style=\"text-align: right;\">\n",
       "      <th></th>\n",
       "      <th>몸무게</th>\n",
       "      <th>키</th>\n",
       "      <th>BMI</th>\n",
       "    </tr>\n",
       "  </thead>\n",
       "  <tbody>\n",
       "    <tr>\n",
       "      <th>0</th>\n",
       "      <td>95</td>\n",
       "      <td>170</td>\n",
       "      <td>32.87</td>\n",
       "    </tr>\n",
       "    <tr>\n",
       "      <th>1</th>\n",
       "      <td>70</td>\n",
       "      <td>170</td>\n",
       "      <td>24.22</td>\n",
       "    </tr>\n",
       "    <tr>\n",
       "      <th>2</th>\n",
       "      <td>65</td>\n",
       "      <td>170</td>\n",
       "      <td>22.49</td>\n",
       "    </tr>\n",
       "    <tr>\n",
       "      <th>3</th>\n",
       "      <td>45</td>\n",
       "      <td>170</td>\n",
       "      <td>15.57</td>\n",
       "    </tr>\n",
       "    <tr>\n",
       "      <th>4</th>\n",
       "      <td>85</td>\n",
       "      <td>170</td>\n",
       "      <td>29.41</td>\n",
       "    </tr>\n",
       "  </tbody>\n",
       "</table>\n",
       "</div>"
      ],
      "text/plain": [
       "   몸무게    키    BMI\n",
       "0   95  170  32.87\n",
       "1   70  170  24.22\n",
       "2   65  170  22.49\n",
       "3   45  170  15.57\n",
       "4   85  170  29.41"
      ]
     },
     "execution_count": 162,
     "metadata": {},
     "output_type": "execute_result"
    }
   ],
   "source": [
    "y.eval('BMI = 몸무게 / ((키/100)*(키/100))', inplace=True)\n",
    "y['BMI'] = round(y['BMI'],2)\n",
    "y"
   ]
  },
  {
   "cell_type": "code",
   "execution_count": 163,
   "id": "eadeacfb",
   "metadata": {},
   "outputs": [
    {
     "data": {
      "text/plain": [
       "0     True\n",
       "1    False\n",
       "2    False\n",
       "3    False\n",
       "4    False\n",
       "dtype: bool"
      ]
     },
     "execution_count": 163,
     "metadata": {},
     "output_type": "execute_result"
    }
   ],
   "source": [
    "y.eval('몸무게 >= 90')"
   ]
  },
  {
   "cell_type": "code",
   "execution_count": 164,
   "id": "c83db1f3",
   "metadata": {},
   "outputs": [
    {
     "data": {
      "text/html": [
       "<div>\n",
       "<style scoped>\n",
       "    .dataframe tbody tr th:only-of-type {\n",
       "        vertical-align: middle;\n",
       "    }\n",
       "\n",
       "    .dataframe tbody tr th {\n",
       "        vertical-align: top;\n",
       "    }\n",
       "\n",
       "    .dataframe thead th {\n",
       "        text-align: right;\n",
       "    }\n",
       "</style>\n",
       "<table border=\"1\" class=\"dataframe\">\n",
       "  <thead>\n",
       "    <tr style=\"text-align: right;\">\n",
       "      <th></th>\n",
       "      <th>몸무게</th>\n",
       "      <th>키</th>\n",
       "      <th>BMI</th>\n",
       "      <th>분류</th>\n",
       "    </tr>\n",
       "  </thead>\n",
       "  <tbody>\n",
       "    <tr>\n",
       "      <th>0</th>\n",
       "      <td>95</td>\n",
       "      <td>170</td>\n",
       "      <td>32.87</td>\n",
       "      <td>고도비만</td>\n",
       "    </tr>\n",
       "    <tr>\n",
       "      <th>1</th>\n",
       "      <td>70</td>\n",
       "      <td>170</td>\n",
       "      <td>24.22</td>\n",
       "      <td>과체중</td>\n",
       "    </tr>\n",
       "    <tr>\n",
       "      <th>2</th>\n",
       "      <td>65</td>\n",
       "      <td>170</td>\n",
       "      <td>22.49</td>\n",
       "      <td>정상</td>\n",
       "    </tr>\n",
       "    <tr>\n",
       "      <th>3</th>\n",
       "      <td>45</td>\n",
       "      <td>170</td>\n",
       "      <td>15.57</td>\n",
       "      <td>저체중</td>\n",
       "    </tr>\n",
       "    <tr>\n",
       "      <th>4</th>\n",
       "      <td>85</td>\n",
       "      <td>170</td>\n",
       "      <td>29.41</td>\n",
       "      <td>비만</td>\n",
       "    </tr>\n",
       "  </tbody>\n",
       "</table>\n",
       "</div>"
      ],
      "text/plain": [
       "   몸무게    키    BMI    분류\n",
       "0   95  170  32.87  고도비만\n",
       "1   70  170  24.22   과체중\n",
       "2   65  170  22.49    정상\n",
       "3   45  170  15.57   저체중\n",
       "4   85  170  29.41    비만"
      ]
     },
     "execution_count": 164,
     "metadata": {},
     "output_type": "execute_result"
    }
   ],
   "source": [
    "y.loc[y.eval('              BMI < 18'), '분류'] = '저체중'\n",
    "y.loc[y.eval('18 <= BMI and BMI < 23'), '분류'] = '정상'\n",
    "y.loc[y.eval('23 <= BMI and BMI < 25'), '분류'] = '과체중'\n",
    "y.loc[y.eval('25 <= BMI and BMI < 30'), '분류'] = '비만'\n",
    "y.loc[y.eval('30 <= BMI             '), '분류'] = '고도비만'\n",
    "y"
   ]
  }
 ],
 "metadata": {
  "kernelspec": {
   "display_name": "Python 3",
   "language": "python",
   "name": "python3"
  },
  "language_info": {
   "codemirror_mode": {
    "name": "ipython",
    "version": 3
   },
   "file_extension": ".py",
   "mimetype": "text/x-python",
   "name": "python",
   "nbconvert_exporter": "python",
   "pygments_lexer": "ipython3",
   "version": "3.8.8"
  },
  "toc": {
   "base_numbering": 1,
   "nav_menu": {},
   "number_sections": true,
   "sideBar": true,
   "skip_h1_title": false,
   "title_cell": "Table of Contents",
   "title_sidebar": "Contents",
   "toc_cell": false,
   "toc_position": {
    "height": "calc(100% - 180px)",
    "left": "10px",
    "top": "150px",
    "width": "384px"
   },
   "toc_section_display": true,
   "toc_window_display": true
  }
 },
 "nbformat": 4,
 "nbformat_minor": 5
}
