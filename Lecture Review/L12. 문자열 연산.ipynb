{
 "cells": [
  {
   "cell_type": "code",
   "execution_count": 1,
   "id": "10cc0f9b",
   "metadata": {},
   "outputs": [],
   "source": [
    "import pandas as pd\n",
    "import numpy as np"
   ]
  },
  {
   "cell_type": "markdown",
   "id": "ccf5599a",
   "metadata": {},
   "source": [
    "# 문자열 연산\n",
    "## 문자열 연산자\n",
    "- 파이썬의 문자열 연산자를 거의 모두 반영\n",
    "- 문자열 연산자를 쓰기 위해선 str.을 꼭 써줘야 한다.\n",
    "|함수|설명|\n",
    "|:-|:-|\n",
    "|```capitalize( )```|첫 문자를 대문자로 하고, 나머지 문자를 소문자로 하는 문자열 반환|\n",
    "|```casefold( )```|모든 대소문자 구분을 제거|\n",
    "|```count( sub, start, end )```|[start, end] 범위에서 부분 문자열 sub의 중복되지 않은 수를 반환|\n",
    "|```find( sub, start, end )```|[start, end] 범위에서 부분 문자열 sub가 문자열의 가장 작은 인덱스를 반환. sub가 발견되지 않는 경우는 -1 반환|\n",
    "|```rfind( sub, start, end )```|[start, end] 범위에서 부분 문자열 sub가 문자열의 가장 큰 인덱스를 반환. sub가 발견되지 않는 경우는 -1 반환|\n",
    "|```index( sub, start, end )```|find()와 유사하지만 부분 문자열 sub가 없으면 ValueError가 발생|\n",
    "|```rindex( sub, [, start[, end]] )```|rfind( )와 유사하지만 부분 문자열인 sub가 없으면 ValueError가 발생|\n",
    "|```isalnum( )```|문자열의 모든 문자가 영숫자로 1개 이상 있으면 True, 아니면 False 반환|\n",
    "|```isalpha( )```|문자열의 모든 문자가 영문자로 1개 이상 있으면 True, 아니면 False 반환|\n",
    "|```isdecimal( )```|문자열의 모든 문자가 10진수 문자이며 1개 이상 있을 때 True, 그렇지 않으면 False 반환|\n",
    "|```isdigit( )```|문자열의 모든 문자가 숫자미여 1개 이상 있을 때 True, 그렇지 않으면 False 반환|\n",
    "|```isnumeric( )```|문자열의 모든 문자가 수치형이며 1개 이상 있을 때 True, 그렇지 않으면 False 반환|\n",
    "|```isidentifier( )```|문자열이 유효한 식별자인 경우 True 반환|\n",
    "|```isspace( )```|문자열 내에 공백 문자만 있으면 True, 그렇지 않으면 False 반환|\n",
    "|```istitle( )```|문자열이 제목이 있는 문자열에 문자가 1개 이상 있으면 True, 그렇지 않으면 False 반환|\n",
    "|```islower( )```|문자열의 모든 문자가 소문자이며 1개 이상 있을 때 True, 그렇지 않으면 False 반환|\n",
    "|```isupper( )```|문자열의 문자가 모두 대문자에 문자가 1개 이상 있으면 True, 그렇지 않으면 False 반환|\n",
    "|```join( iterable )```|iterable에 있는 문자열에 연결된 문자열을 반환|\n",
    "|```center( width[, fillchar] )```|길이 너비민큼 중앙정렬된 문자열 반환|\n",
    "|```ljust( width[, fillchar] )```|너비만금의 문자열에서 왼쪽 정렬된 문자열을 반환|\n",
    "|```rjust( width[, fillchar] )```|너비만큼의 문자열에서 오른쪽 정렬된 문자열을 반환|\n",
    "|```lower( )```|모든 대소문자가 소문자로 변환된 문자열을 반환|\n",
    "|```upper( )```|문자열에서 모든 문자를 대문자로 변환된 문자열을 반환|\n",
    "|```title( )```|문자열에서 첫 글자만 대문자이고 나머지는 소문자인 문자열 반환|\n",
    "|```swapcase( )```|문자열에서 소문자를 대문자로 대문자를 소문자로 변원한 문자열 반환|\n",
    "|```strip( [chars] )```|문자열 앙쪽에 지정된 chars 또는 공백을 제거한 문자열을 반환|\n",
    "|```lstrip( [chars] )```|문자열 왼쪽에 지징된 chars 또는 공백을 제거한 문자열을 반환|\n",
    "|```rstrip( [chars] )```|문자열 오른쪽에 지정된 chars 또는 공백을 재거한 문자열을 반환|\n",
    "|```partition( sep )```|문자열에서 첫번째 sep를 기준으로 분할하여 3개의 튜플을 반환|\n",
    "|```rpartition( sep )```|문자열에서 미지막 sep를 기준으로 분할하여 3개의 튜플을 반환|\n",
    "|```replace( old, new[count] )```|문자열의 모든 old글 new로 교체한 문자열을 반환|\n",
    "|```split( sep=None, maxsplit=1 )```|sep를 구분자 문자열로 사용하여 문자열의 단어 목록을 반환|\n",
    "|```rsplit( sep=None, maxsplit=1 )```|sep를 구분자 문자열로 사용하여 문자열의 단어 목록을 반환|\n",
    "|```splitlines( [keepends] )```|문자열에서 라인 단위로 구분하여 리스트를 반환|\n",
    "|```startswith( prefix [, start[, end]] )```|[start, end] 범위에서 지정한 prefix로 시작하면 True, 아니면 False 반환|\n",
    "|```endswith( suffix [, start[, end]] )```|[start, end] 범위에서 지정한 suffix로 끝나면 True, 아니면 False 반환|\n",
    "|```zfill( width )```|너비 만큼 문자열에서 비어있는 부분에 '0'이 채워진 문자열 반환|"
   ]
  },
  {
   "cell_type": "code",
   "execution_count": 2,
   "id": "c387cb39",
   "metadata": {},
   "outputs": [
    {
     "data": {
      "text/plain": [
       "0           Suan Lee\n",
       "1        Steven Jobs\n",
       "2         Larry Page\n",
       "3          Elon Musk\n",
       "4               None\n",
       "5         Bill Gates\n",
       "6    Mark Zuckerberg\n",
       "7         Jeff Bezos\n",
       "dtype: object"
      ]
     },
     "execution_count": 2,
     "metadata": {},
     "output_type": "execute_result"
    }
   ],
   "source": [
    "name_tuple = ['Suan Lee', 'Steven Jobs','Larry Page', 'Elon Musk', \n",
    "              None,'Bill Gates','Mark Zuckerberg', 'Jeff Bezos']\n",
    "names = pd.Series(name_tuple)\n",
    "names"
   ]
  },
  {
   "cell_type": "code",
   "execution_count": 3,
   "id": "d761b305",
   "metadata": {},
   "outputs": [
    {
     "data": {
      "text/plain": [
       "0           suan lee\n",
       "1        steven jobs\n",
       "2         larry page\n",
       "3          elon musk\n",
       "4               None\n",
       "5         bill gates\n",
       "6    mark zuckerberg\n",
       "7         jeff bezos\n",
       "dtype: object"
      ]
     },
     "execution_count": 3,
     "metadata": {},
     "output_type": "execute_result"
    }
   ],
   "source": [
    "names.str.lower()"
   ]
  },
  {
   "cell_type": "code",
   "execution_count": 4,
   "id": "fdebd2a9",
   "metadata": {},
   "outputs": [
    {
     "data": {
      "text/plain": [
       "0     8.0\n",
       "1    11.0\n",
       "2    10.0\n",
       "3     9.0\n",
       "4     NaN\n",
       "5    10.0\n",
       "6    15.0\n",
       "7    10.0\n",
       "dtype: float64"
      ]
     },
     "execution_count": 4,
     "metadata": {},
     "output_type": "execute_result"
    }
   ],
   "source": [
    "names.str.len( )"
   ]
  },
  {
   "cell_type": "code",
   "execution_count": 5,
   "id": "68d85da8",
   "metadata": {
    "scrolled": true
   },
   "outputs": [
    {
     "data": {
      "text/plain": [
       "0           [Suan, Lee]\n",
       "1        [Steven, Jobs]\n",
       "2         [Larry, Page]\n",
       "3          [Elon, Musk]\n",
       "4                  None\n",
       "5         [Bill, Gates]\n",
       "6    [Mark, Zuckerberg]\n",
       "7         [Jeff, Bezos]\n",
       "dtype: object"
      ]
     },
     "execution_count": 5,
     "metadata": {},
     "output_type": "execute_result"
    }
   ],
   "source": [
    "names.str.split( )"
   ]
  },
  {
   "cell_type": "code",
   "execution_count": 6,
   "id": "fe727b02",
   "metadata": {},
   "outputs": [
    {
     "data": {
      "text/html": [
       "<div>\n",
       "<style scoped>\n",
       "    .dataframe tbody tr th:only-of-type {\n",
       "        vertical-align: middle;\n",
       "    }\n",
       "\n",
       "    .dataframe tbody tr th {\n",
       "        vertical-align: top;\n",
       "    }\n",
       "\n",
       "    .dataframe thead th {\n",
       "        text-align: right;\n",
       "    }\n",
       "</style>\n",
       "<table border=\"1\" class=\"dataframe\">\n",
       "  <thead>\n",
       "    <tr style=\"text-align: right;\">\n",
       "      <th></th>\n",
       "      <th>animal</th>\n",
       "      <th>language</th>\n",
       "      <th>fruit</th>\n",
       "    </tr>\n",
       "  </thead>\n",
       "  <tbody>\n",
       "    <tr>\n",
       "      <th>0</th>\n",
       "      <td>lion</td>\n",
       "      <td>Python</td>\n",
       "      <td>apple</td>\n",
       "    </tr>\n",
       "    <tr>\n",
       "      <th>1</th>\n",
       "      <td>tiger</td>\n",
       "      <td>Ruby</td>\n",
       "      <td>watermelon</td>\n",
       "    </tr>\n",
       "    <tr>\n",
       "      <th>2</th>\n",
       "      <td>zebra</td>\n",
       "      <td>Java</td>\n",
       "      <td>peach</td>\n",
       "    </tr>\n",
       "    <tr>\n",
       "      <th>3</th>\n",
       "      <td>gazel</td>\n",
       "      <td>SQL</td>\n",
       "      <td>strawberry</td>\n",
       "    </tr>\n",
       "    <tr>\n",
       "      <th>4</th>\n",
       "      <td>rabbit</td>\n",
       "      <td>ava</td>\n",
       "      <td>메론 1</td>\n",
       "    </tr>\n",
       "    <tr>\n",
       "      <th>5</th>\n",
       "      <td>mouse</td>\n",
       "      <td>saav</td>\n",
       "      <td>1111</td>\n",
       "    </tr>\n",
       "    <tr>\n",
       "      <th>6</th>\n",
       "      <td>pig</td>\n",
       "      <td>SOL</td>\n",
       "      <td>1111</td>\n",
       "    </tr>\n",
       "  </tbody>\n",
       "</table>\n",
       "</div>"
      ],
      "text/plain": [
       "   animal language       fruit\n",
       "0    lion   Python       apple\n",
       "1   tiger     Ruby  watermelon\n",
       "2   zebra     Java       peach\n",
       "3   gazel      SQL  strawberry\n",
       "4  rabbit      ava        메론 1\n",
       "5   mouse     saav        1111\n",
       "6     pig      SOL        1111"
      ]
     },
     "execution_count": 6,
     "metadata": {},
     "output_type": "execute_result"
    }
   ],
   "source": [
    "strdata = pd.DataFrame({'animal':['lion', 'tiger','zebra', 'gazel', 'rabbit', 'mouse', 'pig'],\n",
    "                        'language':['Python','Ruby' ,'Java', 'SQL', 'ava', 'saav', 'SOL'],\n",
    "                        'fruit':['apple', 'watermelon', 'peach', 'strawberry', '메론 1', 1111, '1111']})\n",
    "strdata"
   ]
  },
  {
   "cell_type": "code",
   "execution_count": 7,
   "id": "5977b08b",
   "metadata": {},
   "outputs": [
    {
     "data": {
      "text/html": [
       "<div>\n",
       "<style scoped>\n",
       "    .dataframe tbody tr th:only-of-type {\n",
       "        vertical-align: middle;\n",
       "    }\n",
       "\n",
       "    .dataframe tbody tr th {\n",
       "        vertical-align: top;\n",
       "    }\n",
       "\n",
       "    .dataframe thead th {\n",
       "        text-align: right;\n",
       "    }\n",
       "</style>\n",
       "<table border=\"1\" class=\"dataframe\">\n",
       "  <thead>\n",
       "    <tr style=\"text-align: right;\">\n",
       "      <th></th>\n",
       "      <th>animal</th>\n",
       "      <th>language</th>\n",
       "      <th>fruit</th>\n",
       "    </tr>\n",
       "  </thead>\n",
       "  <tbody>\n",
       "    <tr>\n",
       "      <th>0</th>\n",
       "      <td>Lion</td>\n",
       "      <td>Python</td>\n",
       "      <td>apple</td>\n",
       "    </tr>\n",
       "    <tr>\n",
       "      <th>1</th>\n",
       "      <td>Tiger</td>\n",
       "      <td>Ruby</td>\n",
       "      <td>watermelon</td>\n",
       "    </tr>\n",
       "    <tr>\n",
       "      <th>2</th>\n",
       "      <td>Zebra</td>\n",
       "      <td>Java</td>\n",
       "      <td>peach</td>\n",
       "    </tr>\n",
       "    <tr>\n",
       "      <th>3</th>\n",
       "      <td>Gazel</td>\n",
       "      <td>SQL</td>\n",
       "      <td>strawberry</td>\n",
       "    </tr>\n",
       "    <tr>\n",
       "      <th>4</th>\n",
       "      <td>Rabbit</td>\n",
       "      <td>ava</td>\n",
       "      <td>메론 1</td>\n",
       "    </tr>\n",
       "    <tr>\n",
       "      <th>5</th>\n",
       "      <td>Mouse</td>\n",
       "      <td>saav</td>\n",
       "      <td>1111</td>\n",
       "    </tr>\n",
       "    <tr>\n",
       "      <th>6</th>\n",
       "      <td>Pig</td>\n",
       "      <td>SOL</td>\n",
       "      <td>1111</td>\n",
       "    </tr>\n",
       "  </tbody>\n",
       "</table>\n",
       "</div>"
      ],
      "text/plain": [
       "   animal language       fruit\n",
       "0    Lion   Python       apple\n",
       "1   Tiger     Ruby  watermelon\n",
       "2   Zebra     Java       peach\n",
       "3   Gazel      SQL  strawberry\n",
       "4  Rabbit      ava        메론 1\n",
       "5   Mouse     saav        1111\n",
       "6     Pig      SOL        1111"
      ]
     },
     "execution_count": 7,
     "metadata": {},
     "output_type": "execute_result"
    }
   ],
   "source": [
    "strdata['animal'].str.capitalize()\n",
    "strdata['animal'] = strdata['animal'].str.capitalize()\n",
    "strdata"
   ]
  },
  {
   "cell_type": "code",
   "execution_count": 8,
   "id": "a8415f21",
   "metadata": {},
   "outputs": [
    {
     "data": {
      "text/html": [
       "<div>\n",
       "<style scoped>\n",
       "    .dataframe tbody tr th:only-of-type {\n",
       "        vertical-align: middle;\n",
       "    }\n",
       "\n",
       "    .dataframe tbody tr th {\n",
       "        vertical-align: top;\n",
       "    }\n",
       "\n",
       "    .dataframe thead th {\n",
       "        text-align: right;\n",
       "    }\n",
       "</style>\n",
       "<table border=\"1\" class=\"dataframe\">\n",
       "  <thead>\n",
       "    <tr style=\"text-align: right;\">\n",
       "      <th></th>\n",
       "      <th>animal</th>\n",
       "      <th>language</th>\n",
       "      <th>fruit</th>\n",
       "    </tr>\n",
       "  </thead>\n",
       "  <tbody>\n",
       "    <tr>\n",
       "      <th>0</th>\n",
       "      <td>lion</td>\n",
       "      <td>python</td>\n",
       "      <td>apple</td>\n",
       "    </tr>\n",
       "    <tr>\n",
       "      <th>1</th>\n",
       "      <td>tiger</td>\n",
       "      <td>ruby</td>\n",
       "      <td>watermelon</td>\n",
       "    </tr>\n",
       "    <tr>\n",
       "      <th>2</th>\n",
       "      <td>zebra</td>\n",
       "      <td>java</td>\n",
       "      <td>peach</td>\n",
       "    </tr>\n",
       "    <tr>\n",
       "      <th>3</th>\n",
       "      <td>gazel</td>\n",
       "      <td>sql</td>\n",
       "      <td>strawberry</td>\n",
       "    </tr>\n",
       "    <tr>\n",
       "      <th>4</th>\n",
       "      <td>rabbit</td>\n",
       "      <td>ava</td>\n",
       "      <td>메론 1</td>\n",
       "    </tr>\n",
       "    <tr>\n",
       "      <th>5</th>\n",
       "      <td>mouse</td>\n",
       "      <td>saav</td>\n",
       "      <td>1111</td>\n",
       "    </tr>\n",
       "    <tr>\n",
       "      <th>6</th>\n",
       "      <td>pig</td>\n",
       "      <td>sol</td>\n",
       "      <td>1111</td>\n",
       "    </tr>\n",
       "  </tbody>\n",
       "</table>\n",
       "</div>"
      ],
      "text/plain": [
       "   animal language       fruit\n",
       "0    lion   python       apple\n",
       "1   tiger     ruby  watermelon\n",
       "2   zebra     java       peach\n",
       "3   gazel      sql  strawberry\n",
       "4  rabbit      ava        메론 1\n",
       "5   mouse     saav        1111\n",
       "6     pig      sol        1111"
      ]
     },
     "execution_count": 8,
     "metadata": {},
     "output_type": "execute_result"
    }
   ],
   "source": [
    "strdata['animal']=strdata['animal'].str.casefold()\n",
    "strdata['language'] = strdata['language'].str.casefold( )\n",
    "strdata"
   ]
  },
  {
   "cell_type": "code",
   "execution_count": 9,
   "id": "5eb42314",
   "metadata": {},
   "outputs": [
    {
     "data": {
      "text/plain": [
       "0    0.0\n",
       "1    1.0\n",
       "2    0.0\n",
       "3    3.0\n",
       "4    0.0\n",
       "5    NaN\n",
       "6    0.0\n",
       "Name: fruit, dtype: float64"
      ]
     },
     "execution_count": 9,
     "metadata": {},
     "output_type": "execute_result"
    }
   ],
   "source": [
    "strdata['fruit'].str.count('r')"
   ]
  },
  {
   "cell_type": "code",
   "execution_count": 10,
   "id": "f2ae7d1b",
   "metadata": {},
   "outputs": [
    {
     "data": {
      "text/plain": [
       "0   -1\n",
       "1   -1\n",
       "2    1\n",
       "3   -1\n",
       "4   -1\n",
       "5    2\n",
       "6   -1\n",
       "Name: language, dtype: int64"
      ]
     },
     "execution_count": 10,
     "metadata": {},
     "output_type": "execute_result"
    }
   ],
   "source": [
    "strdata['language'].str.find('av',1)"
   ]
  },
  {
   "cell_type": "markdown",
   "id": "fae37245",
   "metadata": {},
   "source": [
    "### isalnum / isalpha / isdecimal / isdigit / isnumeric 비교\n",
    "||str.isalnum|str.isalpha|str.isdecimal|str.isdigit|str.isnumeric|\n",
    "|:--|:--:|:--:|:--:|:--:|:--:|\n",
    "||영어+숫자|영문자|10진수 문자|숫자|수치형|\n",
    "|'2' 10진수|True|False|True|True|True|\n",
    "|'②' 숫자|True|False|False|True|True|\n",
    "|'½' 수치|True|False|False|False|True|"
   ]
  },
  {
   "cell_type": "code",
   "execution_count": 11,
   "id": "d2a1b00f",
   "metadata": {},
   "outputs": [
    {
     "data": {
      "text/plain": [
       "False"
      ]
     },
     "execution_count": 11,
     "metadata": {},
     "output_type": "execute_result"
    }
   ],
   "source": [
    "str.isidentifier('½')"
   ]
  },
  {
   "cell_type": "code",
   "execution_count": 12,
   "id": "ae8627de",
   "metadata": {},
   "outputs": [
    {
     "data": {
      "text/plain": [
       "0    1.0\n",
       "1   -1.0\n",
       "2    0.0\n",
       "3   -1.0\n",
       "4   -1.0\n",
       "5    NaN\n",
       "6   -1.0\n",
       "Name: fruit, dtype: float64"
      ]
     },
     "execution_count": 12,
     "metadata": {},
     "output_type": "execute_result"
    }
   ],
   "source": [
    "strdata['fruit'].str.find('p')\n",
    "# strdata['fruit']의 0번째 row엔 apple이 있어 p가 인덱스 1번, 2번에 존재한다\n",
    "# find는 문자열 sub의 가장 작은 인덱스를 반환하기 때문에 가장 작은 1번을 반환한다."
   ]
  },
  {
   "cell_type": "code",
   "execution_count": 13,
   "id": "2b5212e5",
   "metadata": {
    "scrolled": true
   },
   "outputs": [
    {
     "data": {
      "text/plain": [
       "0    2.0\n",
       "1   -1.0\n",
       "2    0.0\n",
       "3   -1.0\n",
       "4   -1.0\n",
       "5    NaN\n",
       "6   -1.0\n",
       "Name: fruit, dtype: float64"
      ]
     },
     "execution_count": 13,
     "metadata": {},
     "output_type": "execute_result"
    }
   ],
   "source": [
    "strdata['fruit'].str.rfind('p')\n",
    "# strdata['fruit']의 0번째 row엔 apple이 있어 p가 인덱스 1번, 2번에 존재한다\n",
    "# rfind는 문자열 sub의 가장 큰 인덱스를 반환하기 때문에 가장 큰 2번을 반환한다."
   ]
  },
  {
   "cell_type": "code",
   "execution_count": 14,
   "id": "f97bf652",
   "metadata": {},
   "outputs": [
    {
     "data": {
      "text/plain": [
       "0     True\n",
       "1     True\n",
       "2     True\n",
       "3     True\n",
       "4    False\n",
       "5      NaN\n",
       "6     True\n",
       "Name: fruit, dtype: object"
      ]
     },
     "execution_count": 14,
     "metadata": {},
     "output_type": "execute_result"
    }
   ],
   "source": [
    "strdata['fruit'].str.isalnum()\n",
    "# 여기서 5번 데이터의 값은 1111로 같지만\n",
    "# 타입은 numeric / 6번 데이터의 타입은 str\n",
    "# isalnum은 '2','②','½' 모두가 True가 된다."
   ]
  },
  {
   "cell_type": "code",
   "execution_count": 15,
   "id": "860bb91c",
   "metadata": {
    "scrolled": true
   },
   "outputs": [
    {
     "data": {
      "text/plain": [
       "0     True\n",
       "1     True\n",
       "2     True\n",
       "3     True\n",
       "4    False\n",
       "5      NaN\n",
       "6    False\n",
       "Name: fruit, dtype: object"
      ]
     },
     "execution_count": 15,
     "metadata": {},
     "output_type": "execute_result"
    }
   ],
   "source": [
    "strdata['fruit'].str.isalpha()\n",
    "# isalpha는 모든 문자열이 영문자로 1개 이상 존재해야 한다\n",
    "# 6번 데이터의 값이 str(1111)이지만 영문자로 이루어진 문자열이 아니기 때문에 False를 반환한다.\n",
    "# isalpha( )는  '2','②','½' 모두 False를 반환한다."
   ]
  },
  {
   "cell_type": "code",
   "execution_count": 16,
   "id": "c79b420c",
   "metadata": {
    "scrolled": true
   },
   "outputs": [
    {
     "data": {
      "text/plain": [
       "0    False\n",
       "1    False\n",
       "2    False\n",
       "3    False\n",
       "4    False\n",
       "5      NaN\n",
       "6     True\n",
       "Name: fruit, dtype: object"
      ]
     },
     "execution_count": 16,
     "metadata": {},
     "output_type": "execute_result"
    }
   ],
   "source": [
    "strdata['fruit'].str.isdecimal()\n",
    "# isdecimal은 모든 문자가 10진수 문자로 1개 이상 존재해야 한다.\n",
    "# 0~5번 데이터는 모든 문자가 문자로 이루어진 문자열이기 때문에 False를 반환한다.\n",
    "# isdecimal( )는  '2'를 True로 그 나머지인 '②','½' 모두 False를 반환한다."
   ]
  },
  {
   "cell_type": "code",
   "execution_count": 17,
   "id": "6887456e",
   "metadata": {},
   "outputs": [
    {
     "data": {
      "text/plain": [
       "0    False\n",
       "1    False\n",
       "2    False\n",
       "3    False\n",
       "4    False\n",
       "5      NaN\n",
       "6     True\n",
       "Name: fruit, dtype: object"
      ]
     },
     "execution_count": 17,
     "metadata": {},
     "output_type": "execute_result"
    }
   ],
   "source": [
    "strdata['fruit'].str.isdigit()\n",
    "# isdigit( )는 모든 문자가 숫자일 때 True를 반환한다.\n",
    "# 6번 데이터만이 모든 문자열이 숫자로 이뤄져 있어 True를 반환한다.\n",
    "# isdigit는 '2','②'를 True로 '½'를 False로 반환한다."
   ]
  },
  {
   "cell_type": "code",
   "execution_count": 18,
   "id": "690e1f13",
   "metadata": {},
   "outputs": [
    {
     "data": {
      "text/plain": [
       "0    False\n",
       "1    False\n",
       "2    False\n",
       "3    False\n",
       "4    False\n",
       "5      NaN\n",
       "6     True\n",
       "Name: fruit, dtype: object"
      ]
     },
     "execution_count": 18,
     "metadata": {},
     "output_type": "execute_result"
    }
   ],
   "source": [
    "strdata['fruit'].str.isnumeric()\n",
    "# isdigit( )는 모든 문자가 수치형일 때 True를 반환한다.\n",
    "# 6번 데이터만이 모든 문자열이 수치형으로 이뤄져 있어 True를 반환한다.\n",
    "# isnumeric( )은 '2', '②', '½' 모두를 True로 반환한다"
   ]
  },
  {
   "cell_type": "code",
   "execution_count": 19,
   "id": "1e0bc471",
   "metadata": {},
   "outputs": [
    {
     "data": {
      "text/plain": [
       "0    False\n",
       "1    False\n",
       "2    False\n",
       "3    False\n",
       "4    False\n",
       "5      NaN\n",
       "6    False\n",
       "Name: fruit, dtype: object"
      ]
     },
     "execution_count": 19,
     "metadata": {},
     "output_type": "execute_result"
    }
   ],
   "source": [
    "strdata['fruit'].str.isspace()"
   ]
  },
  {
   "cell_type": "code",
   "execution_count": 20,
   "id": "55aab3b9",
   "metadata": {},
   "outputs": [
    {
     "data": {
      "text/plain": [
       "False"
      ]
     },
     "execution_count": 20,
     "metadata": {},
     "output_type": "execute_result"
    }
   ],
   "source": [
    "str.isidentifier('½')"
   ]
  },
  {
   "cell_type": "code",
   "execution_count": null,
   "id": "8c7f048c",
   "metadata": {},
   "outputs": [],
   "source": []
  },
  {
   "cell_type": "code",
   "execution_count": 21,
   "id": "9b795506",
   "metadata": {
    "scrolled": true
   },
   "outputs": [
    {
     "data": {
      "text/html": [
       "<div>\n",
       "<style scoped>\n",
       "    .dataframe tbody tr th:only-of-type {\n",
       "        vertical-align: middle;\n",
       "    }\n",
       "\n",
       "    .dataframe tbody tr th {\n",
       "        vertical-align: top;\n",
       "    }\n",
       "\n",
       "    .dataframe thead th {\n",
       "        text-align: right;\n",
       "    }\n",
       "</style>\n",
       "<table border=\"1\" class=\"dataframe\">\n",
       "  <thead>\n",
       "    <tr style=\"text-align: right;\">\n",
       "      <th></th>\n",
       "      <th>sentence</th>\n",
       "      <th>word_count</th>\n",
       "    </tr>\n",
       "  </thead>\n",
       "  <tbody>\n",
       "    <tr>\n",
       "      <th>0</th>\n",
       "      <td>I can't stop loving you</td>\n",
       "      <td>5</td>\n",
       "    </tr>\n",
       "    <tr>\n",
       "      <th>1</th>\n",
       "      <td>It is not a computer, It's just a speaker</td>\n",
       "      <td>9</td>\n",
       "    </tr>\n",
       "    <tr>\n",
       "      <th>2</th>\n",
       "      <td>Maybe I would watch the film today</td>\n",
       "      <td>7</td>\n",
       "    </tr>\n",
       "    <tr>\n",
       "      <th>3</th>\n",
       "      <td>I am really hugry, how's about you?</td>\n",
       "      <td>7</td>\n",
       "    </tr>\n",
       "    <tr>\n",
       "      <th>4</th>\n",
       "      <td></td>\n",
       "      <td>2</td>\n",
       "    </tr>\n",
       "    <tr>\n",
       "      <th>5</th>\n",
       "      <td>i am really sorry to hear that</td>\n",
       "      <td>7</td>\n",
       "    </tr>\n",
       "    <tr>\n",
       "      <th>6</th>\n",
       "      <td>I CAN NOT HEAER YOU</td>\n",
       "      <td>5</td>\n",
       "    </tr>\n",
       "    <tr>\n",
       "      <th>7</th>\n",
       "      <td>The Scream</td>\n",
       "      <td>2</td>\n",
       "    </tr>\n",
       "    <tr>\n",
       "      <th>8</th>\n",
       "      <td>Can I be a programmer? \\n Yes! you can do!</td>\n",
       "      <td>10</td>\n",
       "    </tr>\n",
       "  </tbody>\n",
       "</table>\n",
       "</div>"
      ],
      "text/plain": [
       "                                     sentence  word_count\n",
       "0                     I can't stop loving you           5\n",
       "1   It is not a computer, It's just a speaker           9\n",
       "2          Maybe I would watch the film today           7\n",
       "3         I am really hugry, how's about you?           7\n",
       "4                                                       2\n",
       "5              i am really sorry to hear that           7\n",
       "6                         I CAN NOT HEAER YOU           5\n",
       "7                                  The Scream           2\n",
       "8  Can I be a programmer? \\n Yes! you can do!          10"
      ]
     },
     "execution_count": 21,
     "metadata": {},
     "output_type": "execute_result"
    }
   ],
   "source": [
    "sentence = pd.DataFrame({'sentence':[\"I can't stop loving you\", \"It is not a computer, It's just a speaker\", \n",
    "                                     \"Maybe I would watch the film today\", \"I am really hugry, how's about you?\", \" \", \n",
    "                                     \"i am really sorry to hear that\", \"I CAN NOT HEAER YOU\",\n",
    "                                     \"The Scream\",\n",
    "                                     \"Can I be a programmer? \\n Yes! you can do!\"]})\n",
    "sentence['word_count'] = sentence['sentence'].str.count(' ') + 1\n",
    "\n",
    "sentence"
   ]
  },
  {
   "cell_type": "code",
   "execution_count": 22,
   "id": "13e84837",
   "metadata": {},
   "outputs": [
    {
     "data": {
      "text/plain": [
       "0    False\n",
       "1    False\n",
       "2    False\n",
       "3    False\n",
       "4     True\n",
       "5    False\n",
       "6    False\n",
       "7    False\n",
       "8    False\n",
       "Name: sentence, dtype: bool"
      ]
     },
     "execution_count": 22,
     "metadata": {},
     "output_type": "execute_result"
    }
   ],
   "source": [
    "sentence['sentence'].str.isspace()"
   ]
  },
  {
   "cell_type": "code",
   "execution_count": 23,
   "id": "cb366072",
   "metadata": {
    "scrolled": true
   },
   "outputs": [
    {
     "data": {
      "text/plain": [
       "0    False\n",
       "1    False\n",
       "2    False\n",
       "3    False\n",
       "4    False\n",
       "5    False\n",
       "6    False\n",
       "7     True\n",
       "8    False\n",
       "Name: sentence, dtype: bool"
      ]
     },
     "execution_count": 23,
     "metadata": {},
     "output_type": "execute_result"
    }
   ],
   "source": [
    "sentence['sentence'].str.istitle()"
   ]
  },
  {
   "cell_type": "code",
   "execution_count": 24,
   "id": "8ac6ec15",
   "metadata": {},
   "outputs": [
    {
     "data": {
      "text/plain": [
       "0    False\n",
       "1    False\n",
       "2    False\n",
       "3    False\n",
       "4    False\n",
       "5     True\n",
       "6    False\n",
       "7    False\n",
       "8    False\n",
       "Name: sentence, dtype: bool"
      ]
     },
     "execution_count": 24,
     "metadata": {},
     "output_type": "execute_result"
    }
   ],
   "source": [
    "sentence['sentence'].str.islower()"
   ]
  },
  {
   "cell_type": "code",
   "execution_count": 25,
   "id": "c4b9eeb9",
   "metadata": {
    "scrolled": true
   },
   "outputs": [
    {
     "data": {
      "text/plain": [
       "0    False\n",
       "1    False\n",
       "2    False\n",
       "3    False\n",
       "4    False\n",
       "5    False\n",
       "6     True\n",
       "7    False\n",
       "8    False\n",
       "Name: sentence, dtype: bool"
      ]
     },
     "execution_count": 25,
     "metadata": {},
     "output_type": "execute_result"
    }
   ],
   "source": [
    "sentence['sentence'].str.isupper()"
   ]
  },
  {
   "cell_type": "code",
   "execution_count": 26,
   "id": "0dc0b29a",
   "metadata": {
    "scrolled": true
   },
   "outputs": [
    {
     "data": {
      "text/html": [
       "<div>\n",
       "<style scoped>\n",
       "    .dataframe tbody tr th:only-of-type {\n",
       "        vertical-align: middle;\n",
       "    }\n",
       "\n",
       "    .dataframe tbody tr th {\n",
       "        vertical-align: top;\n",
       "    }\n",
       "\n",
       "    .dataframe thead th {\n",
       "        text-align: right;\n",
       "    }\n",
       "</style>\n",
       "<table border=\"1\" class=\"dataframe\">\n",
       "  <thead>\n",
       "    <tr style=\"text-align: right;\">\n",
       "      <th></th>\n",
       "      <th>sentence</th>\n",
       "      <th>word_count</th>\n",
       "      <th>question_mark</th>\n",
       "    </tr>\n",
       "  </thead>\n",
       "  <tbody>\n",
       "    <tr>\n",
       "      <th>0</th>\n",
       "      <td>I can't stop loving you</td>\n",
       "      <td>5</td>\n",
       "      <td>I? ?c?a?n?'?t? ?s?t?o?p? ?l?o?v?i?n?g? ?y?o?u</td>\n",
       "    </tr>\n",
       "    <tr>\n",
       "      <th>1</th>\n",
       "      <td>It is not a computer, It's just a speaker</td>\n",
       "      <td>9</td>\n",
       "      <td>I?t? ?i?s? ?n?o?t? ?a? ?c?o?m?p?u?t?e?r?,? ?I?...</td>\n",
       "    </tr>\n",
       "    <tr>\n",
       "      <th>2</th>\n",
       "      <td>Maybe I would watch the film today</td>\n",
       "      <td>7</td>\n",
       "      <td>M?a?y?b?e? ?I? ?w?o?u?l?d? ?w?a?t?c?h? ?t?h?e?...</td>\n",
       "    </tr>\n",
       "    <tr>\n",
       "      <th>3</th>\n",
       "      <td>I am really hugry, how's about you?</td>\n",
       "      <td>7</td>\n",
       "      <td>I? ?a?m? ?r?e?a?l?l?y? ?h?u?g?r?y?,? ?h?o?w?'?...</td>\n",
       "    </tr>\n",
       "    <tr>\n",
       "      <th>4</th>\n",
       "      <td></td>\n",
       "      <td>2</td>\n",
       "      <td></td>\n",
       "    </tr>\n",
       "    <tr>\n",
       "      <th>5</th>\n",
       "      <td>i am really sorry to hear that</td>\n",
       "      <td>7</td>\n",
       "      <td>i? ?a?m? ?r?e?a?l?l?y? ?s?o?r?r?y? ?t?o? ?h?e?...</td>\n",
       "    </tr>\n",
       "    <tr>\n",
       "      <th>6</th>\n",
       "      <td>I CAN NOT HEAER YOU</td>\n",
       "      <td>5</td>\n",
       "      <td>I? ?C?A?N? ?N?O?T? ?H?E?A?E?R? ?Y?O?U</td>\n",
       "    </tr>\n",
       "    <tr>\n",
       "      <th>7</th>\n",
       "      <td>The Scream</td>\n",
       "      <td>2</td>\n",
       "      <td>T?h?e? ?S?c?r?e?a?m</td>\n",
       "    </tr>\n",
       "    <tr>\n",
       "      <th>8</th>\n",
       "      <td>Can I be a programmer? \\n Yes! you can do!</td>\n",
       "      <td>10</td>\n",
       "      <td>C?a?n? ?I? ?b?e? ?a? ?p?r?o?g?r?a?m?m?e?r??? ?...</td>\n",
       "    </tr>\n",
       "  </tbody>\n",
       "</table>\n",
       "</div>"
      ],
      "text/plain": [
       "                                     sentence  word_count  \\\n",
       "0                     I can't stop loving you           5   \n",
       "1   It is not a computer, It's just a speaker           9   \n",
       "2          Maybe I would watch the film today           7   \n",
       "3         I am really hugry, how's about you?           7   \n",
       "4                                                       2   \n",
       "5              i am really sorry to hear that           7   \n",
       "6                         I CAN NOT HEAER YOU           5   \n",
       "7                                  The Scream           2   \n",
       "8  Can I be a programmer? \\n Yes! you can do!          10   \n",
       "\n",
       "                                       question_mark  \n",
       "0      I? ?c?a?n?'?t? ?s?t?o?p? ?l?o?v?i?n?g? ?y?o?u  \n",
       "1  I?t? ?i?s? ?n?o?t? ?a? ?c?o?m?p?u?t?e?r?,? ?I?...  \n",
       "2  M?a?y?b?e? ?I? ?w?o?u?l?d? ?w?a?t?c?h? ?t?h?e?...  \n",
       "3  I? ?a?m? ?r?e?a?l?l?y? ?h?u?g?r?y?,? ?h?o?w?'?...  \n",
       "4                                                     \n",
       "5  i? ?a?m? ?r?e?a?l?l?y? ?s?o?r?r?y? ?t?o? ?h?e?...  \n",
       "6              I? ?C?A?N? ?N?O?T? ?H?E?A?E?R? ?Y?O?U  \n",
       "7                                T?h?e? ?S?c?r?e?a?m  \n",
       "8  C?a?n? ?I? ?b?e? ?a? ?p?r?o?g?r?a?m?m?e?r??? ?...  "
      ]
     },
     "execution_count": 26,
     "metadata": {},
     "output_type": "execute_result"
    }
   ],
   "source": [
    "sentence['question_mark']=sentence['sentence'].str.join('?')\n",
    "sentence"
   ]
  },
  {
   "cell_type": "code",
   "execution_count": 27,
   "id": "9f34b220",
   "metadata": {},
   "outputs": [
    {
     "data": {
      "text/plain": [
       "('I ', \"can't\", ' stop loving you')"
      ]
     },
     "execution_count": 27,
     "metadata": {},
     "output_type": "execute_result"
    }
   ],
   "source": [
    "sentence['sentence'].iloc[0].partition(\"can't\")"
   ]
  },
  {
   "cell_type": "code",
   "execution_count": 28,
   "id": "714349a4",
   "metadata": {
    "scrolled": true
   },
   "outputs": [
    {
     "data": {
      "text/plain": [
       "['Can I be a programmer? ', ' Yes! you can do!']"
      ]
     },
     "execution_count": 28,
     "metadata": {},
     "output_type": "execute_result"
    }
   ],
   "source": [
    "sentence['sentence'].iloc[-1].splitlines()"
   ]
  },
  {
   "cell_type": "code",
   "execution_count": 30,
   "id": "51e2b213",
   "metadata": {
    "scrolled": true
   },
   "outputs": [
    {
     "data": {
      "text/plain": [
       "2      watson\n",
       "10       john\n",
       "11    johnson\n",
       "dtype: object"
      ]
     },
     "execution_count": 30,
     "metadata": {},
     "output_type": "execute_result"
    }
   ],
   "source": [
    "names_1 = ['jack','bob','watson','jake','mike','don','george','natasha','jill','ann','john','johnson']\n",
    "ser = pd.Series(names_1)\n",
    "ser[ser.str.contains('oh|son')]"
   ]
  },
  {
   "cell_type": "code",
   "execution_count": 31,
   "id": "06878d34",
   "metadata": {},
   "outputs": [
    {
     "data": {
      "text/plain": [
       "0        jack\n",
       "3        jake\n",
       "8        jill\n",
       "9         ann\n",
       "10       john\n",
       "11    johnson\n",
       "dtype: object"
      ]
     },
     "execution_count": 31,
     "metadata": {},
     "output_type": "execute_result"
    }
   ],
   "source": [
    "ser[ser.str.startswith(('j', 'a',))]"
   ]
  },
  {
   "cell_type": "markdown",
   "id": "173079b1",
   "metadata": {},
   "source": [
    "### 기타 연산자\n",
    "|메소드|설명|\n",
    "|:-|:-|\n",
    "|```get( )```|각 요소에 인덱스 지정|\n",
    "|```slice_replace( )```|각 요소의 슬라이스를 특정 값으로 대체|\n",
    "|```cat( )```|문자열 연결|\n",
    "|```repeat( )```|값 반복|\n",
    "|```normalize( )```|문자열의 유니코드 형태로 반환|\n",
    "|```pad( )```|문자열 왼쪽, 오른쪽, 또는 양쪽 공백 추가|\n",
    "|```wrap( )```|긴 문자열을 주어진 너비보다 짧은 길이의 여러 줄로 나눔|\n",
    "|```join( )```|Series의 각 요소에 있는 문자열을 전달된 구분자와 결함|\n",
    "|```get_dummies( )```|DataFrame으로 가변수(dummy variable)추출|"
   ]
  },
  {
   "cell_type": "code",
   "execution_count": 32,
   "id": "2c3227b9",
   "metadata": {},
   "outputs": [
    {
     "data": {
      "text/plain": [
       "0    Suan\n",
       "1    Stev\n",
       "2    Larr\n",
       "3    Elon\n",
       "4    None\n",
       "5    Bill\n",
       "6    Mark\n",
       "7    Jeff\n",
       "dtype: object"
      ]
     },
     "execution_count": 32,
     "metadata": {},
     "output_type": "execute_result"
    }
   ],
   "source": [
    "names.str[0:4]"
   ]
  },
  {
   "cell_type": "code",
   "execution_count": 33,
   "id": "ea675fb9",
   "metadata": {},
   "outputs": [
    {
     "data": {
      "text/plain": [
       "0           Lee\n",
       "1          Jobs\n",
       "2          Page\n",
       "3          Musk\n",
       "4          None\n",
       "5         Gates\n",
       "6    Zuckerberg\n",
       "7         Bezos\n",
       "dtype: object"
      ]
     },
     "execution_count": 33,
     "metadata": {},
     "output_type": "execute_result"
    }
   ],
   "source": [
    "names.str.split().str.get(-1)"
   ]
  },
  {
   "cell_type": "code",
   "execution_count": 34,
   "id": "cdbb5f60",
   "metadata": {},
   "outputs": [
    {
     "data": {
      "text/plain": [
       "0                  Suan LeeSuan Lee\n",
       "1            Steven JobsSteven Jobs\n",
       "2              Larry PageLarry Page\n",
       "3                Elon MuskElon Musk\n",
       "4                              None\n",
       "5              Bill GatesBill Gates\n",
       "6    Mark ZuckerbergMark Zuckerberg\n",
       "7              Jeff BezosJeff Bezos\n",
       "dtype: object"
      ]
     },
     "execution_count": 34,
     "metadata": {},
     "output_type": "execute_result"
    }
   ],
   "source": [
    "names.str.repeat(2)"
   ]
  },
  {
   "cell_type": "markdown",
   "id": "5a425ed2",
   "metadata": {},
   "source": [
    "### 정규표현식\n",
    "|메소드|설명|\n",
    "|:-|:-|\n",
    "|```match( )```|각 요소에 ```re.match()``` 호출. 불리언값 반환|\n",
    "|```extract()```|각 요소에 ```re.match()``` 호출. 문자열로 매칭된 그룹 변환|\n",
    "|```findall()```|각 요소에 ```re.findall()``` 호출|\n",
    "|```replace()```|패턴이 발생힌 곳을 디른 문지열로 대체|\n",
    "|```contains()```| 각 요소에 ```re.search()``` 호출. 불리언 값 반환|\n",
    "|```count()```|패턴 발생 건수 집계|\n",
    "|```split()```|```str.split()``` 과 동일하시만 정규 표현식 사용|\n",
    "|```rsplit()```|```str.rsplit()``` 과동일하지만 정규 표현식 사용|"
   ]
  },
  {
   "cell_type": "code",
   "execution_count": 35,
   "id": "b00811d1",
   "metadata": {},
   "outputs": [
    {
     "data": {
      "text/plain": [
       "0    True\n",
       "1    True\n",
       "2    True\n",
       "3    True\n",
       "4    None\n",
       "5    True\n",
       "6    True\n",
       "7    True\n",
       "dtype: object"
      ]
     },
     "execution_count": 35,
     "metadata": {},
     "output_type": "execute_result"
    }
   ],
   "source": [
    "names.str.match('([A-Za-z]+)')"
   ]
  },
  {
   "cell_type": "code",
   "execution_count": 36,
   "id": "c92e7441",
   "metadata": {},
   "outputs": [
    {
     "data": {
      "text/plain": [
       "0           [Suan, Lee]\n",
       "1        [Steven, Jobs]\n",
       "2         [Larry, Page]\n",
       "3          [Elon, Musk]\n",
       "4                  None\n",
       "5         [Bill, Gates]\n",
       "6    [Mark, Zuckerberg]\n",
       "7         [Jeff, Bezos]\n",
       "dtype: object"
      ]
     },
     "execution_count": 36,
     "metadata": {},
     "output_type": "execute_result"
    }
   ],
   "source": [
    "names.str.findall( '([A-Za-z]+)' )"
   ]
  }
 ],
 "metadata": {
  "kernelspec": {
   "display_name": "Python 3",
   "language": "python",
   "name": "python3"
  },
  "language_info": {
   "codemirror_mode": {
    "name": "ipython",
    "version": 3
   },
   "file_extension": ".py",
   "mimetype": "text/x-python",
   "name": "python",
   "nbconvert_exporter": "python",
   "pygments_lexer": "ipython3",
   "version": "3.8.8"
  },
  "toc": {
   "base_numbering": 1,
   "nav_menu": {},
   "number_sections": true,
   "sideBar": true,
   "skip_h1_title": false,
   "title_cell": "Table of Contents",
   "title_sidebar": "Contents",
   "toc_cell": false,
   "toc_position": {
    "height": "calc(100% - 180px)",
    "left": "10px",
    "top": "150px",
    "width": "384px"
   },
   "toc_section_display": true,
   "toc_window_display": true
  }
 },
 "nbformat": 4,
 "nbformat_minor": 5
}
