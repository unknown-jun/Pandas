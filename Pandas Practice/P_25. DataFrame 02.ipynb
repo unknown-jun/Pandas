{
 "cells": [
  {
   "cell_type": "markdown",
   "metadata": {},
   "source": [
    "출처: https://www.w3resource.com/python-exercises/pandas/index-dataframe.php"
   ]
  },
  {
   "cell_type": "markdown",
   "metadata": {},
   "source": [
    "41. Write a Pandas program to convert DataFrame column type from string to datetime.    \n",
    "\n",
    "    \n",
    "```\n",
    "Sample data:    \n",
    "\n",
    "String Date:    \n",
    "0 3/11/2000    \n",
    "1 3/12/2000    \n",
    "2 3/13/2000    \n",
    "dtype: object    \n",
    "\n",
    "Original DataFrame (string to datetime):    \n",
    "0    \n",
    "0 2000-03-11    \n",
    "1 2000-03-12    \n",
    "2 2000-03-13    \n",
    "```"
   ]
  },
  {
   "cell_type": "code",
   "execution_count": 1,
   "metadata": {},
   "outputs": [
    {
     "data": {
      "text/plain": [
       "0    3/11/2000\n",
       "1    3/12/2000\n",
       "2    3/13/2000\n",
       "dtype: object"
      ]
     },
     "execution_count": 1,
     "metadata": {},
     "output_type": "execute_result"
    }
   ],
   "source": [
    "import pandas as pd\n",
    "import numpy as np\n",
    "\n",
    "se = pd.Series(['3/11/2000','3/12/2000','3/13/2000'])\n",
    "se"
   ]
  },
  {
   "cell_type": "code",
   "execution_count": 2,
   "metadata": {},
   "outputs": [
    {
     "name": "stdout",
     "output_type": "stream",
     "text": [
      "<class 'pandas.core.frame.DataFrame'>\n",
      "RangeIndex: 3 entries, 0 to 2\n",
      "Data columns (total 1 columns):\n",
      " #   Column  Non-Null Count  Dtype         \n",
      "---  ------  --------------  -----         \n",
      " 0   0       3 non-null      datetime64[ns]\n",
      "dtypes: datetime64[ns](1)\n",
      "memory usage: 152.0 bytes\n",
      "None\n"
     ]
    },
    {
     "data": {
      "text/html": [
       "<div>\n",
       "<style scoped>\n",
       "    .dataframe tbody tr th:only-of-type {\n",
       "        vertical-align: middle;\n",
       "    }\n",
       "\n",
       "    .dataframe tbody tr th {\n",
       "        vertical-align: top;\n",
       "    }\n",
       "\n",
       "    .dataframe thead th {\n",
       "        text-align: right;\n",
       "    }\n",
       "</style>\n",
       "<table border=\"1\" class=\"dataframe\">\n",
       "  <thead>\n",
       "    <tr style=\"text-align: right;\">\n",
       "      <th></th>\n",
       "      <th>0</th>\n",
       "    </tr>\n",
       "  </thead>\n",
       "  <tbody>\n",
       "    <tr>\n",
       "      <th>0</th>\n",
       "      <td>2000-03-11</td>\n",
       "    </tr>\n",
       "    <tr>\n",
       "      <th>1</th>\n",
       "      <td>2000-03-12</td>\n",
       "    </tr>\n",
       "    <tr>\n",
       "      <th>2</th>\n",
       "      <td>2000-03-13</td>\n",
       "    </tr>\n",
       "  </tbody>\n",
       "</table>\n",
       "</div>"
      ],
      "text/plain": [
       "           0\n",
       "0 2000-03-11\n",
       "1 2000-03-12\n",
       "2 2000-03-13"
      ]
     },
     "execution_count": 2,
     "metadata": {},
     "output_type": "execute_result"
    }
   ],
   "source": [
    "df = pd.DataFrame(se)\n",
    "df[0] = pd.to_datetime(df[0])\n",
    "print(df.info())\n",
    "df"
   ]
  },
  {
   "cell_type": "markdown",
   "metadata": {},
   "source": [
    "42. Write a Pandas program to rename a specific column name in a given DataFrame.     \n",
    "\n",
    "```\n",
    "Sample data:    \n",
    "Original DataFrame    \n",
    "col1 col2 col3    \n",
    "0 1 4 7    \n",
    "1 2 5 8    \n",
    "2 3 6 9    \n",
    "\n",
    "New DataFrame after renaming second column:    \n",
    "col1 Column2 col3    \n",
    "0 1 4 7    \n",
    "1 2 5 8    \n",
    "2 3 6 9    \n",
    "```"
   ]
  },
  {
   "cell_type": "code",
   "execution_count": 3,
   "metadata": {},
   "outputs": [
    {
     "data": {
      "text/html": [
       "<div>\n",
       "<style scoped>\n",
       "    .dataframe tbody tr th:only-of-type {\n",
       "        vertical-align: middle;\n",
       "    }\n",
       "\n",
       "    .dataframe tbody tr th {\n",
       "        vertical-align: top;\n",
       "    }\n",
       "\n",
       "    .dataframe thead th {\n",
       "        text-align: right;\n",
       "    }\n",
       "</style>\n",
       "<table border=\"1\" class=\"dataframe\">\n",
       "  <thead>\n",
       "    <tr style=\"text-align: right;\">\n",
       "      <th></th>\n",
       "      <th>col1</th>\n",
       "      <th>Column2</th>\n",
       "      <th>col3</th>\n",
       "    </tr>\n",
       "  </thead>\n",
       "  <tbody>\n",
       "    <tr>\n",
       "      <th>0</th>\n",
       "      <td>1</td>\n",
       "      <td>4</td>\n",
       "      <td>7</td>\n",
       "    </tr>\n",
       "    <tr>\n",
       "      <th>1</th>\n",
       "      <td>2</td>\n",
       "      <td>5</td>\n",
       "      <td>8</td>\n",
       "    </tr>\n",
       "    <tr>\n",
       "      <th>2</th>\n",
       "      <td>3</td>\n",
       "      <td>6</td>\n",
       "      <td>9</td>\n",
       "    </tr>\n",
       "  </tbody>\n",
       "</table>\n",
       "</div>"
      ],
      "text/plain": [
       "   col1  Column2  col3\n",
       "0     1        4     7\n",
       "1     2        5     8\n",
       "2     3        6     9"
      ]
     },
     "execution_count": 3,
     "metadata": {},
     "output_type": "execute_result"
    }
   ],
   "source": [
    "df = pd.DataFrame({'col1':[1, 2, 3],\n",
    "                   'col2':[4, 5, 6],\n",
    "                   'col3':[7, 8, 9]})\n",
    "df = df.rename(columns={'col2':'Column2'})\n",
    "df"
   ]
  },
  {
   "cell_type": "markdown",
   "metadata": {},
   "source": [
    "    \n",
    "    \n",
    "43. Write a Pandas program to get a list of a specified column of a DataFrame.     \n",
    "\n",
    "```\n",
    "Sample data:    \n",
    "Powered by    \n",
    "Original DataFrame    \n",
    "col1 col2 col3    \n",
    "0 1 4 7    \n",
    "1 2 5 8    \n",
    "2 3 6 9    \n",
    "\n",
    "Col2 of the DataFrame to list:    \n",
    "[4, 5, 6]    \n",
    "```\n",
    "    "
   ]
  },
  {
   "cell_type": "code",
   "execution_count": 4,
   "metadata": {},
   "outputs": [
    {
     "data": {
      "text/plain": [
       "[4, 5, 6]"
      ]
     },
     "execution_count": 4,
     "metadata": {},
     "output_type": "execute_result"
    }
   ],
   "source": [
    "df = pd.DataFrame({'col1':[1, 2, 3],\n",
    "                   'col2':[4, 5, 6],\n",
    "                   'col3':[7, 8, 9]})\n",
    "df['col2'].tolist()"
   ]
  },
  {
   "cell_type": "markdown",
   "metadata": {},
   "source": [
    "    \n",
    "44. Write a Pandas program to create a DataFrame from a Numpy array and specify the index column and column headers.     \n",
    "\n",
    "\n",
    "Sample Output:    \n",
    "\n",
    "\n",
    "```\n",
    "Column1 Column2 Column3    \n",
    "Index1 0 0.0 0.0    \n",
    "Index2 0 0.0 0.0    \n",
    "Index3 0 0.0 0.0    \n",
    ".........    \n",
    "Index12 0 0.0 0.0    \n",
    "Index13 0 0.0 0.0    \n",
    "Index14 0 0.0 0.0    \n",
    "Index15 0 0.0 0.0    \n",
    "```\n",
    "    "
   ]
  },
  {
   "cell_type": "code",
   "execution_count": 5,
   "metadata": {},
   "outputs": [
    {
     "data": {
      "text/html": [
       "<div>\n",
       "<style scoped>\n",
       "    .dataframe tbody tr th:only-of-type {\n",
       "        vertical-align: middle;\n",
       "    }\n",
       "\n",
       "    .dataframe tbody tr th {\n",
       "        vertical-align: top;\n",
       "    }\n",
       "\n",
       "    .dataframe thead th {\n",
       "        text-align: right;\n",
       "    }\n",
       "</style>\n",
       "<table border=\"1\" class=\"dataframe\">\n",
       "  <thead>\n",
       "    <tr style=\"text-align: right;\">\n",
       "      <th></th>\n",
       "      <th>Column1</th>\n",
       "      <th>Column2</th>\n",
       "      <th>Column3</th>\n",
       "    </tr>\n",
       "  </thead>\n",
       "  <tbody>\n",
       "    <tr>\n",
       "      <th>Index1</th>\n",
       "      <td>0.0</td>\n",
       "      <td>0.0</td>\n",
       "      <td>0.0</td>\n",
       "    </tr>\n",
       "    <tr>\n",
       "      <th>Index2</th>\n",
       "      <td>0.0</td>\n",
       "      <td>0.0</td>\n",
       "      <td>0.0</td>\n",
       "    </tr>\n",
       "    <tr>\n",
       "      <th>Index3</th>\n",
       "      <td>0.0</td>\n",
       "      <td>0.0</td>\n",
       "      <td>0.0</td>\n",
       "    </tr>\n",
       "    <tr>\n",
       "      <th>Index4</th>\n",
       "      <td>0.0</td>\n",
       "      <td>0.0</td>\n",
       "      <td>0.0</td>\n",
       "    </tr>\n",
       "    <tr>\n",
       "      <th>Index5</th>\n",
       "      <td>0.0</td>\n",
       "      <td>0.0</td>\n",
       "      <td>0.0</td>\n",
       "    </tr>\n",
       "    <tr>\n",
       "      <th>Index6</th>\n",
       "      <td>0.0</td>\n",
       "      <td>0.0</td>\n",
       "      <td>0.0</td>\n",
       "    </tr>\n",
       "    <tr>\n",
       "      <th>Index7</th>\n",
       "      <td>0.0</td>\n",
       "      <td>0.0</td>\n",
       "      <td>0.0</td>\n",
       "    </tr>\n",
       "    <tr>\n",
       "      <th>Index8</th>\n",
       "      <td>0.0</td>\n",
       "      <td>0.0</td>\n",
       "      <td>0.0</td>\n",
       "    </tr>\n",
       "    <tr>\n",
       "      <th>Index9</th>\n",
       "      <td>0.0</td>\n",
       "      <td>0.0</td>\n",
       "      <td>0.0</td>\n",
       "    </tr>\n",
       "    <tr>\n",
       "      <th>Index10</th>\n",
       "      <td>0.0</td>\n",
       "      <td>0.0</td>\n",
       "      <td>0.0</td>\n",
       "    </tr>\n",
       "    <tr>\n",
       "      <th>Index11</th>\n",
       "      <td>0.0</td>\n",
       "      <td>0.0</td>\n",
       "      <td>0.0</td>\n",
       "    </tr>\n",
       "    <tr>\n",
       "      <th>Index12</th>\n",
       "      <td>0.0</td>\n",
       "      <td>0.0</td>\n",
       "      <td>0.0</td>\n",
       "    </tr>\n",
       "    <tr>\n",
       "      <th>Index13</th>\n",
       "      <td>0.0</td>\n",
       "      <td>0.0</td>\n",
       "      <td>0.0</td>\n",
       "    </tr>\n",
       "    <tr>\n",
       "      <th>Index14</th>\n",
       "      <td>0.0</td>\n",
       "      <td>0.0</td>\n",
       "      <td>0.0</td>\n",
       "    </tr>\n",
       "    <tr>\n",
       "      <th>Index15</th>\n",
       "      <td>0.0</td>\n",
       "      <td>0.0</td>\n",
       "      <td>0.0</td>\n",
       "    </tr>\n",
       "  </tbody>\n",
       "</table>\n",
       "</div>"
      ],
      "text/plain": [
       "         Column1  Column2  Column3\n",
       "Index1       0.0      0.0      0.0\n",
       "Index2       0.0      0.0      0.0\n",
       "Index3       0.0      0.0      0.0\n",
       "Index4       0.0      0.0      0.0\n",
       "Index5       0.0      0.0      0.0\n",
       "Index6       0.0      0.0      0.0\n",
       "Index7       0.0      0.0      0.0\n",
       "Index8       0.0      0.0      0.0\n",
       "Index9       0.0      0.0      0.0\n",
       "Index10      0.0      0.0      0.0\n",
       "Index11      0.0      0.0      0.0\n",
       "Index12      0.0      0.0      0.0\n",
       "Index13      0.0      0.0      0.0\n",
       "Index14      0.0      0.0      0.0\n",
       "Index15      0.0      0.0      0.0"
      ]
     },
     "execution_count": 5,
     "metadata": {},
     "output_type": "execute_result"
    }
   ],
   "source": [
    "zero_values = np.zeros((15, 3))\n",
    "col = ['Column1','Column2','Column3']\n",
    "\n",
    "index= []\n",
    "for i in range(1, 16):\n",
    "    index.append('Index'+str(i))\n",
    "\n",
    "df = pd.DataFrame(data=zero_values,\n",
    "                  columns=col,\n",
    "                  index=index)\n",
    "df"
   ]
  },
  {
   "cell_type": "markdown",
   "metadata": {},
   "source": [
    "    \n",
    "45. Write a Pandas program to find the row for where the value of a given column is maximum.     \n",
    "\n",
    "\n",
    "Sample Output:    \n",
    "\n",
    "\n",
    "```\n",
    "Original DataFrame    \n",
    "col1 col2 col3    \n",
    "0 1 4 7    \n",
    "1 2 5 8    \n",
    "2 3 6 12    \n",
    "3 4 9 1    \n",
    "4 7 5 11    \n",
    "\n",
    "Row where col1 has maximum value:    \n",
    "4    \n",
    "\n",
    "Row where col2 has maximum value:  \n",
    "3    \n",
    "\n",
    "Row where col3 has maximum value:    \n",
    "2    \n",
    "```\n",
    "    \n",
    "    "
   ]
  },
  {
   "cell_type": "code",
   "execution_count": 6,
   "metadata": {},
   "outputs": [],
   "source": [
    "df = pd.DataFrame({'col1':[1, 2, 3, 4, 7],\n",
    "                   'col2':[4, 5, 6, 9, 5],\n",
    "                   'col3':[7, 8, 12, 1, 11]})\n",
    "# print(\"Row where col1 has maximum value: \\n\", df.index(df.col1.max()))\n",
    "# print(\"Row where col2 has maximum value: \\n\", df.col2.max())\n"
   ]
  },
  {
   "cell_type": "markdown",
   "metadata": {},
   "source": [
    "46. Write a Pandas program to check whether a given column is present in a DataFrame or not.     \n",
    "\n",
    "```\n",
    "Sample data:    \n",
    "\n",
    "Original DataFrame    \n",
    "col1 col2 col3    \n",
    "0 1 4 7    \n",
    "1 2 5 8    \n",
    "2 3 6 12    \n",
    "3 4 9 1    \n",
    "4 7 5 11    \n",
    "Col4 is not present in DataFrame.    \n",
    "Col1 is present in DataFrame.    \n",
    "    \n",
    "    "
   ]
  },
  {
   "cell_type": "code",
   "execution_count": 16,
   "metadata": {},
   "outputs": [
    {
     "data": {
      "text/html": [
       "<div>\n",
       "<style scoped>\n",
       "    .dataframe tbody tr th:only-of-type {\n",
       "        vertical-align: middle;\n",
       "    }\n",
       "\n",
       "    .dataframe tbody tr th {\n",
       "        vertical-align: top;\n",
       "    }\n",
       "\n",
       "    .dataframe thead th {\n",
       "        text-align: right;\n",
       "    }\n",
       "</style>\n",
       "<table border=\"1\" class=\"dataframe\">\n",
       "  <thead>\n",
       "    <tr style=\"text-align: right;\">\n",
       "      <th></th>\n",
       "      <th>col1</th>\n",
       "      <th>col2</th>\n",
       "      <th>col3</th>\n",
       "    </tr>\n",
       "  </thead>\n",
       "  <tbody>\n",
       "    <tr>\n",
       "      <th>0</th>\n",
       "      <td>1</td>\n",
       "      <td>4</td>\n",
       "      <td>7</td>\n",
       "    </tr>\n",
       "    <tr>\n",
       "      <th>1</th>\n",
       "      <td>2</td>\n",
       "      <td>5</td>\n",
       "      <td>8</td>\n",
       "    </tr>\n",
       "    <tr>\n",
       "      <th>2</th>\n",
       "      <td>3</td>\n",
       "      <td>6</td>\n",
       "      <td>12</td>\n",
       "    </tr>\n",
       "    <tr>\n",
       "      <th>3</th>\n",
       "      <td>4</td>\n",
       "      <td>9</td>\n",
       "      <td>1</td>\n",
       "    </tr>\n",
       "    <tr>\n",
       "      <th>4</th>\n",
       "      <td>7</td>\n",
       "      <td>5</td>\n",
       "      <td>11</td>\n",
       "    </tr>\n",
       "  </tbody>\n",
       "</table>\n",
       "</div>"
      ],
      "text/plain": [
       "   col1  col2  col3\n",
       "0     1     4     7\n",
       "1     2     5     8\n",
       "2     3     6    12\n",
       "3     4     9     1\n",
       "4     7     5    11"
      ]
     },
     "execution_count": 16,
     "metadata": {},
     "output_type": "execute_result"
    }
   ],
   "source": [
    "df = pd.DataFrame({'col1':[1, 2, 3, 4, 7],\n",
    "                   'col2':[4, 5, 6, 9, 5],\n",
    "                   'col3':[7, 8, 12, 1, 11]})\n",
    "df"
   ]
  },
  {
   "cell_type": "code",
   "execution_count": 15,
   "metadata": {},
   "outputs": [
    {
     "name": "stdout",
     "output_type": "stream",
     "text": [
      "col4\n",
      "col4 is not present in DataFrame\n"
     ]
    }
   ],
   "source": [
    "a = input()\n",
    "\n",
    "if a in df.columns:\n",
    "    print(\"{} is present in DataFrame\".format(a))\n",
    "else:\n",
    "    print(\"{} is not present in DataFrame\".format(a))"
   ]
  },
  {
   "cell_type": "markdown",
   "metadata": {},
   "source": [
    "47. Write a Pandas program to get the specified row value of a given DataFrame.     \n",
    "\n",
    "\n",
    "Sample data:    \n",
    "\n",
    "```\n",
    "Original DataFrame    \n",
    "col1 col2 col3    \n",
    "0 1 4 7    \n",
    "1 2 5 8    \n",
    "2 3 6 12    \n",
    "3 4 9 1    \n",
    "4 7 5 11    \n",
    "\n",
    "Value of Row 1  \n",
    "col1 1    \n",
    "col2 4    \n",
    "col3 7    \n",
    "Name: 0, dtype: int64    \n",
    "\n",
    "Value of Row4    \n",
    "col1 4    \n",
    "col2 9    \n",
    "col3 1    \n",
    "Name: 3, dtype: int64    \n",
    "```\n",
    "    "
   ]
  },
  {
   "cell_type": "code",
   "execution_count": 18,
   "metadata": {},
   "outputs": [
    {
     "data": {
      "text/plain": [
       "Index(['col1', 'col2', 'col3'], dtype='object')"
      ]
     },
     "execution_count": 18,
     "metadata": {},
     "output_type": "execute_result"
    }
   ],
   "source": [
    "df = pd.DataFrame({'col1':[1, 2, 3, 4, 7],\n",
    "                   'col2':[4, 5, 6, 9, 5],\n",
    "                   'col3':[7, 8, 12, 1, 11]})\n",
    "df.columns"
   ]
  },
  {
   "cell_type": "code",
   "execution_count": 28,
   "metadata": {},
   "outputs": [
    {
     "name": "stdout",
     "output_type": "stream",
     "text": [
      "Value of Row4\n"
     ]
    },
    {
     "data": {
      "text/plain": [
       "col1    4\n",
       "col2    9\n",
       "col3    1\n",
       "dtype: int64"
      ]
     },
     "execution_count": 28,
     "metadata": {},
     "output_type": "execute_result"
    }
   ],
   "source": [
    "def get_row(row_num):\n",
    "    print(\"Value of Row{}\".format(row_num))\n",
    "    return pd.Series(df.values[row_num -1], index=df.columns)\n",
    "\n",
    "get_row(4)"
   ]
  },
  {
   "cell_type": "code",
   "execution_count": 30,
   "metadata": {},
   "outputs": [
    {
     "name": "stdout",
     "output_type": "stream",
     "text": [
      "Value of Row 1\n"
     ]
    },
    {
     "data": {
      "text/plain": [
       "col1    1\n",
       "col2    4\n",
       "col3    7\n",
       "Name: 0, dtype: int64"
      ]
     },
     "execution_count": 30,
     "metadata": {},
     "output_type": "execute_result"
    }
   ],
   "source": [
    "print(\"Value of Row 1\")\n",
    "df.iloc[0]"
   ]
  },
  {
   "cell_type": "code",
   "execution_count": 31,
   "metadata": {},
   "outputs": [
    {
     "name": "stdout",
     "output_type": "stream",
     "text": [
      "Value of Row 4\n"
     ]
    },
    {
     "data": {
      "text/plain": [
       "col1     7\n",
       "col2     5\n",
       "col3    11\n",
       "Name: 4, dtype: int64"
      ]
     },
     "execution_count": 31,
     "metadata": {},
     "output_type": "execute_result"
    }
   ],
   "source": [
    "print(\"Value of Row 4\")\n",
    "df.iloc[4]"
   ]
  },
  {
   "cell_type": "markdown",
   "metadata": {},
   "source": [
    "48. Write a Pandas program to get the datatypes of columns of a DataFrame.     \n",
    "\n",
    "\n",
    "Sample data:    \n",
    "\n",
    "```\n",
    "Original DataFrame:    \n",
    "attempts name qualify score    \n",
    "0 1 Anastasia yes 12.5    \n",
    "1 3 Dima no 9.0    \n",
    ".......    \n",
    "8 2 Kevin no 8.0    \n",
    "9 1 Jonas yes 19.0    \n",
    "\n",
    "Data types of the columns of the said DataFrame:    \n",
    "attempts int64    \n",
    "name object    \n",
    "qualify object    \n",
    "score float64    \n",
    "dtype: object    \n",
    "```\n",
    "    \n",
    "    "
   ]
  },
  {
   "cell_type": "code",
   "execution_count": 39,
   "metadata": {},
   "outputs": [
    {
     "data": {
      "text/plain": [
       "name         object\n",
       "score       float64\n",
       "attempts      int64\n",
       "qualify      object\n",
       "dtype: object"
      ]
     },
     "execution_count": 39,
     "metadata": {},
     "output_type": "execute_result"
    }
   ],
   "source": [
    "exam_data = {'name': ['Anastasia', 'Dima', 'Katherine', 'James', 'Emily', 'Michael', 'Matthew', 'Laura', 'Kevin', 'Jonas'],\n",
    "        'score': [12.5, 9, 16.5, np.nan, 9, 20, 14.5, np.nan, 8, 19],\n",
    "        'attempts': [1, 3, 2, 3, 2, 3, 1, 1, 2, 1],\n",
    "        'qualify': ['yes', 'no', 'yes', 'no', 'no', 'yes', 'yes', 'no', 'no', 'yes']}\n",
    "df = pd.DataFrame(exam_data)\n",
    "df.dtypes"
   ]
  },
  {
   "cell_type": "markdown",
   "metadata": {},
   "source": [
    "49. Write a Pandas program to append data to an empty DataFrame.     \n",
    "\n",
    "Sample data:    \n",
    "\n",
    "```\n",
    "Original DataFrame:    \n",
    "After appending some data:    \n",
    "col1 col2    \n",
    "0 0 0    \n",
    "1 1 1    \n",
    "2 2 2    \n",
    "```\n",
    "    \n",
    "    "
   ]
  },
  {
   "cell_type": "code",
   "execution_count": 44,
   "metadata": {},
   "outputs": [
    {
     "data": {
      "text/html": [
       "<div>\n",
       "<style scoped>\n",
       "    .dataframe tbody tr th:only-of-type {\n",
       "        vertical-align: middle;\n",
       "    }\n",
       "\n",
       "    .dataframe tbody tr th {\n",
       "        vertical-align: top;\n",
       "    }\n",
       "\n",
       "    .dataframe thead th {\n",
       "        text-align: right;\n",
       "    }\n",
       "</style>\n",
       "<table border=\"1\" class=\"dataframe\">\n",
       "  <thead>\n",
       "    <tr style=\"text-align: right;\">\n",
       "      <th></th>\n",
       "      <th>col1</th>\n",
       "      <th>col2</th>\n",
       "    </tr>\n",
       "  </thead>\n",
       "  <tbody>\n",
       "    <tr>\n",
       "      <th>0</th>\n",
       "      <td>0</td>\n",
       "      <td>0</td>\n",
       "    </tr>\n",
       "    <tr>\n",
       "      <th>1</th>\n",
       "      <td>1</td>\n",
       "      <td>1</td>\n",
       "    </tr>\n",
       "    <tr>\n",
       "      <th>2</th>\n",
       "      <td>2</td>\n",
       "      <td>2</td>\n",
       "    </tr>\n",
       "  </tbody>\n",
       "</table>\n",
       "</div>"
      ],
      "text/plain": [
       "   col1  col2\n",
       "0     0     0\n",
       "1     1     1\n",
       "2     2     2"
      ]
     },
     "execution_count": 44,
     "metadata": {},
     "output_type": "execute_result"
    }
   ],
   "source": [
    "tmp_df = pd.DataFrame()\n",
    "tmp_df['col1']=[0, 1, 2]\n",
    "tmp_df['col2']=[0, 1, 2]\n",
    "tmp_df"
   ]
  },
  {
   "cell_type": "markdown",
   "metadata": {},
   "source": [
    "50. Write a Pandas program to sort a given DataFrame by two or more columns.     \n",
    "\n",
    "\n",
    "Sample data:    \n",
    "\n",
    "```\n",
    "Original DataFrame:    \n",
    "attempts name qualify score    \n",
    "0 1 Anastasia yes 12.5    \n",
    "1 3 Dima no 9.0    \n",
    "........    \n",
    "8 2 Kevin no 8.0    \n",
    "9 1 Jonas yes 19.0    \n",
    "\n",
    "Sort the above DataFrame on attempts, name:    \n",
    "attempts name qualify score    \n",
    "0 1 Anastasia yes 12.5    \n",
    "9 1 Jonas yes 19.0    \n",
    "7 1 Laura no NaN    \n",
    "6 1 Matthew yes 14.5    \n",
    "4 2 Emily no 9.0    \n",
    "2 2 Katherine yes 16.5    \n",
    "8 2 Kevin no 8.0    \n",
    "1 3 Dima no 9.0    \n",
    "3 3 James no NaN    \n",
    "5 3 Michael yes 20.0    \n",
    "```\n",
    "    \n",
    "    "
   ]
  },
  {
   "cell_type": "code",
   "execution_count": 52,
   "metadata": {},
   "outputs": [
    {
     "data": {
      "text/html": [
       "<div>\n",
       "<style scoped>\n",
       "    .dataframe tbody tr th:only-of-type {\n",
       "        vertical-align: middle;\n",
       "    }\n",
       "\n",
       "    .dataframe tbody tr th {\n",
       "        vertical-align: top;\n",
       "    }\n",
       "\n",
       "    .dataframe thead th {\n",
       "        text-align: right;\n",
       "    }\n",
       "</style>\n",
       "<table border=\"1\" class=\"dataframe\">\n",
       "  <thead>\n",
       "    <tr style=\"text-align: right;\">\n",
       "      <th></th>\n",
       "      <th>attempts</th>\n",
       "      <th>name</th>\n",
       "      <th>qualify</th>\n",
       "      <th>score</th>\n",
       "    </tr>\n",
       "  </thead>\n",
       "  <tbody>\n",
       "    <tr>\n",
       "      <th>0</th>\n",
       "      <td>1</td>\n",
       "      <td>Anastasia</td>\n",
       "      <td>yes</td>\n",
       "      <td>12.5</td>\n",
       "    </tr>\n",
       "    <tr>\n",
       "      <th>9</th>\n",
       "      <td>1</td>\n",
       "      <td>Jonas</td>\n",
       "      <td>yes</td>\n",
       "      <td>19.0</td>\n",
       "    </tr>\n",
       "    <tr>\n",
       "      <th>7</th>\n",
       "      <td>1</td>\n",
       "      <td>Laura</td>\n",
       "      <td>no</td>\n",
       "      <td>NaN</td>\n",
       "    </tr>\n",
       "    <tr>\n",
       "      <th>6</th>\n",
       "      <td>1</td>\n",
       "      <td>Matthew</td>\n",
       "      <td>yes</td>\n",
       "      <td>14.5</td>\n",
       "    </tr>\n",
       "    <tr>\n",
       "      <th>4</th>\n",
       "      <td>2</td>\n",
       "      <td>Emily</td>\n",
       "      <td>no</td>\n",
       "      <td>9.0</td>\n",
       "    </tr>\n",
       "    <tr>\n",
       "      <th>2</th>\n",
       "      <td>2</td>\n",
       "      <td>Katherine</td>\n",
       "      <td>yes</td>\n",
       "      <td>16.5</td>\n",
       "    </tr>\n",
       "    <tr>\n",
       "      <th>8</th>\n",
       "      <td>2</td>\n",
       "      <td>Kevin</td>\n",
       "      <td>no</td>\n",
       "      <td>8.0</td>\n",
       "    </tr>\n",
       "    <tr>\n",
       "      <th>1</th>\n",
       "      <td>3</td>\n",
       "      <td>Dima</td>\n",
       "      <td>no</td>\n",
       "      <td>9.0</td>\n",
       "    </tr>\n",
       "    <tr>\n",
       "      <th>3</th>\n",
       "      <td>3</td>\n",
       "      <td>James</td>\n",
       "      <td>no</td>\n",
       "      <td>NaN</td>\n",
       "    </tr>\n",
       "    <tr>\n",
       "      <th>5</th>\n",
       "      <td>3</td>\n",
       "      <td>Michael</td>\n",
       "      <td>yes</td>\n",
       "      <td>20.0</td>\n",
       "    </tr>\n",
       "  </tbody>\n",
       "</table>\n",
       "</div>"
      ],
      "text/plain": [
       "   attempts       name qualify  score\n",
       "0         1  Anastasia     yes   12.5\n",
       "9         1      Jonas     yes   19.0\n",
       "7         1      Laura      no    NaN\n",
       "6         1    Matthew     yes   14.5\n",
       "4         2      Emily      no    9.0\n",
       "2         2  Katherine     yes   16.5\n",
       "8         2      Kevin      no    8.0\n",
       "1         3       Dima      no    9.0\n",
       "3         3      James      no    NaN\n",
       "5         3    Michael     yes   20.0"
      ]
     },
     "execution_count": 52,
     "metadata": {},
     "output_type": "execute_result"
    }
   ],
   "source": [
    "df1 = df.sort_values(by=['attempts', 'name'])\n",
    "df1[['attempts','name','qualify','score']]"
   ]
  },
  {
   "cell_type": "markdown",
   "metadata": {},
   "source": [
    "51. Write a Pandas program to convert the datatype of a given column (floats to ints).     \n",
    "\n",
    "Sample data:    \n",
    "\n",
    "```\n",
    "Original DataFrame:    \n",
    "attempts name qualify score    \n",
    "0 1 Anastasia yes 12.50    \n",
    "1 3 Dima no 9.10    \n",
    "......    \n",
    "8 2 Kevin no 8.80    \n",
    "9 1 Jonas yes 19.13    \n",
    "Data types of the columns of the said DataFrame:    \n",
    "attempts int64    \n",
    "name object    \n",
    "qualify object    \n",
    "score float64    \n",
    "dtype: object    \n",
    "\n",
    "\n",
    "Now change the Data type of 'score' column from float to int:    \n",
    "attempts name qualify score    \n",
    "0 1 Anastasia yes 12    \n",
    "1 3 Dima no 9    \n",
    "2 2 Katherine yes 16    \n",
    "3 3 James no 12    \n",
    "4 2 Emily no 9    \n",
    "5 3 Michael yes 20    \n",
    "6 1 Matthew yes 14    \n",
    "7 1 Laura no 11    \n",
    "8 2 Kevin no 8    \n",
    "9 1 Jonas yes 19    \n",
    "Data types of the columns of the DataFrame now:    \n",
    "attempts int64    \n",
    "name object    \n",
    "qualify object    \n",
    "score int64    \n",
    "dtype: object    \n",
    "    \n",
    "```"
   ]
  },
  {
   "cell_type": "markdown",
   "metadata": {},
   "source": [
    "52. Write a Pandas program to remove infinite values from a given DataFrame.     \n",
    "\n",
    "\n",
    "Sample data:    \n",
    "\n",
    "```\n",
    "Original DataFrame:    \n",
    "0    \n",
    "0 1000.000000    \n",
    "1 2000.000000    \n",
    "2 3000.000000    \n",
    "3 -4000.000000    \n",
    "4 inf    \n",
    "5 -inf    \n",
    "\n",
    "Removing infinite values:    \n",
    "0    \n",
    "0 1000.0    \n",
    "1 2000.0    \n",
    "2 3000.0    \n",
    "3 -4000.0    \n",
    "4 NaN    \n",
    "5 NaN    \n",
    "```\n",
    "    \n",
    "    "
   ]
  },
  {
   "cell_type": "markdown",
   "metadata": {},
   "source": [
    "53. Write a Pandas program to insert a given column at a specific column index in a DataFrame.   \n",
    "\n",
    "Sample data:    \n",
    "\n",
    "```\n",
    "Original DataFrame    \n",
    "col2 col3    \n",
    "0 4 7    \n",
    "1 5 8    \n",
    "2 6 12    \n",
    "3 9 1    \n",
    "4 5 11    \n",
    "\n",
    "New DataFrame    \n",
    "col1 col2 col3    \n",
    "0 1 4 7    \n",
    "1 2 5 8    \n",
    "2 3 6 12    \n",
    "3 4 9 1    \n",
    "4 7 5 11    \n",
    "```\n",
    "    \n",
    "    "
   ]
  },
  {
   "cell_type": "markdown",
   "metadata": {},
   "source": [
    "54. Write a Pandas program to convert a given list of lists into a Dataframe.     \n",
    "\n",
    "Sample data:    \n",
    "\n",
    "```\n",
    "Original list of lists:    \n",
    "[[2, 4], [1, 3]]    \n",
    "\n",
    "New DataFrame    \n",
    "col1 col2    \n",
    "0 2 4    \n",
    "1 1 3    \n",
    "```\n",
    "    \n",
    "    "
   ]
  },
  {
   "cell_type": "markdown",
   "metadata": {},
   "source": [
    "55. Write a Pandas program to group by the first column and get second column as lists in rows.     \n",
    "\n",
    "Sample data:    \n",
    "\n",
    "```\n",
    "Original DataFrame    \n",
    "col1 col2    \n",
    "0 C1 1    \n",
    "1 C1 2    \n",
    "2 C2 3    \n",
    "3 C2 3    \n",
    "4 C2 4    \n",
    "5 C3 6    \n",
    "6 C2 5    \n",
    "\n",
    "Group on the col1:    \n",
    "col1    \n",
    "C1 [1, 2]    \n",
    "C2 [3, 3, 4, 5]    \n",
    "C3 [6]    \n",
    "\n",
    "Name: col2, dtype: object    \n",
    "```\n",
    "    \n",
    "    "
   ]
  },
  {
   "cell_type": "markdown",
   "metadata": {},
   "source": [
    "56. Write a Pandas program to get column index from column name of a given DataFrame.    \n",
    "\n",
    "Sample Output:    \n",
    "\n",
    "```\n",
    "Original DataFrame    \n",
    "\n",
    "col1 col2 col3    \n",
    "0 1 4 7    \n",
    "1 2 5 8    \n",
    "2 3 6 12    \n",
    "3 4 9 1    \n",
    "4 7 5 11    \n",
    "Index of 'col2'    \n",
    "1    \n",
    "```\n",
    "    \n",
    "    "
   ]
  },
  {
   "cell_type": "markdown",
   "metadata": {},
   "source": [
    "57. Write a Pandas program to count number of columns of a DataFrame.     \n",
    "\n",
    "Sample Output:    \n",
    "\n",
    "```\n",
    "Original DataFrame    \n",
    "col1 col2 col3    \n",
    "0 1 4 7    \n",
    "1 2 5 8    \n",
    "2 3 6 12    \n",
    "3 4 9 1    \n",
    "4 7 5 11    \n",
    "\n",
    "Number of columns:    \n",
    "3    \n",
    "```\n",
    "    \n",
    "    "
   ]
  },
  {
   "cell_type": "markdown",
   "metadata": {},
   "source": [
    "58. Write a Pandas program to select all columns, except one given column in a DataFrame.  \n",
    "\n",
    "Sample Output:    \n",
    "\n",
    "```\n",
    "Original DataFrame    \n",
    "col1 col2 col3    \n",
    "0 1 4 7    \n",
    "1 2 5 8    \n",
    "2 3 6 12    \n",
    "3 4 9 1    \n",
    "4 7 5 11    \n",
    "All columns except 'col3':    \n",
    "col1 col2    \n",
    "0 1 4    \n",
    "1 2 5    \n",
    "2 3 6    \n",
    "3 4 9    \n",
    "4 7 5    \n",
    "```\n",
    "    \n",
    "    \n",
    "    "
   ]
  },
  {
   "cell_type": "markdown",
   "metadata": {},
   "source": [
    "59. Write a Pandas program to get first n records of a DataFrame.     \n",
    "\n",
    "Sample Output:    \n",
    "\n",
    "\n",
    "```\n",
    "Original DataFrame    \n",
    "col1 col2 col3    \n",
    "0 1 4 7    \n",
    "1 2 5 5    \n",
    "2 3 6 8    \n",
    "3 4 9 12    \n",
    "4 7 5 1    \n",
    "5 11 0 11    \n",
    "First 3 rows of the said DataFrame':    \n",
    "col1 col2 col3    \n",
    "0 1 4 7    \n",
    "1 2 5 5    \n",
    "2 3 6 8    \n",
    "```\n",
    "    \n",
    "    "
   ]
  },
  {
   "cell_type": "markdown",
   "metadata": {},
   "source": [
    "60. Write a Pandas program to get last n records of a DataFrame.     \n",
    "\n",
    "```\n",
    "Sample Output:    \n",
    "Original DataFrame    \n",
    "col1 col2 col3    \n",
    "0 1 4 7    \n",
    "1 2 5 5    \n",
    "2 3 6 8    \n",
    "3 4 9 12    \n",
    "4 7 5 1    \n",
    "5 11 0 11    \n",
    "\n",
    "Last 3 rows of the said DataFrame':    \n",
    "col1 col2 col3    \n",
    "3 4 9 12    \n",
    "4 7 5 1    \n",
    "5 11 0 11\n",
    "```\n",
    "    "
   ]
  }
 ],
 "metadata": {
  "kernelspec": {
   "display_name": "Python 3",
   "language": "python",
   "name": "python3"
  },
  "language_info": {
   "codemirror_mode": {
    "name": "ipython",
    "version": 3
   },
   "file_extension": ".py",
   "mimetype": "text/x-python",
   "name": "python",
   "nbconvert_exporter": "python",
   "pygments_lexer": "ipython3",
   "version": "3.8.8"
  },
  "toc": {
   "base_numbering": 1,
   "nav_menu": {},
   "number_sections": true,
   "sideBar": true,
   "skip_h1_title": false,
   "title_cell": "Table of Contents",
   "title_sidebar": "Contents",
   "toc_cell": false,
   "toc_position": {},
   "toc_section_display": true,
   "toc_window_display": false
  }
 },
 "nbformat": 4,
 "nbformat_minor": 4
}
