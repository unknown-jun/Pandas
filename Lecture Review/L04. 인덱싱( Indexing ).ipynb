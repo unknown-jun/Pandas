{
 "cells": [
  {
   "cell_type": "markdown",
   "id": "2cd6da9a",
   "metadata": {},
   "source": [
    "## 인덱싱( Indexing )"
   ]
  },
  {
   "cell_type": "code",
   "execution_count": 45,
   "id": "3196373c",
   "metadata": {},
   "outputs": [
    {
     "data": {
      "text/plain": [
       "a    0.00\n",
       "b    0.25\n",
       "c    0.50\n",
       "d    0.75\n",
       "e    1.00\n",
       "dtype: float64"
      ]
     },
     "execution_count": 45,
     "metadata": {},
     "output_type": "execute_result"
    }
   ],
   "source": [
    "s = pd.Series([0, 0.25, 0.5, 0.75, 1.0], \n",
    "             index = ['a','b','c','d','e'])\n",
    "s"
   ]
  },
  {
   "cell_type": "code",
   "execution_count": 46,
   "id": "927791ce",
   "metadata": {},
   "outputs": [
    {
     "data": {
      "text/plain": [
       "0.25"
      ]
     },
     "execution_count": 46,
     "metadata": {},
     "output_type": "execute_result"
    }
   ],
   "source": [
    "s[1] # index 번호로도 slicing이 가능"
   ]
  },
  {
   "cell_type": "code",
   "execution_count": 47,
   "id": "96fc4933",
   "metadata": {},
   "outputs": [
    {
     "data": {
      "text/plain": [
       "0.25"
      ]
     },
     "execution_count": 47,
     "metadata": {},
     "output_type": "execute_result"
    }
   ],
   "source": [
    "s['b'] # index의 이름으로도 slicing이 가능"
   ]
  },
  {
   "cell_type": "code",
   "execution_count": 48,
   "id": "c9d97541",
   "metadata": {},
   "outputs": [
    {
     "data": {
      "text/plain": [
       "Index(['a', 'b', 'c', 'd', 'e'], dtype='object')"
      ]
     },
     "execution_count": 48,
     "metadata": {},
     "output_type": "execute_result"
    }
   ],
   "source": [
    "s.keys() # keys를 쓰면 Series의 index 값을 반환한다."
   ]
  },
  {
   "cell_type": "code",
   "execution_count": 49,
   "id": "128fddd8",
   "metadata": {
    "scrolled": true
   },
   "outputs": [
    {
     "data": {
      "text/plain": [
       "1      b\n",
       "2      c\n",
       "3      d\n",
       "4      e\n",
       "5    NaN\n",
       "0      a\n",
       "dtype: object"
      ]
     },
     "execution_count": 49,
     "metadata": {},
     "output_type": "execute_result"
    }
   ],
   "source": [
    "a = pd.Series(index=[1, 2, 3, 4, 5])\n",
    "for i, j in enumerate(s.keys()):\n",
    "    a[i] = j\n",
    "a"
   ]
  },
  {
   "cell_type": "code",
   "execution_count": 50,
   "id": "b52cac92",
   "metadata": {},
   "outputs": [
    {
     "data": {
      "text/plain": [
       "[('a', 0.0), ('b', 0.25), ('c', 0.5), ('d', 0.75), ('e', 1.0)]"
      ]
     },
     "execution_count": 50,
     "metadata": {},
     "output_type": "execute_result"
    }
   ],
   "source": [
    "list(s.items()) # items( )메세드는 Series의 index값과 value들을 튜플로 반환한다."
   ]
  },
  {
   "cell_type": "code",
   "execution_count": 51,
   "id": "2d0e3019",
   "metadata": {},
   "outputs": [
    {
     "data": {
      "text/plain": [
       "a    0.00\n",
       "b    0.25\n",
       "c    0.50\n",
       "d    0.75\n",
       "e    1.00\n",
       "f    1.25\n",
       "dtype: float64"
      ]
     },
     "execution_count": 51,
     "metadata": {},
     "output_type": "execute_result"
    }
   ],
   "source": [
    "s['f']= 1.25  # dictionary형태로 Series에 새로운 index와 value를 입력하면 새로운 셀을 추가할 수 있다.\n",
    "s"
   ]
  },
  {
   "cell_type": "code",
   "execution_count": 52,
   "id": "1c92f1b2",
   "metadata": {},
   "outputs": [
    {
     "data": {
      "text/plain": [
       "a    0.00\n",
       "b    0.25\n",
       "c    0.50\n",
       "d    0.75\n",
       "dtype: float64"
      ]
     },
     "execution_count": 52,
     "metadata": {},
     "output_type": "execute_result"
    }
   ],
   "source": [
    "s['a':'d']"
   ]
  },
  {
   "cell_type": "code",
   "execution_count": 53,
   "id": "9a133001",
   "metadata": {},
   "outputs": [
    {
     "data": {
      "text/plain": [
       "c    0.50\n",
       "d    0.75\n",
       "dtype: float64"
      ]
     },
     "execution_count": 53,
     "metadata": {},
     "output_type": "execute_result"
    }
   ],
   "source": [
    "s[ (s > 0.4) & (s < 0.8) ]"
   ]
  },
  {
   "cell_type": "code",
   "execution_count": 54,
   "id": "36edbaa8",
   "metadata": {},
   "outputs": [
    {
     "name": "stdout",
     "output_type": "stream",
     "text": [
      "a     1\n",
      "b     2\n",
      "c     3\n",
      "d     4\n",
      "e     5\n",
      "f     6\n",
      "g     7\n",
      "h     8\n",
      "i     9\n",
      "j    10\n",
      "dtype: int64\n"
     ]
    },
    {
     "data": {
      "text/plain": [
       "c    3\n",
       "d    4\n",
       "e    5\n",
       "f    6\n",
       "dtype: int64"
      ]
     },
     "execution_count": 54,
     "metadata": {},
     "output_type": "execute_result"
    }
   ],
   "source": [
    "d = pd.Series(data=range(1, 11), index=['a','b','c','d','e','f','g','h','i','j'])\n",
    "print(d, end='\\n')\n",
    "d [ (d > 2) & (d < 7) ]"
   ]
  },
  {
   "cell_type": "code",
   "execution_count": 55,
   "id": "784317ac",
   "metadata": {},
   "outputs": [
    {
     "data": {
      "text/plain": [
       "a     1\n",
       "b     2\n",
       "c     3\n",
       "j    10\n",
       "dtype: int64"
      ]
     },
     "execution_count": 55,
     "metadata": {},
     "output_type": "execute_result"
    }
   ],
   "source": [
    "d[ (d < 4 ) | (d > 9) ]"
   ]
  },
  {
   "cell_type": "markdown",
   "id": "b2d35217",
   "metadata": {},
   "source": [
    "### Series 인덱싱"
   ]
  },
  {
   "cell_type": "code",
   "execution_count": 56,
   "id": "5565c021",
   "metadata": {},
   "outputs": [
    {
     "data": {
      "text/plain": [
       "1    a\n",
       "3    b\n",
       "5    c\n",
       "7    d\n",
       "9    e\n",
       "dtype: object"
      ]
     },
     "execution_count": 56,
     "metadata": {},
     "output_type": "execute_result"
    }
   ],
   "source": [
    "s = pd.Series(['a','b','c','d','e'],\n",
    "              index=[1, 3, 5, 7, 9])\n",
    "s"
   ]
  },
  {
   "cell_type": "code",
   "execution_count": 57,
   "id": "4dfd2531",
   "metadata": {},
   "outputs": [
    {
     "data": {
      "text/plain": [
       "'a'"
      ]
     },
     "execution_count": 57,
     "metadata": {},
     "output_type": "execute_result"
    }
   ],
   "source": [
    "s[1]"
   ]
  },
  {
   "cell_type": "code",
   "execution_count": 58,
   "id": "49712ad3",
   "metadata": {},
   "outputs": [
    {
     "data": {
      "text/plain": [
       "5    c\n",
       "7    d\n",
       "dtype: object"
      ]
     },
     "execution_count": 58,
     "metadata": {},
     "output_type": "execute_result"
    }
   ],
   "source": [
    "s[2:4]"
   ]
  },
  {
   "cell_type": "code",
   "execution_count": 59,
   "id": "295f474b",
   "metadata": {},
   "outputs": [
    {
     "data": {
      "text/plain": [
       "'b'"
      ]
     },
     "execution_count": 59,
     "metadata": {},
     "output_type": "execute_result"
    }
   ],
   "source": [
    "s.iloc[1]"
   ]
  },
  {
   "cell_type": "code",
   "execution_count": 60,
   "id": "bbcb0d71",
   "metadata": {},
   "outputs": [
    {
     "data": {
      "text/plain": [
       "'a'"
      ]
     },
     "execution_count": 60,
     "metadata": {},
     "output_type": "execute_result"
    }
   ],
   "source": [
    "s.loc[1]"
   ]
  },
  {
   "cell_type": "code",
   "execution_count": 61,
   "id": "add19c6e",
   "metadata": {},
   "outputs": [
    {
     "data": {
      "text/plain": [
       "1    a\n",
       "3    b\n",
       "5    c\n",
       "7    d\n",
       "9    e\n",
       "dtype: object"
      ]
     },
     "execution_count": 61,
     "metadata": {},
     "output_type": "execute_result"
    }
   ],
   "source": [
    "s"
   ]
  },
  {
   "cell_type": "code",
   "execution_count": 62,
   "id": "14fd73d1",
   "metadata": {
    "scrolled": false
   },
   "outputs": [
    {
     "data": {
      "text/plain": [
       "0    NaN\n",
       "1      a\n",
       "2    NaN\n",
       "3      b\n",
       "4    NaN\n",
       "5      c\n",
       "6    NaN\n",
       "7      d\n",
       "8    NaN\n",
       "9      e\n",
       "dtype: object"
      ]
     },
     "execution_count": 62,
     "metadata": {},
     "output_type": "execute_result"
    }
   ],
   "source": [
    "s.reindex(range(10))  # reindex는 index를 새로 생성하는데 기존에 있는 index와 value 모두가 추가하여 생성한다."
   ]
  },
  {
   "cell_type": "code",
   "execution_count": 63,
   "id": "3aa058d4",
   "metadata": {},
   "outputs": [
    {
     "data": {
      "text/plain": [
       "0    a\n",
       "1    a\n",
       "2    b\n",
       "3    b\n",
       "4    c\n",
       "5    c\n",
       "6    d\n",
       "7    d\n",
       "8    e\n",
       "9    e\n",
       "dtype: object"
      ]
     },
     "execution_count": 63,
     "metadata": {},
     "output_type": "execute_result"
    }
   ],
   "source": [
    "s.reindex(range(10), method='bfill')"
   ]
  },
  {
   "cell_type": "code",
   "execution_count": 64,
   "id": "987d0d94",
   "metadata": {},
   "outputs": [
    {
     "data": {
      "text/plain": [
       "0    NaN\n",
       "1      a\n",
       "2      a\n",
       "3      b\n",
       "4      b\n",
       "5      c\n",
       "6      c\n",
       "7      d\n",
       "8      d\n",
       "9      e\n",
       "dtype: object"
      ]
     },
     "execution_count": 64,
     "metadata": {},
     "output_type": "execute_result"
    }
   ],
   "source": [
    "s.reindex(range(10), method='ffill') # reindex를 하는데 앞의 값을 참조하여 해당 결측치를 채운다.\n",
    "# 하지만 index[0]은 앞의 값이 존재하지 않기에 NaN값으로 나오게 된다."
   ]
  },
  {
   "cell_type": "markdown",
   "id": "ba2dc656",
   "metadata": {},
   "source": [
    "### DataFrame 인덱싱"
   ]
  },
  {
   "cell_type": "code",
   "execution_count": 65,
   "id": "91199b0c",
   "metadata": {},
   "outputs": [
    {
     "data": {
      "text/html": [
       "<div>\n",
       "<style scoped>\n",
       "    .dataframe tbody tr th:only-of-type {\n",
       "        vertical-align: middle;\n",
       "    }\n",
       "\n",
       "    .dataframe tbody tr th {\n",
       "        vertical-align: top;\n",
       "    }\n",
       "\n",
       "    .dataframe thead th {\n",
       "        text-align: right;\n",
       "    }\n",
       "</style>\n",
       "<table border=\"1\" class=\"dataframe\">\n",
       "  <thead>\n",
       "    <tr style=\"text-align: right;\">\n",
       "      <th></th>\n",
       "      <th>인구수</th>\n",
       "      <th>남자인구수</th>\n",
       "      <th>여자인구수</th>\n",
       "    </tr>\n",
       "  </thead>\n",
       "  <tbody>\n",
       "    <tr>\n",
       "      <th>서울특별시</th>\n",
       "      <td>9720846</td>\n",
       "      <td>4732275</td>\n",
       "      <td>4988571</td>\n",
       "    </tr>\n",
       "    <tr>\n",
       "      <th>부산광역시</th>\n",
       "      <td>3404423</td>\n",
       "      <td>1668618</td>\n",
       "      <td>1735805</td>\n",
       "    </tr>\n",
       "    <tr>\n",
       "      <th>인천광역시</th>\n",
       "      <td>2947217</td>\n",
       "      <td>1476813</td>\n",
       "      <td>1470404</td>\n",
       "    </tr>\n",
       "    <tr>\n",
       "      <th>대구광역시</th>\n",
       "      <td>2427954</td>\n",
       "      <td>1198815</td>\n",
       "      <td>1229139</td>\n",
       "    </tr>\n",
       "    <tr>\n",
       "      <th>대전광역시</th>\n",
       "      <td>1471040</td>\n",
       "      <td>734441</td>\n",
       "      <td>736599</td>\n",
       "    </tr>\n",
       "    <tr>\n",
       "      <th>광주광역시</th>\n",
       "      <td>1455048</td>\n",
       "      <td>720060</td>\n",
       "      <td>734988</td>\n",
       "    </tr>\n",
       "  </tbody>\n",
       "</table>\n",
       "</div>"
      ],
      "text/plain": [
       "           인구수    남자인구수    여자인구수\n",
       "서울특별시  9720846  4732275  4988571\n",
       "부산광역시  3404423  1668618  1735805\n",
       "인천광역시  2947217  1476813  1470404\n",
       "대구광역시  2427954  1198815  1229139\n",
       "대전광역시  1471040   734441   736599\n",
       "광주광역시  1455048   720060   734988"
      ]
     },
     "execution_count": 65,
     "metadata": {},
     "output_type": "execute_result"
    }
   ],
   "source": [
    "male_tuple = {'서울특별시': 4732275, \n",
    "              '부산광역시': 1668618,\n",
    "              '인천광역시': 1476813,\n",
    "              '대구광역시': 1198815,\n",
    "              '대전광역시': 734441,\n",
    "              '광주광역시': 720060}\n",
    "male = pd.Series(male_tuple)\n",
    "\n",
    "female_tuple = {'서울특별시': 4988571, \n",
    "                '부산광역시': 1735805,\n",
    "                '인천광역시': 1470404,\n",
    "                '대구광역시': 1229139,\n",
    "                '대전광역시': 736599,\n",
    "                '광주광역시': 734988}\n",
    "female = pd.Series(female_tuple)\n",
    "\n",
    "pop_tuple = {'서울특별시': 9720846, \n",
    "             '부산광역시': 3404423,\n",
    "             '인천광역시': 2947217,\n",
    "             '대구광역시': 2427954,\n",
    "             '대전광역시': 1471040,\n",
    "             '광주광역시': 1455048}\n",
    "population = pd.Series(pop_tuple)\n",
    "\n",
    "korea_df = pd.DataFrame({'인구수':population, \n",
    "                         '남자인구수':male,\n",
    "                         '여자인구수':female})\n",
    "# 컬럼명과 시리즈를 딕셔너리 형태로 묶어서 데이터 프레임을 만들수 있다.\n",
    "korea_df"
   ]
  },
  {
   "cell_type": "code",
   "execution_count": 66,
   "id": "6487e592",
   "metadata": {},
   "outputs": [
    {
     "data": {
      "text/plain": [
       "734441"
      ]
     },
     "execution_count": 66,
     "metadata": {},
     "output_type": "execute_result"
    }
   ],
   "source": [
    "korea_df.at['대전광역시','남자인구수']"
   ]
  },
  {
   "cell_type": "code",
   "execution_count": 67,
   "id": "067bdfde",
   "metadata": {},
   "outputs": [
    {
     "data": {
      "text/plain": [
       "9720846"
      ]
     },
     "execution_count": 67,
     "metadata": {},
     "output_type": "execute_result"
    }
   ],
   "source": [
    "korea_df.at['서울특별시','인구수']"
   ]
  },
  {
   "cell_type": "code",
   "execution_count": 68,
   "id": "fe24768c",
   "metadata": {},
   "outputs": [
    {
     "data": {
      "text/plain": [
       "1668618"
      ]
     },
     "execution_count": 68,
     "metadata": {},
     "output_type": "execute_result"
    }
   ],
   "source": [
    "korea_df.at['부산광역시','남자인구수']"
   ]
  },
  {
   "cell_type": "code",
   "execution_count": 69,
   "id": "4fddb6c0",
   "metadata": {},
   "outputs": [
    {
     "data": {
      "text/plain": [
       "1470404"
      ]
     },
     "execution_count": 69,
     "metadata": {},
     "output_type": "execute_result"
    }
   ],
   "source": [
    "korea_df.at['인천광역시','여자인구수']\n",
    "# korea_df.at['인천광역시':'대전광역시','남자인구수']\n",
    "# 와 같이 at메소드에선 복수 index를 쓸수없다."
   ]
  },
  {
   "cell_type": "code",
   "execution_count": 70,
   "id": "07adae31",
   "metadata": {
    "scrolled": false
   },
   "outputs": [
    {
     "data": {
      "text/html": [
       "<div>\n",
       "<style scoped>\n",
       "    .dataframe tbody tr th:only-of-type {\n",
       "        vertical-align: middle;\n",
       "    }\n",
       "\n",
       "    .dataframe tbody tr th {\n",
       "        vertical-align: top;\n",
       "    }\n",
       "\n",
       "    .dataframe thead th {\n",
       "        text-align: right;\n",
       "    }\n",
       "</style>\n",
       "<table border=\"1\" class=\"dataframe\">\n",
       "  <thead>\n",
       "    <tr style=\"text-align: right;\">\n",
       "      <th></th>\n",
       "      <th>인구수</th>\n",
       "      <th>남자인구수</th>\n",
       "      <th>여자인구수</th>\n",
       "      <th>남여비율</th>\n",
       "    </tr>\n",
       "  </thead>\n",
       "  <tbody>\n",
       "    <tr>\n",
       "      <th>서울특별시</th>\n",
       "      <td>9720846</td>\n",
       "      <td>4732275</td>\n",
       "      <td>4988571</td>\n",
       "      <td>94.862336</td>\n",
       "    </tr>\n",
       "    <tr>\n",
       "      <th>부산광역시</th>\n",
       "      <td>3404423</td>\n",
       "      <td>1668618</td>\n",
       "      <td>1735805</td>\n",
       "      <td>96.129346</td>\n",
       "    </tr>\n",
       "    <tr>\n",
       "      <th>인천광역시</th>\n",
       "      <td>2947217</td>\n",
       "      <td>1476813</td>\n",
       "      <td>1470404</td>\n",
       "      <td>100.435867</td>\n",
       "    </tr>\n",
       "    <tr>\n",
       "      <th>대구광역시</th>\n",
       "      <td>2427954</td>\n",
       "      <td>1198815</td>\n",
       "      <td>1229139</td>\n",
       "      <td>97.532907</td>\n",
       "    </tr>\n",
       "    <tr>\n",
       "      <th>대전광역시</th>\n",
       "      <td>1471040</td>\n",
       "      <td>734441</td>\n",
       "      <td>736599</td>\n",
       "      <td>99.707032</td>\n",
       "    </tr>\n",
       "    <tr>\n",
       "      <th>광주광역시</th>\n",
       "      <td>1455048</td>\n",
       "      <td>720060</td>\n",
       "      <td>734988</td>\n",
       "      <td>97.968946</td>\n",
       "    </tr>\n",
       "  </tbody>\n",
       "</table>\n",
       "</div>"
      ],
      "text/plain": [
       "           인구수    남자인구수    여자인구수        남여비율\n",
       "서울특별시  9720846  4732275  4988571   94.862336\n",
       "부산광역시  3404423  1668618  1735805   96.129346\n",
       "인천광역시  2947217  1476813  1470404  100.435867\n",
       "대구광역시  2427954  1198815  1229139   97.532907\n",
       "대전광역시  1471040   734441   736599   99.707032\n",
       "광주광역시  1455048   720060   734988   97.968946"
      ]
     },
     "execution_count": 70,
     "metadata": {},
     "output_type": "execute_result"
    }
   ],
   "source": [
    "korea_df['남여비율'] = (korea_df.남자인구수 * 100 / korea_df.여자인구수)\n",
    "korea_df"
   ]
  },
  {
   "cell_type": "markdown",
   "id": "dcdda07b",
   "metadata": {},
   "source": [
    "#### values"
   ]
  },
  {
   "cell_type": "code",
   "execution_count": 71,
   "id": "4ba16ae6",
   "metadata": {},
   "outputs": [
    {
     "data": {
      "text/plain": [
       "array([[9.72084600e+06, 4.73227500e+06, 4.98857100e+06, 9.48623363e+01],\n",
       "       [3.40442300e+06, 1.66861800e+06, 1.73580500e+06, 9.61293463e+01],\n",
       "       [2.94721700e+06, 1.47681300e+06, 1.47040400e+06, 1.00435867e+02],\n",
       "       [2.42795400e+06, 1.19881500e+06, 1.22913900e+06, 9.75329072e+01],\n",
       "       [1.47104000e+06, 7.34441000e+05, 7.36599000e+05, 9.97070319e+01],\n",
       "       [1.45504800e+06, 7.20060000e+05, 7.34988000e+05, 9.79689464e+01]])"
      ]
     },
     "execution_count": 71,
     "metadata": {},
     "output_type": "execute_result"
    }
   ],
   "source": [
    "korea_df.values"
   ]
  },
  {
   "cell_type": "code",
   "execution_count": 72,
   "id": "d74a58d8",
   "metadata": {},
   "outputs": [
    {
     "data": {
      "text/html": [
       "<div>\n",
       "<style scoped>\n",
       "    .dataframe tbody tr th:only-of-type {\n",
       "        vertical-align: middle;\n",
       "    }\n",
       "\n",
       "    .dataframe tbody tr th {\n",
       "        vertical-align: top;\n",
       "    }\n",
       "\n",
       "    .dataframe thead th {\n",
       "        text-align: right;\n",
       "    }\n",
       "</style>\n",
       "<table border=\"1\" class=\"dataframe\">\n",
       "  <thead>\n",
       "    <tr style=\"text-align: right;\">\n",
       "      <th></th>\n",
       "      <th>이름</th>\n",
       "      <th>수학</th>\n",
       "      <th>영어</th>\n",
       "      <th>음악</th>\n",
       "      <th>체육</th>\n",
       "    </tr>\n",
       "  </thead>\n",
       "  <tbody>\n",
       "    <tr>\n",
       "      <th>1번</th>\n",
       "      <td>서준</td>\n",
       "      <td>90</td>\n",
       "      <td>98</td>\n",
       "      <td>85</td>\n",
       "      <td>100</td>\n",
       "    </tr>\n",
       "    <tr>\n",
       "      <th>2번</th>\n",
       "      <td>인아</td>\n",
       "      <td>70</td>\n",
       "      <td>95</td>\n",
       "      <td>100</td>\n",
       "      <td>90</td>\n",
       "    </tr>\n",
       "    <tr>\n",
       "      <th>3번</th>\n",
       "      <td>인준</td>\n",
       "      <td>80</td>\n",
       "      <td>80</td>\n",
       "      <td>80</td>\n",
       "      <td>80</td>\n",
       "    </tr>\n",
       "  </tbody>\n",
       "</table>\n",
       "</div>"
      ],
      "text/plain": [
       "    이름  수학  영어   음악   체육\n",
       "1번  서준  90  98   85  100\n",
       "2번  인아  70  95  100   90\n",
       "3번  인준  80  80   80   80"
      ]
     },
     "execution_count": 72,
     "metadata": {},
     "output_type": "execute_result"
    }
   ],
   "source": [
    "df_index = pd.Index(['1번', '2번','3번'])\n",
    "df = pd.DataFrame({'이름':['서준','인아', '인준'],\n",
    "                   '수학':[90, 70, 80],\n",
    "                   '영어':[98, 95, 80],\n",
    "                   '음악':[85, 100, 80],\n",
    "                   '체육':[100, 90, 80]}, \n",
    "                 index = df_index)\n",
    "df"
   ]
  },
  {
   "cell_type": "code",
   "execution_count": 73,
   "id": "92042310",
   "metadata": {},
   "outputs": [
    {
     "data": {
      "text/plain": [
       "array([['서준', 90, 98, 85, 100],\n",
       "       ['인아', 70, 95, 100, 90],\n",
       "       ['인준', 80, 80, 80, 80]], dtype=object)"
      ]
     },
     "execution_count": 73,
     "metadata": {},
     "output_type": "execute_result"
    }
   ],
   "source": [
    "df.values"
   ]
  },
  {
   "cell_type": "code",
   "execution_count": 74,
   "id": "2370ee97",
   "metadata": {},
   "outputs": [
    {
     "data": {
      "text/plain": [
       "array([9.72084600e+06, 4.73227500e+06, 4.98857100e+06, 9.48623363e+01])"
      ]
     },
     "execution_count": 74,
     "metadata": {},
     "output_type": "execute_result"
    }
   ],
   "source": [
    "korea_df.values[0] # korea_df의 서울특별시의 value를 반환한다."
   ]
  },
  {
   "cell_type": "code",
   "execution_count": 75,
   "id": "bec5e853",
   "metadata": {},
   "outputs": [
    {
     "data": {
      "text/plain": [
       "array(['서준', 90, 98, 85, 100], dtype=object)"
      ]
     },
     "execution_count": 75,
     "metadata": {},
     "output_type": "execute_result"
    }
   ],
   "source": [
    "df.values[0] # df의 1번 value를 반환한다."
   ]
  },
  {
   "cell_type": "markdown",
   "id": "12aaeb04",
   "metadata": {},
   "source": [
    "#### loc/ iloc\n",
    "DataFrame 객체.loc[행 인덱스, 열 이름]  \n",
    "DataFrame 객체.iloc[행 번호, 열 번호]"
   ]
  },
  {
   "cell_type": "markdown",
   "id": "b563c0b5",
   "metadata": {},
   "source": [
    "df.iloc[:]의 형태는 행번호에 범위를 지정하여  \n",
    "그 범위에 해당하는 모든 열을 가져오는 결과값을 반환한다."
   ]
  },
  {
   "cell_type": "code",
   "execution_count": 76,
   "id": "6e0ebf23",
   "metadata": {},
   "outputs": [
    {
     "data": {
      "text/html": [
       "<div>\n",
       "<style scoped>\n",
       "    .dataframe tbody tr th:only-of-type {\n",
       "        vertical-align: middle;\n",
       "    }\n",
       "\n",
       "    .dataframe tbody tr th {\n",
       "        vertical-align: top;\n",
       "    }\n",
       "\n",
       "    .dataframe thead th {\n",
       "        text-align: right;\n",
       "    }\n",
       "</style>\n",
       "<table border=\"1\" class=\"dataframe\">\n",
       "  <thead>\n",
       "    <tr style=\"text-align: right;\">\n",
       "      <th></th>\n",
       "      <th>이름</th>\n",
       "      <th>수학</th>\n",
       "      <th>영어</th>\n",
       "      <th>음악</th>\n",
       "      <th>체육</th>\n",
       "    </tr>\n",
       "  </thead>\n",
       "  <tbody>\n",
       "    <tr>\n",
       "      <th>1번</th>\n",
       "      <td>서준</td>\n",
       "      <td>90</td>\n",
       "      <td>98</td>\n",
       "      <td>85</td>\n",
       "      <td>100</td>\n",
       "    </tr>\n",
       "    <tr>\n",
       "      <th>2번</th>\n",
       "      <td>인아</td>\n",
       "      <td>70</td>\n",
       "      <td>95</td>\n",
       "      <td>100</td>\n",
       "      <td>90</td>\n",
       "    </tr>\n",
       "  </tbody>\n",
       "</table>\n",
       "</div>"
      ],
      "text/plain": [
       "    이름  수학  영어   음악   체육\n",
       "1번  서준  90  98   85  100\n",
       "2번  인아  70  95  100   90"
      ]
     },
     "execution_count": 76,
     "metadata": {},
     "output_type": "execute_result"
    }
   ],
   "source": [
    "df.loc['1번':'2번']"
   ]
  },
  {
   "cell_type": "code",
   "execution_count": 77,
   "id": "f95c0d21",
   "metadata": {},
   "outputs": [
    {
     "data": {
      "text/html": [
       "<div>\n",
       "<style scoped>\n",
       "    .dataframe tbody tr th:only-of-type {\n",
       "        vertical-align: middle;\n",
       "    }\n",
       "\n",
       "    .dataframe tbody tr th {\n",
       "        vertical-align: top;\n",
       "    }\n",
       "\n",
       "    .dataframe thead th {\n",
       "        text-align: right;\n",
       "    }\n",
       "</style>\n",
       "<table border=\"1\" class=\"dataframe\">\n",
       "  <thead>\n",
       "    <tr style=\"text-align: right;\">\n",
       "      <th></th>\n",
       "      <th>이름</th>\n",
       "      <th>수학</th>\n",
       "      <th>영어</th>\n",
       "      <th>음악</th>\n",
       "      <th>체육</th>\n",
       "    </tr>\n",
       "  </thead>\n",
       "  <tbody>\n",
       "    <tr>\n",
       "      <th>1번</th>\n",
       "      <td>서준</td>\n",
       "      <td>90</td>\n",
       "      <td>98</td>\n",
       "      <td>85</td>\n",
       "      <td>100</td>\n",
       "    </tr>\n",
       "    <tr>\n",
       "      <th>2번</th>\n",
       "      <td>인아</td>\n",
       "      <td>70</td>\n",
       "      <td>95</td>\n",
       "      <td>100</td>\n",
       "      <td>90</td>\n",
       "    </tr>\n",
       "  </tbody>\n",
       "</table>\n",
       "</div>"
      ],
      "text/plain": [
       "    이름  수학  영어   음악   체육\n",
       "1번  서준  90  98   85  100\n",
       "2번  인아  70  95  100   90"
      ]
     },
     "execution_count": 77,
     "metadata": {},
     "output_type": "execute_result"
    }
   ],
   "source": [
    "df.iloc[0:2]"
   ]
  },
  {
   "cell_type": "code",
   "execution_count": 78,
   "id": "d1c7f361",
   "metadata": {},
   "outputs": [
    {
     "data": {
      "text/plain": [
       "98"
      ]
     },
     "execution_count": 78,
     "metadata": {},
     "output_type": "execute_result"
    }
   ],
   "source": [
    "df.loc['1번', '영어']"
   ]
  },
  {
   "cell_type": "code",
   "execution_count": 79,
   "id": "8c6da589",
   "metadata": {
    "scrolled": true
   },
   "outputs": [
    {
     "data": {
      "text/plain": [
       "98"
      ]
     },
     "execution_count": 79,
     "metadata": {},
     "output_type": "execute_result"
    }
   ],
   "source": [
    "df.iloc[0,2]"
   ]
  },
  {
   "cell_type": "markdown",
   "id": "1a02fd84",
   "metadata": {},
   "source": [
    "df.iloc[:,:]의 형태는 행 번호에 범위를 지정하고  \n",
    "열 번호에도 해당 범위를 지정하여  \n",
    "그 지정된 범위안의 원소를 반환한다."
   ]
  },
  {
   "cell_type": "code",
   "execution_count": 80,
   "id": "bc3705e9",
   "metadata": {},
   "outputs": [
    {
     "data": {
      "text/html": [
       "<div>\n",
       "<style scoped>\n",
       "    .dataframe tbody tr th:only-of-type {\n",
       "        vertical-align: middle;\n",
       "    }\n",
       "\n",
       "    .dataframe tbody tr th {\n",
       "        vertical-align: top;\n",
       "    }\n",
       "\n",
       "    .dataframe thead th {\n",
       "        text-align: right;\n",
       "    }\n",
       "</style>\n",
       "<table border=\"1\" class=\"dataframe\">\n",
       "  <thead>\n",
       "    <tr style=\"text-align: right;\">\n",
       "      <th></th>\n",
       "      <th>수학</th>\n",
       "      <th>영어</th>\n",
       "      <th>음악</th>\n",
       "    </tr>\n",
       "  </thead>\n",
       "  <tbody>\n",
       "    <tr>\n",
       "      <th>1번</th>\n",
       "      <td>90</td>\n",
       "      <td>98</td>\n",
       "      <td>85</td>\n",
       "    </tr>\n",
       "    <tr>\n",
       "      <th>2번</th>\n",
       "      <td>70</td>\n",
       "      <td>95</td>\n",
       "      <td>100</td>\n",
       "    </tr>\n",
       "  </tbody>\n",
       "</table>\n",
       "</div>"
      ],
      "text/plain": [
       "    수학  영어   음악\n",
       "1번  90  98   85\n",
       "2번  70  95  100"
      ]
     },
     "execution_count": 80,
     "metadata": {},
     "output_type": "execute_result"
    }
   ],
   "source": [
    "df.loc['1번':'2번','수학':'음악']"
   ]
  },
  {
   "cell_type": "code",
   "execution_count": 81,
   "id": "c602c069",
   "metadata": {},
   "outputs": [
    {
     "data": {
      "text/html": [
       "<div>\n",
       "<style scoped>\n",
       "    .dataframe tbody tr th:only-of-type {\n",
       "        vertical-align: middle;\n",
       "    }\n",
       "\n",
       "    .dataframe tbody tr th {\n",
       "        vertical-align: top;\n",
       "    }\n",
       "\n",
       "    .dataframe thead th {\n",
       "        text-align: right;\n",
       "    }\n",
       "</style>\n",
       "<table border=\"1\" class=\"dataframe\">\n",
       "  <thead>\n",
       "    <tr style=\"text-align: right;\">\n",
       "      <th></th>\n",
       "      <th>수학</th>\n",
       "      <th>영어</th>\n",
       "      <th>음악</th>\n",
       "    </tr>\n",
       "  </thead>\n",
       "  <tbody>\n",
       "    <tr>\n",
       "      <th>1번</th>\n",
       "      <td>90</td>\n",
       "      <td>98</td>\n",
       "      <td>85</td>\n",
       "    </tr>\n",
       "    <tr>\n",
       "      <th>2번</th>\n",
       "      <td>70</td>\n",
       "      <td>95</td>\n",
       "      <td>100</td>\n",
       "    </tr>\n",
       "  </tbody>\n",
       "</table>\n",
       "</div>"
      ],
      "text/plain": [
       "    수학  영어   음악\n",
       "1번  90  98   85\n",
       "2번  70  95  100"
      ]
     },
     "execution_count": 81,
     "metadata": {},
     "output_type": "execute_result"
    }
   ],
   "source": [
    "df.iloc[0:2,1:4]"
   ]
  },
  {
   "cell_type": "code",
   "execution_count": 82,
   "id": "0b39009f",
   "metadata": {},
   "outputs": [
    {
     "data": {
      "text/html": [
       "<div>\n",
       "<style scoped>\n",
       "    .dataframe tbody tr th:only-of-type {\n",
       "        vertical-align: middle;\n",
       "    }\n",
       "\n",
       "    .dataframe tbody tr th {\n",
       "        vertical-align: top;\n",
       "    }\n",
       "\n",
       "    .dataframe thead th {\n",
       "        text-align: right;\n",
       "    }\n",
       "</style>\n",
       "<table border=\"1\" class=\"dataframe\">\n",
       "  <thead>\n",
       "    <tr style=\"text-align: right;\">\n",
       "      <th></th>\n",
       "      <th>영어</th>\n",
       "      <th>음악</th>\n",
       "      <th>체육</th>\n",
       "    </tr>\n",
       "  </thead>\n",
       "  <tbody>\n",
       "    <tr>\n",
       "      <th>2번</th>\n",
       "      <td>95</td>\n",
       "      <td>100</td>\n",
       "      <td>90</td>\n",
       "    </tr>\n",
       "    <tr>\n",
       "      <th>3번</th>\n",
       "      <td>80</td>\n",
       "      <td>80</td>\n",
       "      <td>80</td>\n",
       "    </tr>\n",
       "  </tbody>\n",
       "</table>\n",
       "</div>"
      ],
      "text/plain": [
       "    영어   음악  체육\n",
       "2번  95  100  90\n",
       "3번  80   80  80"
      ]
     },
     "execution_count": 82,
     "metadata": {},
     "output_type": "execute_result"
    }
   ],
   "source": [
    "df.iloc[1:3,2:]"
   ]
  },
  {
   "cell_type": "code",
   "execution_count": 83,
   "id": "42c40143",
   "metadata": {},
   "outputs": [
    {
     "data": {
      "text/html": [
       "<div>\n",
       "<style scoped>\n",
       "    .dataframe tbody tr th:only-of-type {\n",
       "        vertical-align: middle;\n",
       "    }\n",
       "\n",
       "    .dataframe tbody tr th {\n",
       "        vertical-align: top;\n",
       "    }\n",
       "\n",
       "    .dataframe thead th {\n",
       "        text-align: right;\n",
       "    }\n",
       "</style>\n",
       "<table border=\"1\" class=\"dataframe\">\n",
       "  <thead>\n",
       "    <tr style=\"text-align: right;\">\n",
       "      <th></th>\n",
       "      <th>영어</th>\n",
       "      <th>음악</th>\n",
       "      <th>체육</th>\n",
       "    </tr>\n",
       "  </thead>\n",
       "  <tbody>\n",
       "    <tr>\n",
       "      <th>2번</th>\n",
       "      <td>95</td>\n",
       "      <td>100</td>\n",
       "      <td>90</td>\n",
       "    </tr>\n",
       "    <tr>\n",
       "      <th>3번</th>\n",
       "      <td>80</td>\n",
       "      <td>80</td>\n",
       "      <td>80</td>\n",
       "    </tr>\n",
       "  </tbody>\n",
       "</table>\n",
       "</div>"
      ],
      "text/plain": [
       "    영어   음악  체육\n",
       "2번  95  100  90\n",
       "3번  80   80  80"
      ]
     },
     "execution_count": 83,
     "metadata": {},
     "output_type": "execute_result"
    }
   ],
   "source": [
    "df.loc['2번':'3번','영어':]"
   ]
  },
  {
   "cell_type": "code",
   "execution_count": 84,
   "id": "84047b7e",
   "metadata": {},
   "outputs": [
    {
     "data": {
      "text/html": [
       "<div>\n",
       "<style scoped>\n",
       "    .dataframe tbody tr th:only-of-type {\n",
       "        vertical-align: middle;\n",
       "    }\n",
       "\n",
       "    .dataframe tbody tr th {\n",
       "        vertical-align: top;\n",
       "    }\n",
       "\n",
       "    .dataframe thead th {\n",
       "        text-align: right;\n",
       "    }\n",
       "</style>\n",
       "<table border=\"1\" class=\"dataframe\">\n",
       "  <thead>\n",
       "    <tr style=\"text-align: right;\">\n",
       "      <th></th>\n",
       "      <th>인구수</th>\n",
       "      <th>남자인구수</th>\n",
       "      <th>여자인구수</th>\n",
       "      <th>남여비율</th>\n",
       "    </tr>\n",
       "  </thead>\n",
       "  <tbody>\n",
       "    <tr>\n",
       "      <th>서울특별시</th>\n",
       "      <td>9720846</td>\n",
       "      <td>4732275</td>\n",
       "      <td>4988571</td>\n",
       "      <td>94.862336</td>\n",
       "    </tr>\n",
       "    <tr>\n",
       "      <th>부산광역시</th>\n",
       "      <td>3404423</td>\n",
       "      <td>1668618</td>\n",
       "      <td>1735805</td>\n",
       "      <td>96.129346</td>\n",
       "    </tr>\n",
       "    <tr>\n",
       "      <th>인천광역시</th>\n",
       "      <td>2947217</td>\n",
       "      <td>1476813</td>\n",
       "      <td>1470404</td>\n",
       "      <td>100.435867</td>\n",
       "    </tr>\n",
       "    <tr>\n",
       "      <th>대구광역시</th>\n",
       "      <td>2427954</td>\n",
       "      <td>1198815</td>\n",
       "      <td>1229139</td>\n",
       "      <td>97.532907</td>\n",
       "    </tr>\n",
       "  </tbody>\n",
       "</table>\n",
       "</div>"
      ],
      "text/plain": [
       "           인구수    남자인구수    여자인구수        남여비율\n",
       "서울특별시  9720846  4732275  4988571   94.862336\n",
       "부산광역시  3404423  1668618  1735805   96.129346\n",
       "인천광역시  2947217  1476813  1470404  100.435867\n",
       "대구광역시  2427954  1198815  1229139   97.532907"
      ]
     },
     "execution_count": 84,
     "metadata": {},
     "output_type": "execute_result"
    }
   ],
   "source": [
    "korea_df.loc[ (korea_df.여자인구수 > 1000000)]"
   ]
  },
  {
   "cell_type": "code",
   "execution_count": 85,
   "id": "09a3e171",
   "metadata": {
    "scrolled": true
   },
   "outputs": [
    {
     "data": {
      "text/html": [
       "<div>\n",
       "<style scoped>\n",
       "    .dataframe tbody tr th:only-of-type {\n",
       "        vertical-align: middle;\n",
       "    }\n",
       "\n",
       "    .dataframe tbody tr th {\n",
       "        vertical-align: top;\n",
       "    }\n",
       "\n",
       "    .dataframe thead th {\n",
       "        text-align: right;\n",
       "    }\n",
       "</style>\n",
       "<table border=\"1\" class=\"dataframe\">\n",
       "  <thead>\n",
       "    <tr style=\"text-align: right;\">\n",
       "      <th></th>\n",
       "      <th>이름</th>\n",
       "      <th>수학</th>\n",
       "      <th>영어</th>\n",
       "      <th>음악</th>\n",
       "      <th>체육</th>\n",
       "    </tr>\n",
       "  </thead>\n",
       "  <tbody>\n",
       "    <tr>\n",
       "      <th>1번</th>\n",
       "      <td>서준</td>\n",
       "      <td>90</td>\n",
       "      <td>98</td>\n",
       "      <td>85</td>\n",
       "      <td>100</td>\n",
       "    </tr>\n",
       "    <tr>\n",
       "      <th>3번</th>\n",
       "      <td>인준</td>\n",
       "      <td>80</td>\n",
       "      <td>80</td>\n",
       "      <td>80</td>\n",
       "      <td>80</td>\n",
       "    </tr>\n",
       "  </tbody>\n",
       "</table>\n",
       "</div>"
      ],
      "text/plain": [
       "    이름  수학  영어  음악   체육\n",
       "1번  서준  90  98  85  100\n",
       "3번  인준  80  80  80   80"
      ]
     },
     "execution_count": 85,
     "metadata": {},
     "output_type": "execute_result"
    }
   ],
   "source": [
    "df.loc[(df.수학 > 70)]"
   ]
  },
  {
   "cell_type": "code",
   "execution_count": 86,
   "id": "1663ec68",
   "metadata": {},
   "outputs": [
    {
     "data": {
      "text/html": [
       "<div>\n",
       "<style scoped>\n",
       "    .dataframe tbody tr th:only-of-type {\n",
       "        vertical-align: middle;\n",
       "    }\n",
       "\n",
       "    .dataframe tbody tr th {\n",
       "        vertical-align: top;\n",
       "    }\n",
       "\n",
       "    .dataframe thead th {\n",
       "        text-align: right;\n",
       "    }\n",
       "</style>\n",
       "<table border=\"1\" class=\"dataframe\">\n",
       "  <thead>\n",
       "    <tr style=\"text-align: right;\">\n",
       "      <th></th>\n",
       "      <th>이름</th>\n",
       "      <th>수학</th>\n",
       "      <th>영어</th>\n",
       "      <th>음악</th>\n",
       "      <th>체육</th>\n",
       "    </tr>\n",
       "  </thead>\n",
       "  <tbody>\n",
       "    <tr>\n",
       "      <th>1번</th>\n",
       "      <td>서준</td>\n",
       "      <td>90</td>\n",
       "      <td>98</td>\n",
       "      <td>85</td>\n",
       "      <td>100</td>\n",
       "    </tr>\n",
       "    <tr>\n",
       "      <th>3번</th>\n",
       "      <td>인준</td>\n",
       "      <td>80</td>\n",
       "      <td>80</td>\n",
       "      <td>80</td>\n",
       "      <td>80</td>\n",
       "    </tr>\n",
       "  </tbody>\n",
       "</table>\n",
       "</div>"
      ],
      "text/plain": [
       "    이름  수학  영어  음악   체육\n",
       "1번  서준  90  98  85  100\n",
       "3번  인준  80  80  80   80"
      ]
     },
     "execution_count": 86,
     "metadata": {},
     "output_type": "execute_result"
    }
   ],
   "source": [
    "df[df.수학 > 70]"
   ]
  },
  {
   "cell_type": "code",
   "execution_count": 87,
   "id": "d32a452a",
   "metadata": {},
   "outputs": [
    {
     "data": {
      "text/html": [
       "<div>\n",
       "<style scoped>\n",
       "    .dataframe tbody tr th:only-of-type {\n",
       "        vertical-align: middle;\n",
       "    }\n",
       "\n",
       "    .dataframe tbody tr th {\n",
       "        vertical-align: top;\n",
       "    }\n",
       "\n",
       "    .dataframe thead th {\n",
       "        text-align: right;\n",
       "    }\n",
       "</style>\n",
       "<table border=\"1\" class=\"dataframe\">\n",
       "  <thead>\n",
       "    <tr style=\"text-align: right;\">\n",
       "      <th></th>\n",
       "      <th>이름</th>\n",
       "      <th>수학</th>\n",
       "      <th>영어</th>\n",
       "      <th>음악</th>\n",
       "      <th>체육</th>\n",
       "    </tr>\n",
       "  </thead>\n",
       "  <tbody>\n",
       "    <tr>\n",
       "      <th>1번</th>\n",
       "      <td>서준</td>\n",
       "      <td>90</td>\n",
       "      <td>98</td>\n",
       "      <td>85</td>\n",
       "      <td>100</td>\n",
       "    </tr>\n",
       "  </tbody>\n",
       "</table>\n",
       "</div>"
      ],
      "text/plain": [
       "    이름  수학  영어  음악   체육\n",
       "1번  서준  90  98  85  100"
      ]
     },
     "execution_count": 87,
     "metadata": {},
     "output_type": "execute_result"
    }
   ],
   "source": [
    "df.loc[(df.수학 != 80) & (df.영어 != 95)]"
   ]
  },
  {
   "cell_type": "code",
   "execution_count": 88,
   "id": "004ad61b",
   "metadata": {},
   "outputs": [
    {
     "data": {
      "text/html": [
       "<div>\n",
       "<style scoped>\n",
       "    .dataframe tbody tr th:only-of-type {\n",
       "        vertical-align: middle;\n",
       "    }\n",
       "\n",
       "    .dataframe tbody tr th {\n",
       "        vertical-align: top;\n",
       "    }\n",
       "\n",
       "    .dataframe thead th {\n",
       "        text-align: right;\n",
       "    }\n",
       "</style>\n",
       "<table border=\"1\" class=\"dataframe\">\n",
       "  <thead>\n",
       "    <tr style=\"text-align: right;\">\n",
       "      <th></th>\n",
       "      <th>이름</th>\n",
       "      <th>수학</th>\n",
       "      <th>영어</th>\n",
       "      <th>음악</th>\n",
       "      <th>체육</th>\n",
       "    </tr>\n",
       "  </thead>\n",
       "  <tbody>\n",
       "    <tr>\n",
       "      <th>1번</th>\n",
       "      <td>서준</td>\n",
       "      <td>90</td>\n",
       "      <td>98</td>\n",
       "      <td>85</td>\n",
       "      <td>100</td>\n",
       "    </tr>\n",
       "  </tbody>\n",
       "</table>\n",
       "</div>"
      ],
      "text/plain": [
       "    이름  수학  영어  음악   체육\n",
       "1번  서준  90  98  85  100"
      ]
     },
     "execution_count": 88,
     "metadata": {},
     "output_type": "execute_result"
    }
   ],
   "source": [
    "df[ (df.수학 != 80) & (df.영어 != 95) ]"
   ]
  },
  {
   "cell_type": "markdown",
   "id": "de69f02a",
   "metadata": {},
   "source": [
    "### 다중 인덱스 (Multi Index)\n",
    "- 1차원의 Series와 2차원의 DataFrame 객체를 넘어 3차원, 4차원 이상의 고차원 데이터 처리\n",
    "- 단일 인덱스 내에 여러 인덱스를 포함하는 다중 인덱승"
   ]
  },
  {
   "cell_type": "markdown",
   "id": "1d8c8f88",
   "metadata": {},
   "source": [
    "#### 다중 인덱스 Series"
   ]
  },
  {
   "cell_type": "code",
   "execution_count": 89,
   "id": "c64d467d",
   "metadata": {},
   "outputs": [
    {
     "data": {
      "text/html": [
       "<div>\n",
       "<style scoped>\n",
       "    .dataframe tbody tr th:only-of-type {\n",
       "        vertical-align: middle;\n",
       "    }\n",
       "\n",
       "    .dataframe tbody tr th {\n",
       "        vertical-align: top;\n",
       "    }\n",
       "\n",
       "    .dataframe thead th {\n",
       "        text-align: right;\n",
       "    }\n",
       "</style>\n",
       "<table border=\"1\" class=\"dataframe\">\n",
       "  <thead>\n",
       "    <tr style=\"text-align: right;\">\n",
       "      <th></th>\n",
       "      <th>인구수</th>\n",
       "      <th>남자인구수</th>\n",
       "      <th>여자인구수</th>\n",
       "      <th>남여비율</th>\n",
       "    </tr>\n",
       "  </thead>\n",
       "  <tbody>\n",
       "    <tr>\n",
       "      <th>서울특별시</th>\n",
       "      <td>9720846</td>\n",
       "      <td>4732275</td>\n",
       "      <td>4988571</td>\n",
       "      <td>94.862336</td>\n",
       "    </tr>\n",
       "    <tr>\n",
       "      <th>부산광역시</th>\n",
       "      <td>3404423</td>\n",
       "      <td>1668618</td>\n",
       "      <td>1735805</td>\n",
       "      <td>96.129346</td>\n",
       "    </tr>\n",
       "    <tr>\n",
       "      <th>인천광역시</th>\n",
       "      <td>2947217</td>\n",
       "      <td>1476813</td>\n",
       "      <td>1470404</td>\n",
       "      <td>100.435867</td>\n",
       "    </tr>\n",
       "    <tr>\n",
       "      <th>대구광역시</th>\n",
       "      <td>2427954</td>\n",
       "      <td>1198815</td>\n",
       "      <td>1229139</td>\n",
       "      <td>97.532907</td>\n",
       "    </tr>\n",
       "    <tr>\n",
       "      <th>대전광역시</th>\n",
       "      <td>1471040</td>\n",
       "      <td>734441</td>\n",
       "      <td>736599</td>\n",
       "      <td>99.707032</td>\n",
       "    </tr>\n",
       "    <tr>\n",
       "      <th>광주광역시</th>\n",
       "      <td>1455048</td>\n",
       "      <td>720060</td>\n",
       "      <td>734988</td>\n",
       "      <td>97.968946</td>\n",
       "    </tr>\n",
       "  </tbody>\n",
       "</table>\n",
       "</div>"
      ],
      "text/plain": [
       "           인구수    남자인구수    여자인구수        남여비율\n",
       "서울특별시  9720846  4732275  4988571   94.862336\n",
       "부산광역시  3404423  1668618  1735805   96.129346\n",
       "인천광역시  2947217  1476813  1470404  100.435867\n",
       "대구광역시  2427954  1198815  1229139   97.532907\n",
       "대전광역시  1471040   734441   736599   99.707032\n",
       "광주광역시  1455048   720060   734988   97.968946"
      ]
     },
     "execution_count": 89,
     "metadata": {},
     "output_type": "execute_result"
    }
   ],
   "source": [
    "korea_df"
   ]
  },
  {
   "cell_type": "code",
   "execution_count": 90,
   "id": "d23e1b51",
   "metadata": {},
   "outputs": [
    {
     "data": {
      "text/plain": [
       "[('서울특별시', 2010),\n",
       " ('서울특별시', 2020),\n",
       " ('부산광역시', 2010),\n",
       " ('부산광역시', 2020),\n",
       " ('인천광역시', 2010),\n",
       " ('인천광역시', 2020),\n",
       " ('대구광역시', 2010),\n",
       " ('대구광역시', 2020),\n",
       " ('대전광역시', 2010),\n",
       " ('대전광역시', 2020),\n",
       " ('광주광역시', 2010),\n",
       " ('광주광역시', 2020)]"
      ]
     },
     "execution_count": 90,
     "metadata": {},
     "output_type": "execute_result"
    }
   ],
   "source": [
    "idx_tuples = [('서울특별시',2010), ('서울특별시',2020),\n",
    "              ('부산광역시',2010), ('부산광역시',2020),\n",
    "              ('인천광역시',2010), ('인천광역시',2020),\n",
    "              ('대구광역시', 2010), ('대구광역시',2020),\n",
    "              ('대전광역시', 2010), ('대전광역시',2020),\n",
    "              ('광주광역시', 2010), ('광주광역시',2020)\n",
    "             ]\n",
    "idx_tuples"
   ]
  },
  {
   "cell_type": "code",
   "execution_count": 91,
   "id": "24e199cf",
   "metadata": {},
   "outputs": [
    {
     "data": {
      "text/plain": [
       "(서울특별시, 2010)    10312545\n",
       "(서울특별시, 2020)     9720846\n",
       "(부산광역시, 2010)     2567910\n",
       "(부산광역시, 2020)     3404423\n",
       "(인천광역시, 2010)     2758296\n",
       "(인천광역시, 2020)     2847217\n",
       "(대구광역시, 2010)     2511676\n",
       "(대구광역시, 2020)     2427954\n",
       "(대전광역시, 2010)     1503664\n",
       "(대전광역시, 2020)     1471040\n",
       "(광주광역시, 2010)     1454636\n",
       "(광주광역시, 2020)     1455048\n",
       "dtype: int64"
      ]
     },
     "execution_count": 91,
     "metadata": {},
     "output_type": "execute_result"
    }
   ],
   "source": [
    "pop_tuples = [10312545, 9720846,\n",
    "              2567910, 3404423,\n",
    "              2758296, 2847217,\n",
    "              2511676, 2427954,\n",
    "              1503664, 1471040,\n",
    "              1454636, 1455048]\n",
    "population = pd.Series(pop_tuples, index = idx_tuples)\n",
    "population"
   ]
  },
  {
   "cell_type": "code",
   "execution_count": 92,
   "id": "adfa5547",
   "metadata": {},
   "outputs": [
    {
     "data": {
      "text/plain": [
       "MultiIndex([('서울특별시', 2010),\n",
       "            ('서울특별시', 2020),\n",
       "            ('부산광역시', 2010),\n",
       "            ('부산광역시', 2020),\n",
       "            ('인천광역시', 2010),\n",
       "            ('인천광역시', 2020),\n",
       "            ('대구광역시', 2010),\n",
       "            ('대구광역시', 2020),\n",
       "            ('대전광역시', 2010),\n",
       "            ('대전광역시', 2020),\n",
       "            ('광주광역시', 2010),\n",
       "            ('광주광역시', 2020)],\n",
       "           )"
      ]
     },
     "execution_count": 92,
     "metadata": {},
     "output_type": "execute_result"
    }
   ],
   "source": [
    "midx = pd.MultiIndex.from_tuples(idx_tuples)\n",
    "midx"
   ]
  },
  {
   "cell_type": "code",
   "execution_count": 93,
   "id": "acde0e6b",
   "metadata": {},
   "outputs": [
    {
     "data": {
      "text/plain": [
       "행정구역   년도  \n",
       "서울특별시  2010    10312545\n",
       "       2020     9720846\n",
       "부산광역시  2010     2567910\n",
       "       2020     3404423\n",
       "인천광역시  2010     2758296\n",
       "       2020     2847217\n",
       "대구광역시  2010     2511676\n",
       "       2020     2427954\n",
       "대전광역시  2010     1503664\n",
       "       2020     1471040\n",
       "광주광역시  2010     1454636\n",
       "       2020     1455048\n",
       "dtype: int64"
      ]
     },
     "execution_count": 93,
     "metadata": {},
     "output_type": "execute_result"
    }
   ],
   "source": [
    "population = population.reindex(midx)\n",
    "population.index.names = ['행정구역','년도']\n",
    "population"
   ]
  },
  {
   "cell_type": "code",
   "execution_count": 94,
   "id": "22a0adaa",
   "metadata": {},
   "outputs": [
    {
     "data": {
      "text/plain": [
       "MultiIndex([('1번', '수학'),\n",
       "            ('1번', '영어'),\n",
       "            ('1번', '음악'),\n",
       "            ('1번', '체육'),\n",
       "            ('2번', '수학'),\n",
       "            ('2번', '영어'),\n",
       "            ('2번', '음악'),\n",
       "            ('2번', '체육'),\n",
       "            ('3번', '수학'),\n",
       "            ('3번', '영어'),\n",
       "            ('3번', '음악'),\n",
       "            ('3번', '체육')],\n",
       "           )"
      ]
     },
     "execution_count": 94,
     "metadata": {},
     "output_type": "execute_result"
    }
   ],
   "source": [
    "df_tuples = [('1번','수학'), ('1번','영어'), ('1번','음악'),('1번','체육'),\n",
    "             ('2번','수학'), ('2번','영어'), ('2번','음악'),('2번','체육'),\n",
    "             ('3번','수학'), ('3번','영어'), ('3번','음악'),('3번','체육')]\n",
    "mdf = pd.MultiIndex.from_tuples(df_tuples)\n",
    "mdf "
   ]
  },
  {
   "cell_type": "code",
   "execution_count": 95,
   "id": "4b3e1b9e",
   "metadata": {
    "scrolled": true
   },
   "outputs": [
    {
     "data": {
      "text/plain": [
       "[('1번', '수학'),\n",
       " ('1번', '영어'),\n",
       " ('1번', '음악'),\n",
       " ('1번', '체육'),\n",
       " ('2번', '수학'),\n",
       " ('2번', '영어'),\n",
       " ('2번', '음악'),\n",
       " ('2번', '체육'),\n",
       " ('3번', '수학'),\n",
       " ('3번', '영어'),\n",
       " ('3번', '음악'),\n",
       " ('3번', '체육'),\n",
       " ('4번', '수학'),\n",
       " ('4번', '영어'),\n",
       " ('4번', '음악'),\n",
       " ('4번', '체육')]"
      ]
     },
     "execution_count": 95,
     "metadata": {},
     "output_type": "execute_result"
    }
   ],
   "source": [
    "numbers = ['1번', '2번', '3번', '4번']\n",
    "subjects = ['수학', '영어', '음악', '체육']\n",
    "total = []\n",
    "\n",
    "for i in numbers:\n",
    "    for z in subjects:\n",
    "        total.append((i, z))\n",
    "\n",
    "total"
   ]
  },
  {
   "cell_type": "code",
   "execution_count": 96,
   "id": "7671c687",
   "metadata": {},
   "outputs": [
    {
     "data": {
      "text/plain": [
       "MultiIndex([('1번', '수학'),\n",
       "            ('1번', '영어'),\n",
       "            ('1번', '음악'),\n",
       "            ('1번', '체육'),\n",
       "            ('2번', '수학'),\n",
       "            ('2번', '영어'),\n",
       "            ('2번', '음악'),\n",
       "            ('2번', '체육'),\n",
       "            ('3번', '수학'),\n",
       "            ('3번', '영어'),\n",
       "            ('3번', '음악'),\n",
       "            ('3번', '체육'),\n",
       "            ('4번', '수학'),\n",
       "            ('4번', '영어'),\n",
       "            ('4번', '음악'),\n",
       "            ('4번', '체육')],\n",
       "           )"
      ]
     },
     "execution_count": 96,
     "metadata": {},
     "output_type": "execute_result"
    }
   ],
   "source": [
    "mdf = pd.MultiIndex.from_tuples(total)\n",
    "mdf"
   ]
  },
  {
   "cell_type": "code",
   "execution_count": 97,
   "id": "ba777d3a",
   "metadata": {},
   "outputs": [
    {
     "data": {
      "text/plain": [
       "번호  과목\n",
       "1번  수학    100\n",
       "    영어     90\n",
       "    음악     80\n",
       "    체육     70\n",
       "2번  수학     92\n",
       "    영어     82\n",
       "    음악     72\n",
       "    체육     62\n",
       "3번  수학     70\n",
       "    영어     80\n",
       "    음악    100\n",
       "    체육     90\n",
       "4번  수학     75\n",
       "    영어     70\n",
       "    음악     65\n",
       "    체육     70\n",
       "dtype: int64"
      ]
     },
     "execution_count": 97,
     "metadata": {},
     "output_type": "execute_result"
    }
   ],
   "source": [
    "score = [100, 90, 80, 70,\n",
    "         92, 82, 72, 62,\n",
    "         70, 80, 100, 90, \n",
    "         75, 70, 65, 70]\n",
    "final_score = pd.Series(data=score, index=mdf)\n",
    "final_score.index.names=['번호', '과목']\n",
    "final_score"
   ]
  },
  {
   "cell_type": "code",
   "execution_count": 98,
   "id": "2b418cd5",
   "metadata": {},
   "outputs": [
    {
     "data": {
      "text/html": [
       "<div>\n",
       "<style scoped>\n",
       "    .dataframe tbody tr th:only-of-type {\n",
       "        vertical-align: middle;\n",
       "    }\n",
       "\n",
       "    .dataframe tbody tr th {\n",
       "        vertical-align: top;\n",
       "    }\n",
       "\n",
       "    .dataframe thead th {\n",
       "        text-align: right;\n",
       "    }\n",
       "</style>\n",
       "<table border=\"1\" class=\"dataframe\">\n",
       "  <thead>\n",
       "    <tr style=\"text-align: right;\">\n",
       "      <th>과목</th>\n",
       "      <th>수학</th>\n",
       "      <th>영어</th>\n",
       "      <th>음악</th>\n",
       "      <th>체육</th>\n",
       "    </tr>\n",
       "    <tr>\n",
       "      <th>번호</th>\n",
       "      <th></th>\n",
       "      <th></th>\n",
       "      <th></th>\n",
       "      <th></th>\n",
       "    </tr>\n",
       "  </thead>\n",
       "  <tbody>\n",
       "    <tr>\n",
       "      <th>1번</th>\n",
       "      <td>100</td>\n",
       "      <td>90</td>\n",
       "      <td>80</td>\n",
       "      <td>70</td>\n",
       "    </tr>\n",
       "    <tr>\n",
       "      <th>2번</th>\n",
       "      <td>92</td>\n",
       "      <td>82</td>\n",
       "      <td>72</td>\n",
       "      <td>62</td>\n",
       "    </tr>\n",
       "    <tr>\n",
       "      <th>3번</th>\n",
       "      <td>70</td>\n",
       "      <td>80</td>\n",
       "      <td>100</td>\n",
       "      <td>90</td>\n",
       "    </tr>\n",
       "    <tr>\n",
       "      <th>4번</th>\n",
       "      <td>75</td>\n",
       "      <td>70</td>\n",
       "      <td>65</td>\n",
       "      <td>70</td>\n",
       "    </tr>\n",
       "  </tbody>\n",
       "</table>\n",
       "</div>"
      ],
      "text/plain": [
       "과목   수학  영어   음악  체육\n",
       "번호                  \n",
       "1번  100  90   80  70\n",
       "2번   92  82   72  62\n",
       "3번   70  80  100  90\n",
       "4번   75  70   65  70"
      ]
     },
     "execution_count": 98,
     "metadata": {},
     "output_type": "execute_result"
    }
   ],
   "source": [
    "final_score.unstack()"
   ]
  },
  {
   "cell_type": "code",
   "execution_count": 99,
   "id": "09648680",
   "metadata": {},
   "outputs": [
    {
     "data": {
      "text/html": [
       "<div>\n",
       "<style scoped>\n",
       "    .dataframe tbody tr th:only-of-type {\n",
       "        vertical-align: middle;\n",
       "    }\n",
       "\n",
       "    .dataframe tbody tr th {\n",
       "        vertical-align: top;\n",
       "    }\n",
       "\n",
       "    .dataframe thead th {\n",
       "        text-align: right;\n",
       "    }\n",
       "</style>\n",
       "<table border=\"1\" class=\"dataframe\">\n",
       "  <thead>\n",
       "    <tr style=\"text-align: right;\">\n",
       "      <th></th>\n",
       "      <th></th>\n",
       "      <th>중간고사</th>\n",
       "      <th>기말고사</th>\n",
       "    </tr>\n",
       "    <tr>\n",
       "      <th>번호</th>\n",
       "      <th>과목</th>\n",
       "      <th></th>\n",
       "      <th></th>\n",
       "    </tr>\n",
       "  </thead>\n",
       "  <tbody>\n",
       "    <tr>\n",
       "      <th rowspan=\"4\" valign=\"top\">1번</th>\n",
       "      <th>수학</th>\n",
       "      <td>90</td>\n",
       "      <td>100</td>\n",
       "    </tr>\n",
       "    <tr>\n",
       "      <th>영어</th>\n",
       "      <td>80</td>\n",
       "      <td>90</td>\n",
       "    </tr>\n",
       "    <tr>\n",
       "      <th>음악</th>\n",
       "      <td>70</td>\n",
       "      <td>80</td>\n",
       "    </tr>\n",
       "    <tr>\n",
       "      <th>체육</th>\n",
       "      <td>60</td>\n",
       "      <td>70</td>\n",
       "    </tr>\n",
       "    <tr>\n",
       "      <th rowspan=\"4\" valign=\"top\">2번</th>\n",
       "      <th>수학</th>\n",
       "      <td>87</td>\n",
       "      <td>92</td>\n",
       "    </tr>\n",
       "    <tr>\n",
       "      <th>영어</th>\n",
       "      <td>77</td>\n",
       "      <td>82</td>\n",
       "    </tr>\n",
       "    <tr>\n",
       "      <th>음악</th>\n",
       "      <td>67</td>\n",
       "      <td>72</td>\n",
       "    </tr>\n",
       "    <tr>\n",
       "      <th>체육</th>\n",
       "      <td>57</td>\n",
       "      <td>62</td>\n",
       "    </tr>\n",
       "    <tr>\n",
       "      <th rowspan=\"4\" valign=\"top\">3번</th>\n",
       "      <th>수학</th>\n",
       "      <td>80</td>\n",
       "      <td>70</td>\n",
       "    </tr>\n",
       "    <tr>\n",
       "      <th>영어</th>\n",
       "      <td>90</td>\n",
       "      <td>80</td>\n",
       "    </tr>\n",
       "    <tr>\n",
       "      <th>음악</th>\n",
       "      <td>90</td>\n",
       "      <td>100</td>\n",
       "    </tr>\n",
       "    <tr>\n",
       "      <th>체육</th>\n",
       "      <td>90</td>\n",
       "      <td>90</td>\n",
       "    </tr>\n",
       "    <tr>\n",
       "      <th rowspan=\"4\" valign=\"top\">4번</th>\n",
       "      <th>수학</th>\n",
       "      <td>75</td>\n",
       "      <td>75</td>\n",
       "    </tr>\n",
       "    <tr>\n",
       "      <th>영어</th>\n",
       "      <td>70</td>\n",
       "      <td>70</td>\n",
       "    </tr>\n",
       "    <tr>\n",
       "      <th>음악</th>\n",
       "      <td>65</td>\n",
       "      <td>65</td>\n",
       "    </tr>\n",
       "    <tr>\n",
       "      <th>체육</th>\n",
       "      <td>70</td>\n",
       "      <td>70</td>\n",
       "    </tr>\n",
       "  </tbody>\n",
       "</table>\n",
       "</div>"
      ],
      "text/plain": [
       "       중간고사  기말고사\n",
       "번호 과목            \n",
       "1번 수학    90   100\n",
       "   영어    80    90\n",
       "   음악    70    80\n",
       "   체육    60    70\n",
       "2번 수학    87    92\n",
       "   영어    77    82\n",
       "   음악    67    72\n",
       "   체육    57    62\n",
       "3번 수학    80    70\n",
       "   영어    90    80\n",
       "   음악    90   100\n",
       "   체육    90    90\n",
       "4번 수학    75    75\n",
       "   영어    70    70\n",
       "   음악    65    65\n",
       "   체육    70    70"
      ]
     },
     "execution_count": 99,
     "metadata": {},
     "output_type": "execute_result"
    }
   ],
   "source": [
    "middle_term = [90, 80, 70, 60,\n",
    "               87, 77, 67, 57,\n",
    "               80, 90 , 90, 90,\n",
    "               75, 70, 65, 70]\n",
    "class_score_df = pd.DataFrame({'중간고사': middle_term, '기말고사': final_score})\n",
    "class_score_df"
   ]
  },
  {
   "cell_type": "code",
   "execution_count": 100,
   "id": "d6c6808b",
   "metadata": {},
   "outputs": [
    {
     "data": {
      "text/html": [
       "<div>\n",
       "<style scoped>\n",
       "    .dataframe tbody tr th:only-of-type {\n",
       "        vertical-align: middle;\n",
       "    }\n",
       "\n",
       "    .dataframe tbody tr th {\n",
       "        vertical-align: top;\n",
       "    }\n",
       "\n",
       "    .dataframe thead th {\n",
       "        text-align: right;\n",
       "    }\n",
       "</style>\n",
       "<table border=\"1\" class=\"dataframe\">\n",
       "  <thead>\n",
       "    <tr style=\"text-align: right;\">\n",
       "      <th></th>\n",
       "      <th></th>\n",
       "      <th>중간고사</th>\n",
       "      <th>기말고사</th>\n",
       "      <th>평균</th>\n",
       "    </tr>\n",
       "    <tr>\n",
       "      <th>번호</th>\n",
       "      <th>과목</th>\n",
       "      <th></th>\n",
       "      <th></th>\n",
       "      <th></th>\n",
       "    </tr>\n",
       "  </thead>\n",
       "  <tbody>\n",
       "    <tr>\n",
       "      <th rowspan=\"4\" valign=\"top\">1번</th>\n",
       "      <th>수학</th>\n",
       "      <td>90</td>\n",
       "      <td>100</td>\n",
       "      <td>95.0</td>\n",
       "    </tr>\n",
       "    <tr>\n",
       "      <th>영어</th>\n",
       "      <td>80</td>\n",
       "      <td>90</td>\n",
       "      <td>85.0</td>\n",
       "    </tr>\n",
       "    <tr>\n",
       "      <th>음악</th>\n",
       "      <td>70</td>\n",
       "      <td>80</td>\n",
       "      <td>75.0</td>\n",
       "    </tr>\n",
       "    <tr>\n",
       "      <th>체육</th>\n",
       "      <td>60</td>\n",
       "      <td>70</td>\n",
       "      <td>65.0</td>\n",
       "    </tr>\n",
       "    <tr>\n",
       "      <th rowspan=\"4\" valign=\"top\">2번</th>\n",
       "      <th>수학</th>\n",
       "      <td>87</td>\n",
       "      <td>92</td>\n",
       "      <td>89.5</td>\n",
       "    </tr>\n",
       "    <tr>\n",
       "      <th>영어</th>\n",
       "      <td>77</td>\n",
       "      <td>82</td>\n",
       "      <td>79.5</td>\n",
       "    </tr>\n",
       "    <tr>\n",
       "      <th>음악</th>\n",
       "      <td>67</td>\n",
       "      <td>72</td>\n",
       "      <td>69.5</td>\n",
       "    </tr>\n",
       "    <tr>\n",
       "      <th>체육</th>\n",
       "      <td>57</td>\n",
       "      <td>62</td>\n",
       "      <td>59.5</td>\n",
       "    </tr>\n",
       "    <tr>\n",
       "      <th rowspan=\"4\" valign=\"top\">3번</th>\n",
       "      <th>수학</th>\n",
       "      <td>80</td>\n",
       "      <td>70</td>\n",
       "      <td>75.0</td>\n",
       "    </tr>\n",
       "    <tr>\n",
       "      <th>영어</th>\n",
       "      <td>90</td>\n",
       "      <td>80</td>\n",
       "      <td>85.0</td>\n",
       "    </tr>\n",
       "    <tr>\n",
       "      <th>음악</th>\n",
       "      <td>90</td>\n",
       "      <td>100</td>\n",
       "      <td>95.0</td>\n",
       "    </tr>\n",
       "    <tr>\n",
       "      <th>체육</th>\n",
       "      <td>90</td>\n",
       "      <td>90</td>\n",
       "      <td>90.0</td>\n",
       "    </tr>\n",
       "    <tr>\n",
       "      <th rowspan=\"4\" valign=\"top\">4번</th>\n",
       "      <th>수학</th>\n",
       "      <td>75</td>\n",
       "      <td>75</td>\n",
       "      <td>75.0</td>\n",
       "    </tr>\n",
       "    <tr>\n",
       "      <th>영어</th>\n",
       "      <td>70</td>\n",
       "      <td>70</td>\n",
       "      <td>70.0</td>\n",
       "    </tr>\n",
       "    <tr>\n",
       "      <th>음악</th>\n",
       "      <td>65</td>\n",
       "      <td>65</td>\n",
       "      <td>65.0</td>\n",
       "    </tr>\n",
       "    <tr>\n",
       "      <th>체육</th>\n",
       "      <td>70</td>\n",
       "      <td>70</td>\n",
       "      <td>70.0</td>\n",
       "    </tr>\n",
       "  </tbody>\n",
       "</table>\n",
       "</div>"
      ],
      "text/plain": [
       "       중간고사  기말고사    평균\n",
       "번호 과목                  \n",
       "1번 수학    90   100  95.0\n",
       "   영어    80    90  85.0\n",
       "   음악    70    80  75.0\n",
       "   체육    60    70  65.0\n",
       "2번 수학    87    92  89.5\n",
       "   영어    77    82  79.5\n",
       "   음악    67    72  69.5\n",
       "   체육    57    62  59.5\n",
       "3번 수학    80    70  75.0\n",
       "   영어    90    80  85.0\n",
       "   음악    90   100  95.0\n",
       "   체육    90    90  90.0\n",
       "4번 수학    75    75  75.0\n",
       "   영어    70    70  70.0\n",
       "   음악    65    65  65.0\n",
       "   체육    70    70  70.0"
      ]
     },
     "execution_count": 100,
     "metadata": {},
     "output_type": "execute_result"
    }
   ],
   "source": [
    "aver = (class_score_df['중간고사'].values + class_score_df['기말고사'].values) / 2\n",
    "\n",
    "class_score_df = pd.DataFrame({'중간고사':middle_term,'기말고사':final_score,'평균':aver})\n",
    "class_score_df"
   ]
  },
  {
   "cell_type": "code",
   "execution_count": 101,
   "id": "f29c5139",
   "metadata": {},
   "outputs": [
    {
     "data": {
      "text/plain": [
       "MultiIndex([('영수', '수학'),\n",
       "            ('영수', '영어'),\n",
       "            ('영수', '체육'),\n",
       "            ('영수', '음악'),\n",
       "            ('철수', '수학'),\n",
       "            ('철수', '영어'),\n",
       "            ('철수', '체육'),\n",
       "            ('철수', '음악'),\n",
       "            ('영희', '수학'),\n",
       "            ('영희', '영어'),\n",
       "            ('영희', '체육'),\n",
       "            ('영희', '음악')],\n",
       "           )"
      ]
     },
     "execution_count": 101,
     "metadata": {},
     "output_type": "execute_result"
    }
   ],
   "source": [
    "mdf1 = pd.MultiIndex.from_product([['영수','철수','영희'], ['수학','영어','체육', '음악']])\n",
    "mdf1"
   ]
  },
  {
   "cell_type": "markdown",
   "id": "80691286",
   "metadata": {},
   "source": [
    "#### 인덱싱 및 슬라이싱"
   ]
  },
  {
   "cell_type": "code",
   "execution_count": 102,
   "id": "bef874a0",
   "metadata": {},
   "outputs": [
    {
     "data": {
      "text/plain": [
       "이름  과목\n",
       "영수  수학    90\n",
       "    영어    80\n",
       "    체육    70\n",
       "    음악    50\n",
       "철수  수학    87\n",
       "    영어    77\n",
       "    체육    67\n",
       "    음악    60\n",
       "영희  수학    80\n",
       "    영어    90\n",
       "    체육    90\n",
       "    음악    50\n",
       "dtype: int64"
      ]
     },
     "execution_count": 102,
     "metadata": {},
     "output_type": "execute_result"
    }
   ],
   "source": [
    "middle_term = [90, 80, 70, 50,\n",
    "               87, 77, 67, 60, \n",
    "               80, 90 , 90, 50]\n",
    "\n",
    "mdf_s = pd.Series(middle_term, index = mdf1)\n",
    "mdf_s.index.names = ['이름', '과목']\n",
    "mdf_s"
   ]
  },
  {
   "cell_type": "code",
   "execution_count": 103,
   "id": "6ea4ab9e",
   "metadata": {},
   "outputs": [
    {
     "data": {
      "text/plain": [
       "90"
      ]
     },
     "execution_count": 103,
     "metadata": {},
     "output_type": "execute_result"
    }
   ],
   "source": [
    "mdf_s['영희', '영어']"
   ]
  },
  {
   "cell_type": "code",
   "execution_count": 104,
   "id": "329259bd",
   "metadata": {
    "scrolled": true
   },
   "outputs": [
    {
     "data": {
      "text/plain": [
       "과목\n",
       "수학    80\n",
       "영어    90\n",
       "체육    90\n",
       "음악    50\n",
       "dtype: int64"
      ]
     },
     "execution_count": 104,
     "metadata": {},
     "output_type": "execute_result"
    }
   ],
   "source": [
    "mdf_s['영희']"
   ]
  },
  {
   "cell_type": "code",
   "execution_count": 105,
   "id": "b5ddfc5d",
   "metadata": {},
   "outputs": [],
   "source": [
    "final_score = [100, 90, 80, 70,\n",
    "               92, 82, 72, 62,\n",
    "               70, 80, 100 ,52]"
   ]
  },
  {
   "cell_type": "code",
   "execution_count": 106,
   "id": "2512bb03",
   "metadata": {},
   "outputs": [
    {
     "data": {
      "text/html": [
       "<div>\n",
       "<style scoped>\n",
       "    .dataframe tbody tr th:only-of-type {\n",
       "        vertical-align: middle;\n",
       "    }\n",
       "\n",
       "    .dataframe tbody tr th {\n",
       "        vertical-align: top;\n",
       "    }\n",
       "\n",
       "    .dataframe thead th {\n",
       "        text-align: right;\n",
       "    }\n",
       "</style>\n",
       "<table border=\"1\" class=\"dataframe\">\n",
       "  <thead>\n",
       "    <tr style=\"text-align: right;\">\n",
       "      <th></th>\n",
       "      <th></th>\n",
       "      <th>중간고사</th>\n",
       "      <th>기말고사</th>\n",
       "      <th>평균</th>\n",
       "      <th>순위</th>\n",
       "    </tr>\n",
       "    <tr>\n",
       "      <th>이름</th>\n",
       "      <th>과목</th>\n",
       "      <th></th>\n",
       "      <th></th>\n",
       "      <th></th>\n",
       "      <th></th>\n",
       "    </tr>\n",
       "  </thead>\n",
       "  <tbody>\n",
       "    <tr>\n",
       "      <th rowspan=\"4\" valign=\"top\">영수</th>\n",
       "      <th>수학</th>\n",
       "      <td>90</td>\n",
       "      <td>100</td>\n",
       "      <td>95.0</td>\n",
       "      <td>1.0</td>\n",
       "    </tr>\n",
       "    <tr>\n",
       "      <th>영어</th>\n",
       "      <td>80</td>\n",
       "      <td>90</td>\n",
       "      <td>85.0</td>\n",
       "      <td>4.0</td>\n",
       "    </tr>\n",
       "    <tr>\n",
       "      <th>체육</th>\n",
       "      <td>70</td>\n",
       "      <td>80</td>\n",
       "      <td>75.0</td>\n",
       "      <td>7.0</td>\n",
       "    </tr>\n",
       "    <tr>\n",
       "      <th>음악</th>\n",
       "      <td>50</td>\n",
       "      <td>70</td>\n",
       "      <td>60.0</td>\n",
       "      <td>11.0</td>\n",
       "    </tr>\n",
       "    <tr>\n",
       "      <th rowspan=\"4\" valign=\"top\">철수</th>\n",
       "      <th>수학</th>\n",
       "      <td>87</td>\n",
       "      <td>92</td>\n",
       "      <td>89.5</td>\n",
       "      <td>3.0</td>\n",
       "    </tr>\n",
       "    <tr>\n",
       "      <th>영어</th>\n",
       "      <td>77</td>\n",
       "      <td>82</td>\n",
       "      <td>79.5</td>\n",
       "      <td>6.0</td>\n",
       "    </tr>\n",
       "    <tr>\n",
       "      <th>체육</th>\n",
       "      <td>67</td>\n",
       "      <td>72</td>\n",
       "      <td>69.5</td>\n",
       "      <td>9.0</td>\n",
       "    </tr>\n",
       "    <tr>\n",
       "      <th>음악</th>\n",
       "      <td>60</td>\n",
       "      <td>62</td>\n",
       "      <td>61.0</td>\n",
       "      <td>10.0</td>\n",
       "    </tr>\n",
       "    <tr>\n",
       "      <th rowspan=\"4\" valign=\"top\">영희</th>\n",
       "      <th>수학</th>\n",
       "      <td>80</td>\n",
       "      <td>70</td>\n",
       "      <td>75.0</td>\n",
       "      <td>8.0</td>\n",
       "    </tr>\n",
       "    <tr>\n",
       "      <th>영어</th>\n",
       "      <td>90</td>\n",
       "      <td>80</td>\n",
       "      <td>85.0</td>\n",
       "      <td>5.0</td>\n",
       "    </tr>\n",
       "    <tr>\n",
       "      <th>체육</th>\n",
       "      <td>90</td>\n",
       "      <td>100</td>\n",
       "      <td>95.0</td>\n",
       "      <td>2.0</td>\n",
       "    </tr>\n",
       "    <tr>\n",
       "      <th>음악</th>\n",
       "      <td>50</td>\n",
       "      <td>52</td>\n",
       "      <td>51.0</td>\n",
       "      <td>12.0</td>\n",
       "    </tr>\n",
       "  </tbody>\n",
       "</table>\n",
       "</div>"
      ],
      "text/plain": [
       "       중간고사  기말고사    평균    순위\n",
       "이름 과목                        \n",
       "영수 수학    90   100  95.0   1.0\n",
       "   영어    80    90  85.0   4.0\n",
       "   체육    70    80  75.0   7.0\n",
       "   음악    50    70  60.0  11.0\n",
       "철수 수학    87    92  89.5   3.0\n",
       "   영어    77    82  79.5   6.0\n",
       "   체육    67    72  69.5   9.0\n",
       "   음악    60    62  61.0  10.0\n",
       "영희 수학    80    70  75.0   8.0\n",
       "   영어    90    80  85.0   5.0\n",
       "   체육    90   100  95.0   2.0\n",
       "   음악    50    52  51.0  12.0"
      ]
     },
     "execution_count": 106,
     "metadata": {},
     "output_type": "execute_result"
    }
   ],
   "source": [
    "class_score = pd.DataFrame({'중간고사':mdf_s, \n",
    "                            '기말고사':final_score})\n",
    "class_score['평균'] = (class_score['중간고사'] + class_score['기말고사']) /2\n",
    "class_score['순위'] = class_score['평균'].rank(method='first', ascending=False)\n",
    "class_score"
   ]
  },
  {
   "cell_type": "code",
   "execution_count": 107,
   "id": "5612dc29",
   "metadata": {},
   "outputs": [
    {
     "data": {
      "text/html": [
       "<div>\n",
       "<style scoped>\n",
       "    .dataframe tbody tr th:only-of-type {\n",
       "        vertical-align: middle;\n",
       "    }\n",
       "\n",
       "    .dataframe tbody tr th {\n",
       "        vertical-align: top;\n",
       "    }\n",
       "\n",
       "    .dataframe thead th {\n",
       "        text-align: right;\n",
       "    }\n",
       "</style>\n",
       "<table border=\"1\" class=\"dataframe\">\n",
       "  <thead>\n",
       "    <tr style=\"text-align: right;\">\n",
       "      <th></th>\n",
       "      <th></th>\n",
       "      <th>중간고사</th>\n",
       "      <th>기말고사</th>\n",
       "      <th>평균</th>\n",
       "      <th>순위</th>\n",
       "      <th>등급</th>\n",
       "    </tr>\n",
       "    <tr>\n",
       "      <th>이름</th>\n",
       "      <th>과목</th>\n",
       "      <th></th>\n",
       "      <th></th>\n",
       "      <th></th>\n",
       "      <th></th>\n",
       "      <th></th>\n",
       "    </tr>\n",
       "  </thead>\n",
       "  <tbody>\n",
       "    <tr>\n",
       "      <th rowspan=\"4\" valign=\"top\">영수</th>\n",
       "      <th>수학</th>\n",
       "      <td>90</td>\n",
       "      <td>100</td>\n",
       "      <td>95.0</td>\n",
       "      <td>1.0</td>\n",
       "      <td>1등급</td>\n",
       "    </tr>\n",
       "    <tr>\n",
       "      <th>영어</th>\n",
       "      <td>80</td>\n",
       "      <td>90</td>\n",
       "      <td>85.0</td>\n",
       "      <td>4.0</td>\n",
       "      <td>2등급</td>\n",
       "    </tr>\n",
       "    <tr>\n",
       "      <th>체육</th>\n",
       "      <td>70</td>\n",
       "      <td>80</td>\n",
       "      <td>75.0</td>\n",
       "      <td>7.0</td>\n",
       "      <td>2등급</td>\n",
       "    </tr>\n",
       "    <tr>\n",
       "      <th>음악</th>\n",
       "      <td>50</td>\n",
       "      <td>70</td>\n",
       "      <td>60.0</td>\n",
       "      <td>11.0</td>\n",
       "      <td>3등급</td>\n",
       "    </tr>\n",
       "    <tr>\n",
       "      <th rowspan=\"4\" valign=\"top\">철수</th>\n",
       "      <th>수학</th>\n",
       "      <td>87</td>\n",
       "      <td>92</td>\n",
       "      <td>89.5</td>\n",
       "      <td>3.0</td>\n",
       "      <td>1등급</td>\n",
       "    </tr>\n",
       "    <tr>\n",
       "      <th>영어</th>\n",
       "      <td>77</td>\n",
       "      <td>82</td>\n",
       "      <td>79.5</td>\n",
       "      <td>6.0</td>\n",
       "      <td>2등급</td>\n",
       "    </tr>\n",
       "    <tr>\n",
       "      <th>체육</th>\n",
       "      <td>67</td>\n",
       "      <td>72</td>\n",
       "      <td>69.5</td>\n",
       "      <td>9.0</td>\n",
       "      <td>3등급</td>\n",
       "    </tr>\n",
       "    <tr>\n",
       "      <th>음악</th>\n",
       "      <td>60</td>\n",
       "      <td>62</td>\n",
       "      <td>61.0</td>\n",
       "      <td>10.0</td>\n",
       "      <td>3등급</td>\n",
       "    </tr>\n",
       "    <tr>\n",
       "      <th rowspan=\"4\" valign=\"top\">영희</th>\n",
       "      <th>수학</th>\n",
       "      <td>80</td>\n",
       "      <td>70</td>\n",
       "      <td>75.0</td>\n",
       "      <td>8.0</td>\n",
       "      <td>3등급</td>\n",
       "    </tr>\n",
       "    <tr>\n",
       "      <th>영어</th>\n",
       "      <td>90</td>\n",
       "      <td>80</td>\n",
       "      <td>85.0</td>\n",
       "      <td>5.0</td>\n",
       "      <td>2등급</td>\n",
       "    </tr>\n",
       "    <tr>\n",
       "      <th>체육</th>\n",
       "      <td>90</td>\n",
       "      <td>100</td>\n",
       "      <td>95.0</td>\n",
       "      <td>2.0</td>\n",
       "      <td>1등급</td>\n",
       "    </tr>\n",
       "    <tr>\n",
       "      <th>음악</th>\n",
       "      <td>50</td>\n",
       "      <td>52</td>\n",
       "      <td>51.0</td>\n",
       "      <td>12.0</td>\n",
       "      <td>3등급</td>\n",
       "    </tr>\n",
       "  </tbody>\n",
       "</table>\n",
       "</div>"
      ],
      "text/plain": [
       "       중간고사  기말고사    평균    순위   등급\n",
       "이름 과목                             \n",
       "영수 수학    90   100  95.0   1.0  1등급\n",
       "   영어    80    90  85.0   4.0  2등급\n",
       "   체육    70    80  75.0   7.0  2등급\n",
       "   음악    50    70  60.0  11.0  3등급\n",
       "철수 수학    87    92  89.5   3.0  1등급\n",
       "   영어    77    82  79.5   6.0  2등급\n",
       "   체육    67    72  69.5   9.0  3등급\n",
       "   음악    60    62  61.0  10.0  3등급\n",
       "영희 수학    80    70  75.0   8.0  3등급\n",
       "   영어    90    80  85.0   5.0  2등급\n",
       "   체육    90   100  95.0   2.0  1등급\n",
       "   음악    50    52  51.0  12.0  3등급"
      ]
     },
     "execution_count": 107,
     "metadata": {},
     "output_type": "execute_result"
    }
   ],
   "source": [
    "def Make_grad(value):\n",
    "    value = int(value)\n",
    "    if value < 4:\n",
    "        return '1등급'\n",
    "    elif value < 8:\n",
    "        return '2등급'\n",
    "    else:\n",
    "        return '3등급'\n",
    "\n",
    "class_score['등급'] = class_score['순위'].apply(Make_grad)\n",
    "class_score"
   ]
  },
  {
   "cell_type": "markdown",
   "id": "e6091d62",
   "metadata": {},
   "source": [
    "#### 다중 인덱스 재정렬"
   ]
  },
  {
   "cell_type": "code",
   "execution_count": 108,
   "id": "e9f293e6",
   "metadata": {},
   "outputs": [
    {
     "data": {
      "text/html": [
       "<div>\n",
       "<style scoped>\n",
       "    .dataframe tbody tr th:only-of-type {\n",
       "        vertical-align: middle;\n",
       "    }\n",
       "\n",
       "    .dataframe tbody tr th {\n",
       "        vertical-align: top;\n",
       "    }\n",
       "\n",
       "    .dataframe thead th {\n",
       "        text-align: right;\n",
       "    }\n",
       "</style>\n",
       "<table border=\"1\" class=\"dataframe\">\n",
       "  <thead>\n",
       "    <tr style=\"text-align: right;\">\n",
       "      <th></th>\n",
       "      <th></th>\n",
       "      <th>중간고사</th>\n",
       "      <th>기말고사</th>\n",
       "      <th>평균</th>\n",
       "      <th>순위</th>\n",
       "      <th>등급</th>\n",
       "    </tr>\n",
       "    <tr>\n",
       "      <th>이름</th>\n",
       "      <th>과목</th>\n",
       "      <th></th>\n",
       "      <th></th>\n",
       "      <th></th>\n",
       "      <th></th>\n",
       "      <th></th>\n",
       "    </tr>\n",
       "  </thead>\n",
       "  <tbody>\n",
       "    <tr>\n",
       "      <th rowspan=\"4\" valign=\"top\">영수</th>\n",
       "      <th>수학</th>\n",
       "      <td>90</td>\n",
       "      <td>100</td>\n",
       "      <td>95.0</td>\n",
       "      <td>1.0</td>\n",
       "      <td>1등급</td>\n",
       "    </tr>\n",
       "    <tr>\n",
       "      <th>영어</th>\n",
       "      <td>80</td>\n",
       "      <td>90</td>\n",
       "      <td>85.0</td>\n",
       "      <td>4.0</td>\n",
       "      <td>2등급</td>\n",
       "    </tr>\n",
       "    <tr>\n",
       "      <th>음악</th>\n",
       "      <td>50</td>\n",
       "      <td>70</td>\n",
       "      <td>60.0</td>\n",
       "      <td>11.0</td>\n",
       "      <td>3등급</td>\n",
       "    </tr>\n",
       "    <tr>\n",
       "      <th>체육</th>\n",
       "      <td>70</td>\n",
       "      <td>80</td>\n",
       "      <td>75.0</td>\n",
       "      <td>7.0</td>\n",
       "      <td>2등급</td>\n",
       "    </tr>\n",
       "    <tr>\n",
       "      <th rowspan=\"4\" valign=\"top\">영희</th>\n",
       "      <th>수학</th>\n",
       "      <td>80</td>\n",
       "      <td>70</td>\n",
       "      <td>75.0</td>\n",
       "      <td>8.0</td>\n",
       "      <td>3등급</td>\n",
       "    </tr>\n",
       "    <tr>\n",
       "      <th>영어</th>\n",
       "      <td>90</td>\n",
       "      <td>80</td>\n",
       "      <td>85.0</td>\n",
       "      <td>5.0</td>\n",
       "      <td>2등급</td>\n",
       "    </tr>\n",
       "    <tr>\n",
       "      <th>음악</th>\n",
       "      <td>50</td>\n",
       "      <td>52</td>\n",
       "      <td>51.0</td>\n",
       "      <td>12.0</td>\n",
       "      <td>3등급</td>\n",
       "    </tr>\n",
       "    <tr>\n",
       "      <th>체육</th>\n",
       "      <td>90</td>\n",
       "      <td>100</td>\n",
       "      <td>95.0</td>\n",
       "      <td>2.0</td>\n",
       "      <td>1등급</td>\n",
       "    </tr>\n",
       "    <tr>\n",
       "      <th rowspan=\"4\" valign=\"top\">철수</th>\n",
       "      <th>수학</th>\n",
       "      <td>87</td>\n",
       "      <td>92</td>\n",
       "      <td>89.5</td>\n",
       "      <td>3.0</td>\n",
       "      <td>1등급</td>\n",
       "    </tr>\n",
       "    <tr>\n",
       "      <th>영어</th>\n",
       "      <td>77</td>\n",
       "      <td>82</td>\n",
       "      <td>79.5</td>\n",
       "      <td>6.0</td>\n",
       "      <td>2등급</td>\n",
       "    </tr>\n",
       "    <tr>\n",
       "      <th>음악</th>\n",
       "      <td>60</td>\n",
       "      <td>62</td>\n",
       "      <td>61.0</td>\n",
       "      <td>10.0</td>\n",
       "      <td>3등급</td>\n",
       "    </tr>\n",
       "    <tr>\n",
       "      <th>체육</th>\n",
       "      <td>67</td>\n",
       "      <td>72</td>\n",
       "      <td>69.5</td>\n",
       "      <td>9.0</td>\n",
       "      <td>3등급</td>\n",
       "    </tr>\n",
       "  </tbody>\n",
       "</table>\n",
       "</div>"
      ],
      "text/plain": [
       "       중간고사  기말고사    평균    순위   등급\n",
       "이름 과목                             \n",
       "영수 수학    90   100  95.0   1.0  1등급\n",
       "   영어    80    90  85.0   4.0  2등급\n",
       "   음악    50    70  60.0  11.0  3등급\n",
       "   체육    70    80  75.0   7.0  2등급\n",
       "영희 수학    80    70  75.0   8.0  3등급\n",
       "   영어    90    80  85.0   5.0  2등급\n",
       "   음악    50    52  51.0  12.0  3등급\n",
       "   체육    90   100  95.0   2.0  1등급\n",
       "철수 수학    87    92  89.5   3.0  1등급\n",
       "   영어    77    82  79.5   6.0  2등급\n",
       "   음악    60    62  61.0  10.0  3등급\n",
       "   체육    67    72  69.5   9.0  3등급"
      ]
     },
     "execution_count": 108,
     "metadata": {},
     "output_type": "execute_result"
    }
   ],
   "source": [
    "# class_score['영수':'바둑이']\n",
    "# 멀티인덱스는 초기 인덱스가 정렬이 되어 있지 않기 때문에 단순히 슬라이싱을 하면 에러가 나타난다.\n",
    "\n",
    "class_score = class_score.sort_index()\n",
    "class_score"
   ]
  },
  {
   "cell_type": "code",
   "execution_count": 109,
   "id": "35984a92",
   "metadata": {},
   "outputs": [
    {
     "data": {
      "text/html": [
       "<div>\n",
       "<style scoped>\n",
       "    .dataframe tbody tr th:only-of-type {\n",
       "        vertical-align: middle;\n",
       "    }\n",
       "\n",
       "    .dataframe tbody tr th {\n",
       "        vertical-align: top;\n",
       "    }\n",
       "\n",
       "    .dataframe thead th {\n",
       "        text-align: right;\n",
       "    }\n",
       "</style>\n",
       "<table border=\"1\" class=\"dataframe\">\n",
       "  <thead>\n",
       "    <tr style=\"text-align: right;\">\n",
       "      <th></th>\n",
       "      <th></th>\n",
       "      <th>중간고사</th>\n",
       "      <th>기말고사</th>\n",
       "      <th>평균</th>\n",
       "      <th>순위</th>\n",
       "      <th>등급</th>\n",
       "    </tr>\n",
       "    <tr>\n",
       "      <th>이름</th>\n",
       "      <th>과목</th>\n",
       "      <th></th>\n",
       "      <th></th>\n",
       "      <th></th>\n",
       "      <th></th>\n",
       "      <th></th>\n",
       "    </tr>\n",
       "  </thead>\n",
       "  <tbody>\n",
       "    <tr>\n",
       "      <th rowspan=\"4\" valign=\"top\">영수</th>\n",
       "      <th>수학</th>\n",
       "      <td>90</td>\n",
       "      <td>100</td>\n",
       "      <td>95.0</td>\n",
       "      <td>1.0</td>\n",
       "      <td>1등급</td>\n",
       "    </tr>\n",
       "    <tr>\n",
       "      <th>영어</th>\n",
       "      <td>80</td>\n",
       "      <td>90</td>\n",
       "      <td>85.0</td>\n",
       "      <td>4.0</td>\n",
       "      <td>2등급</td>\n",
       "    </tr>\n",
       "    <tr>\n",
       "      <th>음악</th>\n",
       "      <td>50</td>\n",
       "      <td>70</td>\n",
       "      <td>60.0</td>\n",
       "      <td>11.0</td>\n",
       "      <td>3등급</td>\n",
       "    </tr>\n",
       "    <tr>\n",
       "      <th>체육</th>\n",
       "      <td>70</td>\n",
       "      <td>80</td>\n",
       "      <td>75.0</td>\n",
       "      <td>7.0</td>\n",
       "      <td>2등급</td>\n",
       "    </tr>\n",
       "  </tbody>\n",
       "</table>\n",
       "</div>"
      ],
      "text/plain": [
       "       중간고사  기말고사    평균    순위   등급\n",
       "이름 과목                             \n",
       "영수 수학    90   100  95.0   1.0  1등급\n",
       "   영어    80    90  85.0   4.0  2등급\n",
       "   음악    50    70  60.0  11.0  3등급\n",
       "   체육    70    80  75.0   7.0  2등급"
      ]
     },
     "execution_count": 109,
     "metadata": {},
     "output_type": "execute_result"
    }
   ],
   "source": [
    "class_score[:'영수']"
   ]
  },
  {
   "cell_type": "code",
   "execution_count": 110,
   "id": "75790ae7",
   "metadata": {},
   "outputs": [
    {
     "data": {
      "text/plain": [
       "MultiIndex([('영수', '수학'),\n",
       "            ('영수', '영어'),\n",
       "            ('영수', '음악'),\n",
       "            ('영수', '체육'),\n",
       "            ('영희', '수학'),\n",
       "            ('영희', '영어'),\n",
       "            ('영희', '음악'),\n",
       "            ('영희', '체육'),\n",
       "            ('철수', '수학'),\n",
       "            ('철수', '영어'),\n",
       "            ('철수', '음악'),\n",
       "            ('철수', '체육')],\n",
       "           names=['이름', '과목'])"
      ]
     },
     "execution_count": 110,
     "metadata": {},
     "output_type": "execute_result"
    }
   ],
   "source": [
    "class_score.index"
   ]
  },
  {
   "cell_type": "code",
   "execution_count": 111,
   "id": "06b0a574",
   "metadata": {},
   "outputs": [
    {
     "data": {
      "text/plain": [
       "중간고사      90\n",
       "기말고사     100\n",
       "평균      95.0\n",
       "순위       1.0\n",
       "등급       1등급\n",
       "Name: (영수, 수학), dtype: object"
      ]
     },
     "execution_count": 111,
     "metadata": {},
     "output_type": "execute_result"
    }
   ],
   "source": [
    "# Index 형태가 위와 같이 Tuple 형태로 그룹화되어 있기 때문에\n",
    "# class_score['영수','수학'] 형식이 실행되지 않는다.\n",
    "class_score.loc[('영수','수학'),:]"
   ]
  },
  {
   "cell_type": "code",
   "execution_count": 112,
   "id": "dcbc4044",
   "metadata": {
    "scrolled": true
   },
   "outputs": [
    {
     "data": {
      "text/html": [
       "<div>\n",
       "<style scoped>\n",
       "    .dataframe tbody tr th:only-of-type {\n",
       "        vertical-align: middle;\n",
       "    }\n",
       "\n",
       "    .dataframe tbody tr th {\n",
       "        vertical-align: top;\n",
       "    }\n",
       "\n",
       "    .dataframe thead th {\n",
       "        text-align: right;\n",
       "    }\n",
       "</style>\n",
       "<table border=\"1\" class=\"dataframe\">\n",
       "  <thead>\n",
       "    <tr style=\"text-align: right;\">\n",
       "      <th></th>\n",
       "      <th></th>\n",
       "      <th>중간고사</th>\n",
       "      <th>기말고사</th>\n",
       "      <th>평균</th>\n",
       "      <th>순위</th>\n",
       "      <th>등급</th>\n",
       "    </tr>\n",
       "    <tr>\n",
       "      <th>이름</th>\n",
       "      <th>과목</th>\n",
       "      <th></th>\n",
       "      <th></th>\n",
       "      <th></th>\n",
       "      <th></th>\n",
       "      <th></th>\n",
       "    </tr>\n",
       "  </thead>\n",
       "  <tbody>\n",
       "    <tr>\n",
       "      <th rowspan=\"4\" valign=\"top\">영수</th>\n",
       "      <th>수학</th>\n",
       "      <td>90</td>\n",
       "      <td>100</td>\n",
       "      <td>95.0</td>\n",
       "      <td>1.0</td>\n",
       "      <td>1등급</td>\n",
       "    </tr>\n",
       "    <tr>\n",
       "      <th>영어</th>\n",
       "      <td>80</td>\n",
       "      <td>90</td>\n",
       "      <td>85.0</td>\n",
       "      <td>4.0</td>\n",
       "      <td>2등급</td>\n",
       "    </tr>\n",
       "    <tr>\n",
       "      <th>음악</th>\n",
       "      <td>50</td>\n",
       "      <td>70</td>\n",
       "      <td>60.0</td>\n",
       "      <td>11.0</td>\n",
       "      <td>3등급</td>\n",
       "    </tr>\n",
       "    <tr>\n",
       "      <th>체육</th>\n",
       "      <td>70</td>\n",
       "      <td>80</td>\n",
       "      <td>75.0</td>\n",
       "      <td>7.0</td>\n",
       "      <td>2등급</td>\n",
       "    </tr>\n",
       "    <tr>\n",
       "      <th rowspan=\"4\" valign=\"top\">영희</th>\n",
       "      <th>수학</th>\n",
       "      <td>80</td>\n",
       "      <td>70</td>\n",
       "      <td>75.0</td>\n",
       "      <td>8.0</td>\n",
       "      <td>3등급</td>\n",
       "    </tr>\n",
       "    <tr>\n",
       "      <th>영어</th>\n",
       "      <td>90</td>\n",
       "      <td>80</td>\n",
       "      <td>85.0</td>\n",
       "      <td>5.0</td>\n",
       "      <td>2등급</td>\n",
       "    </tr>\n",
       "    <tr>\n",
       "      <th>음악</th>\n",
       "      <td>50</td>\n",
       "      <td>52</td>\n",
       "      <td>51.0</td>\n",
       "      <td>12.0</td>\n",
       "      <td>3등급</td>\n",
       "    </tr>\n",
       "    <tr>\n",
       "      <th>체육</th>\n",
       "      <td>90</td>\n",
       "      <td>100</td>\n",
       "      <td>95.0</td>\n",
       "      <td>2.0</td>\n",
       "      <td>1등급</td>\n",
       "    </tr>\n",
       "  </tbody>\n",
       "</table>\n",
       "</div>"
      ],
      "text/plain": [
       "       중간고사  기말고사    평균    순위   등급\n",
       "이름 과목                             \n",
       "영수 수학    90   100  95.0   1.0  1등급\n",
       "   영어    80    90  85.0   4.0  2등급\n",
       "   음악    50    70  60.0  11.0  3등급\n",
       "   체육    70    80  75.0   7.0  2등급\n",
       "영희 수학    80    70  75.0   8.0  3등급\n",
       "   영어    90    80  85.0   5.0  2등급\n",
       "   음악    50    52  51.0  12.0  3등급\n",
       "   체육    90   100  95.0   2.0  1등급"
      ]
     },
     "execution_count": 112,
     "metadata": {},
     "output_type": "execute_result"
    }
   ],
   "source": [
    "class_score['영수':'영희']"
   ]
  },
  {
   "cell_type": "code",
   "execution_count": 113,
   "id": "e4a7e985",
   "metadata": {},
   "outputs": [
    {
     "data": {
      "text/html": [
       "<div>\n",
       "<style scoped>\n",
       "    .dataframe tbody tr th:only-of-type {\n",
       "        vertical-align: middle;\n",
       "    }\n",
       "\n",
       "    .dataframe tbody tr th {\n",
       "        vertical-align: top;\n",
       "    }\n",
       "\n",
       "    .dataframe thead tr th {\n",
       "        text-align: left;\n",
       "    }\n",
       "\n",
       "    .dataframe thead tr:last-of-type th {\n",
       "        text-align: right;\n",
       "    }\n",
       "</style>\n",
       "<table border=\"1\" class=\"dataframe\">\n",
       "  <thead>\n",
       "    <tr>\n",
       "      <th></th>\n",
       "      <th colspan=\"3\" halign=\"left\">중간고사</th>\n",
       "      <th colspan=\"3\" halign=\"left\">기말고사</th>\n",
       "      <th colspan=\"3\" halign=\"left\">평균</th>\n",
       "      <th colspan=\"3\" halign=\"left\">순위</th>\n",
       "      <th colspan=\"3\" halign=\"left\">등급</th>\n",
       "    </tr>\n",
       "    <tr>\n",
       "      <th>이름</th>\n",
       "      <th>영수</th>\n",
       "      <th>영희</th>\n",
       "      <th>철수</th>\n",
       "      <th>영수</th>\n",
       "      <th>영희</th>\n",
       "      <th>철수</th>\n",
       "      <th>영수</th>\n",
       "      <th>영희</th>\n",
       "      <th>철수</th>\n",
       "      <th>영수</th>\n",
       "      <th>영희</th>\n",
       "      <th>철수</th>\n",
       "      <th>영수</th>\n",
       "      <th>영희</th>\n",
       "      <th>철수</th>\n",
       "    </tr>\n",
       "    <tr>\n",
       "      <th>과목</th>\n",
       "      <th></th>\n",
       "      <th></th>\n",
       "      <th></th>\n",
       "      <th></th>\n",
       "      <th></th>\n",
       "      <th></th>\n",
       "      <th></th>\n",
       "      <th></th>\n",
       "      <th></th>\n",
       "      <th></th>\n",
       "      <th></th>\n",
       "      <th></th>\n",
       "      <th></th>\n",
       "      <th></th>\n",
       "      <th></th>\n",
       "    </tr>\n",
       "  </thead>\n",
       "  <tbody>\n",
       "    <tr>\n",
       "      <th>수학</th>\n",
       "      <td>90</td>\n",
       "      <td>80</td>\n",
       "      <td>87</td>\n",
       "      <td>100</td>\n",
       "      <td>70</td>\n",
       "      <td>92</td>\n",
       "      <td>95.0</td>\n",
       "      <td>75.0</td>\n",
       "      <td>89.5</td>\n",
       "      <td>1.0</td>\n",
       "      <td>8.0</td>\n",
       "      <td>3.0</td>\n",
       "      <td>1등급</td>\n",
       "      <td>3등급</td>\n",
       "      <td>1등급</td>\n",
       "    </tr>\n",
       "    <tr>\n",
       "      <th>영어</th>\n",
       "      <td>80</td>\n",
       "      <td>90</td>\n",
       "      <td>77</td>\n",
       "      <td>90</td>\n",
       "      <td>80</td>\n",
       "      <td>82</td>\n",
       "      <td>85.0</td>\n",
       "      <td>85.0</td>\n",
       "      <td>79.5</td>\n",
       "      <td>4.0</td>\n",
       "      <td>5.0</td>\n",
       "      <td>6.0</td>\n",
       "      <td>2등급</td>\n",
       "      <td>2등급</td>\n",
       "      <td>2등급</td>\n",
       "    </tr>\n",
       "    <tr>\n",
       "      <th>음악</th>\n",
       "      <td>50</td>\n",
       "      <td>50</td>\n",
       "      <td>60</td>\n",
       "      <td>70</td>\n",
       "      <td>52</td>\n",
       "      <td>62</td>\n",
       "      <td>60.0</td>\n",
       "      <td>51.0</td>\n",
       "      <td>61.0</td>\n",
       "      <td>11.0</td>\n",
       "      <td>12.0</td>\n",
       "      <td>10.0</td>\n",
       "      <td>3등급</td>\n",
       "      <td>3등급</td>\n",
       "      <td>3등급</td>\n",
       "    </tr>\n",
       "    <tr>\n",
       "      <th>체육</th>\n",
       "      <td>70</td>\n",
       "      <td>90</td>\n",
       "      <td>67</td>\n",
       "      <td>80</td>\n",
       "      <td>100</td>\n",
       "      <td>72</td>\n",
       "      <td>75.0</td>\n",
       "      <td>95.0</td>\n",
       "      <td>69.5</td>\n",
       "      <td>7.0</td>\n",
       "      <td>2.0</td>\n",
       "      <td>9.0</td>\n",
       "      <td>2등급</td>\n",
       "      <td>1등급</td>\n",
       "      <td>3등급</td>\n",
       "    </tr>\n",
       "  </tbody>\n",
       "</table>\n",
       "</div>"
      ],
      "text/plain": [
       "   중간고사         기말고사             평균                순위               등급       \\\n",
       "이름   영수  영희  철수   영수   영희  철수    영수    영희    철수    영수    영희    철수   영수   영희   \n",
       "과목                                                                            \n",
       "수학   90  80  87  100   70  92  95.0  75.0  89.5   1.0   8.0   3.0  1등급  3등급   \n",
       "영어   80  90  77   90   80  82  85.0  85.0  79.5   4.0   5.0   6.0  2등급  2등급   \n",
       "음악   50  50  60   70   52  62  60.0  51.0  61.0  11.0  12.0  10.0  3등급  3등급   \n",
       "체육   70  90  67   80  100  72  75.0  95.0  69.5   7.0   2.0   9.0  2등급  1등급   \n",
       "\n",
       "         \n",
       "이름   철수  \n",
       "과목       \n",
       "수학  1등급  \n",
       "영어  2등급  \n",
       "음악  3등급  \n",
       "체육  3등급  "
      ]
     },
     "execution_count": 113,
     "metadata": {},
     "output_type": "execute_result"
    }
   ],
   "source": [
    "class_score.unstack(level=0)"
   ]
  },
  {
   "cell_type": "code",
   "execution_count": 114,
   "id": "29321f8a",
   "metadata": {},
   "outputs": [
    {
     "data": {
      "text/html": [
       "<div>\n",
       "<style scoped>\n",
       "    .dataframe tbody tr th:only-of-type {\n",
       "        vertical-align: middle;\n",
       "    }\n",
       "\n",
       "    .dataframe tbody tr th {\n",
       "        vertical-align: top;\n",
       "    }\n",
       "\n",
       "    .dataframe thead tr th {\n",
       "        text-align: left;\n",
       "    }\n",
       "\n",
       "    .dataframe thead tr:last-of-type th {\n",
       "        text-align: right;\n",
       "    }\n",
       "</style>\n",
       "<table border=\"1\" class=\"dataframe\">\n",
       "  <thead>\n",
       "    <tr>\n",
       "      <th></th>\n",
       "      <th colspan=\"4\" halign=\"left\">중간고사</th>\n",
       "      <th colspan=\"4\" halign=\"left\">기말고사</th>\n",
       "      <th colspan=\"4\" halign=\"left\">평균</th>\n",
       "      <th colspan=\"4\" halign=\"left\">순위</th>\n",
       "      <th colspan=\"4\" halign=\"left\">등급</th>\n",
       "    </tr>\n",
       "    <tr>\n",
       "      <th>과목</th>\n",
       "      <th>수학</th>\n",
       "      <th>영어</th>\n",
       "      <th>음악</th>\n",
       "      <th>체육</th>\n",
       "      <th>수학</th>\n",
       "      <th>영어</th>\n",
       "      <th>음악</th>\n",
       "      <th>체육</th>\n",
       "      <th>수학</th>\n",
       "      <th>영어</th>\n",
       "      <th>음악</th>\n",
       "      <th>체육</th>\n",
       "      <th>수학</th>\n",
       "      <th>영어</th>\n",
       "      <th>음악</th>\n",
       "      <th>체육</th>\n",
       "      <th>수학</th>\n",
       "      <th>영어</th>\n",
       "      <th>음악</th>\n",
       "      <th>체육</th>\n",
       "    </tr>\n",
       "    <tr>\n",
       "      <th>이름</th>\n",
       "      <th></th>\n",
       "      <th></th>\n",
       "      <th></th>\n",
       "      <th></th>\n",
       "      <th></th>\n",
       "      <th></th>\n",
       "      <th></th>\n",
       "      <th></th>\n",
       "      <th></th>\n",
       "      <th></th>\n",
       "      <th></th>\n",
       "      <th></th>\n",
       "      <th></th>\n",
       "      <th></th>\n",
       "      <th></th>\n",
       "      <th></th>\n",
       "      <th></th>\n",
       "      <th></th>\n",
       "      <th></th>\n",
       "      <th></th>\n",
       "    </tr>\n",
       "  </thead>\n",
       "  <tbody>\n",
       "    <tr>\n",
       "      <th>영수</th>\n",
       "      <td>90</td>\n",
       "      <td>80</td>\n",
       "      <td>50</td>\n",
       "      <td>70</td>\n",
       "      <td>100</td>\n",
       "      <td>90</td>\n",
       "      <td>70</td>\n",
       "      <td>80</td>\n",
       "      <td>95.0</td>\n",
       "      <td>85.0</td>\n",
       "      <td>60.0</td>\n",
       "      <td>75.0</td>\n",
       "      <td>1.0</td>\n",
       "      <td>4.0</td>\n",
       "      <td>11.0</td>\n",
       "      <td>7.0</td>\n",
       "      <td>1등급</td>\n",
       "      <td>2등급</td>\n",
       "      <td>3등급</td>\n",
       "      <td>2등급</td>\n",
       "    </tr>\n",
       "    <tr>\n",
       "      <th>영희</th>\n",
       "      <td>80</td>\n",
       "      <td>90</td>\n",
       "      <td>50</td>\n",
       "      <td>90</td>\n",
       "      <td>70</td>\n",
       "      <td>80</td>\n",
       "      <td>52</td>\n",
       "      <td>100</td>\n",
       "      <td>75.0</td>\n",
       "      <td>85.0</td>\n",
       "      <td>51.0</td>\n",
       "      <td>95.0</td>\n",
       "      <td>8.0</td>\n",
       "      <td>5.0</td>\n",
       "      <td>12.0</td>\n",
       "      <td>2.0</td>\n",
       "      <td>3등급</td>\n",
       "      <td>2등급</td>\n",
       "      <td>3등급</td>\n",
       "      <td>1등급</td>\n",
       "    </tr>\n",
       "    <tr>\n",
       "      <th>철수</th>\n",
       "      <td>87</td>\n",
       "      <td>77</td>\n",
       "      <td>60</td>\n",
       "      <td>67</td>\n",
       "      <td>92</td>\n",
       "      <td>82</td>\n",
       "      <td>62</td>\n",
       "      <td>72</td>\n",
       "      <td>89.5</td>\n",
       "      <td>79.5</td>\n",
       "      <td>61.0</td>\n",
       "      <td>69.5</td>\n",
       "      <td>3.0</td>\n",
       "      <td>6.0</td>\n",
       "      <td>10.0</td>\n",
       "      <td>9.0</td>\n",
       "      <td>1등급</td>\n",
       "      <td>2등급</td>\n",
       "      <td>3등급</td>\n",
       "      <td>3등급</td>\n",
       "    </tr>\n",
       "  </tbody>\n",
       "</table>\n",
       "</div>"
      ],
      "text/plain": [
       "   중간고사             기말고사                 평균                     순위             \\\n",
       "과목   수학  영어  음악  체육   수학  영어  음악   체육    수학    영어    음악    체육   수학   영어    음악   \n",
       "이름                                                                              \n",
       "영수   90  80  50  70  100  90  70   80  95.0  85.0  60.0  75.0  1.0  4.0  11.0   \n",
       "영희   80  90  50  90   70  80  52  100  75.0  85.0  51.0  95.0  8.0  5.0  12.0   \n",
       "철수   87  77  60  67   92  82  62   72  89.5  79.5  61.0  69.5  3.0  6.0  10.0   \n",
       "\n",
       "          등급                 \n",
       "과목   체육   수학   영어   음악   체육  \n",
       "이름                           \n",
       "영수  7.0  1등급  2등급  3등급  2등급  \n",
       "영희  2.0  3등급  2등급  3등급  1등급  \n",
       "철수  9.0  1등급  2등급  3등급  3등급  "
      ]
     },
     "execution_count": 114,
     "metadata": {},
     "output_type": "execute_result"
    }
   ],
   "source": [
    "class_score.unstack(level=1)"
   ]
  },
  {
   "cell_type": "code",
   "execution_count": 115,
   "id": "7b04c0df",
   "metadata": {},
   "outputs": [
    {
     "data": {
      "text/plain": [
       "이름  과목      \n",
       "영수  수학  중간고사      90\n",
       "        기말고사     100\n",
       "        평균      95.0\n",
       "        순위       1.0\n",
       "        등급       1등급\n",
       "    영어  중간고사      80\n",
       "        기말고사      90\n",
       "        평균      85.0\n",
       "        순위       4.0\n",
       "        등급       2등급\n",
       "    음악  중간고사      50\n",
       "        기말고사      70\n",
       "        평균      60.0\n",
       "        순위      11.0\n",
       "        등급       3등급\n",
       "    체육  중간고사      70\n",
       "        기말고사      80\n",
       "        평균      75.0\n",
       "        순위       7.0\n",
       "        등급       2등급\n",
       "영희  수학  중간고사      80\n",
       "        기말고사      70\n",
       "        평균      75.0\n",
       "        순위       8.0\n",
       "        등급       3등급\n",
       "    영어  중간고사      90\n",
       "        기말고사      80\n",
       "        평균      85.0\n",
       "        순위       5.0\n",
       "        등급       2등급\n",
       "    음악  중간고사      50\n",
       "        기말고사      52\n",
       "        평균      51.0\n",
       "        순위      12.0\n",
       "        등급       3등급\n",
       "    체육  중간고사      90\n",
       "        기말고사     100\n",
       "        평균      95.0\n",
       "        순위       2.0\n",
       "        등급       1등급\n",
       "철수  수학  중간고사      87\n",
       "        기말고사      92\n",
       "        평균      89.5\n",
       "        순위       3.0\n",
       "        등급       1등급\n",
       "    영어  중간고사      77\n",
       "        기말고사      82\n",
       "        평균      79.5\n",
       "        순위       6.0\n",
       "        등급       2등급\n",
       "    음악  중간고사      60\n",
       "        기말고사      62\n",
       "        평균      61.0\n",
       "        순위      10.0\n",
       "        등급       3등급\n",
       "    체육  중간고사      67\n",
       "        기말고사      72\n",
       "        평균      69.5\n",
       "        순위       9.0\n",
       "        등급       3등급\n",
       "dtype: object"
      ]
     },
     "execution_count": 115,
     "metadata": {},
     "output_type": "execute_result"
    }
   ],
   "source": [
    "class_score.stack()"
   ]
  },
  {
   "cell_type": "code",
   "execution_count": 116,
   "id": "f267602d",
   "metadata": {},
   "outputs": [
    {
     "data": {
      "text/html": [
       "<div>\n",
       "<style scoped>\n",
       "    .dataframe tbody tr th:only-of-type {\n",
       "        vertical-align: middle;\n",
       "    }\n",
       "\n",
       "    .dataframe tbody tr th {\n",
       "        vertical-align: top;\n",
       "    }\n",
       "\n",
       "    .dataframe thead th {\n",
       "        text-align: right;\n",
       "    }\n",
       "</style>\n",
       "<table border=\"1\" class=\"dataframe\">\n",
       "  <thead>\n",
       "    <tr style=\"text-align: right;\">\n",
       "      <th></th>\n",
       "      <th>이름</th>\n",
       "      <th>중간고사</th>\n",
       "      <th>기말고사</th>\n",
       "      <th>평균</th>\n",
       "      <th>순위</th>\n",
       "      <th>등급</th>\n",
       "    </tr>\n",
       "    <tr>\n",
       "      <th>과목</th>\n",
       "      <th></th>\n",
       "      <th></th>\n",
       "      <th></th>\n",
       "      <th></th>\n",
       "      <th></th>\n",
       "      <th></th>\n",
       "    </tr>\n",
       "  </thead>\n",
       "  <tbody>\n",
       "    <tr>\n",
       "      <th>수학</th>\n",
       "      <td>영수</td>\n",
       "      <td>90</td>\n",
       "      <td>100</td>\n",
       "      <td>95.0</td>\n",
       "      <td>1.0</td>\n",
       "      <td>1등급</td>\n",
       "    </tr>\n",
       "    <tr>\n",
       "      <th>영어</th>\n",
       "      <td>영수</td>\n",
       "      <td>80</td>\n",
       "      <td>90</td>\n",
       "      <td>85.0</td>\n",
       "      <td>4.0</td>\n",
       "      <td>2등급</td>\n",
       "    </tr>\n",
       "    <tr>\n",
       "      <th>음악</th>\n",
       "      <td>영수</td>\n",
       "      <td>50</td>\n",
       "      <td>70</td>\n",
       "      <td>60.0</td>\n",
       "      <td>11.0</td>\n",
       "      <td>3등급</td>\n",
       "    </tr>\n",
       "    <tr>\n",
       "      <th>체육</th>\n",
       "      <td>영수</td>\n",
       "      <td>70</td>\n",
       "      <td>80</td>\n",
       "      <td>75.0</td>\n",
       "      <td>7.0</td>\n",
       "      <td>2등급</td>\n",
       "    </tr>\n",
       "    <tr>\n",
       "      <th>수학</th>\n",
       "      <td>영희</td>\n",
       "      <td>80</td>\n",
       "      <td>70</td>\n",
       "      <td>75.0</td>\n",
       "      <td>8.0</td>\n",
       "      <td>3등급</td>\n",
       "    </tr>\n",
       "    <tr>\n",
       "      <th>영어</th>\n",
       "      <td>영희</td>\n",
       "      <td>90</td>\n",
       "      <td>80</td>\n",
       "      <td>85.0</td>\n",
       "      <td>5.0</td>\n",
       "      <td>2등급</td>\n",
       "    </tr>\n",
       "    <tr>\n",
       "      <th>음악</th>\n",
       "      <td>영희</td>\n",
       "      <td>50</td>\n",
       "      <td>52</td>\n",
       "      <td>51.0</td>\n",
       "      <td>12.0</td>\n",
       "      <td>3등급</td>\n",
       "    </tr>\n",
       "    <tr>\n",
       "      <th>체육</th>\n",
       "      <td>영희</td>\n",
       "      <td>90</td>\n",
       "      <td>100</td>\n",
       "      <td>95.0</td>\n",
       "      <td>2.0</td>\n",
       "      <td>1등급</td>\n",
       "    </tr>\n",
       "    <tr>\n",
       "      <th>수학</th>\n",
       "      <td>철수</td>\n",
       "      <td>87</td>\n",
       "      <td>92</td>\n",
       "      <td>89.5</td>\n",
       "      <td>3.0</td>\n",
       "      <td>1등급</td>\n",
       "    </tr>\n",
       "    <tr>\n",
       "      <th>영어</th>\n",
       "      <td>철수</td>\n",
       "      <td>77</td>\n",
       "      <td>82</td>\n",
       "      <td>79.5</td>\n",
       "      <td>6.0</td>\n",
       "      <td>2등급</td>\n",
       "    </tr>\n",
       "    <tr>\n",
       "      <th>음악</th>\n",
       "      <td>철수</td>\n",
       "      <td>60</td>\n",
       "      <td>62</td>\n",
       "      <td>61.0</td>\n",
       "      <td>10.0</td>\n",
       "      <td>3등급</td>\n",
       "    </tr>\n",
       "    <tr>\n",
       "      <th>체육</th>\n",
       "      <td>철수</td>\n",
       "      <td>67</td>\n",
       "      <td>72</td>\n",
       "      <td>69.5</td>\n",
       "      <td>9.0</td>\n",
       "      <td>3등급</td>\n",
       "    </tr>\n",
       "  </tbody>\n",
       "</table>\n",
       "</div>"
      ],
      "text/plain": [
       "    이름  중간고사  기말고사    평균    순위   등급\n",
       "과목                                 \n",
       "수학  영수    90   100  95.0   1.0  1등급\n",
       "영어  영수    80    90  85.0   4.0  2등급\n",
       "음악  영수    50    70  60.0  11.0  3등급\n",
       "체육  영수    70    80  75.0   7.0  2등급\n",
       "수학  영희    80    70  75.0   8.0  3등급\n",
       "영어  영희    90    80  85.0   5.0  2등급\n",
       "음악  영희    50    52  51.0  12.0  3등급\n",
       "체육  영희    90   100  95.0   2.0  1등급\n",
       "수학  철수    87    92  89.5   3.0  1등급\n",
       "영어  철수    77    82  79.5   6.0  2등급\n",
       "음악  철수    60    62  61.0  10.0  3등급\n",
       "체육  철수    67    72  69.5   9.0  3등급"
      ]
     },
     "execution_count": 116,
     "metadata": {},
     "output_type": "execute_result"
    }
   ],
   "source": [
    "idx_flat = class_score.reset_index(level = 0)\n",
    "idx_flat"
   ]
  },
  {
   "cell_type": "code",
   "execution_count": 117,
   "id": "f7f6feff",
   "metadata": {},
   "outputs": [
    {
     "data": {
      "text/html": [
       "<div>\n",
       "<style scoped>\n",
       "    .dataframe tbody tr th:only-of-type {\n",
       "        vertical-align: middle;\n",
       "    }\n",
       "\n",
       "    .dataframe tbody tr th {\n",
       "        vertical-align: top;\n",
       "    }\n",
       "\n",
       "    .dataframe thead th {\n",
       "        text-align: right;\n",
       "    }\n",
       "</style>\n",
       "<table border=\"1\" class=\"dataframe\">\n",
       "  <thead>\n",
       "    <tr style=\"text-align: right;\">\n",
       "      <th></th>\n",
       "      <th>과목</th>\n",
       "      <th>중간고사</th>\n",
       "      <th>기말고사</th>\n",
       "      <th>평균</th>\n",
       "      <th>순위</th>\n",
       "      <th>등급</th>\n",
       "    </tr>\n",
       "    <tr>\n",
       "      <th>이름</th>\n",
       "      <th></th>\n",
       "      <th></th>\n",
       "      <th></th>\n",
       "      <th></th>\n",
       "      <th></th>\n",
       "      <th></th>\n",
       "    </tr>\n",
       "  </thead>\n",
       "  <tbody>\n",
       "    <tr>\n",
       "      <th>영수</th>\n",
       "      <td>수학</td>\n",
       "      <td>90</td>\n",
       "      <td>100</td>\n",
       "      <td>95.0</td>\n",
       "      <td>1.0</td>\n",
       "      <td>1등급</td>\n",
       "    </tr>\n",
       "    <tr>\n",
       "      <th>영수</th>\n",
       "      <td>영어</td>\n",
       "      <td>80</td>\n",
       "      <td>90</td>\n",
       "      <td>85.0</td>\n",
       "      <td>4.0</td>\n",
       "      <td>2등급</td>\n",
       "    </tr>\n",
       "    <tr>\n",
       "      <th>영수</th>\n",
       "      <td>음악</td>\n",
       "      <td>50</td>\n",
       "      <td>70</td>\n",
       "      <td>60.0</td>\n",
       "      <td>11.0</td>\n",
       "      <td>3등급</td>\n",
       "    </tr>\n",
       "    <tr>\n",
       "      <th>영수</th>\n",
       "      <td>체육</td>\n",
       "      <td>70</td>\n",
       "      <td>80</td>\n",
       "      <td>75.0</td>\n",
       "      <td>7.0</td>\n",
       "      <td>2등급</td>\n",
       "    </tr>\n",
       "    <tr>\n",
       "      <th>영희</th>\n",
       "      <td>수학</td>\n",
       "      <td>80</td>\n",
       "      <td>70</td>\n",
       "      <td>75.0</td>\n",
       "      <td>8.0</td>\n",
       "      <td>3등급</td>\n",
       "    </tr>\n",
       "    <tr>\n",
       "      <th>영희</th>\n",
       "      <td>영어</td>\n",
       "      <td>90</td>\n",
       "      <td>80</td>\n",
       "      <td>85.0</td>\n",
       "      <td>5.0</td>\n",
       "      <td>2등급</td>\n",
       "    </tr>\n",
       "    <tr>\n",
       "      <th>영희</th>\n",
       "      <td>음악</td>\n",
       "      <td>50</td>\n",
       "      <td>52</td>\n",
       "      <td>51.0</td>\n",
       "      <td>12.0</td>\n",
       "      <td>3등급</td>\n",
       "    </tr>\n",
       "    <tr>\n",
       "      <th>영희</th>\n",
       "      <td>체육</td>\n",
       "      <td>90</td>\n",
       "      <td>100</td>\n",
       "      <td>95.0</td>\n",
       "      <td>2.0</td>\n",
       "      <td>1등급</td>\n",
       "    </tr>\n",
       "    <tr>\n",
       "      <th>철수</th>\n",
       "      <td>수학</td>\n",
       "      <td>87</td>\n",
       "      <td>92</td>\n",
       "      <td>89.5</td>\n",
       "      <td>3.0</td>\n",
       "      <td>1등급</td>\n",
       "    </tr>\n",
       "    <tr>\n",
       "      <th>철수</th>\n",
       "      <td>영어</td>\n",
       "      <td>77</td>\n",
       "      <td>82</td>\n",
       "      <td>79.5</td>\n",
       "      <td>6.0</td>\n",
       "      <td>2등급</td>\n",
       "    </tr>\n",
       "    <tr>\n",
       "      <th>철수</th>\n",
       "      <td>음악</td>\n",
       "      <td>60</td>\n",
       "      <td>62</td>\n",
       "      <td>61.0</td>\n",
       "      <td>10.0</td>\n",
       "      <td>3등급</td>\n",
       "    </tr>\n",
       "    <tr>\n",
       "      <th>철수</th>\n",
       "      <td>체육</td>\n",
       "      <td>67</td>\n",
       "      <td>72</td>\n",
       "      <td>69.5</td>\n",
       "      <td>9.0</td>\n",
       "      <td>3등급</td>\n",
       "    </tr>\n",
       "  </tbody>\n",
       "</table>\n",
       "</div>"
      ],
      "text/plain": [
       "    과목  중간고사  기말고사    평균    순위   등급\n",
       "이름                                 \n",
       "영수  수학    90   100  95.0   1.0  1등급\n",
       "영수  영어    80    90  85.0   4.0  2등급\n",
       "영수  음악    50    70  60.0  11.0  3등급\n",
       "영수  체육    70    80  75.0   7.0  2등급\n",
       "영희  수학    80    70  75.0   8.0  3등급\n",
       "영희  영어    90    80  85.0   5.0  2등급\n",
       "영희  음악    50    52  51.0  12.0  3등급\n",
       "영희  체육    90   100  95.0   2.0  1등급\n",
       "철수  수학    87    92  89.5   3.0  1등급\n",
       "철수  영어    77    82  79.5   6.0  2등급\n",
       "철수  음악    60    62  61.0  10.0  3등급\n",
       "철수  체육    67    72  69.5   9.0  3등급"
      ]
     },
     "execution_count": 117,
     "metadata": {},
     "output_type": "execute_result"
    }
   ],
   "source": [
    "idx_flat = class_score.reset_index(level = 1)\n",
    "idx_flat"
   ]
  },
  {
   "cell_type": "code",
   "execution_count": 118,
   "id": "c1e99fad",
   "metadata": {},
   "outputs": [
    {
     "data": {
      "text/html": [
       "<div>\n",
       "<style scoped>\n",
       "    .dataframe tbody tr th:only-of-type {\n",
       "        vertical-align: middle;\n",
       "    }\n",
       "\n",
       "    .dataframe tbody tr th {\n",
       "        vertical-align: top;\n",
       "    }\n",
       "\n",
       "    .dataframe thead th {\n",
       "        text-align: right;\n",
       "    }\n",
       "</style>\n",
       "<table border=\"1\" class=\"dataframe\">\n",
       "  <thead>\n",
       "    <tr style=\"text-align: right;\">\n",
       "      <th></th>\n",
       "      <th>이름</th>\n",
       "      <th>과목</th>\n",
       "      <th>중간고사</th>\n",
       "      <th>기말고사</th>\n",
       "      <th>평균</th>\n",
       "      <th>순위</th>\n",
       "      <th>등급</th>\n",
       "    </tr>\n",
       "  </thead>\n",
       "  <tbody>\n",
       "    <tr>\n",
       "      <th>0</th>\n",
       "      <td>영수</td>\n",
       "      <td>수학</td>\n",
       "      <td>90</td>\n",
       "      <td>100</td>\n",
       "      <td>95.0</td>\n",
       "      <td>1.0</td>\n",
       "      <td>1등급</td>\n",
       "    </tr>\n",
       "    <tr>\n",
       "      <th>1</th>\n",
       "      <td>영수</td>\n",
       "      <td>영어</td>\n",
       "      <td>80</td>\n",
       "      <td>90</td>\n",
       "      <td>85.0</td>\n",
       "      <td>4.0</td>\n",
       "      <td>2등급</td>\n",
       "    </tr>\n",
       "    <tr>\n",
       "      <th>2</th>\n",
       "      <td>영수</td>\n",
       "      <td>음악</td>\n",
       "      <td>50</td>\n",
       "      <td>70</td>\n",
       "      <td>60.0</td>\n",
       "      <td>11.0</td>\n",
       "      <td>3등급</td>\n",
       "    </tr>\n",
       "    <tr>\n",
       "      <th>3</th>\n",
       "      <td>영수</td>\n",
       "      <td>체육</td>\n",
       "      <td>70</td>\n",
       "      <td>80</td>\n",
       "      <td>75.0</td>\n",
       "      <td>7.0</td>\n",
       "      <td>2등급</td>\n",
       "    </tr>\n",
       "    <tr>\n",
       "      <th>4</th>\n",
       "      <td>영희</td>\n",
       "      <td>수학</td>\n",
       "      <td>80</td>\n",
       "      <td>70</td>\n",
       "      <td>75.0</td>\n",
       "      <td>8.0</td>\n",
       "      <td>3등급</td>\n",
       "    </tr>\n",
       "    <tr>\n",
       "      <th>5</th>\n",
       "      <td>영희</td>\n",
       "      <td>영어</td>\n",
       "      <td>90</td>\n",
       "      <td>80</td>\n",
       "      <td>85.0</td>\n",
       "      <td>5.0</td>\n",
       "      <td>2등급</td>\n",
       "    </tr>\n",
       "    <tr>\n",
       "      <th>6</th>\n",
       "      <td>영희</td>\n",
       "      <td>음악</td>\n",
       "      <td>50</td>\n",
       "      <td>52</td>\n",
       "      <td>51.0</td>\n",
       "      <td>12.0</td>\n",
       "      <td>3등급</td>\n",
       "    </tr>\n",
       "    <tr>\n",
       "      <th>7</th>\n",
       "      <td>영희</td>\n",
       "      <td>체육</td>\n",
       "      <td>90</td>\n",
       "      <td>100</td>\n",
       "      <td>95.0</td>\n",
       "      <td>2.0</td>\n",
       "      <td>1등급</td>\n",
       "    </tr>\n",
       "    <tr>\n",
       "      <th>8</th>\n",
       "      <td>철수</td>\n",
       "      <td>수학</td>\n",
       "      <td>87</td>\n",
       "      <td>92</td>\n",
       "      <td>89.5</td>\n",
       "      <td>3.0</td>\n",
       "      <td>1등급</td>\n",
       "    </tr>\n",
       "    <tr>\n",
       "      <th>9</th>\n",
       "      <td>철수</td>\n",
       "      <td>영어</td>\n",
       "      <td>77</td>\n",
       "      <td>82</td>\n",
       "      <td>79.5</td>\n",
       "      <td>6.0</td>\n",
       "      <td>2등급</td>\n",
       "    </tr>\n",
       "    <tr>\n",
       "      <th>10</th>\n",
       "      <td>철수</td>\n",
       "      <td>음악</td>\n",
       "      <td>60</td>\n",
       "      <td>62</td>\n",
       "      <td>61.0</td>\n",
       "      <td>10.0</td>\n",
       "      <td>3등급</td>\n",
       "    </tr>\n",
       "    <tr>\n",
       "      <th>11</th>\n",
       "      <td>철수</td>\n",
       "      <td>체육</td>\n",
       "      <td>67</td>\n",
       "      <td>72</td>\n",
       "      <td>69.5</td>\n",
       "      <td>9.0</td>\n",
       "      <td>3등급</td>\n",
       "    </tr>\n",
       "  </tbody>\n",
       "</table>\n",
       "</div>"
      ],
      "text/plain": [
       "    이름  과목  중간고사  기말고사    평균    순위   등급\n",
       "0   영수  수학    90   100  95.0   1.0  1등급\n",
       "1   영수  영어    80    90  85.0   4.0  2등급\n",
       "2   영수  음악    50    70  60.0  11.0  3등급\n",
       "3   영수  체육    70    80  75.0   7.0  2등급\n",
       "4   영희  수학    80    70  75.0   8.0  3등급\n",
       "5   영희  영어    90    80  85.0   5.0  2등급\n",
       "6   영희  음악    50    52  51.0  12.0  3등급\n",
       "7   영희  체육    90   100  95.0   2.0  1등급\n",
       "8   철수  수학    87    92  89.5   3.0  1등급\n",
       "9   철수  영어    77    82  79.5   6.0  2등급\n",
       "10  철수  음악    60    62  61.0  10.0  3등급\n",
       "11  철수  체육    67    72  69.5   9.0  3등급"
      ]
     },
     "execution_count": 118,
     "metadata": {},
     "output_type": "execute_result"
    }
   ],
   "source": [
    "idx_flat = class_score.reset_index(level = (0, 1))\n",
    "idx_flat"
   ]
  },
  {
   "cell_type": "code",
   "execution_count": 119,
   "id": "65c94403",
   "metadata": {
    "scrolled": true
   },
   "outputs": [
    {
     "data": {
      "text/html": [
       "<div>\n",
       "<style scoped>\n",
       "    .dataframe tbody tr th:only-of-type {\n",
       "        vertical-align: middle;\n",
       "    }\n",
       "\n",
       "    .dataframe tbody tr th {\n",
       "        vertical-align: top;\n",
       "    }\n",
       "\n",
       "    .dataframe thead th {\n",
       "        text-align: right;\n",
       "    }\n",
       "</style>\n",
       "<table border=\"1\" class=\"dataframe\">\n",
       "  <thead>\n",
       "    <tr style=\"text-align: right;\">\n",
       "      <th></th>\n",
       "      <th></th>\n",
       "      <th>중간고사</th>\n",
       "      <th>기말고사</th>\n",
       "      <th>평균</th>\n",
       "      <th>순위</th>\n",
       "      <th>등급</th>\n",
       "    </tr>\n",
       "    <tr>\n",
       "      <th>이름</th>\n",
       "      <th>과목</th>\n",
       "      <th></th>\n",
       "      <th></th>\n",
       "      <th></th>\n",
       "      <th></th>\n",
       "      <th></th>\n",
       "    </tr>\n",
       "  </thead>\n",
       "  <tbody>\n",
       "    <tr>\n",
       "      <th rowspan=\"4\" valign=\"top\">영수</th>\n",
       "      <th>수학</th>\n",
       "      <td>90</td>\n",
       "      <td>100</td>\n",
       "      <td>95.0</td>\n",
       "      <td>1.0</td>\n",
       "      <td>1등급</td>\n",
       "    </tr>\n",
       "    <tr>\n",
       "      <th>영어</th>\n",
       "      <td>80</td>\n",
       "      <td>90</td>\n",
       "      <td>85.0</td>\n",
       "      <td>4.0</td>\n",
       "      <td>2등급</td>\n",
       "    </tr>\n",
       "    <tr>\n",
       "      <th>음악</th>\n",
       "      <td>50</td>\n",
       "      <td>70</td>\n",
       "      <td>60.0</td>\n",
       "      <td>11.0</td>\n",
       "      <td>3등급</td>\n",
       "    </tr>\n",
       "    <tr>\n",
       "      <th>체육</th>\n",
       "      <td>70</td>\n",
       "      <td>80</td>\n",
       "      <td>75.0</td>\n",
       "      <td>7.0</td>\n",
       "      <td>2등급</td>\n",
       "    </tr>\n",
       "    <tr>\n",
       "      <th rowspan=\"4\" valign=\"top\">영희</th>\n",
       "      <th>수학</th>\n",
       "      <td>80</td>\n",
       "      <td>70</td>\n",
       "      <td>75.0</td>\n",
       "      <td>8.0</td>\n",
       "      <td>3등급</td>\n",
       "    </tr>\n",
       "    <tr>\n",
       "      <th>영어</th>\n",
       "      <td>90</td>\n",
       "      <td>80</td>\n",
       "      <td>85.0</td>\n",
       "      <td>5.0</td>\n",
       "      <td>2등급</td>\n",
       "    </tr>\n",
       "    <tr>\n",
       "      <th>음악</th>\n",
       "      <td>50</td>\n",
       "      <td>52</td>\n",
       "      <td>51.0</td>\n",
       "      <td>12.0</td>\n",
       "      <td>3등급</td>\n",
       "    </tr>\n",
       "    <tr>\n",
       "      <th>체육</th>\n",
       "      <td>90</td>\n",
       "      <td>100</td>\n",
       "      <td>95.0</td>\n",
       "      <td>2.0</td>\n",
       "      <td>1등급</td>\n",
       "    </tr>\n",
       "    <tr>\n",
       "      <th rowspan=\"4\" valign=\"top\">철수</th>\n",
       "      <th>수학</th>\n",
       "      <td>87</td>\n",
       "      <td>92</td>\n",
       "      <td>89.5</td>\n",
       "      <td>3.0</td>\n",
       "      <td>1등급</td>\n",
       "    </tr>\n",
       "    <tr>\n",
       "      <th>영어</th>\n",
       "      <td>77</td>\n",
       "      <td>82</td>\n",
       "      <td>79.5</td>\n",
       "      <td>6.0</td>\n",
       "      <td>2등급</td>\n",
       "    </tr>\n",
       "    <tr>\n",
       "      <th>음악</th>\n",
       "      <td>60</td>\n",
       "      <td>62</td>\n",
       "      <td>61.0</td>\n",
       "      <td>10.0</td>\n",
       "      <td>3등급</td>\n",
       "    </tr>\n",
       "    <tr>\n",
       "      <th>체육</th>\n",
       "      <td>67</td>\n",
       "      <td>72</td>\n",
       "      <td>69.5</td>\n",
       "      <td>9.0</td>\n",
       "      <td>3등급</td>\n",
       "    </tr>\n",
       "  </tbody>\n",
       "</table>\n",
       "</div>"
      ],
      "text/plain": [
       "       중간고사  기말고사    평균    순위   등급\n",
       "이름 과목                             \n",
       "영수 수학    90   100  95.0   1.0  1등급\n",
       "   영어    80    90  85.0   4.0  2등급\n",
       "   음악    50    70  60.0  11.0  3등급\n",
       "   체육    70    80  75.0   7.0  2등급\n",
       "영희 수학    80    70  75.0   8.0  3등급\n",
       "   영어    90    80  85.0   5.0  2등급\n",
       "   음악    50    52  51.0  12.0  3등급\n",
       "   체육    90   100  95.0   2.0  1등급\n",
       "철수 수학    87    92  89.5   3.0  1등급\n",
       "   영어    77    82  79.5   6.0  2등급\n",
       "   음악    60    62  61.0  10.0  3등급\n",
       "   체육    67    72  69.5   9.0  3등급"
      ]
     },
     "execution_count": 119,
     "metadata": {},
     "output_type": "execute_result"
    }
   ],
   "source": [
    "idx_flat.set_index(['이름','과목'])"
   ]
  }
 ],
 "metadata": {
  "kernelspec": {
   "display_name": "Python 3",
   "language": "python",
   "name": "python3"
  },
  "language_info": {
   "codemirror_mode": {
    "name": "ipython",
    "version": 3
   },
   "file_extension": ".py",
   "mimetype": "text/x-python",
   "name": "python",
   "nbconvert_exporter": "python",
   "pygments_lexer": "ipython3",
   "version": "3.8.8"
  },
  "toc": {
   "base_numbering": 1,
   "nav_menu": {},
   "number_sections": true,
   "sideBar": true,
   "skip_h1_title": false,
   "title_cell": "Table of Contents",
   "title_sidebar": "Contents",
   "toc_cell": false,
   "toc_position": {
    "height": "calc(100% - 180px)",
    "left": "10px",
    "top": "150px",
    "width": "384px"
   },
   "toc_section_display": true,
   "toc_window_display": true
  }
 },
 "nbformat": 4,
 "nbformat_minor": 5
}
